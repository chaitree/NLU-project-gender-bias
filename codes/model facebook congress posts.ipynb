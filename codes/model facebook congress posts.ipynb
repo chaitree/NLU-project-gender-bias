{
 "cells": [
  {
   "cell_type": "code",
   "execution_count": 1,
   "id": "dc0230fb",
   "metadata": {},
   "outputs": [],
   "source": [
    "import pandas as pd\n",
    "import re\n",
    "import string\n",
    "# from bs4 import BeautifulSoup\n",
    "import nltk\n",
    "from nltk.stem import PorterStemmer\n",
    "from nltk.stem.wordnet import WordNetLemmatizer\n",
    "import spacy\n",
    "from nltk.probability import FreqDist\n",
    "from sklearn.linear_model import LogisticRegression\n",
    "from sklearn.feature_extraction.text import CountVectorizer, TfidfVectorizer\n",
    "import matplotlib.pyplot as plt\n",
    "import warnings\n",
    "warnings.filterwarnings('ignore')"
   ]
  },
  {
   "cell_type": "code",
   "execution_count": 2,
   "id": "a9e43744",
   "metadata": {},
   "outputs": [],
   "source": [
    "# !pip install spacy\n",
    "# !python -m spacy download en_core_web_sm\n",
    "# nltk.download('stopwords')\n",
    "# nltk.download('wordnet')\n",
    "# nltk.download('omw-1.4')"
   ]
  },
  {
   "cell_type": "code",
   "execution_count": 3,
   "id": "f5fad2e9",
   "metadata": {},
   "outputs": [],
   "source": [
    "data_df = pd.read_csv(\"../rtgender/facebook_congress_posts.csv\")"
   ]
  },
  {
   "cell_type": "code",
   "execution_count": 4,
   "id": "943b1ea2",
   "metadata": {},
   "outputs": [
    {
     "data": {
      "text/html": [
       "<div>\n",
       "<style scoped>\n",
       "    .dataframe tbody tr th:only-of-type {\n",
       "        vertical-align: middle;\n",
       "    }\n",
       "\n",
       "    .dataframe tbody tr th {\n",
       "        vertical-align: top;\n",
       "    }\n",
       "\n",
       "    .dataframe thead th {\n",
       "        text-align: right;\n",
       "    }\n",
       "</style>\n",
       "<table border=\"1\" class=\"dataframe\">\n",
       "  <thead>\n",
       "    <tr style=\"text-align: right;\">\n",
       "      <th></th>\n",
       "      <th>op_id</th>\n",
       "      <th>op_gender</th>\n",
       "      <th>post_id</th>\n",
       "      <th>post_text</th>\n",
       "      <th>post_type</th>\n",
       "    </tr>\n",
       "  </thead>\n",
       "  <tbody>\n",
       "    <tr>\n",
       "      <th>0</th>\n",
       "      <td>57265377</td>\n",
       "      <td>M</td>\n",
       "      <td>0</td>\n",
       "      <td>Yesterday, my colleagues and I voted to protec...</td>\n",
       "      <td>video</td>\n",
       "    </tr>\n",
       "    <tr>\n",
       "      <th>1</th>\n",
       "      <td>57265377</td>\n",
       "      <td>M</td>\n",
       "      <td>1</td>\n",
       "      <td>Roses are red...and so is Texas. Let's keep it...</td>\n",
       "      <td>video</td>\n",
       "    </tr>\n",
       "    <tr>\n",
       "      <th>2</th>\n",
       "      <td>57265377</td>\n",
       "      <td>M</td>\n",
       "      <td>2</td>\n",
       "      <td>#TBT to this classic video. #DonkeyWhisperer</td>\n",
       "      <td>video</td>\n",
       "    </tr>\n",
       "    <tr>\n",
       "      <th>3</th>\n",
       "      <td>57265377</td>\n",
       "      <td>M</td>\n",
       "      <td>3</td>\n",
       "      <td>Since President Donald J. Trump was sworn in o...</td>\n",
       "      <td>video</td>\n",
       "    </tr>\n",
       "    <tr>\n",
       "      <th>4</th>\n",
       "      <td>57265377</td>\n",
       "      <td>M</td>\n",
       "      <td>4</td>\n",
       "      <td>Remembering our 40th president today. LIKE to ...</td>\n",
       "      <td>video</td>\n",
       "    </tr>\n",
       "  </tbody>\n",
       "</table>\n",
       "</div>"
      ],
      "text/plain": [
       "      op_id op_gender  post_id  \\\n",
       "0  57265377         M        0   \n",
       "1  57265377         M        1   \n",
       "2  57265377         M        2   \n",
       "3  57265377         M        3   \n",
       "4  57265377         M        4   \n",
       "\n",
       "                                           post_text post_type  \n",
       "0  Yesterday, my colleagues and I voted to protec...     video  \n",
       "1  Roses are red...and so is Texas. Let's keep it...     video  \n",
       "2       #TBT to this classic video. #DonkeyWhisperer     video  \n",
       "3  Since President Donald J. Trump was sworn in o...     video  \n",
       "4  Remembering our 40th president today. LIKE to ...     video  "
      ]
     },
     "execution_count": 4,
     "metadata": {},
     "output_type": "execute_result"
    }
   ],
   "source": [
    "data_df.head()"
   ]
  },
  {
   "cell_type": "code",
   "execution_count": 5,
   "id": "e9d0b308",
   "metadata": {},
   "outputs": [],
   "source": [
    "data_df1 = data_df.copy()"
   ]
  },
  {
   "cell_type": "code",
   "execution_count": 6,
   "id": "0c01a690",
   "metadata": {},
   "outputs": [],
   "source": [
    "# Load spacy\n",
    "nlp = spacy.load('en_core_web_sm')\n",
    "\n",
    "def clean_string(text, stopwords = False, stem=\"None\"):\n",
    "\n",
    "    final_string = \"\"\n",
    "\n",
    "    # Make lower\n",
    "    text = text.lower()\n",
    "\n",
    "#     # Remove line breaks\n",
    "#     text = re.sub(r'\\n', '', text)\n",
    "\n",
    "#     # Remove puncuation\n",
    "#     translator = str.maketrans('', '', string.punctuation)\n",
    "#     text = text.translate(translator)\n",
    "\n",
    "    text = re.sub(r'http\\S+', '', text)\n",
    "    text = re.sub(r'\\S+www\\S+', '', text)\n",
    "    \n",
    "    \n",
    "    # Remove stop words\n",
    "    text = text.split()\n",
    "    text_filtered = text\n",
    "    if stopwords == True:\n",
    "        useless_words = nltk.corpus.stopwords.words(\"english\")\n",
    "#         useless_words = useless_words + ['hi', 'im']\n",
    "\n",
    "        text_filtered = [word for word in text if not word in useless_words]\n",
    "\n",
    "        # Remove numbers\n",
    "        text_filtered = [re.sub(r'\\w*\\d\\w*', '', w) for w in text_filtered]\n",
    "#     else:\n",
    "#         text_filtered = text\n",
    "    # Stem or Lemmatize\n",
    "    if stem == 'Stem':\n",
    "        stemmer = PorterStemmer() \n",
    "        text_stemmed = [stemmer.stem(y) for y in text_filtered]\n",
    "    elif stem == 'Lem':\n",
    "        lem = WordNetLemmatizer()\n",
    "        text_stemmed = [lem.lemmatize(y) for y in text_filtered]\n",
    "    elif stem == 'Spacy':\n",
    "        text_filtered = nlp(' '.join(text_filtered))\n",
    "        text_stemmed = [y.lemma_ for y in text_filtered]\n",
    "    else:\n",
    "        text_stemmed = text_filtered\n",
    "\n",
    "    final_string = ' '.join(text_stemmed)\n",
    "\n",
    "    return final_string"
   ]
  },
  {
   "cell_type": "code",
   "execution_count": 7,
   "id": "7fa5406d",
   "metadata": {},
   "outputs": [],
   "source": [
    "data_df2 = data_df.copy()\n"
   ]
  },
  {
   "cell_type": "code",
   "execution_count": 8,
   "id": "fde04174",
   "metadata": {},
   "outputs": [],
   "source": [
    "data_df2['post_text'] = data_df2['post_text'].astype(str)"
   ]
  },
  {
   "cell_type": "code",
   "execution_count": 9,
   "id": "a38cd82e",
   "metadata": {},
   "outputs": [],
   "source": [
    "data_df2['post_text_cleaned'] = data_df2['post_text'].apply(lambda x: clean_string(x, stopwords = True, stem='Lem'))\n"
   ]
  },
  {
   "cell_type": "code",
   "execution_count": 10,
   "id": "65158913",
   "metadata": {},
   "outputs": [
    {
     "data": {
      "text/plain": [
       "0         yesterday, colleague voted protect state's rig...\n",
       "1         rose red...and texas. let's keep way. happy va...\n",
       "2                      #tbt classic video. #donkeywhisperer\n",
       "3         since president donald j. trump sworn january ...\n",
       "4         remembering  president today. like help wish p...\n",
       "                                ...                        \n",
       "548336    watch interview fox business' money breakfast ...\n",
       "548337                            looking forward baseball.\n",
       "548338                          casting vote floor u house.\n",
       "548339    headed fox news studio dc appear money breakfa...\n",
       "548340                                                  nan\n",
       "Name: post_text_cleaned, Length: 548341, dtype: object"
      ]
     },
     "execution_count": 10,
     "metadata": {},
     "output_type": "execute_result"
    }
   ],
   "source": [
    "data_df2['post_text_cleaned']"
   ]
  },
  {
   "cell_type": "code",
   "execution_count": 11,
   "id": "2ca74664",
   "metadata": {},
   "outputs": [],
   "source": [
    "data_df2['post_text_cleaned1'] = data_df2['post_text_cleaned'].str.split()"
   ]
  },
  {
   "cell_type": "code",
   "execution_count": 12,
   "id": "0e7da84d",
   "metadata": {},
   "outputs": [
    {
     "data": {
      "text/plain": [
       "0         [yesterday,, colleague, voted, protect, state'...\n",
       "1         [rose, red...and, texas., let's, keep, way., h...\n",
       "2                 [#tbt, classic, video., #donkeywhisperer]\n",
       "3         [since, president, donald, j., trump, sworn, j...\n",
       "4         [remembering, president, today., like, help, w...\n",
       "                                ...                        \n",
       "548336    [watch, interview, fox, business', money, brea...\n",
       "548337                        [looking, forward, baseball.]\n",
       "548338                    [casting, vote, floor, u, house.]\n",
       "548339    [headed, fox, news, studio, dc, appear, money,...\n",
       "548340                                                [nan]\n",
       "Name: post_text_cleaned1, Length: 548341, dtype: object"
      ]
     },
     "execution_count": 12,
     "metadata": {},
     "output_type": "execute_result"
    }
   ],
   "source": [
    "data_df2['post_text_cleaned1']"
   ]
  },
  {
   "cell_type": "code",
   "execution_count": 13,
   "id": "e4735033",
   "metadata": {},
   "outputs": [
    {
     "data": {
      "text/plain": [
       "0         yesterday, colleague voted protect state's rig...\n",
       "1         rose red...and texas. let's keep way. happy va...\n",
       "2                      #tbt classic video. #donkeywhisperer\n",
       "3         since president donald j. trump sworn january ...\n",
       "4         remembering  president today. like help wish p...\n",
       "                                ...                        \n",
       "548336    watch interview fox business' money breakfast ...\n",
       "548337                            looking forward baseball.\n",
       "548338                          casting vote floor u house.\n",
       "548339    headed fox news studio dc appear money breakfa...\n",
       "548340                                                  nan\n",
       "Name: post_text_cleaned, Length: 548341, dtype: object"
      ]
     },
     "execution_count": 13,
     "metadata": {},
     "output_type": "execute_result"
    }
   ],
   "source": [
    "data_df2['post_text_cleaned']"
   ]
  },
  {
   "cell_type": "code",
   "execution_count": 14,
   "id": "f4ec524f",
   "metadata": {},
   "outputs": [],
   "source": [
    "data_df2.to_csv(\"./preprocessed_data/facebook_congress_posts_preprocssed_lem_stopwords_removal.csv\")"
   ]
  },
  {
   "cell_type": "code",
   "execution_count": 15,
   "id": "f18812f2",
   "metadata": {},
   "outputs": [
    {
     "name": "stdout",
     "output_type": "stream",
     "text": [
      "  op_gender                                  post_text_cleaned\n",
      "0         M  yesterday, colleague voted protect state's rig...\n",
      "1         W  we've seen flint, michigan. we've seen dakota ...\n"
     ]
    }
   ],
   "source": [
    "all_words1 = ''\n",
    "all_words = data_df2.groupby(['op_gender']).agg({'post_text_cleaned': ' '.join}).reset_index()\n",
    "print(all_words)\n"
   ]
  },
  {
   "cell_type": "code",
   "execution_count": 16,
   "id": "64264244",
   "metadata": {},
   "outputs": [
    {
     "data": {
      "text/plain": [
       "0    yesterday, colleague voted protect state's rig...\n",
       "Name: post_text_cleaned, dtype: object"
      ]
     },
     "execution_count": 16,
     "metadata": {},
     "output_type": "execute_result"
    }
   ],
   "source": [
    "\n",
    "\n",
    "\n",
    "all_words[all_words['op_gender']=='M']['post_text_cleaned']"
   ]
  },
  {
   "cell_type": "code",
   "execution_count": 17,
   "id": "9ad2c1c2",
   "metadata": {},
   "outputs": [],
   "source": [
    "#the NLTK FreqDist gives a count for how often each part of the text occurs\n",
    "fd_wct1_M = FreqDist(all_words[all_words['op_gender']=='M']['post_text_cleaned'][0].split())\n",
    "# fd_wct1_M"
   ]
  },
  {
   "cell_type": "code",
   "execution_count": 18,
   "id": "e7a1e324",
   "metadata": {},
   "outputs": [],
   "source": [
    "fd_wct1_F = FreqDist(all_words[all_words['op_gender']=='W']['post_text_cleaned'].values[0].split(\" \"))\n"
   ]
  },
  {
   "cell_type": "code",
   "execution_count": null,
   "id": "ddfd1a95",
   "metadata": {},
   "outputs": [],
   "source": []
  },
  {
   "cell_type": "code",
   "execution_count": 19,
   "id": "a627cc8b",
   "metadata": {},
   "outputs": [
    {
     "name": "stdout",
     "output_type": "stream",
     "text": [
      "[('american', 39605), ('house', 36895), ('today', 36166), ('great', 36085), ('new', 33967), ('state', 32525), ('president', 31463), (',', 30893), ('nan', 29613), ('time', 27180), ('bill', 27034), ('-', 26138), ('day', 25320), ('one', 25103), ('help', 24784), ('need', 24764), ('work', 24636), ('national', 24205), ('would', 23026), ('family', 22635), ('make', 22428), ('year', 22218), ('u', 22143), ('people', 21877), ('job', 21778), ('health', 21604), ('federal', 21494), ('u.s.', 21398), ('support', 21149), ('congress', 21007), ('last', 20713), ('veteran', 20581), ('like', 20217), ('.', 19827), ('service', 19445), ('thank', 19123), ('get', 18793), ('government', 18342), ('business', 17524), ('many', 17420)]\n"
     ]
    }
   ],
   "source": [
    "print(fd_wct1_M.most_common(40))\n"
   ]
  },
  {
   "cell_type": "code",
   "execution_count": 20,
   "id": "986128c2",
   "metadata": {},
   "outputs": [
    {
     "name": "stdout",
     "output_type": "stream",
     "text": [
      "[('', 42305), ('today', 14374), ('american', 13355), ('new', 13232), ('great', 12842), ('house', 12117), ('woman', 11281), ('work', 10718), ('family', 10639), ('state', 10171), ('health', 10160), (',', 9925), ('time', 9794), ('day', 9775), ('help', 9772), ('need', 9658), ('president', 9425), ('make', 9232), ('one', 8801), ('people', 8663), ('nan', 8610), ('support', 8480), ('u', 8462), ('national', 8385), ('year', 8323), ('community', 8245), (\"i'm\", 8163), ('-', 8116), ('bill', 7858), ('congress', 7608), ('many', 7543), ('right', 7414), ('care', 7360), ('last', 7116), ('would', 7096), ('get', 6994), ('service', 6990), ('thank', 6930), ('job', 6920), ('must', 6816)]\n"
     ]
    }
   ],
   "source": [
    "print(fd_wct1_F.most_common(40))\n"
   ]
  },
  {
   "cell_type": "code",
   "execution_count": 21,
   "id": "19e2d0ca",
   "metadata": {},
   "outputs": [
    {
     "data": {
      "text/plain": [
       "FreqDist({'american': 39605, 'house': 36895, 'today': 36166, 'great': 36085, 'new': 33967, 'state': 32525, 'president': 31463, ',': 30893, 'nan': 29613, 'time': 27180, ...})"
      ]
     },
     "execution_count": 21,
     "metadata": {},
     "output_type": "execute_result"
    }
   ],
   "source": [
    "fd_wct1_M"
   ]
  },
  {
   "cell_type": "code",
   "execution_count": 22,
   "id": "429cfbde",
   "metadata": {},
   "outputs": [],
   "source": [
    "vectorizer = CountVectorizer()\n",
    "X = vectorizer.fit_transform(data_df2['post_text_cleaned'])\n",
    "features = vectorizer.get_feature_names_out()\n",
    "y = data_df2['op_gender']"
   ]
  },
  {
   "cell_type": "code",
   "execution_count": 23,
   "id": "1c71c252",
   "metadata": {},
   "outputs": [
    {
     "name": "stdout",
     "output_type": "stream",
     "text": [
      "['___' '____' '_____' '______' '_______' '________' '_________'\n",
      " '__________' '___________' '____________' '_____________'\n",
      " '_______________' '___________________' '______________________'\n",
      " '_______________________' '_________________________'\n",
      " '___________________________' '_____________________________'\n",
      " '_________________________________'\n",
      " '_____________________________________'\n",
      " '______________________________________'\n",
      " '_______________________________________'\n",
      " '__________________________________________'\n",
      " '____________________________________________'\n",
      " '______________________________________________'\n",
      " '_______________________________________________'\n",
      " '________________________________________________'\n",
      " '_________________________________________________'\n",
      " '__________________________________________________'\n",
      " '____________________________________________________']\n"
     ]
    }
   ],
   "source": [
    "print(features[:30])"
   ]
  },
  {
   "cell_type": "code",
   "execution_count": 24,
   "id": "7a5c3684",
   "metadata": {},
   "outputs": [
    {
     "data": {
      "text/plain": [
       "((548341, 125322), 548341, 125322)"
      ]
     },
     "execution_count": 24,
     "metadata": {},
     "output_type": "execute_result"
    }
   ],
   "source": [
    "X.shape, len(y), len(features)"
   ]
  },
  {
   "cell_type": "code",
   "execution_count": 25,
   "id": "b913b628",
   "metadata": {},
   "outputs": [],
   "source": [
    "from sklearn.model_selection import train_test_split\n",
    "X_train, X_test, y_train, y_test = train_test_split(X, y, test_size=0.33, random_state=42)"
   ]
  },
  {
   "cell_type": "code",
   "execution_count": 26,
   "id": "65a75897",
   "metadata": {},
   "outputs": [
    {
     "name": "stdout",
     "output_type": "stream",
     "text": [
      "['M' 'M']\n",
      "[[0.64198128 0.35801872]\n",
      " [0.8941385  0.1058615 ]]\n"
     ]
    }
   ],
   "source": [
    "clf = LogisticRegression(random_state=0).fit(X_train, y_train)\n",
    "print(clf.predict(X[:2, :]))\n",
    "print(clf.predict_proba(X[:2, :]))\n",
    "# >>> clf.score(X, y)"
   ]
  },
  {
   "cell_type": "code",
   "execution_count": 27,
   "id": "93e226a3",
   "metadata": {},
   "outputs": [
    {
     "data": {
      "text/plain": [
       "0    M\n",
       "1    M\n",
       "Name: op_gender, dtype: object"
      ]
     },
     "execution_count": 27,
     "metadata": {},
     "output_type": "execute_result"
    }
   ],
   "source": [
    "y[:2]"
   ]
  },
  {
   "cell_type": "code",
   "execution_count": 28,
   "id": "3fbb00e5",
   "metadata": {},
   "outputs": [
    {
     "name": "stdout",
     "output_type": "stream",
     "text": [
      "Best: 0.809596 using {'C': 1.0, 'penalty': 'l2'}\n",
      "0.805013 (0.001383) with: {'C': 100, 'penalty': 'l2'}\n",
      "0.806360 (0.001812) with: {'C': 10, 'penalty': 'l2'}\n",
      "0.809596 (0.000919) with: {'C': 1.0, 'penalty': 'l2'}\n",
      "0.802786 (0.001299) with: {'C': 0.1, 'penalty': 'l2'}\n",
      "0.780162 (0.000678) with: {'C': 0.01, 'penalty': 'l2'}\n"
     ]
    }
   ],
   "source": [
    "from sklearn.datasets import make_blobs\n",
    "from sklearn.model_selection import StratifiedKFold\n",
    "from sklearn.model_selection import GridSearchCV\n",
    "from sklearn.linear_model import LogisticRegression\n",
    "\n",
    "model = LogisticRegression()\n",
    "# solvers = ['newton-cg', 'lbfgs', 'liblinear']\n",
    "penalty = ['l2']\n",
    "c_values = [100, 10, 1.0, 0.1, 0.01]\n",
    "# define grid search\n",
    "# grid = dict(solver=solvers,penalty=penalty,C=c_values)\n",
    "grid = dict(penalty=penalty,C=c_values)\n",
    "cv = StratifiedKFold(n_splits=5,  shuffle = True, random_state=1)\n",
    "grid_search = GridSearchCV(estimator=model, param_grid=grid, n_jobs=-1, cv=cv, scoring='accuracy',error_score=0)\n",
    "grid_result = grid_search.fit(X_train, y_train)\n",
    "# summarize results\n",
    "print(\"Best: %f using %s\" % (grid_result.best_score_, grid_result.best_params_))\n",
    "means = grid_result.cv_results_['mean_test_score']\n",
    "stds = grid_result.cv_results_['std_test_score']\n",
    "params = grid_result.cv_results_['params']\n",
    "for mean, stdev, param in zip(means, stds, params):\n",
    "    print(\"%f (%f) with: %r\" % (mean, stdev, param))"
   ]
  },
  {
   "cell_type": "code",
   "execution_count": 29,
   "id": "4dbd8e44",
   "metadata": {},
   "outputs": [
    {
     "name": "stdout",
     "output_type": "stream",
     "text": [
      "test accuracy :  0.8108569628577587\n"
     ]
    }
   ],
   "source": [
    "test_pred = grid_result.predict(X_test)\n",
    "from sklearn.metrics import accuracy_score\n",
    "test_acc = accuracy_score(y_test, test_pred)\n",
    "print(\"test accuracy : \", test_acc)"
   ]
  },
  {
   "cell_type": "code",
   "execution_count": 30,
   "id": "e6dcfafd",
   "metadata": {},
   "outputs": [
    {
     "name": "stdout",
     "output_type": "stream",
     "text": [
      "overall accuracy :  0.8306528236991215\n"
     ]
    }
   ],
   "source": [
    "all_pred = grid_result.predict(X)\n",
    "from sklearn.metrics import accuracy_score\n",
    "all_acc = accuracy_score(y, all_pred)\n",
    "print(\"overall accuracy : \", all_acc)"
   ]
  },
  {
   "cell_type": "code",
   "execution_count": 31,
   "id": "e8587f12",
   "metadata": {},
   "outputs": [
    {
     "data": {
      "text/plain": [
       "{'C': 1.0, 'penalty': 'l2'}"
      ]
     },
     "execution_count": 31,
     "metadata": {},
     "output_type": "execute_result"
    }
   ],
   "source": [
    "grid_result.best_params_"
   ]
  },
  {
   "cell_type": "code",
   "execution_count": 32,
   "id": "faec87af",
   "metadata": {},
   "outputs": [
    {
     "data": {
      "text/html": [
       "<div>\n",
       "<style scoped>\n",
       "    .dataframe tbody tr th:only-of-type {\n",
       "        vertical-align: middle;\n",
       "    }\n",
       "\n",
       "    .dataframe tbody tr th {\n",
       "        vertical-align: top;\n",
       "    }\n",
       "\n",
       "    .dataframe thead th {\n",
       "        text-align: right;\n",
       "    }\n",
       "</style>\n",
       "<table border=\"1\" class=\"dataframe\">\n",
       "  <thead>\n",
       "    <tr style=\"text-align: right;\">\n",
       "      <th></th>\n",
       "      <th>importance</th>\n",
       "      <th>features</th>\n",
       "    </tr>\n",
       "  </thead>\n",
       "  <tbody>\n",
       "    <tr>\n",
       "      <th>0</th>\n",
       "      <td>0.036571</td>\n",
       "      <td>___</td>\n",
       "    </tr>\n",
       "    <tr>\n",
       "      <th>1</th>\n",
       "      <td>-0.119654</td>\n",
       "      <td>____</td>\n",
       "    </tr>\n",
       "    <tr>\n",
       "      <th>2</th>\n",
       "      <td>-0.012539</td>\n",
       "      <td>_____</td>\n",
       "    </tr>\n",
       "    <tr>\n",
       "      <th>3</th>\n",
       "      <td>-0.033923</td>\n",
       "      <td>______</td>\n",
       "    </tr>\n",
       "    <tr>\n",
       "      <th>4</th>\n",
       "      <td>0.000000</td>\n",
       "      <td>_______</td>\n",
       "    </tr>\n",
       "    <tr>\n",
       "      <th>...</th>\n",
       "      <td>...</td>\n",
       "      <td>...</td>\n",
       "    </tr>\n",
       "    <tr>\n",
       "      <th>125317</th>\n",
       "      <td>0.112560</td>\n",
       "      <td>𝗼𝗻𝗲</td>\n",
       "    </tr>\n",
       "    <tr>\n",
       "      <th>125318</th>\n",
       "      <td>0.112560</td>\n",
       "      <td>𝗼𝗽𝗽𝗼𝗻𝗲𝗻𝘁𝘀</td>\n",
       "    </tr>\n",
       "    <tr>\n",
       "      <th>125319</th>\n",
       "      <td>0.112560</td>\n",
       "      <td>𝗼𝘂𝗿</td>\n",
       "    </tr>\n",
       "    <tr>\n",
       "      <th>125320</th>\n",
       "      <td>0.112560</td>\n",
       "      <td>𝗼𝘄𝗻</td>\n",
       "    </tr>\n",
       "    <tr>\n",
       "      <th>125321</th>\n",
       "      <td>0.112560</td>\n",
       "      <td>𝘁𝗼</td>\n",
       "    </tr>\n",
       "  </tbody>\n",
       "</table>\n",
       "<p>125322 rows × 2 columns</p>\n",
       "</div>"
      ],
      "text/plain": [
       "        importance   features\n",
       "0         0.036571        ___\n",
       "1        -0.119654       ____\n",
       "2        -0.012539      _____\n",
       "3        -0.033923     ______\n",
       "4         0.000000    _______\n",
       "...            ...        ...\n",
       "125317    0.112560        𝗼𝗻𝗲\n",
       "125318    0.112560  𝗼𝗽𝗽𝗼𝗻𝗲𝗻𝘁𝘀\n",
       "125319    0.112560        𝗼𝘂𝗿\n",
       "125320    0.112560        𝗼𝘄𝗻\n",
       "125321    0.112560         𝘁𝗼\n",
       "\n",
       "[125322 rows x 2 columns]"
      ]
     },
     "execution_count": 32,
     "metadata": {},
     "output_type": "execute_result"
    }
   ],
   "source": [
    "# get importance\n",
    "importance = grid_result.best_estimator_.coef_[0]\n",
    "feature_importance = pd.DataFrame({\"importance\":importance, \"features\":features})\n",
    "feature_importance"
   ]
  },
  {
   "cell_type": "code",
   "execution_count": 33,
   "id": "f4b94606",
   "metadata": {},
   "outputs": [
    {
     "data": {
      "text/html": [
       "<div>\n",
       "<style scoped>\n",
       "    .dataframe tbody tr th:only-of-type {\n",
       "        vertical-align: middle;\n",
       "    }\n",
       "\n",
       "    .dataframe tbody tr th {\n",
       "        vertical-align: top;\n",
       "    }\n",
       "\n",
       "    .dataframe thead th {\n",
       "        text-align: right;\n",
       "    }\n",
       "</style>\n",
       "<table border=\"1\" class=\"dataframe\">\n",
       "  <thead>\n",
       "    <tr style=\"text-align: right;\">\n",
       "      <th></th>\n",
       "      <th>importance</th>\n",
       "      <th>features</th>\n",
       "    </tr>\n",
       "  </thead>\n",
       "  <tbody>\n",
       "    <tr>\n",
       "      <th>85003</th>\n",
       "      <td>0.000000</td>\n",
       "      <td>platou</td>\n",
       "    </tr>\n",
       "    <tr>\n",
       "      <th>81229</th>\n",
       "      <td>0.000000</td>\n",
       "      <td>pacifici</td>\n",
       "    </tr>\n",
       "    <tr>\n",
       "      <th>25079</th>\n",
       "      <td>0.000000</td>\n",
       "      <td>cuck</td>\n",
       "    </tr>\n",
       "    <tr>\n",
       "      <th>25078</th>\n",
       "      <td>0.000000</td>\n",
       "      <td>cucina</td>\n",
       "    </tr>\n",
       "    <tr>\n",
       "      <th>25072</th>\n",
       "      <td>0.000000</td>\n",
       "      <td>cuca</td>\n",
       "    </tr>\n",
       "    <tr>\n",
       "      <th>...</th>\n",
       "      <td>...</td>\n",
       "      <td>...</td>\n",
       "    </tr>\n",
       "    <tr>\n",
       "      <th>109501</th>\n",
       "      <td>5.710055</td>\n",
       "      <td>teamtulsi</td>\n",
       "    </tr>\n",
       "    <tr>\n",
       "      <th>103050</th>\n",
       "      <td>5.910149</td>\n",
       "      <td>sofla</td>\n",
       "    </tr>\n",
       "    <tr>\n",
       "      <th>99921</th>\n",
       "      <td>6.395966</td>\n",
       "      <td>shaheen</td>\n",
       "    </tr>\n",
       "    <tr>\n",
       "      <th>117563</th>\n",
       "      <td>6.448768</td>\n",
       "      <td>ventura</td>\n",
       "    </tr>\n",
       "    <tr>\n",
       "      <th>109484</th>\n",
       "      <td>7.027390</td>\n",
       "      <td>teamsinema</td>\n",
       "    </tr>\n",
       "  </tbody>\n",
       "</table>\n",
       "<p>125322 rows × 2 columns</p>\n",
       "</div>"
      ],
      "text/plain": [
       "        importance    features\n",
       "85003     0.000000      platou\n",
       "81229     0.000000    pacifici\n",
       "25079     0.000000        cuck\n",
       "25078     0.000000      cucina\n",
       "25072     0.000000        cuca\n",
       "...            ...         ...\n",
       "109501    5.710055   teamtulsi\n",
       "103050    5.910149       sofla\n",
       "99921     6.395966     shaheen\n",
       "117563    6.448768     ventura\n",
       "109484    7.027390  teamsinema\n",
       "\n",
       "[125322 rows x 2 columns]"
      ]
     },
     "execution_count": 33,
     "metadata": {},
     "output_type": "execute_result"
    }
   ],
   "source": [
    "feature_importance.sort_values(['importance'],  key=abs, inplace=True)\n",
    "feature_importance\n"
   ]
  },
  {
   "cell_type": "code",
   "execution_count": 34,
   "id": "346db448",
   "metadata": {},
   "outputs": [
    {
     "data": {
      "image/png": "[encoded data removed]",
      "text/plain": [
       "<Figure size 1440x720 with 1 Axes>"
      ]
     },
     "metadata": {
      "needs_background": "light"
     },
     "output_type": "display_data"
    }
   ],
   "source": [
    "# plot feature importance\n",
    "plt.figure(figsize=(20, 10))\n",
    "plt.bar(feature_importance['features'][-30:], feature_importance['importance'][-30:], width = 0.4)\n",
    "plt.xticks(rotation=45)\n",
    "plt.show()"
   ]
  },
  {
   "cell_type": "code",
   "execution_count": 35,
   "id": "8d989c21",
   "metadata": {},
   "outputs": [],
   "source": [
    "# visualize most freuquent words"
   ]
  },
  {
   "cell_type": "code",
   "execution_count": 36,
   "id": "47c25776",
   "metadata": {},
   "outputs": [],
   "source": [
    "vectorizer = TfidfVectorizer()\n",
    "X = vectorizer.fit_transform(data_df2['post_text_cleaned'])\n",
    "features = vectorizer.get_feature_names_out()\n",
    "y = data_df2['op_gender']"
   ]
  },
  {
   "cell_type": "code",
   "execution_count": 37,
   "id": "cc8566d5",
   "metadata": {},
   "outputs": [
    {
     "name": "stdout",
     "output_type": "stream",
     "text": [
      "['___' '____' '_____' '______' '_______' '________' '_________'\n",
      " '__________' '___________' '____________' '_____________'\n",
      " '_______________' '___________________' '______________________'\n",
      " '_______________________' '_________________________'\n",
      " '___________________________' '_____________________________'\n",
      " '_________________________________'\n",
      " '_____________________________________'\n",
      " '______________________________________'\n",
      " '_______________________________________'\n",
      " '__________________________________________'\n",
      " '____________________________________________'\n",
      " '______________________________________________'\n",
      " '_______________________________________________'\n",
      " '________________________________________________'\n",
      " '_________________________________________________'\n",
      " '__________________________________________________'\n",
      " '____________________________________________________']\n"
     ]
    }
   ],
   "source": [
    "print(features[:30])"
   ]
  },
  {
   "cell_type": "code",
   "execution_count": 38,
   "id": "e6f8ad9e",
   "metadata": {},
   "outputs": [
    {
     "data": {
      "text/plain": [
       "((548341, 125322), 548341, 125322)"
      ]
     },
     "execution_count": 38,
     "metadata": {},
     "output_type": "execute_result"
    }
   ],
   "source": [
    "X.shape, len(y), len(features)"
   ]
  },
  {
   "cell_type": "code",
   "execution_count": 39,
   "id": "4814d1d4",
   "metadata": {},
   "outputs": [],
   "source": [
    "from sklearn.model_selection import train_test_split\n",
    "X_train, X_test, y_train, y_test = train_test_split(X, y, test_size=0.33, random_state=42)"
   ]
  },
  {
   "cell_type": "code",
   "execution_count": 40,
   "id": "325c6590",
   "metadata": {},
   "outputs": [
    {
     "name": "stdout",
     "output_type": "stream",
     "text": [
      "['M' 'M']\n",
      "[[0.7611388  0.2388612 ]\n",
      " [0.94834874 0.05165126]]\n"
     ]
    }
   ],
   "source": [
    "clf = LogisticRegression(random_state=0).fit(X_train, y_train)\n",
    "print(clf.predict(X[:2, :]))\n",
    "print(clf.predict_proba(X[:2, :]))\n",
    "# >>> clf.score(X, y)"
   ]
  },
  {
   "cell_type": "code",
   "execution_count": 41,
   "id": "5f4e8f72",
   "metadata": {},
   "outputs": [
    {
     "data": {
      "text/plain": [
       "0    M\n",
       "1    M\n",
       "Name: op_gender, dtype: object"
      ]
     },
     "execution_count": 41,
     "metadata": {},
     "output_type": "execute_result"
    }
   ],
   "source": [
    "y[:2]"
   ]
  },
  {
   "cell_type": "code",
   "execution_count": 42,
   "id": "10b9e8ce",
   "metadata": {},
   "outputs": [
    {
     "name": "stdout",
     "output_type": "stream",
     "text": [
      "Best: 0.809700 using {'C': 10, 'penalty': 'l2'}\n",
      "0.807841 (0.001175) with: {'C': 100, 'penalty': 'l2'}\n",
      "0.809700 (0.001926) with: {'C': 10, 'penalty': 'l2'}\n",
      "0.805644 (0.001162) with: {'C': 1.0, 'penalty': 'l2'}\n",
      "0.775894 (0.000702) with: {'C': 0.1, 'penalty': 'l2'}\n",
      "0.754341 (0.000105) with: {'C': 0.01, 'penalty': 'l2'}\n"
     ]
    }
   ],
   "source": [
    "from sklearn.datasets import make_blobs\n",
    "from sklearn.model_selection import StratifiedKFold\n",
    "from sklearn.model_selection import GridSearchCV\n",
    "from sklearn.linear_model import LogisticRegression\n",
    "\n",
    "model = LogisticRegression()\n",
    "# solvers = ['newton-cg', 'lbfgs', 'liblinear']\n",
    "penalty = ['l2']\n",
    "c_values = [100, 10, 1.0, 0.1, 0.01]\n",
    "# define grid search\n",
    "# grid = dict(solver=solvers,penalty=penalty,C=c_values)\n",
    "grid = dict(penalty=penalty,C=c_values)\n",
    "cv = StratifiedKFold(n_splits=5,  shuffle = True, random_state=1)\n",
    "grid_search = GridSearchCV(estimator=model, param_grid=grid, n_jobs=-1, cv=cv, scoring='accuracy',error_score=0)\n",
    "grid_result = grid_search.fit(X_train, y_train)\n",
    "# summarize results\n",
    "print(\"Best: %f using %s\" % (grid_result.best_score_, grid_result.best_params_))\n",
    "means = grid_result.cv_results_['mean_test_score']\n",
    "stds = grid_result.cv_results_['std_test_score']\n",
    "params = grid_result.cv_results_['params']\n",
    "for mean, stdev, param in zip(means, stds, params):\n",
    "    print(\"%f (%f) with: %r\" % (mean, stdev, param))"
   ]
  },
  {
   "cell_type": "code",
   "execution_count": 43,
   "id": "5e3a4fdf",
   "metadata": {},
   "outputs": [
    {
     "name": "stdout",
     "output_type": "stream",
     "text": [
      "test accuracy :  0.8110835410299913\n"
     ]
    }
   ],
   "source": [
    "test_pred = grid_result.predict(X_test)\n",
    "from sklearn.metrics import accuracy_score\n",
    "test_acc = accuracy_score(y_test, test_pred)\n",
    "print(\"test accuracy : \", test_acc)"
   ]
  },
  {
   "cell_type": "code",
   "execution_count": 44,
   "id": "25db475f",
   "metadata": {},
   "outputs": [
    {
     "name": "stdout",
     "output_type": "stream",
     "text": [
      "overall accuracy :  0.8255100384614683\n"
     ]
    }
   ],
   "source": [
    "all_pred = grid_result.predict(X)\n",
    "from sklearn.metrics import accuracy_score\n",
    "all_acc = accuracy_score(y, all_pred)\n",
    "print(\"overall accuracy : \", all_acc)"
   ]
  },
  {
   "cell_type": "code",
   "execution_count": 45,
   "id": "aa24cda1",
   "metadata": {},
   "outputs": [
    {
     "data": {
      "text/plain": [
       "{'C': 10, 'penalty': 'l2'}"
      ]
     },
     "execution_count": 45,
     "metadata": {},
     "output_type": "execute_result"
    }
   ],
   "source": [
    "grid_result.best_params_"
   ]
  },
  {
   "cell_type": "code",
   "execution_count": 46,
   "id": "f22253a4",
   "metadata": {},
   "outputs": [
    {
     "data": {
      "text/html": [
       "<div>\n",
       "<style scoped>\n",
       "    .dataframe tbody tr th:only-of-type {\n",
       "        vertical-align: middle;\n",
       "    }\n",
       "\n",
       "    .dataframe tbody tr th {\n",
       "        vertical-align: top;\n",
       "    }\n",
       "\n",
       "    .dataframe thead th {\n",
       "        text-align: right;\n",
       "    }\n",
       "</style>\n",
       "<table border=\"1\" class=\"dataframe\">\n",
       "  <thead>\n",
       "    <tr style=\"text-align: right;\">\n",
       "      <th></th>\n",
       "      <th>importance</th>\n",
       "      <th>features</th>\n",
       "    </tr>\n",
       "  </thead>\n",
       "  <tbody>\n",
       "    <tr>\n",
       "      <th>0</th>\n",
       "      <td>-0.125144</td>\n",
       "      <td>___</td>\n",
       "    </tr>\n",
       "    <tr>\n",
       "      <th>1</th>\n",
       "      <td>-0.251532</td>\n",
       "      <td>____</td>\n",
       "    </tr>\n",
       "    <tr>\n",
       "      <th>2</th>\n",
       "      <td>-0.044628</td>\n",
       "      <td>_____</td>\n",
       "    </tr>\n",
       "    <tr>\n",
       "      <th>3</th>\n",
       "      <td>-0.104494</td>\n",
       "      <td>______</td>\n",
       "    </tr>\n",
       "    <tr>\n",
       "      <th>4</th>\n",
       "      <td>0.000000</td>\n",
       "      <td>_______</td>\n",
       "    </tr>\n",
       "    <tr>\n",
       "      <th>...</th>\n",
       "      <td>...</td>\n",
       "      <td>...</td>\n",
       "    </tr>\n",
       "    <tr>\n",
       "      <th>125317</th>\n",
       "      <td>0.185137</td>\n",
       "      <td>𝗼𝗻𝗲</td>\n",
       "    </tr>\n",
       "    <tr>\n",
       "      <th>125318</th>\n",
       "      <td>0.185137</td>\n",
       "      <td>𝗼𝗽𝗽𝗼𝗻𝗲𝗻𝘁𝘀</td>\n",
       "    </tr>\n",
       "    <tr>\n",
       "      <th>125319</th>\n",
       "      <td>0.185137</td>\n",
       "      <td>𝗼𝘂𝗿</td>\n",
       "    </tr>\n",
       "    <tr>\n",
       "      <th>125320</th>\n",
       "      <td>0.185137</td>\n",
       "      <td>𝗼𝘄𝗻</td>\n",
       "    </tr>\n",
       "    <tr>\n",
       "      <th>125321</th>\n",
       "      <td>0.185137</td>\n",
       "      <td>𝘁𝗼</td>\n",
       "    </tr>\n",
       "  </tbody>\n",
       "</table>\n",
       "<p>125322 rows × 2 columns</p>\n",
       "</div>"
      ],
      "text/plain": [
       "        importance   features\n",
       "0        -0.125144        ___\n",
       "1        -0.251532       ____\n",
       "2        -0.044628      _____\n",
       "3        -0.104494     ______\n",
       "4         0.000000    _______\n",
       "...            ...        ...\n",
       "125317    0.185137        𝗼𝗻𝗲\n",
       "125318    0.185137  𝗼𝗽𝗽𝗼𝗻𝗲𝗻𝘁𝘀\n",
       "125319    0.185137        𝗼𝘂𝗿\n",
       "125320    0.185137        𝗼𝘄𝗻\n",
       "125321    0.185137         𝘁𝗼\n",
       "\n",
       "[125322 rows x 2 columns]"
      ]
     },
     "execution_count": 46,
     "metadata": {},
     "output_type": "execute_result"
    }
   ],
   "source": [
    "# get importance\n",
    "importance = grid_result.best_estimator_.coef_[0]\n",
    "feature_importance = pd.DataFrame({\"importance\":importance, \"features\":features})\n",
    "feature_importance"
   ]
  },
  {
   "cell_type": "code",
   "execution_count": 47,
   "id": "d9b5dac4",
   "metadata": {},
   "outputs": [
    {
     "data": {
      "text/html": [
       "<div>\n",
       "<style scoped>\n",
       "    .dataframe tbody tr th:only-of-type {\n",
       "        vertical-align: middle;\n",
       "    }\n",
       "\n",
       "    .dataframe tbody tr th {\n",
       "        vertical-align: top;\n",
       "    }\n",
       "\n",
       "    .dataframe thead th {\n",
       "        text-align: right;\n",
       "    }\n",
       "</style>\n",
       "<table border=\"1\" class=\"dataframe\">\n",
       "  <thead>\n",
       "    <tr style=\"text-align: right;\">\n",
       "      <th></th>\n",
       "      <th>importance</th>\n",
       "      <th>features</th>\n",
       "    </tr>\n",
       "  </thead>\n",
       "  <tbody>\n",
       "    <tr>\n",
       "      <th>34592</th>\n",
       "      <td>0.000000</td>\n",
       "      <td>entourage</td>\n",
       "    </tr>\n",
       "    <tr>\n",
       "      <th>29174</th>\n",
       "      <td>0.000000</td>\n",
       "      <td>dilorenzo</td>\n",
       "    </tr>\n",
       "    <tr>\n",
       "      <th>101426</th>\n",
       "      <td>0.000000</td>\n",
       "      <td>silerio</td>\n",
       "    </tr>\n",
       "    <tr>\n",
       "      <th>101432</th>\n",
       "      <td>0.000000</td>\n",
       "      <td>silhueta</td>\n",
       "    </tr>\n",
       "    <tr>\n",
       "      <th>74110</th>\n",
       "      <td>0.000000</td>\n",
       "      <td>naaman</td>\n",
       "    </tr>\n",
       "    <tr>\n",
       "      <th>...</th>\n",
       "      <td>...</td>\n",
       "      <td>...</td>\n",
       "    </tr>\n",
       "    <tr>\n",
       "      <th>67788</th>\n",
       "      <td>-19.298844</td>\n",
       "      <td>maryland</td>\n",
       "    </tr>\n",
       "    <tr>\n",
       "      <th>104218</th>\n",
       "      <td>20.196380</td>\n",
       "      <td>spokane</td>\n",
       "    </tr>\n",
       "    <tr>\n",
       "      <th>113924</th>\n",
       "      <td>20.797732</td>\n",
       "      <td>tulsi</td>\n",
       "    </tr>\n",
       "    <tr>\n",
       "      <th>117563</th>\n",
       "      <td>24.934555</td>\n",
       "      <td>ventura</td>\n",
       "    </tr>\n",
       "    <tr>\n",
       "      <th>99921</th>\n",
       "      <td>29.182429</td>\n",
       "      <td>shaheen</td>\n",
       "    </tr>\n",
       "  </tbody>\n",
       "</table>\n",
       "<p>125322 rows × 2 columns</p>\n",
       "</div>"
      ],
      "text/plain": [
       "        importance   features\n",
       "34592     0.000000  entourage\n",
       "29174     0.000000  dilorenzo\n",
       "101426    0.000000    silerio\n",
       "101432    0.000000   silhueta\n",
       "74110     0.000000     naaman\n",
       "...            ...        ...\n",
       "67788   -19.298844   maryland\n",
       "104218   20.196380    spokane\n",
       "113924   20.797732      tulsi\n",
       "117563   24.934555    ventura\n",
       "99921    29.182429    shaheen\n",
       "\n",
       "[125322 rows x 2 columns]"
      ]
     },
     "execution_count": 47,
     "metadata": {},
     "output_type": "execute_result"
    }
   ],
   "source": [
    "feature_importance.sort_values(['importance'],  key=abs, inplace=True)\n",
    "feature_importance\n"
   ]
  },
  {
   "cell_type": "code",
   "execution_count": 48,
   "id": "85725b40",
   "metadata": {},
   "outputs": [
    {
     "data": {
      "image/png": "[encoded data removed]",
      "text/plain": [
       "<Figure size 1440x720 with 1 Axes>"
      ]
     },
     "metadata": {
      "needs_background": "light"
     },
     "output_type": "display_data"
    }
   ],
   "source": [
    "# plot feature importance\n",
    "plt.figure(figsize=(20, 10))\n",
    "plt.bar(feature_importance['features'][-30:], feature_importance['importance'][-30:], width = 0.4)\n",
    "plt.xticks(rotation=45)\n",
    "plt.show()"
   ]
  },
  {
   "cell_type": "code",
   "execution_count": 49,
   "id": "4035befc",
   "metadata": {},
   "outputs": [],
   "source": [
    "# visualize most freuquent words "
   ]
  },
  {
   "cell_type": "code",
   "execution_count": 50,
   "id": "9523534b",
   "metadata": {},
   "outputs": [
    {
     "data": {
      "text/html": [
       "<div>\n",
       "<style scoped>\n",
       "    .dataframe tbody tr th:only-of-type {\n",
       "        vertical-align: middle;\n",
       "    }\n",
       "\n",
       "    .dataframe tbody tr th {\n",
       "        vertical-align: top;\n",
       "    }\n",
       "\n",
       "    .dataframe thead th {\n",
       "        text-align: right;\n",
       "    }\n",
       "</style>\n",
       "<table border=\"1\" class=\"dataframe\">\n",
       "  <thead>\n",
       "    <tr style=\"text-align: right;\">\n",
       "      <th></th>\n",
       "      <th>word</th>\n",
       "      <th>n</th>\n",
       "      <th>total_words</th>\n",
       "      <th>gender</th>\n",
       "    </tr>\n",
       "  </thead>\n",
       "  <tbody>\n",
       "    <tr>\n",
       "      <th>0</th>\n",
       "      <td>yesterday,</td>\n",
       "      <td>3726</td>\n",
       "      <td>9520329</td>\n",
       "      <td>M</td>\n",
       "    </tr>\n",
       "    <tr>\n",
       "      <th>1</th>\n",
       "      <td>colleague</td>\n",
       "      <td>7258</td>\n",
       "      <td>9520329</td>\n",
       "      <td>M</td>\n",
       "    </tr>\n",
       "    <tr>\n",
       "      <th>2</th>\n",
       "      <td>voted</td>\n",
       "      <td>8752</td>\n",
       "      <td>9520329</td>\n",
       "      <td>M</td>\n",
       "    </tr>\n",
       "    <tr>\n",
       "      <th>3</th>\n",
       "      <td>protect</td>\n",
       "      <td>10177</td>\n",
       "      <td>9520329</td>\n",
       "      <td>M</td>\n",
       "    </tr>\n",
       "    <tr>\n",
       "      <th>4</th>\n",
       "      <td>state's</td>\n",
       "      <td>1366</td>\n",
       "      <td>9520329</td>\n",
       "      <td>M</td>\n",
       "    </tr>\n",
       "    <tr>\n",
       "      <th>...</th>\n",
       "      <td>...</td>\n",
       "      <td>...</td>\n",
       "      <td>...</td>\n",
       "      <td>...</td>\n",
       "    </tr>\n",
       "    <tr>\n",
       "      <th>273346</th>\n",
       "      <td>amused.</td>\n",
       "      <td>1</td>\n",
       "      <td>9520329</td>\n",
       "      <td>M</td>\n",
       "    </tr>\n",
       "    <tr>\n",
       "      <th>273347</th>\n",
       "      <td>impor</td>\n",
       "      <td>1</td>\n",
       "      <td>9520329</td>\n",
       "      <td>M</td>\n",
       "    </tr>\n",
       "    <tr>\n",
       "      <th>273348</th>\n",
       "      <td>c-span...</td>\n",
       "      <td>1</td>\n",
       "      <td>9520329</td>\n",
       "      <td>M</td>\n",
       "    </tr>\n",
       "    <tr>\n",
       "      <th>273349</th>\n",
       "      <td>handlig</td>\n",
       "      <td>1</td>\n",
       "      <td>9520329</td>\n",
       "      <td>M</td>\n",
       "    </tr>\n",
       "    <tr>\n",
       "      <th>273350</th>\n",
       "      <td>glick.</td>\n",
       "      <td>1</td>\n",
       "      <td>9520329</td>\n",
       "      <td>M</td>\n",
       "    </tr>\n",
       "  </tbody>\n",
       "</table>\n",
       "<p>273351 rows × 4 columns</p>\n",
       "</div>"
      ],
      "text/plain": [
       "              word      n  total_words gender\n",
       "0       yesterday,   3726      9520329      M\n",
       "1        colleague   7258      9520329      M\n",
       "2            voted   8752      9520329      M\n",
       "3          protect  10177      9520329      M\n",
       "4          state's   1366      9520329      M\n",
       "...            ...    ...          ...    ...\n",
       "273346     amused.      1      9520329      M\n",
       "273347       impor      1      9520329      M\n",
       "273348   c-span...      1      9520329      M\n",
       "273349     handlig      1      9520329      M\n",
       "273350      glick.      1      9520329      M\n",
       "\n",
       "[273351 rows x 4 columns]"
      ]
     },
     "execution_count": 50,
     "metadata": {},
     "output_type": "execute_result"
    }
   ],
   "source": [
    "df_M = pd.DataFrame(fd_wct1_M.items(), columns=['word', 'n'])\n",
    "cnt = 0 \n",
    "total_words_M = sum(fd_wct1_M.values())\n",
    "df_M['total_words'] = total_words_M\n",
    "df_M['gender'] ='M'\n",
    "df_M"
   ]
  },
  {
   "cell_type": "code",
   "execution_count": 51,
   "id": "7ccd5112",
   "metadata": {},
   "outputs": [
    {
     "data": {
      "text/html": [
       "<div>\n",
       "<style scoped>\n",
       "    .dataframe tbody tr th:only-of-type {\n",
       "        vertical-align: middle;\n",
       "    }\n",
       "\n",
       "    .dataframe tbody tr th {\n",
       "        vertical-align: top;\n",
       "    }\n",
       "\n",
       "    .dataframe thead th {\n",
       "        text-align: right;\n",
       "    }\n",
       "</style>\n",
       "<table border=\"1\" class=\"dataframe\">\n",
       "  <thead>\n",
       "    <tr style=\"text-align: right;\">\n",
       "      <th></th>\n",
       "      <th>word</th>\n",
       "      <th>n</th>\n",
       "      <th>total_words</th>\n",
       "      <th>gender</th>\n",
       "    </tr>\n",
       "  </thead>\n",
       "  <tbody>\n",
       "    <tr>\n",
       "      <th>0</th>\n",
       "      <td>we've</td>\n",
       "      <td>1227</td>\n",
       "      <td>3376608</td>\n",
       "      <td>W</td>\n",
       "    </tr>\n",
       "    <tr>\n",
       "      <th>1</th>\n",
       "      <td>seen</td>\n",
       "      <td>658</td>\n",
       "      <td>3376608</td>\n",
       "      <td>W</td>\n",
       "    </tr>\n",
       "    <tr>\n",
       "      <th>2</th>\n",
       "      <td>flint,</td>\n",
       "      <td>57</td>\n",
       "      <td>3376608</td>\n",
       "      <td>W</td>\n",
       "    </tr>\n",
       "    <tr>\n",
       "      <th>3</th>\n",
       "      <td>michigan.</td>\n",
       "      <td>84</td>\n",
       "      <td>3376608</td>\n",
       "      <td>W</td>\n",
       "    </tr>\n",
       "    <tr>\n",
       "      <th>4</th>\n",
       "      <td>dakota</td>\n",
       "      <td>537</td>\n",
       "      <td>3376608</td>\n",
       "      <td>W</td>\n",
       "    </tr>\n",
       "    <tr>\n",
       "      <th>...</th>\n",
       "      <td>...</td>\n",
       "      <td>...</td>\n",
       "      <td>...</td>\n",
       "      <td>...</td>\n",
       "    </tr>\n",
       "    <tr>\n",
       "      <th>144863</th>\n",
       "      <td>sexting</td>\n",
       "      <td>1</td>\n",
       "      <td>3376608</td>\n",
       "      <td>W</td>\n",
       "    </tr>\n",
       "    <tr>\n",
       "      <th>144864</th>\n",
       "      <td>profits.\"</td>\n",
       "      <td>1</td>\n",
       "      <td>3376608</td>\n",
       "      <td>W</td>\n",
       "    </tr>\n",
       "    <tr>\n",
       "      <th>144865</th>\n",
       "      <td>port-au-prince,</td>\n",
       "      <td>1</td>\n",
       "      <td>3376608</td>\n",
       "      <td>W</td>\n",
       "    </tr>\n",
       "    <tr>\n",
       "      <th>144866</th>\n",
       "      <td>preval</td>\n",
       "      <td>1</td>\n",
       "      <td>3376608</td>\n",
       "      <td>W</td>\n",
       "    </tr>\n",
       "    <tr>\n",
       "      <th>144867</th>\n",
       "      <td>young),</td>\n",
       "      <td>1</td>\n",
       "      <td>3376608</td>\n",
       "      <td>W</td>\n",
       "    </tr>\n",
       "  </tbody>\n",
       "</table>\n",
       "<p>144868 rows × 4 columns</p>\n",
       "</div>"
      ],
      "text/plain": [
       "                   word     n  total_words gender\n",
       "0                 we've  1227      3376608      W\n",
       "1                  seen   658      3376608      W\n",
       "2                flint,    57      3376608      W\n",
       "3             michigan.    84      3376608      W\n",
       "4                dakota   537      3376608      W\n",
       "...                 ...   ...          ...    ...\n",
       "144863          sexting     1      3376608      W\n",
       "144864        profits.\"     1      3376608      W\n",
       "144865  port-au-prince,     1      3376608      W\n",
       "144866           preval     1      3376608      W\n",
       "144867          young),     1      3376608      W\n",
       "\n",
       "[144868 rows x 4 columns]"
      ]
     },
     "execution_count": 51,
     "metadata": {},
     "output_type": "execute_result"
    }
   ],
   "source": [
    "df_F = pd.DataFrame(fd_wct1_F.items(), columns=['word', 'n'])\n",
    "cnt = 0 \n",
    "total_words_F = sum(fd_wct1_F.values())\n",
    "df_F['total_words'] = total_words_F\n",
    "df_F['gender'] ='W'\n",
    "df_F"
   ]
  },
  {
   "cell_type": "code",
   "execution_count": 52,
   "id": "8c0d3c38",
   "metadata": {},
   "outputs": [
    {
     "data": {
      "text/html": [
       "<div>\n",
       "<style scoped>\n",
       "    .dataframe tbody tr th:only-of-type {\n",
       "        vertical-align: middle;\n",
       "    }\n",
       "\n",
       "    .dataframe tbody tr th {\n",
       "        vertical-align: top;\n",
       "    }\n",
       "\n",
       "    .dataframe thead th {\n",
       "        text-align: right;\n",
       "    }\n",
       "</style>\n",
       "<table border=\"1\" class=\"dataframe\">\n",
       "  <thead>\n",
       "    <tr style=\"text-align: right;\">\n",
       "      <th></th>\n",
       "      <th>word</th>\n",
       "      <th>n</th>\n",
       "      <th>total_words</th>\n",
       "      <th>gender</th>\n",
       "    </tr>\n",
       "  </thead>\n",
       "  <tbody>\n",
       "    <tr>\n",
       "      <th>0</th>\n",
       "      <td>yesterday,</td>\n",
       "      <td>3726</td>\n",
       "      <td>9520329</td>\n",
       "      <td>M</td>\n",
       "    </tr>\n",
       "    <tr>\n",
       "      <th>1</th>\n",
       "      <td>colleague</td>\n",
       "      <td>7258</td>\n",
       "      <td>9520329</td>\n",
       "      <td>M</td>\n",
       "    </tr>\n",
       "    <tr>\n",
       "      <th>2</th>\n",
       "      <td>voted</td>\n",
       "      <td>8752</td>\n",
       "      <td>9520329</td>\n",
       "      <td>M</td>\n",
       "    </tr>\n",
       "    <tr>\n",
       "      <th>3</th>\n",
       "      <td>protect</td>\n",
       "      <td>10177</td>\n",
       "      <td>9520329</td>\n",
       "      <td>M</td>\n",
       "    </tr>\n",
       "    <tr>\n",
       "      <th>4</th>\n",
       "      <td>state's</td>\n",
       "      <td>1366</td>\n",
       "      <td>9520329</td>\n",
       "      <td>M</td>\n",
       "    </tr>\n",
       "    <tr>\n",
       "      <th>...</th>\n",
       "      <td>...</td>\n",
       "      <td>...</td>\n",
       "      <td>...</td>\n",
       "      <td>...</td>\n",
       "    </tr>\n",
       "    <tr>\n",
       "      <th>144863</th>\n",
       "      <td>sexting</td>\n",
       "      <td>1</td>\n",
       "      <td>3376608</td>\n",
       "      <td>W</td>\n",
       "    </tr>\n",
       "    <tr>\n",
       "      <th>144864</th>\n",
       "      <td>profits.\"</td>\n",
       "      <td>1</td>\n",
       "      <td>3376608</td>\n",
       "      <td>W</td>\n",
       "    </tr>\n",
       "    <tr>\n",
       "      <th>144865</th>\n",
       "      <td>port-au-prince,</td>\n",
       "      <td>1</td>\n",
       "      <td>3376608</td>\n",
       "      <td>W</td>\n",
       "    </tr>\n",
       "    <tr>\n",
       "      <th>144866</th>\n",
       "      <td>preval</td>\n",
       "      <td>1</td>\n",
       "      <td>3376608</td>\n",
       "      <td>W</td>\n",
       "    </tr>\n",
       "    <tr>\n",
       "      <th>144867</th>\n",
       "      <td>young),</td>\n",
       "      <td>1</td>\n",
       "      <td>3376608</td>\n",
       "      <td>W</td>\n",
       "    </tr>\n",
       "  </tbody>\n",
       "</table>\n",
       "<p>418219 rows × 4 columns</p>\n",
       "</div>"
      ],
      "text/plain": [
       "                   word      n  total_words gender\n",
       "0            yesterday,   3726      9520329      M\n",
       "1             colleague   7258      9520329      M\n",
       "2                 voted   8752      9520329      M\n",
       "3               protect  10177      9520329      M\n",
       "4               state's   1366      9520329      M\n",
       "...                 ...    ...          ...    ...\n",
       "144863          sexting      1      3376608      W\n",
       "144864        profits.\"      1      3376608      W\n",
       "144865  port-au-prince,      1      3376608      W\n",
       "144866           preval      1      3376608      W\n",
       "144867          young),      1      3376608      W\n",
       "\n",
       "[418219 rows x 4 columns]"
      ]
     },
     "execution_count": 52,
     "metadata": {},
     "output_type": "execute_result"
    }
   ],
   "source": [
    "df_all_for_R = pd.concat([df_M, df_F])\n",
    "df_all_for_R"
   ]
  },
  {
   "cell_type": "code",
   "execution_count": 53,
   "id": "2eb9f041",
   "metadata": {},
   "outputs": [],
   "source": [
    "df_all_for_R.to_csv(\"./preprocessed_data/facebook_congress_posts_preprocressed_for_R.csv\")"
   ]
  },
  {
   "cell_type": "code",
   "execution_count": null,
   "id": "3d7d32a3",
   "metadata": {},
   "outputs": [],
   "source": [
    "# after running R codes for weighted log odds"
   ]
  },
  {
   "cell_type": "code",
   "execution_count": 54,
   "id": "b3baafc4",
   "metadata": {},
   "outputs": [],
   "source": [
    "weighted_log_odds_df = pd.read_csv(\"./preprocessed_data/facebook_congress_post_weighted_log_odds.csv\")\n",
    "weighted_log_odds_df.sort_values(['log_odds_weighted'], inplace=True)"
   ]
  },
  {
   "cell_type": "code",
   "execution_count": 55,
   "id": "ea54863c",
   "metadata": {},
   "outputs": [
    {
     "data": {
      "text/html": [
       "<div>\n",
       "<style scoped>\n",
       "    .dataframe tbody tr th:only-of-type {\n",
       "        vertical-align: middle;\n",
       "    }\n",
       "\n",
       "    .dataframe tbody tr th {\n",
       "        vertical-align: top;\n",
       "    }\n",
       "\n",
       "    .dataframe thead th {\n",
       "        text-align: right;\n",
       "    }\n",
       "</style>\n",
       "<table border=\"1\" class=\"dataframe\">\n",
       "  <thead>\n",
       "    <tr style=\"text-align: right;\">\n",
       "      <th></th>\n",
       "      <th>Unnamed: 0</th>\n",
       "      <th>X</th>\n",
       "      <th>word</th>\n",
       "      <th>n</th>\n",
       "      <th>total_words</th>\n",
       "      <th>gender</th>\n",
       "      <th>log_odds_weighted</th>\n",
       "    </tr>\n",
       "  </thead>\n",
       "  <tbody>\n",
       "    <tr>\n",
       "      <th>1805</th>\n",
       "      <td>1806</td>\n",
       "      <td>1805</td>\n",
       "      <td>woman</td>\n",
       "      <td>12499</td>\n",
       "      <td>9520329</td>\n",
       "      <td>M</td>\n",
       "      <td>-21.376977</td>\n",
       "    </tr>\n",
       "    <tr>\n",
       "      <th>5303</th>\n",
       "      <td>5304</td>\n",
       "      <td>5303</td>\n",
       "      <td>congresswoman</td>\n",
       "      <td>920</td>\n",
       "      <td>9520329</td>\n",
       "      <td>M</td>\n",
       "      <td>-19.087455</td>\n",
       "    </tr>\n",
       "    <tr>\n",
       "      <th>58996</th>\n",
       "      <td>58997</td>\n",
       "      <td>58996</td>\n",
       "      <td>shaheen</td>\n",
       "      <td>23</td>\n",
       "      <td>9520329</td>\n",
       "      <td>M</td>\n",
       "      <td>-15.536354</td>\n",
       "    </tr>\n",
       "    <tr>\n",
       "      <th>1794</th>\n",
       "      <td>1795</td>\n",
       "      <td>1794</td>\n",
       "      <td>women's</td>\n",
       "      <td>2397</td>\n",
       "      <td>9520329</td>\n",
       "      <td>M</td>\n",
       "      <td>-14.682693</td>\n",
       "    </tr>\n",
       "    <tr>\n",
       "      <th>24815</th>\n",
       "      <td>24816</td>\n",
       "      <td>24815</td>\n",
       "      <td>hampshire</td>\n",
       "      <td>188</td>\n",
       "      <td>9520329</td>\n",
       "      <td>M</td>\n",
       "      <td>-14.384317</td>\n",
       "    </tr>\n",
       "    <tr>\n",
       "      <th>...</th>\n",
       "      <td>...</td>\n",
       "      <td>...</td>\n",
       "      <td>...</td>\n",
       "      <td>...</td>\n",
       "      <td>...</td>\n",
       "      <td>...</td>\n",
       "      <td>...</td>\n",
       "    </tr>\n",
       "    <tr>\n",
       "      <th>280616</th>\n",
       "      <td>280617</td>\n",
       "      <td>7265</td>\n",
       "      <td>women's</td>\n",
       "      <td>3140</td>\n",
       "      <td>3376608</td>\n",
       "      <td>W</td>\n",
       "      <td>17.117177</td>\n",
       "    </tr>\n",
       "    <tr>\n",
       "      <th>278021</th>\n",
       "      <td>278022</td>\n",
       "      <td>4670</td>\n",
       "      <td>-teamtulsi</td>\n",
       "      <td>384</td>\n",
       "      <td>3376608</td>\n",
       "      <td>W</td>\n",
       "      <td>17.166722</td>\n",
       "    </tr>\n",
       "    <tr>\n",
       "      <th>274013</th>\n",
       "      <td>274014</td>\n",
       "      <td>662</td>\n",
       "      <td>congresswoman</td>\n",
       "      <td>2739</td>\n",
       "      <td>3376608</td>\n",
       "      <td>W</td>\n",
       "      <td>21.381374</td>\n",
       "    </tr>\n",
       "    <tr>\n",
       "      <th>273519</th>\n",
       "      <td>273520</td>\n",
       "      <td>168</td>\n",
       "      <td>woman</td>\n",
       "      <td>11281</td>\n",
       "      <td>3376608</td>\n",
       "      <td>W</td>\n",
       "      <td>25.447978</td>\n",
       "    </tr>\n",
       "    <tr>\n",
       "      <th>273819</th>\n",
       "      <td>273820</td>\n",
       "      <td>468</td>\n",
       "      <td>NaN</td>\n",
       "      <td>42305</td>\n",
       "      <td>3376608</td>\n",
       "      <td>W</td>\n",
       "      <td>180.819698</td>\n",
       "    </tr>\n",
       "  </tbody>\n",
       "</table>\n",
       "<p>418219 rows × 7 columns</p>\n",
       "</div>"
      ],
      "text/plain": [
       "        Unnamed: 0      X           word      n  total_words gender  \\\n",
       "1805          1806   1805          woman  12499      9520329      M   \n",
       "5303          5304   5303  congresswoman    920      9520329      M   \n",
       "58996        58997  58996        shaheen     23      9520329      M   \n",
       "1794          1795   1794        women's   2397      9520329      M   \n",
       "24815        24816  24815      hampshire    188      9520329      M   \n",
       "...            ...    ...            ...    ...          ...    ...   \n",
       "280616      280617   7265        women's   3140      3376608      W   \n",
       "278021      278022   4670     -teamtulsi    384      3376608      W   \n",
       "274013      274014    662  congresswoman   2739      3376608      W   \n",
       "273519      273520    168          woman  11281      3376608      W   \n",
       "273819      273820    468            NaN  42305      3376608      W   \n",
       "\n",
       "        log_odds_weighted  \n",
       "1805           -21.376977  \n",
       "5303           -19.087455  \n",
       "58996          -15.536354  \n",
       "1794           -14.682693  \n",
       "24815          -14.384317  \n",
       "...                   ...  \n",
       "280616          17.117177  \n",
       "278021          17.166722  \n",
       "274013          21.381374  \n",
       "273519          25.447978  \n",
       "273819         180.819698  \n",
       "\n",
       "[418219 rows x 7 columns]"
      ]
     },
     "execution_count": 55,
     "metadata": {},
     "output_type": "execute_result"
    }
   ],
   "source": [
    "weighted_log_odds_df"
   ]
  },
  {
   "cell_type": "code",
   "execution_count": 56,
   "id": "372d56fb",
   "metadata": {},
   "outputs": [
    {
     "data": {
      "text/html": [
       "<div>\n",
       "<style scoped>\n",
       "    .dataframe tbody tr th:only-of-type {\n",
       "        vertical-align: middle;\n",
       "    }\n",
       "\n",
       "    .dataframe tbody tr th {\n",
       "        vertical-align: top;\n",
       "    }\n",
       "\n",
       "    .dataframe thead th {\n",
       "        text-align: right;\n",
       "    }\n",
       "</style>\n",
       "<table border=\"1\" class=\"dataframe\">\n",
       "  <thead>\n",
       "    <tr style=\"text-align: right;\">\n",
       "      <th></th>\n",
       "      <th>Unnamed: 0</th>\n",
       "      <th>X</th>\n",
       "      <th>word</th>\n",
       "      <th>n</th>\n",
       "      <th>total_words</th>\n",
       "      <th>gender</th>\n",
       "      <th>log_odds_weighted</th>\n",
       "    </tr>\n",
       "  </thead>\n",
       "  <tbody>\n",
       "    <tr>\n",
       "      <th>1805</th>\n",
       "      <td>1806</td>\n",
       "      <td>1805</td>\n",
       "      <td>woman</td>\n",
       "      <td>12499</td>\n",
       "      <td>9520329</td>\n",
       "      <td>M</td>\n",
       "      <td>-21.376977</td>\n",
       "    </tr>\n",
       "    <tr>\n",
       "      <th>5303</th>\n",
       "      <td>5304</td>\n",
       "      <td>5303</td>\n",
       "      <td>congresswoman</td>\n",
       "      <td>920</td>\n",
       "      <td>9520329</td>\n",
       "      <td>M</td>\n",
       "      <td>-19.087455</td>\n",
       "    </tr>\n",
       "    <tr>\n",
       "      <th>58996</th>\n",
       "      <td>58997</td>\n",
       "      <td>58996</td>\n",
       "      <td>shaheen</td>\n",
       "      <td>23</td>\n",
       "      <td>9520329</td>\n",
       "      <td>M</td>\n",
       "      <td>-15.536354</td>\n",
       "    </tr>\n",
       "    <tr>\n",
       "      <th>1794</th>\n",
       "      <td>1795</td>\n",
       "      <td>1794</td>\n",
       "      <td>women's</td>\n",
       "      <td>2397</td>\n",
       "      <td>9520329</td>\n",
       "      <td>M</td>\n",
       "      <td>-14.682693</td>\n",
       "    </tr>\n",
       "    <tr>\n",
       "      <th>24815</th>\n",
       "      <td>24816</td>\n",
       "      <td>24815</td>\n",
       "      <td>hampshire</td>\n",
       "      <td>188</td>\n",
       "      <td>9520329</td>\n",
       "      <td>M</td>\n",
       "      <td>-14.384317</td>\n",
       "    </tr>\n",
       "    <tr>\n",
       "      <th>...</th>\n",
       "      <td>...</td>\n",
       "      <td>...</td>\n",
       "      <td>...</td>\n",
       "      <td>...</td>\n",
       "      <td>...</td>\n",
       "      <td>...</td>\n",
       "      <td>...</td>\n",
       "    </tr>\n",
       "    <tr>\n",
       "      <th>299991</th>\n",
       "      <td>299992</td>\n",
       "      <td>26640</td>\n",
       "      <td>shaheen</td>\n",
       "      <td>1067</td>\n",
       "      <td>3376608</td>\n",
       "      <td>W</td>\n",
       "      <td>16.583014</td>\n",
       "    </tr>\n",
       "    <tr>\n",
       "      <th>280616</th>\n",
       "      <td>280617</td>\n",
       "      <td>7265</td>\n",
       "      <td>women's</td>\n",
       "      <td>3140</td>\n",
       "      <td>3376608</td>\n",
       "      <td>W</td>\n",
       "      <td>17.117177</td>\n",
       "    </tr>\n",
       "    <tr>\n",
       "      <th>278021</th>\n",
       "      <td>278022</td>\n",
       "      <td>4670</td>\n",
       "      <td>-teamtulsi</td>\n",
       "      <td>384</td>\n",
       "      <td>3376608</td>\n",
       "      <td>W</td>\n",
       "      <td>17.166722</td>\n",
       "    </tr>\n",
       "    <tr>\n",
       "      <th>274013</th>\n",
       "      <td>274014</td>\n",
       "      <td>662</td>\n",
       "      <td>congresswoman</td>\n",
       "      <td>2739</td>\n",
       "      <td>3376608</td>\n",
       "      <td>W</td>\n",
       "      <td>21.381374</td>\n",
       "    </tr>\n",
       "    <tr>\n",
       "      <th>273519</th>\n",
       "      <td>273520</td>\n",
       "      <td>168</td>\n",
       "      <td>woman</td>\n",
       "      <td>11281</td>\n",
       "      <td>3376608</td>\n",
       "      <td>W</td>\n",
       "      <td>25.447978</td>\n",
       "    </tr>\n",
       "  </tbody>\n",
       "</table>\n",
       "<p>418213 rows × 7 columns</p>\n",
       "</div>"
      ],
      "text/plain": [
       "        Unnamed: 0      X           word      n  total_words gender  \\\n",
       "1805          1806   1805          woman  12499      9520329      M   \n",
       "5303          5304   5303  congresswoman    920      9520329      M   \n",
       "58996        58997  58996        shaheen     23      9520329      M   \n",
       "1794          1795   1794        women's   2397      9520329      M   \n",
       "24815        24816  24815      hampshire    188      9520329      M   \n",
       "...            ...    ...            ...    ...          ...    ...   \n",
       "299991      299992  26640        shaheen   1067      3376608      W   \n",
       "280616      280617   7265        women's   3140      3376608      W   \n",
       "278021      278022   4670     -teamtulsi    384      3376608      W   \n",
       "274013      274014    662  congresswoman   2739      3376608      W   \n",
       "273519      273520    168          woman  11281      3376608      W   \n",
       "\n",
       "        log_odds_weighted  \n",
       "1805           -21.376977  \n",
       "5303           -19.087455  \n",
       "58996          -15.536354  \n",
       "1794           -14.682693  \n",
       "24815          -14.384317  \n",
       "...                   ...  \n",
       "299991          16.583014  \n",
       "280616          17.117177  \n",
       "278021          17.166722  \n",
       "274013          21.381374  \n",
       "273519          25.447978  \n",
       "\n",
       "[418213 rows x 7 columns]"
      ]
     },
     "execution_count": 56,
     "metadata": {},
     "output_type": "execute_result"
    }
   ],
   "source": [
    "weighted_log_odds_df = weighted_log_odds_df.dropna()\n",
    "weighted_log_odds_df"
   ]
  },
  {
   "cell_type": "code",
   "execution_count": 57,
   "id": "50ff5ddf",
   "metadata": {},
   "outputs": [
    {
     "data": {
      "image/png": "[encoded data removed]",
      "text/plain": [
       "<Figure size 1440x720 with 1 Axes>"
      ]
     },
     "metadata": {
      "needs_background": "light"
     },
     "output_type": "display_data"
    }
   ],
   "source": [
    "filtered_df = weighted_log_odds_df[weighted_log_odds_df['gender']=='M']\n",
    "plt.figure(figsize=(20, 10))\n",
    "plt.bar(filtered_df['word'][-40:], filtered_df['log_odds_weighted'][-40:], width=0.4)\n",
    "plt.title(\"significant words male\")\n",
    "plt.xticks(rotation=45)\n",
    "plt.show()"
   ]
  },
  {
   "cell_type": "code",
   "execution_count": 58,
   "id": "ca67c421",
   "metadata": {},
   "outputs": [
    {
     "data": {
      "image/png": "[encoded data removed]",
      "text/plain": [
       "<Figure size 1440x720 with 1 Axes>"
      ]
     },
     "metadata": {
      "needs_background": "light"
     },
     "output_type": "display_data"
    }
   ],
   "source": [
    "filtered_df = weighted_log_odds_df[weighted_log_odds_df['gender']=='W']\n",
    "plt.figure(figsize=(20, 10))\n",
    "plt.bar(filtered_df['word'][-40:], filtered_df['log_odds_weighted'][-40:], width=0.4)\n",
    "plt.title(\"significant words female\")\n",
    "plt.xticks(rotation=45)\n",
    "plt.show()"
   ]
  },
  {
   "cell_type": "code",
   "execution_count": null,
   "id": "7772ec47",
   "metadata": {},
   "outputs": [],
   "source": []
  }
 ],
 "metadata": {
  "kernelspec": {
   "display_name": "Python 3 (ipykernel)",
   "language": "python",
   "name": "python3"
  },
  "language_info": {
   "codemirror_mode": {
    "name": "ipython",
    "version": 3
   },
   "file_extension": ".py",
   "mimetype": "text/x-python",
   "name": "python",
   "nbconvert_exporter": "python",
   "pygments_lexer": "ipython3",
   "version": "3.10.2"
  }
 },
 "nbformat": 4,
 "nbformat_minor": 5
}
