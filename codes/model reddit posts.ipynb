{
 "cells": [
  {
   "cell_type": "code",
   "execution_count": 1,
   "id": "dc0230fb",
   "metadata": {},
   "outputs": [],
   "source": [
    "import pandas as pd\n",
    "import re\n",
    "import string\n",
    "# from bs4 import BeautifulSoup\n",
    "import nltk\n",
    "from nltk.stem import PorterStemmer\n",
    "from nltk.stem.wordnet import WordNetLemmatizer\n",
    "import spacy\n",
    "from nltk.probability import FreqDist\n",
    "from sklearn.linear_model import LogisticRegression\n",
    "from sklearn.feature_extraction.text import CountVectorizer, TfidfVectorizer\n",
    "import matplotlib.pyplot as plt\n",
    "import warnings\n",
    "warnings.filterwarnings('ignore')"
   ]
  },
  {
   "cell_type": "code",
   "execution_count": 2,
   "id": "a9e43744",
   "metadata": {},
   "outputs": [],
   "source": [
    "# !pip install spacy\n",
    "# !python -m spacy download en_core_web_sm\n",
    "# nltk.download('stopwords')\n",
    "# nltk.download('wordnet')\n",
    "# nltk.download('omw-1.4')"
   ]
  },
  {
   "cell_type": "code",
   "execution_count": 4,
   "id": "6815ba3b",
   "metadata": {},
   "outputs": [
    {
     "name": "stdout",
     "output_type": "stream",
     "text": [
      "Collecting swifter\n",
      "  Downloading swifter-1.3.4.tar.gz (830 kB)\n",
      "Requirement already satisfied: pandas>=1.0.0 in c:\\users\\admin\\appdata\\local\\programs\\python\\python310\\lib\\site-packages (from swifter) (1.4.1)\n",
      "Collecting psutil>=5.6.6\n",
      "  Downloading psutil-5.9.4-cp36-abi3-win_amd64.whl (252 kB)\n",
      "Collecting dask[dataframe]>=2.10.0\n",
      "  Downloading dask-2022.10.2-py3-none-any.whl (1.1 MB)\n",
      "Requirement already satisfied: tqdm>=4.33.0 in c:\\users\\admin\\appdata\\roaming\\python\\python310\\site-packages (from swifter) (4.64.1)\n",
      "Requirement already satisfied: ipywidgets>=7.0.0 in c:\\users\\admin\\appdata\\local\\programs\\python\\python310\\lib\\site-packages (from swifter) (7.6.5)\n",
      "Collecting cloudpickle>=0.2.2\n",
      "  Downloading cloudpickle-2.2.0-py3-none-any.whl (25 kB)\n",
      "Requirement already satisfied: parso>0.4.0 in c:\\users\\admin\\appdata\\local\\programs\\python\\python310\\lib\\site-packages (from swifter) (0.8.3)\n",
      "Requirement already satisfied: bleach>=3.1.1 in c:\\users\\admin\\appdata\\local\\programs\\python\\python310\\lib\\site-packages (from swifter) (4.1.0)\n",
      "Requirement already satisfied: packaging in c:\\users\\admin\\appdata\\local\\programs\\python\\python310\\lib\\site-packages (from bleach>=3.1.1->swifter) (21.3)\n",
      "Requirement already satisfied: six>=1.9.0 in c:\\users\\admin\\appdata\\local\\programs\\python\\python310\\lib\\site-packages (from bleach>=3.1.1->swifter) (1.16.0)\n",
      "Requirement already satisfied: webencodings in c:\\users\\admin\\appdata\\local\\programs\\python\\python310\\lib\\site-packages (from bleach>=3.1.1->swifter) (0.5.1)\n",
      "Requirement already satisfied: click>=7.0 in c:\\users\\admin\\appdata\\roaming\\python\\python310\\site-packages (from dask[dataframe]>=2.10.0->swifter) (8.1.3)\n",
      "Requirement already satisfied: fsspec>=0.6.0 in c:\\users\\admin\\appdata\\local\\programs\\python\\python310\\lib\\site-packages (from dask[dataframe]>=2.10.0->swifter) (2022.10.0)\n",
      "Requirement already satisfied: pyyaml>=5.3.1 in c:\\users\\admin\\appdata\\local\\programs\\python\\python310\\lib\\site-packages (from dask[dataframe]>=2.10.0->swifter) (6.0)\n",
      "Collecting toolz>=0.8.2\n",
      "  Downloading toolz-0.12.0-py3-none-any.whl (55 kB)"
     ]
    },
    {
     "name": "stderr",
     "output_type": "stream",
     "text": [
      "WARNING: You are using pip version 21.2.4; however, version 22.3.1 is available.\n",
      "You should consider upgrading via the 'C:\\Users\\admin\\AppData\\Local\\Programs\\Python\\Python310\\python.exe -m pip install --upgrade pip' command.\n"
     ]
    },
    {
     "name": "stdout",
     "output_type": "stream",
     "text": [
      "\n",
      "Collecting partd>=0.3.10\n",
      "  Downloading partd-1.3.0-py3-none-any.whl (18 kB)\n",
      "Requirement already satisfied: numpy>=1.18 in c:\\users\\admin\\appdata\\local\\programs\\python\\python310\\lib\\site-packages (from dask[dataframe]>=2.10.0->swifter) (1.22.2)\n",
      "Requirement already satisfied: colorama in c:\\users\\admin\\appdata\\local\\programs\\python\\python310\\lib\\site-packages (from click>=7.0->dask[dataframe]>=2.10.0->swifter) (0.4.4)\n",
      "Requirement already satisfied: ipython>=4.0.0 in c:\\users\\admin\\appdata\\local\\programs\\python\\python310\\lib\\site-packages (from ipywidgets>=7.0.0->swifter) (8.1.1)\n",
      "Requirement already satisfied: widgetsnbextension~=3.5.0 in c:\\users\\admin\\appdata\\local\\programs\\python\\python310\\lib\\site-packages (from ipywidgets>=7.0.0->swifter) (3.5.2)\n",
      "Requirement already satisfied: jupyterlab-widgets>=1.0.0 in c:\\users\\admin\\appdata\\local\\programs\\python\\python310\\lib\\site-packages (from ipywidgets>=7.0.0->swifter) (1.0.2)\n",
      "Requirement already satisfied: traitlets>=4.3.1 in c:\\users\\admin\\appdata\\local\\programs\\python\\python310\\lib\\site-packages (from ipywidgets>=7.0.0->swifter) (5.1.1)\n",
      "Requirement already satisfied: ipython-genutils~=0.2.0 in c:\\users\\admin\\appdata\\local\\programs\\python\\python310\\lib\\site-packages (from ipywidgets>=7.0.0->swifter) (0.2.0)\n",
      "Requirement already satisfied: ipykernel>=4.5.1 in c:\\users\\admin\\appdata\\local\\programs\\python\\python310\\lib\\site-packages (from ipywidgets>=7.0.0->swifter) (6.9.1)\n",
      "Requirement already satisfied: nbformat>=4.2.0 in c:\\users\\admin\\appdata\\local\\programs\\python\\python310\\lib\\site-packages (from ipywidgets>=7.0.0->swifter) (5.1.3)\n",
      "Requirement already satisfied: nest-asyncio in c:\\users\\admin\\appdata\\local\\programs\\python\\python310\\lib\\site-packages (from ipykernel>=4.5.1->ipywidgets>=7.0.0->swifter) (1.5.4)\n",
      "Requirement already satisfied: debugpy<2.0,>=1.0.0 in c:\\users\\admin\\appdata\\local\\programs\\python\\python310\\lib\\site-packages (from ipykernel>=4.5.1->ipywidgets>=7.0.0->swifter) (1.5.1)\n",
      "Requirement already satisfied: tornado<7.0,>=4.2 in c:\\users\\admin\\appdata\\local\\programs\\python\\python310\\lib\\site-packages (from ipykernel>=4.5.1->ipywidgets>=7.0.0->swifter) (6.1)\n",
      "Requirement already satisfied: jupyter-client<8.0 in c:\\users\\admin\\appdata\\local\\programs\\python\\python310\\lib\\site-packages (from ipykernel>=4.5.1->ipywidgets>=7.0.0->swifter) (7.1.2)\n",
      "Requirement already satisfied: matplotlib-inline<0.2.0,>=0.1.0 in c:\\users\\admin\\appdata\\local\\programs\\python\\python310\\lib\\site-packages (from ipykernel>=4.5.1->ipywidgets>=7.0.0->swifter) (0.1.3)\n",
      "Requirement already satisfied: prompt-toolkit!=3.0.0,!=3.0.1,<3.1.0,>=2.0.0 in c:\\users\\admin\\appdata\\local\\programs\\python\\python310\\lib\\site-packages (from ipython>=4.0.0->ipywidgets>=7.0.0->swifter) (3.0.28)\n",
      "Requirement already satisfied: pygments>=2.4.0 in c:\\users\\admin\\appdata\\local\\programs\\python\\python310\\lib\\site-packages (from ipython>=4.0.0->ipywidgets>=7.0.0->swifter) (2.11.2)\n",
      "Requirement already satisfied: stack-data in c:\\users\\admin\\appdata\\local\\programs\\python\\python310\\lib\\site-packages (from ipython>=4.0.0->ipywidgets>=7.0.0->swifter) (0.2.0)\n",
      "Requirement already satisfied: pickleshare in c:\\users\\admin\\appdata\\local\\programs\\python\\python310\\lib\\site-packages (from ipython>=4.0.0->ipywidgets>=7.0.0->swifter) (0.7.5)\n",
      "Requirement already satisfied: decorator in c:\\users\\admin\\appdata\\local\\programs\\python\\python310\\lib\\site-packages (from ipython>=4.0.0->ipywidgets>=7.0.0->swifter) (5.1.1)\n",
      "Requirement already satisfied: setuptools>=18.5 in c:\\users\\admin\\appdata\\local\\programs\\python\\python310\\lib\\site-packages (from ipython>=4.0.0->ipywidgets>=7.0.0->swifter) (58.1.0)\n",
      "Requirement already satisfied: jedi>=0.16 in c:\\users\\admin\\appdata\\local\\programs\\python\\python310\\lib\\site-packages (from ipython>=4.0.0->ipywidgets>=7.0.0->swifter) (0.18.1)\n",
      "Requirement already satisfied: backcall in c:\\users\\admin\\appdata\\local\\programs\\python\\python310\\lib\\site-packages (from ipython>=4.0.0->ipywidgets>=7.0.0->swifter) (0.2.0)\n",
      "Requirement already satisfied: pyzmq>=13 in c:\\users\\admin\\appdata\\local\\programs\\python\\python310\\lib\\site-packages (from jupyter-client<8.0->ipykernel>=4.5.1->ipywidgets>=7.0.0->swifter) (22.3.0)\n",
      "Requirement already satisfied: python-dateutil>=2.1 in c:\\users\\admin\\appdata\\local\\programs\\python\\python310\\lib\\site-packages (from jupyter-client<8.0->ipykernel>=4.5.1->ipywidgets>=7.0.0->swifter) (2.8.2)\n",
      "Requirement already satisfied: jupyter-core>=4.6.0 in c:\\users\\admin\\appdata\\local\\programs\\python\\python310\\lib\\site-packages (from jupyter-client<8.0->ipykernel>=4.5.1->ipywidgets>=7.0.0->swifter) (4.9.2)\n",
      "Requirement already satisfied: entrypoints in c:\\users\\admin\\appdata\\local\\programs\\python\\python310\\lib\\site-packages (from jupyter-client<8.0->ipykernel>=4.5.1->ipywidgets>=7.0.0->swifter) (0.4)\n",
      "Requirement already satisfied: pywin32>=1.0 in c:\\users\\admin\\appdata\\local\\programs\\python\\python310\\lib\\site-packages (from jupyter-core>=4.6.0->jupyter-client<8.0->ipykernel>=4.5.1->ipywidgets>=7.0.0->swifter) (303)\n",
      "Requirement already satisfied: jsonschema!=2.5.0,>=2.4 in c:\\users\\admin\\appdata\\local\\programs\\python\\python310\\lib\\site-packages (from nbformat>=4.2.0->ipywidgets>=7.0.0->swifter) (4.4.0)\n",
      "Requirement already satisfied: attrs>=17.4.0 in c:\\users\\admin\\appdata\\local\\programs\\python\\python310\\lib\\site-packages (from jsonschema!=2.5.0,>=2.4->nbformat>=4.2.0->ipywidgets>=7.0.0->swifter) (21.4.0)\n",
      "Requirement already satisfied: pyrsistent!=0.17.0,!=0.17.1,!=0.17.2,>=0.14.0 in c:\\users\\admin\\appdata\\local\\programs\\python\\python310\\lib\\site-packages (from jsonschema!=2.5.0,>=2.4->nbformat>=4.2.0->ipywidgets>=7.0.0->swifter) (0.18.1)\n",
      "Requirement already satisfied: pyparsing!=3.0.5,>=2.0.2 in c:\\users\\admin\\appdata\\local\\programs\\python\\python310\\lib\\site-packages (from packaging->bleach>=3.1.1->swifter) (3.0.7)\n",
      "Requirement already satisfied: pytz>=2020.1 in c:\\users\\admin\\appdata\\local\\programs\\python\\python310\\lib\\site-packages (from pandas>=1.0.0->swifter) (2022.1)\n",
      "Collecting locket\n",
      "  Downloading locket-1.0.0-py2.py3-none-any.whl (4.4 kB)\n",
      "Requirement already satisfied: wcwidth in c:\\users\\admin\\appdata\\local\\programs\\python\\python310\\lib\\site-packages (from prompt-toolkit!=3.0.0,!=3.0.1,<3.1.0,>=2.0.0->ipython>=4.0.0->ipywidgets>=7.0.0->swifter) (0.2.5)\n",
      "Requirement already satisfied: notebook>=4.4.1 in c:\\users\\admin\\appdata\\local\\programs\\python\\python310\\lib\\site-packages (from widgetsnbextension~=3.5.0->ipywidgets>=7.0.0->swifter) (6.4.8)\n",
      "Requirement already satisfied: Send2Trash>=1.8.0 in c:\\users\\admin\\appdata\\local\\programs\\python\\python310\\lib\\site-packages (from notebook>=4.4.1->widgetsnbextension~=3.5.0->ipywidgets>=7.0.0->swifter) (1.8.0)\n",
      "Requirement already satisfied: prometheus-client in c:\\users\\admin\\appdata\\local\\programs\\python\\python310\\lib\\site-packages (from notebook>=4.4.1->widgetsnbextension~=3.5.0->ipywidgets>=7.0.0->swifter) (0.13.1)\n",
      "Requirement already satisfied: nbconvert in c:\\users\\admin\\appdata\\local\\programs\\python\\python310\\lib\\site-packages (from notebook>=4.4.1->widgetsnbextension~=3.5.0->ipywidgets>=7.0.0->swifter) (6.4.2)\n",
      "Requirement already satisfied: jinja2 in c:\\users\\admin\\appdata\\local\\programs\\python\\python310\\lib\\site-packages (from notebook>=4.4.1->widgetsnbextension~=3.5.0->ipywidgets>=7.0.0->swifter) (3.0.3)\n",
      "Requirement already satisfied: terminado>=0.8.3 in c:\\users\\admin\\appdata\\local\\programs\\python\\python310\\lib\\site-packages (from notebook>=4.4.1->widgetsnbextension~=3.5.0->ipywidgets>=7.0.0->swifter) (0.13.2)\n",
      "Requirement already satisfied: argon2-cffi in c:\\users\\admin\\appdata\\local\\programs\\python\\python310\\lib\\site-packages (from notebook>=4.4.1->widgetsnbextension~=3.5.0->ipywidgets>=7.0.0->swifter) (21.3.0)\n",
      "Requirement already satisfied: pywinpty>=1.1.0 in c:\\users\\admin\\appdata\\local\\programs\\python\\python310\\lib\\site-packages (from terminado>=0.8.3->notebook>=4.4.1->widgetsnbextension~=3.5.0->ipywidgets>=7.0.0->swifter) (2.0.5)\n",
      "Requirement already satisfied: argon2-cffi-bindings in c:\\users\\admin\\appdata\\local\\programs\\python\\python310\\lib\\site-packages (from argon2-cffi->notebook>=4.4.1->widgetsnbextension~=3.5.0->ipywidgets>=7.0.0->swifter) (21.2.0)\n",
      "Requirement already satisfied: cffi>=1.0.1 in c:\\users\\admin\\appdata\\local\\programs\\python\\python310\\lib\\site-packages (from argon2-cffi-bindings->argon2-cffi->notebook>=4.4.1->widgetsnbextension~=3.5.0->ipywidgets>=7.0.0->swifter) (1.15.0)\n",
      "Requirement already satisfied: pycparser in c:\\users\\admin\\appdata\\local\\programs\\python\\python310\\lib\\site-packages (from cffi>=1.0.1->argon2-cffi-bindings->argon2-cffi->notebook>=4.4.1->widgetsnbextension~=3.5.0->ipywidgets>=7.0.0->swifter) (2.21)\n",
      "Requirement already satisfied: MarkupSafe>=2.0 in c:\\users\\admin\\appdata\\local\\programs\\python\\python310\\lib\\site-packages (from jinja2->notebook>=4.4.1->widgetsnbextension~=3.5.0->ipywidgets>=7.0.0->swifter) (2.1.0)\n",
      "Requirement already satisfied: pandocfilters>=1.4.1 in c:\\users\\admin\\appdata\\local\\programs\\python\\python310\\lib\\site-packages (from nbconvert->notebook>=4.4.1->widgetsnbextension~=3.5.0->ipywidgets>=7.0.0->swifter) (1.5.0)\n",
      "Requirement already satisfied: mistune<2,>=0.8.1 in c:\\users\\admin\\appdata\\local\\programs\\python\\python310\\lib\\site-packages (from nbconvert->notebook>=4.4.1->widgetsnbextension~=3.5.0->ipywidgets>=7.0.0->swifter) (0.8.4)\n",
      "Requirement already satisfied: jupyterlab-pygments in c:\\users\\admin\\appdata\\local\\programs\\python\\python310\\lib\\site-packages (from nbconvert->notebook>=4.4.1->widgetsnbextension~=3.5.0->ipywidgets>=7.0.0->swifter) (0.1.2)\n",
      "Requirement already satisfied: nbclient<0.6.0,>=0.5.0 in c:\\users\\admin\\appdata\\local\\programs\\python\\python310\\lib\\site-packages (from nbconvert->notebook>=4.4.1->widgetsnbextension~=3.5.0->ipywidgets>=7.0.0->swifter) (0.5.11)\n",
      "Requirement already satisfied: defusedxml in c:\\users\\admin\\appdata\\local\\programs\\python\\python310\\lib\\site-packages (from nbconvert->notebook>=4.4.1->widgetsnbextension~=3.5.0->ipywidgets>=7.0.0->swifter) (0.7.1)\n",
      "Requirement already satisfied: testpath in c:\\users\\admin\\appdata\\local\\programs\\python\\python310\\lib\\site-packages (from nbconvert->notebook>=4.4.1->widgetsnbextension~=3.5.0->ipywidgets>=7.0.0->swifter) (0.6.0)\n",
      "Requirement already satisfied: executing in c:\\users\\admin\\appdata\\local\\programs\\python\\python310\\lib\\site-packages (from stack-data->ipython>=4.0.0->ipywidgets>=7.0.0->swifter) (0.8.3)\n",
      "Requirement already satisfied: asttokens in c:\\users\\admin\\appdata\\local\\programs\\python\\python310\\lib\\site-packages (from stack-data->ipython>=4.0.0->ipywidgets>=7.0.0->swifter) (2.0.5)\n",
      "Requirement already satisfied: pure-eval in c:\\users\\admin\\appdata\\local\\programs\\python\\python310\\lib\\site-packages (from stack-data->ipython>=4.0.0->ipywidgets>=7.0.0->swifter) (0.2.2)\n",
      "Building wheels for collected packages: swifter\n",
      "  Building wheel for swifter (setup.py): started\n",
      "  Building wheel for swifter (setup.py): finished with status 'done'\n",
      "  Created wheel for swifter: filename=swifter-1.3.4-py3-none-any.whl size=16322 sha256=874a005a41773747a6a1de402a5903fa21fea414bcf34f72f44140fc3174718c\n",
      "  Stored in directory: c:\\users\\admin\\appdata\\local\\pip\\cache\\wheels\\6c\\bd\\3e\\2d6afc9bc36c9975f8e4215a270bbac6580c4361ebd6bb2323\n",
      "Successfully built swifter\n",
      "Installing collected packages: toolz, locket, partd, cloudpickle, dask, psutil, swifter\n",
      "Successfully installed cloudpickle-2.2.0 dask-2022.10.2 locket-1.0.0 partd-1.3.0 psutil-5.9.4 swifter-1.3.4 toolz-0.12.0\n"
     ]
    }
   ],
   "source": [
    "!pip install swifter\n"
   ]
  },
  {
   "cell_type": "code",
   "execution_count": 5,
   "id": "f5fad2e9",
   "metadata": {},
   "outputs": [],
   "source": [
    "data_df = pd.read_csv(\"../rtgender/reddit_posts.csv\")"
   ]
  },
  {
   "cell_type": "code",
   "execution_count": 6,
   "id": "943b1ea2",
   "metadata": {},
   "outputs": [
    {
     "data": {
      "text/html": [
       "<div>\n",
       "<style scoped>\n",
       "    .dataframe tbody tr th:only-of-type {\n",
       "        vertical-align: middle;\n",
       "    }\n",
       "\n",
       "    .dataframe tbody tr th {\n",
       "        vertical-align: top;\n",
       "    }\n",
       "\n",
       "    .dataframe thead th {\n",
       "        text-align: right;\n",
       "    }\n",
       "</style>\n",
       "<table border=\"1\" class=\"dataframe\">\n",
       "  <thead>\n",
       "    <tr style=\"text-align: right;\">\n",
       "      <th></th>\n",
       "      <th>op_id</th>\n",
       "      <th>op_gender</th>\n",
       "      <th>post_id</th>\n",
       "      <th>post_text</th>\n",
       "      <th>subreddit</th>\n",
       "      <th>op_gender_visible</th>\n",
       "    </tr>\n",
       "  </thead>\n",
       "  <tbody>\n",
       "    <tr>\n",
       "      <th>0</th>\n",
       "      <td>Kastoli</td>\n",
       "      <td>M</td>\n",
       "      <td>0</td>\n",
       "      <td>slayer task perhaps?</td>\n",
       "      <td>2007scape</td>\n",
       "      <td>False</td>\n",
       "    </tr>\n",
       "    <tr>\n",
       "      <th>1</th>\n",
       "      <td>Kastoli</td>\n",
       "      <td>M</td>\n",
       "      <td>1</td>\n",
       "      <td>Black DHide legs, possibly an initiate pure?</td>\n",
       "      <td>2007scape</td>\n",
       "      <td>False</td>\n",
       "    </tr>\n",
       "    <tr>\n",
       "      <th>2</th>\n",
       "      <td>DCBizzle</td>\n",
       "      <td>M</td>\n",
       "      <td>2</td>\n",
       "      <td>Whats a tonk? lol</td>\n",
       "      <td>2007scape</td>\n",
       "      <td>False</td>\n",
       "    </tr>\n",
       "    <tr>\n",
       "      <th>3</th>\n",
       "      <td>ordona</td>\n",
       "      <td>M</td>\n",
       "      <td>3</td>\n",
       "      <td>Do the Stronghold of Security for a free 10k t...</td>\n",
       "      <td>2007scape</td>\n",
       "      <td>False</td>\n",
       "    </tr>\n",
       "    <tr>\n",
       "      <th>4</th>\n",
       "      <td>SlayerMaster</td>\n",
       "      <td>M</td>\n",
       "      <td>4</td>\n",
       "      <td>I cant tell if this guy just doesnt speak Engl...</td>\n",
       "      <td>2007scape</td>\n",
       "      <td>False</td>\n",
       "    </tr>\n",
       "  </tbody>\n",
       "</table>\n",
       "</div>"
      ],
      "text/plain": [
       "          op_id op_gender  post_id  \\\n",
       "0       Kastoli         M        0   \n",
       "1       Kastoli         M        1   \n",
       "2      DCBizzle         M        2   \n",
       "3        ordona         M        3   \n",
       "4  SlayerMaster         M        4   \n",
       "\n",
       "                                           post_text  subreddit  \\\n",
       "0                               slayer task perhaps?  2007scape   \n",
       "1       Black DHide legs, possibly an initiate pure?  2007scape   \n",
       "2                                  Whats a tonk? lol  2007scape   \n",
       "3  Do the Stronghold of Security for a free 10k t...  2007scape   \n",
       "4  I cant tell if this guy just doesnt speak Engl...  2007scape   \n",
       "\n",
       "   op_gender_visible  \n",
       "0              False  \n",
       "1              False  \n",
       "2              False  \n",
       "3              False  \n",
       "4              False  "
      ]
     },
     "execution_count": 6,
     "metadata": {},
     "output_type": "execute_result"
    }
   ],
   "source": [
    "data_df.head()"
   ]
  },
  {
   "cell_type": "code",
   "execution_count": 7,
   "id": "e9d0b308",
   "metadata": {},
   "outputs": [],
   "source": [
    "data_df1 = data_df.copy()"
   ]
  },
  {
   "cell_type": "code",
   "execution_count": 8,
   "id": "0c01a690",
   "metadata": {},
   "outputs": [],
   "source": [
    "# Load spacy\n",
    "nlp = spacy.load('en_core_web_sm')\n",
    "\n",
    "def clean_string(text, stopwords = False, stem=\"None\"):\n",
    "\n",
    "    final_string = \"\"\n",
    "\n",
    "    # Make lower\n",
    "    text = text.lower()\n",
    "\n",
    "#     # Remove line breaks\n",
    "#     text = re.sub(r'\\n', '', text)\n",
    "\n",
    "#     # Remove puncuation\n",
    "#     translator = str.maketrans('', '', string.punctuation)\n",
    "#     text = text.translate(translator)\n",
    "\n",
    "    text = re.sub(r'http\\S+', '', text)\n",
    "    text = re.sub(r'\\S+www\\S+', '', text)\n",
    "    \n",
    "    \n",
    "    # Remove stop words\n",
    "    text = text.split()\n",
    "    text_filtered = text\n",
    "    if stopwords == True:\n",
    "        useless_words = nltk.corpus.stopwords.words(\"english\")\n",
    "#         useless_words = useless_words + ['hi', 'im']\n",
    "\n",
    "        text_filtered = [word for word in text if not word in useless_words]\n",
    "\n",
    "        # Remove numbers\n",
    "        text_filtered = [re.sub(r'\\w*\\d\\w*', '', w) for w in text_filtered]\n",
    "#     else:\n",
    "#         text_filtered = text\n",
    "    # Stem or Lemmatize\n",
    "    if stem == 'Stem':\n",
    "        stemmer = PorterStemmer() \n",
    "        text_stemmed = [stemmer.stem(y) for y in text_filtered]\n",
    "    elif stem == 'Lem':\n",
    "        lem = WordNetLemmatizer()\n",
    "        text_stemmed = [lem.lemmatize(y) for y in text_filtered]\n",
    "    elif stem == 'Spacy':\n",
    "        text_filtered = nlp(' '.join(text_filtered))\n",
    "        text_stemmed = [y.lemma_ for y in text_filtered]\n",
    "    else:\n",
    "        text_stemmed = text_filtered\n",
    "\n",
    "    final_string = ' '.join(text_stemmed)\n",
    "\n",
    "    return final_string"
   ]
  },
  {
   "cell_type": "code",
   "execution_count": 9,
   "id": "7fa5406d",
   "metadata": {},
   "outputs": [],
   "source": [
    "data_df2 = data_df.copy()\n"
   ]
  },
  {
   "cell_type": "code",
   "execution_count": 10,
   "id": "fde04174",
   "metadata": {},
   "outputs": [],
   "source": [
    "data_df2['post_text'] = data_df2['post_text'].astype(str)"
   ]
  },
  {
   "cell_type": "code",
   "execution_count": 12,
   "id": "a38cd82e",
   "metadata": {},
   "outputs": [
    {
     "data": {
      "application/vnd.jupyter.widget-view+json": {
       "model_id": "609303f7caf643b79c2d842f50468267",
       "version_major": 2,
       "version_minor": 0
      },
      "text/plain": [
       "Pandas Apply:   0%|          | 0/1453512 [00:00<?, ?it/s]"
      ]
     },
     "metadata": {},
     "output_type": "display_data"
    }
   ],
   "source": [
    "import swifter\n",
    "\n",
    "data_df2['post_text_cleaned'] = data_df2['post_text'].swifter.apply(lambda x: clean_string(x, stopwords = True, stem='Lem'))\n"
   ]
  },
  {
   "cell_type": "code",
   "execution_count": 13,
   "id": "65158913",
   "metadata": {},
   "outputs": [
    {
     "data": {
      "text/plain": [
       "0                                       slayer task perhaps?\n",
       "1                  black dhide legs, possibly initiate pure?\n",
       "2                                            whats tonk? lol\n",
       "3                           stronghold security free  start.\n",
       "4          cant tell guy doesnt speak english total retar...\n",
       "                                 ...                        \n",
       "1453507    got game summer sale say im really enjoying it...\n",
       "1453508      id argue origin access even better, personally.\n",
       "1453509    better selection non-ea games. thing missing v...\n",
       "1453510    dont know much game, ive heard relaxing. nothi...\n",
       "1453511    lego game arent kids, theyre enjoyable ages. s...\n",
       "Name: post_text_cleaned, Length: 1453512, dtype: object"
      ]
     },
     "execution_count": 13,
     "metadata": {},
     "output_type": "execute_result"
    }
   ],
   "source": [
    "data_df2['post_text_cleaned']"
   ]
  },
  {
   "cell_type": "code",
   "execution_count": 14,
   "id": "2ca74664",
   "metadata": {},
   "outputs": [],
   "source": [
    "data_df2['post_text_cleaned1'] = data_df2['post_text_cleaned'].str.split()"
   ]
  },
  {
   "cell_type": "code",
   "execution_count": 15,
   "id": "0e7da84d",
   "metadata": {},
   "outputs": [
    {
     "data": {
      "text/plain": [
       "0                                   [slayer, task, perhaps?]\n",
       "1           [black, dhide, legs,, possibly, initiate, pure?]\n",
       "2                                        [whats, tonk?, lol]\n",
       "3                       [stronghold, security, free, start.]\n",
       "4          [cant, tell, guy, doesnt, speak, english, tota...\n",
       "                                 ...                        \n",
       "1453507    [got, game, summer, sale, say, im, really, enj...\n",
       "1453508    [id, argue, origin, access, even, better,, per...\n",
       "1453509    [better, selection, non-ea, games., thing, mis...\n",
       "1453510    [dont, know, much, game,, ive, heard, relaxing...\n",
       "1453511    [lego, game, arent, kids,, theyre, enjoyable, ...\n",
       "Name: post_text_cleaned1, Length: 1453512, dtype: object"
      ]
     },
     "execution_count": 15,
     "metadata": {},
     "output_type": "execute_result"
    }
   ],
   "source": [
    "data_df2['post_text_cleaned1']"
   ]
  },
  {
   "cell_type": "code",
   "execution_count": 16,
   "id": "e4735033",
   "metadata": {},
   "outputs": [
    {
     "data": {
      "text/plain": [
       "0                                       slayer task perhaps?\n",
       "1                  black dhide legs, possibly initiate pure?\n",
       "2                                            whats tonk? lol\n",
       "3                           stronghold security free  start.\n",
       "4          cant tell guy doesnt speak english total retar...\n",
       "                                 ...                        \n",
       "1453507    got game summer sale say im really enjoying it...\n",
       "1453508      id argue origin access even better, personally.\n",
       "1453509    better selection non-ea games. thing missing v...\n",
       "1453510    dont know much game, ive heard relaxing. nothi...\n",
       "1453511    lego game arent kids, theyre enjoyable ages. s...\n",
       "Name: post_text_cleaned, Length: 1453512, dtype: object"
      ]
     },
     "execution_count": 16,
     "metadata": {},
     "output_type": "execute_result"
    }
   ],
   "source": [
    "data_df2['post_text_cleaned']"
   ]
  },
  {
   "cell_type": "code",
   "execution_count": 17,
   "id": "f4ec524f",
   "metadata": {},
   "outputs": [],
   "source": [
    "data_df2.to_csv(\"./preprocessed_data/reddit_posts_preprocssed_lem_stopwords_removal.csv\")"
   ]
  },
  {
   "cell_type": "code",
   "execution_count": 18,
   "id": "f18812f2",
   "metadata": {},
   "outputs": [
    {
     "name": "stdout",
     "output_type": "stream",
     "text": [
      "  op_gender                                  post_text_cleaned\n",
      "0         M  slayer task perhaps? black dhide legs, possibl...\n",
      "1         W  head op, comment reddit also show poster name ...\n"
     ]
    }
   ],
   "source": [
    "all_words1 = ''\n",
    "all_words = data_df2.groupby(['op_gender']).agg({'post_text_cleaned': ' '.join}).reset_index()\n",
    "print(all_words)\n"
   ]
  },
  {
   "cell_type": "code",
   "execution_count": 19,
   "id": "64264244",
   "metadata": {},
   "outputs": [
    {
     "data": {
      "text/plain": [
       "0    slayer task perhaps? black dhide legs, possibl...\n",
       "Name: post_text_cleaned, dtype: object"
      ]
     },
     "execution_count": 19,
     "metadata": {},
     "output_type": "execute_result"
    }
   ],
   "source": [
    "\n",
    "\n",
    "\n",
    "all_words[all_words['op_gender']=='M']['post_text_cleaned']"
   ]
  },
  {
   "cell_type": "code",
   "execution_count": 20,
   "id": "9ad2c1c2",
   "metadata": {},
   "outputs": [],
   "source": [
    "#the NLTK FreqDist gives a count for how often each part of the text occurs\n",
    "fd_wct1_M = FreqDist(all_words[all_words['op_gender']=='M']['post_text_cleaned'][0].split())\n",
    "# fd_wct1_M"
   ]
  },
  {
   "cell_type": "code",
   "execution_count": 21,
   "id": "e7a1e324",
   "metadata": {},
   "outputs": [],
   "source": [
    "fd_wct1_F = FreqDist(all_words[all_words['op_gender']=='W']['post_text_cleaned'].values[0].split(\" \"))\n"
   ]
  },
  {
   "cell_type": "code",
   "execution_count": null,
   "id": "ddfd1a95",
   "metadata": {},
   "outputs": [],
   "source": []
  },
  {
   "cell_type": "code",
   "execution_count": 22,
   "id": "a627cc8b",
   "metadata": {},
   "outputs": [
    {
     "name": "stdout",
     "output_type": "stream",
     "text": [
      "[('like', 188049), ('dont', 160199), ('get', 141469), ('im', 138044), ('people', 136793), ('would', 134984), ('one', 120136), ('think', 106666), ('make', 89567), ('thats', 80627), ('know', 79829), ('really', 79001), ('youre', 78205), ('even', 76011), ('want', 71109), ('time', 68274), ('thing', 67483), ('go', 66477), ('good', 64802), ('-', 63482), ('it.', 63371), ('much', 61158), ('going', 58658), ('see', 56921), ('could', 56866), ('say', 56491), ('still', 55915), ('>', 53639), ('.', 53249), ('doesnt', 52420), ('also', 51718), ('need', 51197), ('way', 50297), ('never', 49634), ('year', 47721), ('cant', 47704), ('ive', 47123), ('something', 45318), ('got', 45224), ('lot', 45038)]\n"
     ]
    }
   ],
   "source": [
    "print(fd_wct1_M.most_common(40))\n"
   ]
  },
  {
   "cell_type": "code",
   "execution_count": 23,
   "id": "986128c2",
   "metadata": {},
   "outputs": [
    {
     "name": "stdout",
     "output_type": "stream",
     "text": [
      "[('like', 64831), ('dont', 57716), ('im', 54344), ('', 47290), ('get', 47128), ('people', 46590), ('would', 41546), ('think', 38549), ('one', 38100), ('know', 30500), ('make', 30192), ('really', 29982), ('want', 28345), ('youre', 27388), ('even', 24843), ('thing', 24385), ('thats', 24254), ('time', 23718), ('go', 22433), ('it.', 21036), ('going', 19762), ('someone', 19105), ('say', 18778), ('much', 18413), ('ive', 18340), ('never', 18333), ('need', 18322), ('-', 18249), ('also', 18214), ('woman', 18172), ('good', 18084), ('doesnt', 18033), ('see', 17876), ('still', 17739), ('could', 17708), ('feel', 17694), ('way', 16921), ('something', 16549), ('didnt', 16446), ('cant', 16276)]\n"
     ]
    }
   ],
   "source": [
    "print(fd_wct1_F.most_common(40))\n"
   ]
  },
  {
   "cell_type": "code",
   "execution_count": 24,
   "id": "19e2d0ca",
   "metadata": {},
   "outputs": [
    {
     "data": {
      "text/plain": [
       "FreqDist({'like': 188049, 'dont': 160199, 'get': 141469, 'im': 138044, 'people': 136793, 'would': 134984, 'one': 120136, 'think': 106666, 'make': 89567, 'thats': 80627, ...})"
      ]
     },
     "execution_count": 24,
     "metadata": {},
     "output_type": "execute_result"
    }
   ],
   "source": [
    "fd_wct1_M"
   ]
  },
  {
   "cell_type": "code",
   "execution_count": 25,
   "id": "429cfbde",
   "metadata": {},
   "outputs": [],
   "source": [
    "vectorizer = CountVectorizer()\n",
    "X = vectorizer.fit_transform(data_df2['post_text_cleaned'])\n",
    "features = vectorizer.get_feature_names_out()\n",
    "y = data_df2['op_gender']"
   ]
  },
  {
   "cell_type": "code",
   "execution_count": 26,
   "id": "1c71c252",
   "metadata": {},
   "outputs": [
    {
     "name": "stdout",
     "output_type": "stream",
     "text": [
      "['__' '___' '____' '_____' '______' '_______' '________' '_________'\n",
      " '__________' '___________' '____________' '_____________'\n",
      " '______________' '_______________' '________________' '_________________'\n",
      " '__________________' '___________________' '____________________'\n",
      " '_____________________' '______________________'\n",
      " '_______________________' '________________________'\n",
      " '_________________________' '__________________________'\n",
      " '___________________________' '____________________________'\n",
      " '_____________________________' '______________________________'\n",
      " '_______________________________']\n"
     ]
    }
   ],
   "source": [
    "print(features[:30])"
   ]
  },
  {
   "cell_type": "code",
   "execution_count": 27,
   "id": "7a5c3684",
   "metadata": {},
   "outputs": [
    {
     "data": {
      "text/plain": [
       "((1453512, 257488), 1453512, 257488)"
      ]
     },
     "execution_count": 27,
     "metadata": {},
     "output_type": "execute_result"
    }
   ],
   "source": [
    "X.shape, len(y), len(features)"
   ]
  },
  {
   "cell_type": "code",
   "execution_count": 28,
   "id": "b913b628",
   "metadata": {},
   "outputs": [],
   "source": [
    "from sklearn.model_selection import train_test_split\n",
    "X_train, X_test, y_train, y_test = train_test_split(X, y, test_size=0.33, random_state=42)"
   ]
  },
  {
   "cell_type": "code",
   "execution_count": 29,
   "id": "65a75897",
   "metadata": {},
   "outputs": [
    {
     "name": "stdout",
     "output_type": "stream",
     "text": [
      "['M' 'M']\n",
      "[[0.88166291 0.11833709]\n",
      " [0.8473841  0.1526159 ]]\n"
     ]
    }
   ],
   "source": [
    "clf = LogisticRegression(random_state=0).fit(X_train, y_train)\n",
    "print(clf.predict(X[:2, :]))\n",
    "print(clf.predict_proba(X[:2, :]))\n",
    "# >>> clf.score(X, y)"
   ]
  },
  {
   "cell_type": "code",
   "execution_count": 30,
   "id": "93e226a3",
   "metadata": {},
   "outputs": [
    {
     "data": {
      "text/plain": [
       "0    M\n",
       "1    M\n",
       "Name: op_gender, dtype: object"
      ]
     },
     "execution_count": 30,
     "metadata": {},
     "output_type": "execute_result"
    }
   ],
   "source": [
    "y[:2]"
   ]
  },
  {
   "cell_type": "code",
   "execution_count": 31,
   "id": "3fbb00e5",
   "metadata": {},
   "outputs": [
    {
     "name": "stdout",
     "output_type": "stream",
     "text": [
      "Best: 0.798263 using {'C': 0.1, 'penalty': 'l2'}\n",
      "0.794816 (0.000695) with: {'C': 100, 'penalty': 'l2'}\n",
      "0.794959 (0.000669) with: {'C': 10, 'penalty': 'l2'}\n",
      "0.796139 (0.000686) with: {'C': 1.0, 'penalty': 'l2'}\n",
      "0.798263 (0.000301) with: {'C': 0.1, 'penalty': 'l2'}\n",
      "0.796454 (0.000326) with: {'C': 0.01, 'penalty': 'l2'}\n"
     ]
    }
   ],
   "source": [
    "from sklearn.datasets import make_blobs\n",
    "from sklearn.model_selection import StratifiedKFold\n",
    "from sklearn.model_selection import GridSearchCV\n",
    "from sklearn.linear_model import LogisticRegression\n",
    "\n",
    "model = LogisticRegression()\n",
    "# solvers = ['newton-cg', 'lbfgs', 'liblinear']\n",
    "penalty = ['l2']\n",
    "c_values = [100, 10, 1.0, 0.1, 0.01]\n",
    "# define grid search\n",
    "# grid = dict(solver=solvers,penalty=penalty,C=c_values)\n",
    "grid = dict(penalty=penalty,C=c_values)\n",
    "cv = StratifiedKFold(n_splits=5,  shuffle = True, random_state=1)\n",
    "grid_search = GridSearchCV(estimator=model, param_grid=grid, n_jobs=-1, cv=cv, scoring='accuracy',error_score=0)\n",
    "grid_result = grid_search.fit(X_train, y_train)\n",
    "# summarize results\n",
    "print(\"Best: %f using %s\" % (grid_result.best_score_, grid_result.best_params_))\n",
    "means = grid_result.cv_results_['mean_test_score']\n",
    "stds = grid_result.cv_results_['std_test_score']\n",
    "params = grid_result.cv_results_['params']\n",
    "for mean, stdev, param in zip(means, stds, params):\n",
    "    print(\"%f (%f) with: %r\" % (mean, stdev, param))"
   ]
  },
  {
   "cell_type": "code",
   "execution_count": 32,
   "id": "4dbd8e44",
   "metadata": {},
   "outputs": [
    {
     "name": "stdout",
     "output_type": "stream",
     "text": [
      "test accuracy :  0.7987507791993895\n"
     ]
    }
   ],
   "source": [
    "test_pred = grid_result.predict(X_test)\n",
    "from sklearn.metrics import accuracy_score\n",
    "test_acc = accuracy_score(y_test, test_pred)\n",
    "print(\"test accuracy : \", test_acc)"
   ]
  },
  {
   "cell_type": "code",
   "execution_count": 33,
   "id": "e6dcfafd",
   "metadata": {},
   "outputs": [
    {
     "name": "stdout",
     "output_type": "stream",
     "text": [
      "overall accuracy :  0.80285886872623\n"
     ]
    }
   ],
   "source": [
    "all_pred = grid_result.predict(X)\n",
    "from sklearn.metrics import accuracy_score\n",
    "all_acc = accuracy_score(y, all_pred)\n",
    "print(\"overall accuracy : \", all_acc)"
   ]
  },
  {
   "cell_type": "code",
   "execution_count": 34,
   "id": "e8587f12",
   "metadata": {},
   "outputs": [
    {
     "data": {
      "text/plain": [
       "{'C': 0.1, 'penalty': 'l2'}"
      ]
     },
     "execution_count": 34,
     "metadata": {},
     "output_type": "execute_result"
    }
   ],
   "source": [
    "grid_result.best_params_"
   ]
  },
  {
   "cell_type": "code",
   "execution_count": 35,
   "id": "faec87af",
   "metadata": {},
   "outputs": [
    {
     "data": {
      "text/html": [
       "<div>\n",
       "<style scoped>\n",
       "    .dataframe tbody tr th:only-of-type {\n",
       "        vertical-align: middle;\n",
       "    }\n",
       "\n",
       "    .dataframe tbody tr th {\n",
       "        vertical-align: top;\n",
       "    }\n",
       "\n",
       "    .dataframe thead th {\n",
       "        text-align: right;\n",
       "    }\n",
       "</style>\n",
       "<table border=\"1\" class=\"dataframe\">\n",
       "  <thead>\n",
       "    <tr style=\"text-align: right;\">\n",
       "      <th></th>\n",
       "      <th>importance</th>\n",
       "      <th>features</th>\n",
       "    </tr>\n",
       "  </thead>\n",
       "  <tbody>\n",
       "    <tr>\n",
       "      <th>0</th>\n",
       "      <td>-0.079200</td>\n",
       "      <td>__</td>\n",
       "    </tr>\n",
       "    <tr>\n",
       "      <th>1</th>\n",
       "      <td>0.446271</td>\n",
       "      <td>___</td>\n",
       "    </tr>\n",
       "    <tr>\n",
       "      <th>2</th>\n",
       "      <td>0.505920</td>\n",
       "      <td>____</td>\n",
       "    </tr>\n",
       "    <tr>\n",
       "      <th>3</th>\n",
       "      <td>-0.039988</td>\n",
       "      <td>_____</td>\n",
       "    </tr>\n",
       "    <tr>\n",
       "      <th>4</th>\n",
       "      <td>-0.084701</td>\n",
       "      <td>______</td>\n",
       "    </tr>\n",
       "    <tr>\n",
       "      <th>...</th>\n",
       "      <td>...</td>\n",
       "      <td>...</td>\n",
       "    </tr>\n",
       "    <tr>\n",
       "      <th>257483</th>\n",
       "      <td>0.000000</td>\n",
       "      <td>ﾟωﾟ</td>\n",
       "    </tr>\n",
       "    <tr>\n",
       "      <th>257484</th>\n",
       "      <td>-0.017801</td>\n",
       "      <td>ﾟдﾟ</td>\n",
       "    </tr>\n",
       "    <tr>\n",
       "      <th>257485</th>\n",
       "      <td>-0.170225</td>\n",
       "      <td>ﾟヮﾟ</td>\n",
       "    </tr>\n",
       "    <tr>\n",
       "      <th>257486</th>\n",
       "      <td>0.000000</td>\n",
       "      <td>ﾟﾟ</td>\n",
       "    </tr>\n",
       "    <tr>\n",
       "      <th>257487</th>\n",
       "      <td>-0.008437</td>\n",
       "      <td>𝖆𝖚𝖘𝖌𝖊𝖑𝖔𝖊𝖘𝖙</td>\n",
       "    </tr>\n",
       "  </tbody>\n",
       "</table>\n",
       "<p>257488 rows × 2 columns</p>\n",
       "</div>"
      ],
      "text/plain": [
       "        importance    features\n",
       "0        -0.079200          __\n",
       "1         0.446271         ___\n",
       "2         0.505920        ____\n",
       "3        -0.039988       _____\n",
       "4        -0.084701      ______\n",
       "...            ...         ...\n",
       "257483    0.000000         ﾟωﾟ\n",
       "257484   -0.017801         ﾟдﾟ\n",
       "257485   -0.170225         ﾟヮﾟ\n",
       "257486    0.000000          ﾟﾟ\n",
       "257487   -0.008437  𝖆𝖚𝖘𝖌𝖊𝖑𝖔𝖊𝖘𝖙\n",
       "\n",
       "[257488 rows x 2 columns]"
      ]
     },
     "execution_count": 35,
     "metadata": {},
     "output_type": "execute_result"
    }
   ],
   "source": [
    "# get importance\n",
    "importance = grid_result.best_estimator_.coef_[0]\n",
    "feature_importance = pd.DataFrame({\"importance\":importance, \"features\":features})\n",
    "feature_importance"
   ]
  },
  {
   "cell_type": "code",
   "execution_count": 36,
   "id": "f4b94606",
   "metadata": {},
   "outputs": [
    {
     "data": {
      "text/html": [
       "<div>\n",
       "<style scoped>\n",
       "    .dataframe tbody tr th:only-of-type {\n",
       "        vertical-align: middle;\n",
       "    }\n",
       "\n",
       "    .dataframe tbody tr th {\n",
       "        vertical-align: top;\n",
       "    }\n",
       "\n",
       "    .dataframe thead th {\n",
       "        text-align: right;\n",
       "    }\n",
       "</style>\n",
       "<table border=\"1\" class=\"dataframe\">\n",
       "  <thead>\n",
       "    <tr style=\"text-align: right;\">\n",
       "      <th></th>\n",
       "      <th>importance</th>\n",
       "      <th>features</th>\n",
       "    </tr>\n",
       "  </thead>\n",
       "  <tbody>\n",
       "    <tr>\n",
       "      <th>37468</th>\n",
       "      <td>0.000000</td>\n",
       "      <td>chappells</td>\n",
       "    </tr>\n",
       "    <tr>\n",
       "      <th>44685</th>\n",
       "      <td>0.000000</td>\n",
       "      <td>conjestive</td>\n",
       "    </tr>\n",
       "    <tr>\n",
       "      <th>84643</th>\n",
       "      <td>0.000000</td>\n",
       "      <td>fvey</td>\n",
       "    </tr>\n",
       "    <tr>\n",
       "      <th>199556</th>\n",
       "      <td>0.000000</td>\n",
       "      <td>shakesperean</td>\n",
       "    </tr>\n",
       "    <tr>\n",
       "      <th>118307</th>\n",
       "      <td>0.000000</td>\n",
       "      <td>kamiokande</td>\n",
       "    </tr>\n",
       "    <tr>\n",
       "      <th>...</th>\n",
       "      <td>...</td>\n",
       "      <td>...</td>\n",
       "    </tr>\n",
       "    <tr>\n",
       "      <th>151004</th>\n",
       "      <td>-1.397582</td>\n",
       "      <td>nba</td>\n",
       "    </tr>\n",
       "    <tr>\n",
       "      <th>169704</th>\n",
       "      <td>-1.581199</td>\n",
       "      <td>ping</td>\n",
       "    </tr>\n",
       "    <tr>\n",
       "      <th>219500</th>\n",
       "      <td>1.642357</td>\n",
       "      <td>tampon</td>\n",
       "    </tr>\n",
       "    <tr>\n",
       "      <th>126974</th>\n",
       "      <td>-1.870067</td>\n",
       "      <td>lebron</td>\n",
       "    </tr>\n",
       "    <tr>\n",
       "      <th>224959</th>\n",
       "      <td>2.475176</td>\n",
       "      <td>tiff</td>\n",
       "    </tr>\n",
       "  </tbody>\n",
       "</table>\n",
       "<p>257488 rows × 2 columns</p>\n",
       "</div>"
      ],
      "text/plain": [
       "        importance      features\n",
       "37468     0.000000     chappells\n",
       "44685     0.000000    conjestive\n",
       "84643     0.000000          fvey\n",
       "199556    0.000000  shakesperean\n",
       "118307    0.000000    kamiokande\n",
       "...            ...           ...\n",
       "151004   -1.397582           nba\n",
       "169704   -1.581199          ping\n",
       "219500    1.642357        tampon\n",
       "126974   -1.870067        lebron\n",
       "224959    2.475176          tiff\n",
       "\n",
       "[257488 rows x 2 columns]"
      ]
     },
     "execution_count": 36,
     "metadata": {},
     "output_type": "execute_result"
    }
   ],
   "source": [
    "feature_importance.sort_values(['importance'],  key=abs, inplace=True)\n",
    "feature_importance\n"
   ]
  },
  {
   "cell_type": "code",
   "execution_count": 37,
   "id": "346db448",
   "metadata": {},
   "outputs": [
    {
     "data": {
      "image/png": "[encoded data removed]",
      "text/plain": [
       "<Figure size 1440x720 with 1 Axes>"
      ]
     },
     "metadata": {
      "needs_background": "light"
     },
     "output_type": "display_data"
    }
   ],
   "source": [
    "# plot feature importance\n",
    "plt.figure(figsize=(20, 10))\n",
    "plt.bar(feature_importance['features'][-30:], feature_importance['importance'][-30:], width = 0.4)\n",
    "plt.xticks(rotation=45)\n",
    "plt.show()"
   ]
  },
  {
   "cell_type": "code",
   "execution_count": 38,
   "id": "8d989c21",
   "metadata": {},
   "outputs": [],
   "source": [
    "# visualize most freuquent words"
   ]
  },
  {
   "cell_type": "code",
   "execution_count": 39,
   "id": "47c25776",
   "metadata": {},
   "outputs": [],
   "source": [
    "vectorizer = TfidfVectorizer()\n",
    "X = vectorizer.fit_transform(data_df2['post_text_cleaned'])\n",
    "features = vectorizer.get_feature_names_out()\n",
    "y = data_df2['op_gender']"
   ]
  },
  {
   "cell_type": "code",
   "execution_count": 40,
   "id": "cc8566d5",
   "metadata": {},
   "outputs": [
    {
     "name": "stdout",
     "output_type": "stream",
     "text": [
      "['__' '___' '____' '_____' '______' '_______' '________' '_________'\n",
      " '__________' '___________' '____________' '_____________'\n",
      " '______________' '_______________' '________________' '_________________'\n",
      " '__________________' '___________________' '____________________'\n",
      " '_____________________' '______________________'\n",
      " '_______________________' '________________________'\n",
      " '_________________________' '__________________________'\n",
      " '___________________________' '____________________________'\n",
      " '_____________________________' '______________________________'\n",
      " '_______________________________']\n"
     ]
    }
   ],
   "source": [
    "print(features[:30])"
   ]
  },
  {
   "cell_type": "code",
   "execution_count": 41,
   "id": "e6f8ad9e",
   "metadata": {},
   "outputs": [
    {
     "data": {
      "text/plain": [
       "((1453512, 257488), 1453512, 257488)"
      ]
     },
     "execution_count": 41,
     "metadata": {},
     "output_type": "execute_result"
    }
   ],
   "source": [
    "X.shape, len(y), len(features)"
   ]
  },
  {
   "cell_type": "code",
   "execution_count": 42,
   "id": "4814d1d4",
   "metadata": {},
   "outputs": [],
   "source": [
    "from sklearn.model_selection import train_test_split\n",
    "X_train, X_test, y_train, y_test = train_test_split(X, y, test_size=0.33, random_state=42)"
   ]
  },
  {
   "cell_type": "code",
   "execution_count": 43,
   "id": "325c6590",
   "metadata": {},
   "outputs": [
    {
     "name": "stdout",
     "output_type": "stream",
     "text": [
      "['M' 'M']\n",
      "[[0.85403914 0.14596086]\n",
      " [0.89639989 0.10360011]]\n"
     ]
    }
   ],
   "source": [
    "clf = LogisticRegression(random_state=0).fit(X_train, y_train)\n",
    "print(clf.predict(X[:2, :]))\n",
    "print(clf.predict_proba(X[:2, :]))\n",
    "# >>> clf.score(X, y)"
   ]
  },
  {
   "cell_type": "code",
   "execution_count": 44,
   "id": "5f4e8f72",
   "metadata": {},
   "outputs": [
    {
     "data": {
      "text/plain": [
       "0    M\n",
       "1    M\n",
       "Name: op_gender, dtype: object"
      ]
     },
     "execution_count": 44,
     "metadata": {},
     "output_type": "execute_result"
    }
   ],
   "source": [
    "y[:2]"
   ]
  },
  {
   "cell_type": "code",
   "execution_count": 45,
   "id": "10b9e8ce",
   "metadata": {},
   "outputs": [
    {
     "name": "stdout",
     "output_type": "stream",
     "text": [
      "Best: 0.798841 using {'C': 1.0, 'penalty': 'l2'}\n",
      "0.794532 (0.000508) with: {'C': 100, 'penalty': 'l2'}\n",
      "0.796059 (0.001012) with: {'C': 10, 'penalty': 'l2'}\n",
      "0.798841 (0.000381) with: {'C': 1.0, 'penalty': 'l2'}\n",
      "0.796135 (0.000446) with: {'C': 0.1, 'penalty': 'l2'}\n",
      "0.791043 (0.000073) with: {'C': 0.01, 'penalty': 'l2'}\n"
     ]
    }
   ],
   "source": [
    "from sklearn.datasets import make_blobs\n",
    "from sklearn.model_selection import StratifiedKFold\n",
    "from sklearn.model_selection import GridSearchCV\n",
    "from sklearn.linear_model import LogisticRegression\n",
    "\n",
    "model = LogisticRegression()\n",
    "# solvers = ['newton-cg', 'lbfgs', 'liblinear']\n",
    "penalty = ['l2']\n",
    "c_values = [100, 10, 1.0, 0.1, 0.01]\n",
    "# define grid search\n",
    "# grid = dict(solver=solvers,penalty=penalty,C=c_values)\n",
    "grid = dict(penalty=penalty,C=c_values)\n",
    "cv = StratifiedKFold(n_splits=5,  shuffle = True, random_state=1)\n",
    "grid_search = GridSearchCV(estimator=model, param_grid=grid, n_jobs=-1, cv=cv, scoring='accuracy',error_score=0)\n",
    "grid_result = grid_search.fit(X_train, y_train)\n",
    "# summarize results\n",
    "print(\"Best: %f using %s\" % (grid_result.best_score_, grid_result.best_params_))\n",
    "means = grid_result.cv_results_['mean_test_score']\n",
    "stds = grid_result.cv_results_['std_test_score']\n",
    "params = grid_result.cv_results_['params']\n",
    "for mean, stdev, param in zip(means, stds, params):\n",
    "    print(\"%f (%f) with: %r\" % (mean, stdev, param))"
   ]
  },
  {
   "cell_type": "code",
   "execution_count": 46,
   "id": "5e3a4fdf",
   "metadata": {},
   "outputs": [
    {
     "name": "stdout",
     "output_type": "stream",
     "text": [
      "test accuracy :  0.7982483389241106\n"
     ]
    }
   ],
   "source": [
    "test_pred = grid_result.predict(X_test)\n",
    "from sklearn.metrics import accuracy_score\n",
    "test_acc = accuracy_score(y_test, test_pred)\n",
    "print(\"test accuracy : \", test_acc)"
   ]
  },
  {
   "cell_type": "code",
   "execution_count": 47,
   "id": "25db475f",
   "metadata": {},
   "outputs": [
    {
     "name": "stdout",
     "output_type": "stream",
     "text": [
      "overall accuracy :  0.8013645570177611\n"
     ]
    }
   ],
   "source": [
    "all_pred = grid_result.predict(X)\n",
    "from sklearn.metrics import accuracy_score\n",
    "all_acc = accuracy_score(y, all_pred)\n",
    "print(\"overall accuracy : \", all_acc)"
   ]
  },
  {
   "cell_type": "code",
   "execution_count": 48,
   "id": "aa24cda1",
   "metadata": {},
   "outputs": [
    {
     "data": {
      "text/plain": [
       "{'C': 1.0, 'penalty': 'l2'}"
      ]
     },
     "execution_count": 48,
     "metadata": {},
     "output_type": "execute_result"
    }
   ],
   "source": [
    "grid_result.best_params_"
   ]
  },
  {
   "cell_type": "code",
   "execution_count": 49,
   "id": "f22253a4",
   "metadata": {},
   "outputs": [
    {
     "data": {
      "text/html": [
       "<div>\n",
       "<style scoped>\n",
       "    .dataframe tbody tr th:only-of-type {\n",
       "        vertical-align: middle;\n",
       "    }\n",
       "\n",
       "    .dataframe tbody tr th {\n",
       "        vertical-align: top;\n",
       "    }\n",
       "\n",
       "    .dataframe thead th {\n",
       "        text-align: right;\n",
       "    }\n",
       "</style>\n",
       "<table border=\"1\" class=\"dataframe\">\n",
       "  <thead>\n",
       "    <tr style=\"text-align: right;\">\n",
       "      <th></th>\n",
       "      <th>importance</th>\n",
       "      <th>features</th>\n",
       "    </tr>\n",
       "  </thead>\n",
       "  <tbody>\n",
       "    <tr>\n",
       "      <th>0</th>\n",
       "      <td>0.222821</td>\n",
       "      <td>__</td>\n",
       "    </tr>\n",
       "    <tr>\n",
       "      <th>1</th>\n",
       "      <td>1.193576</td>\n",
       "      <td>___</td>\n",
       "    </tr>\n",
       "    <tr>\n",
       "      <th>2</th>\n",
       "      <td>0.907499</td>\n",
       "      <td>____</td>\n",
       "    </tr>\n",
       "    <tr>\n",
       "      <th>3</th>\n",
       "      <td>0.210868</td>\n",
       "      <td>_____</td>\n",
       "    </tr>\n",
       "    <tr>\n",
       "      <th>4</th>\n",
       "      <td>-0.208821</td>\n",
       "      <td>______</td>\n",
       "    </tr>\n",
       "    <tr>\n",
       "      <th>...</th>\n",
       "      <td>...</td>\n",
       "      <td>...</td>\n",
       "    </tr>\n",
       "    <tr>\n",
       "      <th>257483</th>\n",
       "      <td>0.000000</td>\n",
       "      <td>ﾟωﾟ</td>\n",
       "    </tr>\n",
       "    <tr>\n",
       "      <th>257484</th>\n",
       "      <td>-0.072868</td>\n",
       "      <td>ﾟдﾟ</td>\n",
       "    </tr>\n",
       "    <tr>\n",
       "      <th>257485</th>\n",
       "      <td>-0.546964</td>\n",
       "      <td>ﾟヮﾟ</td>\n",
       "    </tr>\n",
       "    <tr>\n",
       "      <th>257486</th>\n",
       "      <td>0.000000</td>\n",
       "      <td>ﾟﾟ</td>\n",
       "    </tr>\n",
       "    <tr>\n",
       "      <th>257487</th>\n",
       "      <td>-0.017224</td>\n",
       "      <td>𝖆𝖚𝖘𝖌𝖊𝖑𝖔𝖊𝖘𝖙</td>\n",
       "    </tr>\n",
       "  </tbody>\n",
       "</table>\n",
       "<p>257488 rows × 2 columns</p>\n",
       "</div>"
      ],
      "text/plain": [
       "        importance    features\n",
       "0         0.222821          __\n",
       "1         1.193576         ___\n",
       "2         0.907499        ____\n",
       "3         0.210868       _____\n",
       "4        -0.208821      ______\n",
       "...            ...         ...\n",
       "257483    0.000000         ﾟωﾟ\n",
       "257484   -0.072868         ﾟдﾟ\n",
       "257485   -0.546964         ﾟヮﾟ\n",
       "257486    0.000000          ﾟﾟ\n",
       "257487   -0.017224  𝖆𝖚𝖘𝖌𝖊𝖑𝖔𝖊𝖘𝖙\n",
       "\n",
       "[257488 rows x 2 columns]"
      ]
     },
     "execution_count": 49,
     "metadata": {},
     "output_type": "execute_result"
    }
   ],
   "source": [
    "# get importance\n",
    "importance = grid_result.best_estimator_.coef_[0]\n",
    "feature_importance = pd.DataFrame({\"importance\":importance, \"features\":features})\n",
    "feature_importance"
   ]
  },
  {
   "cell_type": "code",
   "execution_count": 50,
   "id": "d9b5dac4",
   "metadata": {},
   "outputs": [
    {
     "data": {
      "text/html": [
       "<div>\n",
       "<style scoped>\n",
       "    .dataframe tbody tr th:only-of-type {\n",
       "        vertical-align: middle;\n",
       "    }\n",
       "\n",
       "    .dataframe tbody tr th {\n",
       "        vertical-align: top;\n",
       "    }\n",
       "\n",
       "    .dataframe thead th {\n",
       "        text-align: right;\n",
       "    }\n",
       "</style>\n",
       "<table border=\"1\" class=\"dataframe\">\n",
       "  <thead>\n",
       "    <tr style=\"text-align: right;\">\n",
       "      <th></th>\n",
       "      <th>importance</th>\n",
       "      <th>features</th>\n",
       "    </tr>\n",
       "  </thead>\n",
       "  <tbody>\n",
       "    <tr>\n",
       "      <th>197557</th>\n",
       "      <td>0.000000</td>\n",
       "      <td>segall</td>\n",
       "    </tr>\n",
       "    <tr>\n",
       "      <th>190508</th>\n",
       "      <td>0.000000</td>\n",
       "      <td>rootbound</td>\n",
       "    </tr>\n",
       "    <tr>\n",
       "      <th>52875</th>\n",
       "      <td>0.000000</td>\n",
       "      <td>dears</td>\n",
       "    </tr>\n",
       "    <tr>\n",
       "      <th>190501</th>\n",
       "      <td>0.000000</td>\n",
       "      <td>roostercheese</td>\n",
       "    </tr>\n",
       "    <tr>\n",
       "      <th>190498</th>\n",
       "      <td>0.000000</td>\n",
       "      <td>rooskie</td>\n",
       "    </tr>\n",
       "    <tr>\n",
       "      <th>...</th>\n",
       "      <td>...</td>\n",
       "      <td>...</td>\n",
       "    </tr>\n",
       "    <tr>\n",
       "      <th>126974</th>\n",
       "      <td>-5.282871</td>\n",
       "      <td>lebron</td>\n",
       "    </tr>\n",
       "    <tr>\n",
       "      <th>105077</th>\n",
       "      <td>5.350896</td>\n",
       "      <td>husband</td>\n",
       "    </tr>\n",
       "    <tr>\n",
       "      <th>28356</th>\n",
       "      <td>5.788648</td>\n",
       "      <td>boyfriend</td>\n",
       "    </tr>\n",
       "    <tr>\n",
       "      <th>219500</th>\n",
       "      <td>6.111489</td>\n",
       "      <td>tampon</td>\n",
       "    </tr>\n",
       "    <tr>\n",
       "      <th>224959</th>\n",
       "      <td>7.457812</td>\n",
       "      <td>tiff</td>\n",
       "    </tr>\n",
       "  </tbody>\n",
       "</table>\n",
       "<p>257488 rows × 2 columns</p>\n",
       "</div>"
      ],
      "text/plain": [
       "        importance       features\n",
       "197557    0.000000         segall\n",
       "190508    0.000000      rootbound\n",
       "52875     0.000000          dears\n",
       "190501    0.000000  roostercheese\n",
       "190498    0.000000        rooskie\n",
       "...            ...            ...\n",
       "126974   -5.282871         lebron\n",
       "105077    5.350896        husband\n",
       "28356     5.788648      boyfriend\n",
       "219500    6.111489         tampon\n",
       "224959    7.457812           tiff\n",
       "\n",
       "[257488 rows x 2 columns]"
      ]
     },
     "execution_count": 50,
     "metadata": {},
     "output_type": "execute_result"
    }
   ],
   "source": [
    "feature_importance.sort_values(['importance'],  key=abs, inplace=True)\n",
    "feature_importance\n"
   ]
  },
  {
   "cell_type": "code",
   "execution_count": 51,
   "id": "85725b40",
   "metadata": {},
   "outputs": [
    {
     "data": {
      "image/png": "[encoded data removed]",
      "text/plain": [
       "<Figure size 1440x720 with 1 Axes>"
      ]
     },
     "metadata": {
      "needs_background": "light"
     },
     "output_type": "display_data"
    }
   ],
   "source": [
    "# plot feature importance\n",
    "plt.figure(figsize=(20, 10))\n",
    "plt.bar(feature_importance['features'][-30:], feature_importance['importance'][-30:], width = 0.4)\n",
    "plt.xticks(rotation=45)\n",
    "plt.show()"
   ]
  },
  {
   "cell_type": "code",
   "execution_count": 52,
   "id": "4035befc",
   "metadata": {},
   "outputs": [],
   "source": [
    "# visualize most freuquent words "
   ]
  },
  {
   "cell_type": "code",
   "execution_count": 53,
   "id": "9523534b",
   "metadata": {},
   "outputs": [
    {
     "data": {
      "text/html": [
       "<div>\n",
       "<style scoped>\n",
       "    .dataframe tbody tr th:only-of-type {\n",
       "        vertical-align: middle;\n",
       "    }\n",
       "\n",
       "    .dataframe tbody tr th {\n",
       "        vertical-align: top;\n",
       "    }\n",
       "\n",
       "    .dataframe thead th {\n",
       "        text-align: right;\n",
       "    }\n",
       "</style>\n",
       "<table border=\"1\" class=\"dataframe\">\n",
       "  <thead>\n",
       "    <tr style=\"text-align: right;\">\n",
       "      <th></th>\n",
       "      <th>word</th>\n",
       "      <th>n</th>\n",
       "      <th>total_words</th>\n",
       "      <th>gender</th>\n",
       "    </tr>\n",
       "  </thead>\n",
       "  <tbody>\n",
       "    <tr>\n",
       "      <th>0</th>\n",
       "      <td>slayer</td>\n",
       "      <td>104</td>\n",
       "      <td>21932002</td>\n",
       "      <td>M</td>\n",
       "    </tr>\n",
       "    <tr>\n",
       "      <th>1</th>\n",
       "      <td>task</td>\n",
       "      <td>685</td>\n",
       "      <td>21932002</td>\n",
       "      <td>M</td>\n",
       "    </tr>\n",
       "    <tr>\n",
       "      <th>2</th>\n",
       "      <td>perhaps?</td>\n",
       "      <td>110</td>\n",
       "      <td>21932002</td>\n",
       "      <td>M</td>\n",
       "    </tr>\n",
       "    <tr>\n",
       "      <th>3</th>\n",
       "      <td>black</td>\n",
       "      <td>12194</td>\n",
       "      <td>21932002</td>\n",
       "      <td>M</td>\n",
       "    </tr>\n",
       "    <tr>\n",
       "      <th>4</th>\n",
       "      <td>dhide</td>\n",
       "      <td>6</td>\n",
       "      <td>21932002</td>\n",
       "      <td>M</td>\n",
       "    </tr>\n",
       "    <tr>\n",
       "      <th>...</th>\n",
       "      <td>...</td>\n",
       "      <td>...</td>\n",
       "      <td>...</td>\n",
       "      <td>...</td>\n",
       "    </tr>\n",
       "    <tr>\n",
       "      <th>688540</th>\n",
       "      <td>non-cosmetic</td>\n",
       "      <td>1</td>\n",
       "      <td>21932002</td>\n",
       "      <td>M</td>\n",
       "    </tr>\n",
       "    <tr>\n",
       "      <th>688541</th>\n",
       "      <td>-oriented</td>\n",
       "      <td>1</td>\n",
       "      <td>21932002</td>\n",
       "      <td>M</td>\n",
       "    </tr>\n",
       "    <tr>\n",
       "      <th>688542</th>\n",
       "      <td>“microsoft</td>\n",
       "      <td>1</td>\n",
       "      <td>21932002</td>\n",
       "      <td>M</td>\n",
       "    </tr>\n",
       "    <tr>\n",
       "      <th>688543</th>\n",
       "      <td>xbox”</td>\n",
       "      <td>1</td>\n",
       "      <td>21932002</td>\n",
       "      <td>M</td>\n",
       "    </tr>\n",
       "    <tr>\n",
       "      <th>688544</th>\n",
       "      <td>non-fifa</td>\n",
       "      <td>1</td>\n",
       "      <td>21932002</td>\n",
       "      <td>M</td>\n",
       "    </tr>\n",
       "  </tbody>\n",
       "</table>\n",
       "<p>688545 rows × 4 columns</p>\n",
       "</div>"
      ],
      "text/plain": [
       "                word      n  total_words gender\n",
       "0             slayer    104     21932002      M\n",
       "1               task    685     21932002      M\n",
       "2           perhaps?    110     21932002      M\n",
       "3              black  12194     21932002      M\n",
       "4              dhide      6     21932002      M\n",
       "...              ...    ...          ...    ...\n",
       "688540  non-cosmetic      1     21932002      M\n",
       "688541     -oriented      1     21932002      M\n",
       "688542    “microsoft      1     21932002      M\n",
       "688543         xbox”      1     21932002      M\n",
       "688544      non-fifa      1     21932002      M\n",
       "\n",
       "[688545 rows x 4 columns]"
      ]
     },
     "execution_count": 53,
     "metadata": {},
     "output_type": "execute_result"
    }
   ],
   "source": [
    "df_M = pd.DataFrame(fd_wct1_M.items(), columns=['word', 'n'])\n",
    "cnt = 0 \n",
    "total_words_M = sum(fd_wct1_M.values())\n",
    "df_M['total_words'] = total_words_M\n",
    "df_M['gender'] ='M'\n",
    "df_M"
   ]
  },
  {
   "cell_type": "code",
   "execution_count": 54,
   "id": "7ccd5112",
   "metadata": {},
   "outputs": [
    {
     "data": {
      "text/html": [
       "<div>\n",
       "<style scoped>\n",
       "    .dataframe tbody tr th:only-of-type {\n",
       "        vertical-align: middle;\n",
       "    }\n",
       "\n",
       "    .dataframe tbody tr th {\n",
       "        vertical-align: top;\n",
       "    }\n",
       "\n",
       "    .dataframe thead th {\n",
       "        text-align: right;\n",
       "    }\n",
       "</style>\n",
       "<table border=\"1\" class=\"dataframe\">\n",
       "  <thead>\n",
       "    <tr style=\"text-align: right;\">\n",
       "      <th></th>\n",
       "      <th>word</th>\n",
       "      <th>n</th>\n",
       "      <th>total_words</th>\n",
       "      <th>gender</th>\n",
       "    </tr>\n",
       "  </thead>\n",
       "  <tbody>\n",
       "    <tr>\n",
       "      <th>0</th>\n",
       "      <td>head</td>\n",
       "      <td>2578</td>\n",
       "      <td>6834479</td>\n",
       "      <td>W</td>\n",
       "    </tr>\n",
       "    <tr>\n",
       "      <th>1</th>\n",
       "      <td>op,</td>\n",
       "      <td>634</td>\n",
       "      <td>6834479</td>\n",
       "      <td>W</td>\n",
       "    </tr>\n",
       "    <tr>\n",
       "      <th>2</th>\n",
       "      <td>comment</td>\n",
       "      <td>4415</td>\n",
       "      <td>6834479</td>\n",
       "      <td>W</td>\n",
       "    </tr>\n",
       "    <tr>\n",
       "      <th>3</th>\n",
       "      <td>reddit</td>\n",
       "      <td>2858</td>\n",
       "      <td>6834479</td>\n",
       "      <td>W</td>\n",
       "    </tr>\n",
       "    <tr>\n",
       "      <th>4</th>\n",
       "      <td>also</td>\n",
       "      <td>18214</td>\n",
       "      <td>6834479</td>\n",
       "      <td>W</td>\n",
       "    </tr>\n",
       "    <tr>\n",
       "      <th>...</th>\n",
       "      <td>...</td>\n",
       "      <td>...</td>\n",
       "      <td>...</td>\n",
       "      <td>...</td>\n",
       "    </tr>\n",
       "    <tr>\n",
       "      <th>290403</th>\n",
       "      <td>ಠ_ಠ...</td>\n",
       "      <td>1</td>\n",
       "      <td>6834479</td>\n",
       "      <td>W</td>\n",
       "    </tr>\n",
       "    <tr>\n",
       "      <th>290404</th>\n",
       "      <td>verticality</td>\n",
       "      <td>2</td>\n",
       "      <td>6834479</td>\n",
       "      <td>W</td>\n",
       "    </tr>\n",
       "    <tr>\n",
       "      <th>290405</th>\n",
       "      <td>shortcuts),</td>\n",
       "      <td>1</td>\n",
       "      <td>6834479</td>\n",
       "      <td>W</td>\n",
       "    </tr>\n",
       "    <tr>\n",
       "      <th>290406</th>\n",
       "      <td>iw(without</td>\n",
       "      <td>1</td>\n",
       "      <td>6834479</td>\n",
       "      <td>W</td>\n",
       "    </tr>\n",
       "    <tr>\n",
       "      <th>290407</th>\n",
       "      <td>mvci</td>\n",
       "      <td>1</td>\n",
       "      <td>6834479</td>\n",
       "      <td>W</td>\n",
       "    </tr>\n",
       "  </tbody>\n",
       "</table>\n",
       "<p>290408 rows × 4 columns</p>\n",
       "</div>"
      ],
      "text/plain": [
       "               word      n  total_words gender\n",
       "0              head   2578      6834479      W\n",
       "1               op,    634      6834479      W\n",
       "2           comment   4415      6834479      W\n",
       "3            reddit   2858      6834479      W\n",
       "4              also  18214      6834479      W\n",
       "...             ...    ...          ...    ...\n",
       "290403       ಠ_ಠ...      1      6834479      W\n",
       "290404  verticality      2      6834479      W\n",
       "290405  shortcuts),      1      6834479      W\n",
       "290406   iw(without      1      6834479      W\n",
       "290407         mvci      1      6834479      W\n",
       "\n",
       "[290408 rows x 4 columns]"
      ]
     },
     "execution_count": 54,
     "metadata": {},
     "output_type": "execute_result"
    }
   ],
   "source": [
    "df_F = pd.DataFrame(fd_wct1_F.items(), columns=['word', 'n'])\n",
    "cnt = 0 \n",
    "total_words_F = sum(fd_wct1_F.values())\n",
    "df_F['total_words'] = total_words_F\n",
    "df_F['gender'] ='W'\n",
    "df_F"
   ]
  },
  {
   "cell_type": "code",
   "execution_count": 55,
   "id": "8c0d3c38",
   "metadata": {},
   "outputs": [
    {
     "data": {
      "text/html": [
       "<div>\n",
       "<style scoped>\n",
       "    .dataframe tbody tr th:only-of-type {\n",
       "        vertical-align: middle;\n",
       "    }\n",
       "\n",
       "    .dataframe tbody tr th {\n",
       "        vertical-align: top;\n",
       "    }\n",
       "\n",
       "    .dataframe thead th {\n",
       "        text-align: right;\n",
       "    }\n",
       "</style>\n",
       "<table border=\"1\" class=\"dataframe\">\n",
       "  <thead>\n",
       "    <tr style=\"text-align: right;\">\n",
       "      <th></th>\n",
       "      <th>word</th>\n",
       "      <th>n</th>\n",
       "      <th>total_words</th>\n",
       "      <th>gender</th>\n",
       "    </tr>\n",
       "  </thead>\n",
       "  <tbody>\n",
       "    <tr>\n",
       "      <th>0</th>\n",
       "      <td>slayer</td>\n",
       "      <td>104</td>\n",
       "      <td>21932002</td>\n",
       "      <td>M</td>\n",
       "    </tr>\n",
       "    <tr>\n",
       "      <th>1</th>\n",
       "      <td>task</td>\n",
       "      <td>685</td>\n",
       "      <td>21932002</td>\n",
       "      <td>M</td>\n",
       "    </tr>\n",
       "    <tr>\n",
       "      <th>2</th>\n",
       "      <td>perhaps?</td>\n",
       "      <td>110</td>\n",
       "      <td>21932002</td>\n",
       "      <td>M</td>\n",
       "    </tr>\n",
       "    <tr>\n",
       "      <th>3</th>\n",
       "      <td>black</td>\n",
       "      <td>12194</td>\n",
       "      <td>21932002</td>\n",
       "      <td>M</td>\n",
       "    </tr>\n",
       "    <tr>\n",
       "      <th>4</th>\n",
       "      <td>dhide</td>\n",
       "      <td>6</td>\n",
       "      <td>21932002</td>\n",
       "      <td>M</td>\n",
       "    </tr>\n",
       "    <tr>\n",
       "      <th>...</th>\n",
       "      <td>...</td>\n",
       "      <td>...</td>\n",
       "      <td>...</td>\n",
       "      <td>...</td>\n",
       "    </tr>\n",
       "    <tr>\n",
       "      <th>290403</th>\n",
       "      <td>ಠ_ಠ...</td>\n",
       "      <td>1</td>\n",
       "      <td>6834479</td>\n",
       "      <td>W</td>\n",
       "    </tr>\n",
       "    <tr>\n",
       "      <th>290404</th>\n",
       "      <td>verticality</td>\n",
       "      <td>2</td>\n",
       "      <td>6834479</td>\n",
       "      <td>W</td>\n",
       "    </tr>\n",
       "    <tr>\n",
       "      <th>290405</th>\n",
       "      <td>shortcuts),</td>\n",
       "      <td>1</td>\n",
       "      <td>6834479</td>\n",
       "      <td>W</td>\n",
       "    </tr>\n",
       "    <tr>\n",
       "      <th>290406</th>\n",
       "      <td>iw(without</td>\n",
       "      <td>1</td>\n",
       "      <td>6834479</td>\n",
       "      <td>W</td>\n",
       "    </tr>\n",
       "    <tr>\n",
       "      <th>290407</th>\n",
       "      <td>mvci</td>\n",
       "      <td>1</td>\n",
       "      <td>6834479</td>\n",
       "      <td>W</td>\n",
       "    </tr>\n",
       "  </tbody>\n",
       "</table>\n",
       "<p>978953 rows × 4 columns</p>\n",
       "</div>"
      ],
      "text/plain": [
       "               word      n  total_words gender\n",
       "0            slayer    104     21932002      M\n",
       "1              task    685     21932002      M\n",
       "2          perhaps?    110     21932002      M\n",
       "3             black  12194     21932002      M\n",
       "4             dhide      6     21932002      M\n",
       "...             ...    ...          ...    ...\n",
       "290403       ಠ_ಠ...      1      6834479      W\n",
       "290404  verticality      2      6834479      W\n",
       "290405  shortcuts),      1      6834479      W\n",
       "290406   iw(without      1      6834479      W\n",
       "290407         mvci      1      6834479      W\n",
       "\n",
       "[978953 rows x 4 columns]"
      ]
     },
     "execution_count": 55,
     "metadata": {},
     "output_type": "execute_result"
    }
   ],
   "source": [
    "df_all_for_R = pd.concat([df_M, df_F])\n",
    "df_all_for_R"
   ]
  },
  {
   "cell_type": "code",
   "execution_count": 63,
   "id": "f4f1a177",
   "metadata": {},
   "outputs": [],
   "source": [
    "df_all_for_R1 = df_all_for_R[df_all_for_R['n']>100]"
   ]
  },
  {
   "cell_type": "code",
   "execution_count": 64,
   "id": "2eb9f041",
   "metadata": {},
   "outputs": [],
   "source": [
    "df_all_for_R1.to_csv(\"./preprocessed_data/reddit_posts_preprocressed_for_R.csv\")"
   ]
  },
  {
   "cell_type": "code",
   "execution_count": null,
   "id": "3d7d32a3",
   "metadata": {},
   "outputs": [],
   "source": [
    "# after running R codes for weighted log odds"
   ]
  },
  {
   "cell_type": "code",
   "execution_count": 65,
   "id": "b3baafc4",
   "metadata": {},
   "outputs": [],
   "source": [
    "weighted_log_odds_df = pd.read_csv(\"./preprocessed_data/reddit_post_weighted_log_odds.csv\")\n",
    "weighted_log_odds_df.sort_values(['log_odds_weighted'], inplace=True)"
   ]
  },
  {
   "cell_type": "code",
   "execution_count": 66,
   "id": "ea54863c",
   "metadata": {},
   "outputs": [
    {
     "data": {
      "text/html": [
       "<div>\n",
       "<style scoped>\n",
       "    .dataframe tbody tr th:only-of-type {\n",
       "        vertical-align: middle;\n",
       "    }\n",
       "\n",
       "    .dataframe tbody tr th {\n",
       "        vertical-align: top;\n",
       "    }\n",
       "\n",
       "    .dataframe thead th {\n",
       "        text-align: right;\n",
       "    }\n",
       "</style>\n",
       "<table border=\"1\" class=\"dataframe\">\n",
       "  <thead>\n",
       "    <tr style=\"text-align: right;\">\n",
       "      <th></th>\n",
       "      <th>Unnamed: 0</th>\n",
       "      <th>X</th>\n",
       "      <th>word</th>\n",
       "      <th>n</th>\n",
       "      <th>total_words</th>\n",
       "      <th>gender</th>\n",
       "      <th>log_odds_weighted</th>\n",
       "    </tr>\n",
       "  </thead>\n",
       "  <tbody>\n",
       "    <tr>\n",
       "      <th>29</th>\n",
       "      <td>30</td>\n",
       "      <td>33</td>\n",
       "      <td>im</td>\n",
       "      <td>138044</td>\n",
       "      <td>21932002</td>\n",
       "      <td>M</td>\n",
       "      <td>-28.183328</td>\n",
       "    </tr>\n",
       "    <tr>\n",
       "      <th>69</th>\n",
       "      <td>70</td>\n",
       "      <td>86</td>\n",
       "      <td>dont</td>\n",
       "      <td>160199</td>\n",
       "      <td>21932002</td>\n",
       "      <td>M</td>\n",
       "      <td>-25.085878</td>\n",
       "    </tr>\n",
       "    <tr>\n",
       "      <th>4879</th>\n",
       "      <td>4880</td>\n",
       "      <td>7474</td>\n",
       "      <td>boyfriend</td>\n",
       "      <td>1646</td>\n",
       "      <td>21932002</td>\n",
       "      <td>M</td>\n",
       "      <td>-25.067626</td>\n",
       "    </tr>\n",
       "    <tr>\n",
       "      <th>4381</th>\n",
       "      <td>4382</td>\n",
       "      <td>6644</td>\n",
       "      <td>husband</td>\n",
       "      <td>1448</td>\n",
       "      <td>21932002</td>\n",
       "      <td>M</td>\n",
       "      <td>-24.926229</td>\n",
       "    </tr>\n",
       "    <tr>\n",
       "      <th>143</th>\n",
       "      <td>144</td>\n",
       "      <td>171</td>\n",
       "      <td>like</td>\n",
       "      <td>188049</td>\n",
       "      <td>21932002</td>\n",
       "      <td>M</td>\n",
       "      <td>-24.502148</td>\n",
       "    </tr>\n",
       "    <tr>\n",
       "      <th>...</th>\n",
       "      <td>...</td>\n",
       "      <td>...</td>\n",
       "      <td>...</td>\n",
       "      <td>...</td>\n",
       "      <td>...</td>\n",
       "      <td>...</td>\n",
       "      <td>...</td>\n",
       "    </tr>\n",
       "    <tr>\n",
       "      <th>17823</th>\n",
       "      <td>17824</td>\n",
       "      <td>1152</td>\n",
       "      <td>boyfriend</td>\n",
       "      <td>4076</td>\n",
       "      <td>6834479</td>\n",
       "      <td>W</td>\n",
       "      <td>29.789269</td>\n",
       "    </tr>\n",
       "    <tr>\n",
       "      <th>17032</th>\n",
       "      <td>17033</td>\n",
       "      <td>34</td>\n",
       "      <td>like</td>\n",
       "      <td>64831</td>\n",
       "      <td>6834479</td>\n",
       "      <td>W</td>\n",
       "      <td>32.265956</td>\n",
       "    </tr>\n",
       "    <tr>\n",
       "      <th>17008</th>\n",
       "      <td>17009</td>\n",
       "      <td>9</td>\n",
       "      <td>dont</td>\n",
       "      <td>57716</td>\n",
       "      <td>6834479</td>\n",
       "      <td>W</td>\n",
       "      <td>32.970558</td>\n",
       "    </tr>\n",
       "    <tr>\n",
       "      <th>17272</th>\n",
       "      <td>17273</td>\n",
       "      <td>379</td>\n",
       "      <td>im</td>\n",
       "      <td>54344</td>\n",
       "      <td>6834479</td>\n",
       "      <td>W</td>\n",
       "      <td>36.895917</td>\n",
       "    </tr>\n",
       "    <tr>\n",
       "      <th>17028</th>\n",
       "      <td>17029</td>\n",
       "      <td>30</td>\n",
       "      <td>NaN</td>\n",
       "      <td>47290</td>\n",
       "      <td>6834479</td>\n",
       "      <td>W</td>\n",
       "      <td>204.388940</td>\n",
       "    </tr>\n",
       "  </tbody>\n",
       "</table>\n",
       "<p>23832 rows × 7 columns</p>\n",
       "</div>"
      ],
      "text/plain": [
       "       Unnamed: 0     X       word       n  total_words gender  \\\n",
       "29             30    33         im  138044     21932002      M   \n",
       "69             70    86       dont  160199     21932002      M   \n",
       "4879         4880  7474  boyfriend    1646     21932002      M   \n",
       "4381         4382  6644    husband    1448     21932002      M   \n",
       "143           144   171       like  188049     21932002      M   \n",
       "...           ...   ...        ...     ...          ...    ...   \n",
       "17823       17824  1152  boyfriend    4076      6834479      W   \n",
       "17032       17033    34       like   64831      6834479      W   \n",
       "17008       17009     9       dont   57716      6834479      W   \n",
       "17272       17273   379         im   54344      6834479      W   \n",
       "17028       17029    30        NaN   47290      6834479      W   \n",
       "\n",
       "       log_odds_weighted  \n",
       "29            -28.183328  \n",
       "69            -25.085878  \n",
       "4879          -25.067626  \n",
       "4381          -24.926229  \n",
       "143           -24.502148  \n",
       "...                  ...  \n",
       "17823          29.789269  \n",
       "17032          32.265956  \n",
       "17008          32.970558  \n",
       "17272          36.895917  \n",
       "17028         204.388940  \n",
       "\n",
       "[23832 rows x 7 columns]"
      ]
     },
     "execution_count": 66,
     "metadata": {},
     "output_type": "execute_result"
    }
   ],
   "source": [
    "weighted_log_odds_df"
   ]
  },
  {
   "cell_type": "code",
   "execution_count": 67,
   "id": "372d56fb",
   "metadata": {},
   "outputs": [
    {
     "data": {
      "text/html": [
       "<div>\n",
       "<style scoped>\n",
       "    .dataframe tbody tr th:only-of-type {\n",
       "        vertical-align: middle;\n",
       "    }\n",
       "\n",
       "    .dataframe tbody tr th {\n",
       "        vertical-align: top;\n",
       "    }\n",
       "\n",
       "    .dataframe thead th {\n",
       "        text-align: right;\n",
       "    }\n",
       "</style>\n",
       "<table border=\"1\" class=\"dataframe\">\n",
       "  <thead>\n",
       "    <tr style=\"text-align: right;\">\n",
       "      <th></th>\n",
       "      <th>Unnamed: 0</th>\n",
       "      <th>X</th>\n",
       "      <th>word</th>\n",
       "      <th>n</th>\n",
       "      <th>total_words</th>\n",
       "      <th>gender</th>\n",
       "      <th>log_odds_weighted</th>\n",
       "    </tr>\n",
       "  </thead>\n",
       "  <tbody>\n",
       "    <tr>\n",
       "      <th>29</th>\n",
       "      <td>30</td>\n",
       "      <td>33</td>\n",
       "      <td>im</td>\n",
       "      <td>138044</td>\n",
       "      <td>21932002</td>\n",
       "      <td>M</td>\n",
       "      <td>-28.183328</td>\n",
       "    </tr>\n",
       "    <tr>\n",
       "      <th>69</th>\n",
       "      <td>70</td>\n",
       "      <td>86</td>\n",
       "      <td>dont</td>\n",
       "      <td>160199</td>\n",
       "      <td>21932002</td>\n",
       "      <td>M</td>\n",
       "      <td>-25.085878</td>\n",
       "    </tr>\n",
       "    <tr>\n",
       "      <th>4879</th>\n",
       "      <td>4880</td>\n",
       "      <td>7474</td>\n",
       "      <td>boyfriend</td>\n",
       "      <td>1646</td>\n",
       "      <td>21932002</td>\n",
       "      <td>M</td>\n",
       "      <td>-25.067626</td>\n",
       "    </tr>\n",
       "    <tr>\n",
       "      <th>4381</th>\n",
       "      <td>4382</td>\n",
       "      <td>6644</td>\n",
       "      <td>husband</td>\n",
       "      <td>1448</td>\n",
       "      <td>21932002</td>\n",
       "      <td>M</td>\n",
       "      <td>-24.926229</td>\n",
       "    </tr>\n",
       "    <tr>\n",
       "      <th>143</th>\n",
       "      <td>144</td>\n",
       "      <td>171</td>\n",
       "      <td>like</td>\n",
       "      <td>188049</td>\n",
       "      <td>21932002</td>\n",
       "      <td>M</td>\n",
       "      <td>-24.502148</td>\n",
       "    </tr>\n",
       "    <tr>\n",
       "      <th>...</th>\n",
       "      <td>...</td>\n",
       "      <td>...</td>\n",
       "      <td>...</td>\n",
       "      <td>...</td>\n",
       "      <td>...</td>\n",
       "      <td>...</td>\n",
       "      <td>...</td>\n",
       "    </tr>\n",
       "    <tr>\n",
       "      <th>18544</th>\n",
       "      <td>18545</td>\n",
       "      <td>2296</td>\n",
       "      <td>husband</td>\n",
       "      <td>3877</td>\n",
       "      <td>6834479</td>\n",
       "      <td>W</td>\n",
       "      <td>29.519629</td>\n",
       "    </tr>\n",
       "    <tr>\n",
       "      <th>17823</th>\n",
       "      <td>17824</td>\n",
       "      <td>1152</td>\n",
       "      <td>boyfriend</td>\n",
       "      <td>4076</td>\n",
       "      <td>6834479</td>\n",
       "      <td>W</td>\n",
       "      <td>29.789269</td>\n",
       "    </tr>\n",
       "    <tr>\n",
       "      <th>17032</th>\n",
       "      <td>17033</td>\n",
       "      <td>34</td>\n",
       "      <td>like</td>\n",
       "      <td>64831</td>\n",
       "      <td>6834479</td>\n",
       "      <td>W</td>\n",
       "      <td>32.265956</td>\n",
       "    </tr>\n",
       "    <tr>\n",
       "      <th>17008</th>\n",
       "      <td>17009</td>\n",
       "      <td>9</td>\n",
       "      <td>dont</td>\n",
       "      <td>57716</td>\n",
       "      <td>6834479</td>\n",
       "      <td>W</td>\n",
       "      <td>32.970558</td>\n",
       "    </tr>\n",
       "    <tr>\n",
       "      <th>17272</th>\n",
       "      <td>17273</td>\n",
       "      <td>379</td>\n",
       "      <td>im</td>\n",
       "      <td>54344</td>\n",
       "      <td>6834479</td>\n",
       "      <td>W</td>\n",
       "      <td>36.895917</td>\n",
       "    </tr>\n",
       "  </tbody>\n",
       "</table>\n",
       "<p>23831 rows × 7 columns</p>\n",
       "</div>"
      ],
      "text/plain": [
       "       Unnamed: 0     X       word       n  total_words gender  \\\n",
       "29             30    33         im  138044     21932002      M   \n",
       "69             70    86       dont  160199     21932002      M   \n",
       "4879         4880  7474  boyfriend    1646     21932002      M   \n",
       "4381         4382  6644    husband    1448     21932002      M   \n",
       "143           144   171       like  188049     21932002      M   \n",
       "...           ...   ...        ...     ...          ...    ...   \n",
       "18544       18545  2296    husband    3877      6834479      W   \n",
       "17823       17824  1152  boyfriend    4076      6834479      W   \n",
       "17032       17033    34       like   64831      6834479      W   \n",
       "17008       17009     9       dont   57716      6834479      W   \n",
       "17272       17273   379         im   54344      6834479      W   \n",
       "\n",
       "       log_odds_weighted  \n",
       "29            -28.183328  \n",
       "69            -25.085878  \n",
       "4879          -25.067626  \n",
       "4381          -24.926229  \n",
       "143           -24.502148  \n",
       "...                  ...  \n",
       "18544          29.519629  \n",
       "17823          29.789269  \n",
       "17032          32.265956  \n",
       "17008          32.970558  \n",
       "17272          36.895917  \n",
       "\n",
       "[23831 rows x 7 columns]"
      ]
     },
     "execution_count": 67,
     "metadata": {},
     "output_type": "execute_result"
    }
   ],
   "source": [
    "weighted_log_odds_df = weighted_log_odds_df.dropna()\n",
    "weighted_log_odds_df"
   ]
  },
  {
   "cell_type": "code",
   "execution_count": 68,
   "id": "50ff5ddf",
   "metadata": {},
   "outputs": [
    {
     "data": {
      "image/png": "[encoded data removed]",
      "text/plain": [
       "<Figure size 1440x720 with 1 Axes>"
      ]
     },
     "metadata": {
      "needs_background": "light"
     },
     "output_type": "display_data"
    }
   ],
   "source": [
    "filtered_df = weighted_log_odds_df[weighted_log_odds_df['gender']=='M']\n",
    "plt.figure(figsize=(20, 10))\n",
    "plt.bar(filtered_df['word'][-40:], filtered_df['log_odds_weighted'][-40:], width=0.4)\n",
    "plt.title(\"significant words male\")\n",
    "plt.xticks(rotation=45)\n",
    "plt.show()"
   ]
  },
  {
   "cell_type": "code",
   "execution_count": 69,
   "id": "ca67c421",
   "metadata": {},
   "outputs": [
    {
     "data": {
      "image/png": "[encoded data removed]",
      "text/plain": [
       "<Figure size 1440x720 with 1 Axes>"
      ]
     },
     "metadata": {
      "needs_background": "light"
     },
     "output_type": "display_data"
    }
   ],
   "source": [
    "filtered_df = weighted_log_odds_df[weighted_log_odds_df['gender']=='W']\n",
    "plt.figure(figsize=(20, 10))\n",
    "plt.bar(filtered_df['word'][-40:], filtered_df['log_odds_weighted'][-40:], width=0.4)\n",
    "plt.title(\"significant words female\")\n",
    "plt.xticks(rotation=45)\n",
    "plt.show()"
   ]
  },
  {
   "cell_type": "code",
   "execution_count": null,
   "id": "7772ec47",
   "metadata": {},
   "outputs": [],
   "source": []
  }
 ],
 "metadata": {
  "kernelspec": {
   "display_name": "Python 3 (ipykernel)",
   "language": "python",
   "name": "python3"
  },
  "language_info": {
   "codemirror_mode": {
    "name": "ipython",
    "version": 3
   },
   "file_extension": ".py",
   "mimetype": "text/x-python",
   "name": "python",
   "nbconvert_exporter": "python",
   "pygments_lexer": "ipython3",
   "version": "3.10.2"
  }
 },
 "nbformat": 4,
 "nbformat_minor": 5
}
