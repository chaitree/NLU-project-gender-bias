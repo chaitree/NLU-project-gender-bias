{
 "cells": [
  {
   "cell_type": "code",
   "execution_count": 1,
   "id": "dc0230fb",
   "metadata": {},
   "outputs": [],
   "source": [
    "import pandas as pd\n",
    "import re\n",
    "import string\n",
    "# from bs4 import BeautifulSoup\n",
    "import nltk\n",
    "from nltk.stem import PorterStemmer\n",
    "from nltk.stem.wordnet import WordNetLemmatizer\n",
    "import spacy\n",
    "from nltk.probability import FreqDist\n",
    "from sklearn.linear_model import LogisticRegression\n",
    "from sklearn.feature_extraction.text import CountVectorizer, TfidfVectorizer\n",
    "import matplotlib.pyplot as plt\n",
    "import warnings\n",
    "warnings.filterwarnings('ignore')"
   ]
  },
  {
   "cell_type": "code",
   "execution_count": 2,
   "id": "a9e43744",
   "metadata": {},
   "outputs": [],
   "source": [
    "# !pip install spacy\n",
    "# !python -m spacy download en_core_web_sm\n",
    "# nltk.download('stopwords')\n",
    "# nltk.download('wordnet')\n",
    "# nltk.download('omw-1.4')"
   ]
  },
  {
   "cell_type": "code",
   "execution_count": 3,
   "id": "f5fad2e9",
   "metadata": {},
   "outputs": [],
   "source": [
    "data_df = pd.read_csv(\"../rtgender/fitocracy_posts.csv\")"
   ]
  },
  {
   "cell_type": "code",
   "execution_count": 4,
   "id": "943b1ea2",
   "metadata": {},
   "outputs": [
    {
     "data": {
      "text/html": [
       "<div>\n",
       "<style scoped>\n",
       "    .dataframe tbody tr th:only-of-type {\n",
       "        vertical-align: middle;\n",
       "    }\n",
       "\n",
       "    .dataframe tbody tr th {\n",
       "        vertical-align: top;\n",
       "    }\n",
       "\n",
       "    .dataframe thead th {\n",
       "        text-align: right;\n",
       "    }\n",
       "</style>\n",
       "<table border=\"1\" class=\"dataframe\">\n",
       "  <thead>\n",
       "    <tr style=\"text-align: right;\">\n",
       "      <th></th>\n",
       "      <th>op_id</th>\n",
       "      <th>op_gender</th>\n",
       "      <th>post_id</th>\n",
       "      <th>post_text</th>\n",
       "    </tr>\n",
       "  </thead>\n",
       "  <tbody>\n",
       "    <tr>\n",
       "      <th>0</th>\n",
       "      <td>102</td>\n",
       "      <td>W</td>\n",
       "      <td>0</td>\n",
       "      <td>Thanks for the follow!  I followed back :)  I ...</td>\n",
       "    </tr>\n",
       "    <tr>\n",
       "      <th>1</th>\n",
       "      <td>104</td>\n",
       "      <td>W</td>\n",
       "      <td>1</td>\n",
       "      <td>I've decided I have this crazy goal of running...</td>\n",
       "    </tr>\n",
       "    <tr>\n",
       "      <th>2</th>\n",
       "      <td>104</td>\n",
       "      <td>W</td>\n",
       "      <td>2</td>\n",
       "      <td>Umm, yeah, so those are assisted pull-ups. Bef...</td>\n",
       "    </tr>\n",
       "    <tr>\n",
       "      <th>3</th>\n",
       "      <td>117</td>\n",
       "      <td>M</td>\n",
       "      <td>3</td>\n",
       "      <td>dam gurl lookin mad tone in dat pp holla bb</td>\n",
       "    </tr>\n",
       "    <tr>\n",
       "      <th>4</th>\n",
       "      <td>117</td>\n",
       "      <td>M</td>\n",
       "      <td>4</td>\n",
       "      <td>What's up there bear mode?</td>\n",
       "    </tr>\n",
       "  </tbody>\n",
       "</table>\n",
       "</div>"
      ],
      "text/plain": [
       "   op_id op_gender  post_id                                          post_text\n",
       "0    102         W        0  Thanks for the follow!  I followed back :)  I ...\n",
       "1    104         W        1  I've decided I have this crazy goal of running...\n",
       "2    104         W        2  Umm, yeah, so those are assisted pull-ups. Bef...\n",
       "3    117         M        3        dam gurl lookin mad tone in dat pp holla bb\n",
       "4    117         M        4                         What's up there bear mode?"
      ]
     },
     "execution_count": 4,
     "metadata": {},
     "output_type": "execute_result"
    }
   ],
   "source": [
    "data_df.head()"
   ]
  },
  {
   "cell_type": "code",
   "execution_count": 5,
   "id": "e9d0b308",
   "metadata": {},
   "outputs": [],
   "source": [
    "data_df1 = data_df.copy()"
   ]
  },
  {
   "cell_type": "code",
   "execution_count": 6,
   "id": "0c01a690",
   "metadata": {},
   "outputs": [],
   "source": [
    "# Load spacy\n",
    "nlp = spacy.load('en_core_web_sm')\n",
    "\n",
    "def clean_string(text, stopwords = False, stem=\"None\"):\n",
    "\n",
    "    final_string = \"\"\n",
    "\n",
    "    # Make lower\n",
    "    text = text.lower()\n",
    "\n",
    "#     # Remove line breaks\n",
    "#     text = re.sub(r'\\n', '', text)\n",
    "\n",
    "#     # Remove puncuation\n",
    "#     translator = str.maketrans('', '', string.punctuation)\n",
    "#     text = text.translate(translator)\n",
    "\n",
    "    text = re.sub(r'http\\S+', '', text)\n",
    "    text = re.sub(r'\\S+www\\S+', '', text)\n",
    "    \n",
    "    \n",
    "    # Remove stop words\n",
    "    text = text.split()\n",
    "    text_filtered = text\n",
    "    if stopwords == True:\n",
    "        useless_words = nltk.corpus.stopwords.words(\"english\")\n",
    "#         useless_words = useless_words + ['hi', 'im']\n",
    "\n",
    "        text_filtered = [word for word in text if not word in useless_words]\n",
    "\n",
    "        # Remove numbers\n",
    "        text_filtered = [re.sub(r'\\w*\\d\\w*', '', w) for w in text_filtered]\n",
    "#     else:\n",
    "#         text_filtered = text\n",
    "    # Stem or Lemmatize\n",
    "    if stem == 'Stem':\n",
    "        stemmer = PorterStemmer() \n",
    "        text_stemmed = [stemmer.stem(y) for y in text_filtered]\n",
    "    elif stem == 'Lem':\n",
    "        lem = WordNetLemmatizer()\n",
    "        text_stemmed = [lem.lemmatize(y) for y in text_filtered]\n",
    "    elif stem == 'Spacy':\n",
    "        text_filtered = nlp(' '.join(text_filtered))\n",
    "        text_stemmed = [y.lemma_ for y in text_filtered]\n",
    "    else:\n",
    "        text_stemmed = text_filtered\n",
    "\n",
    "    final_string = ' '.join(text_stemmed)\n",
    "\n",
    "    return final_string"
   ]
  },
  {
   "cell_type": "code",
   "execution_count": 7,
   "id": "7fa5406d",
   "metadata": {},
   "outputs": [],
   "source": [
    "data_df2 = data_df.copy()"
   ]
  },
  {
   "cell_type": "code",
   "execution_count": 8,
   "id": "fde04174",
   "metadata": {},
   "outputs": [],
   "source": [
    "data_df2['post_text'] = data_df2['post_text'].astype(str)"
   ]
  },
  {
   "cell_type": "code",
   "execution_count": 9,
   "id": "a38cd82e",
   "metadata": {},
   "outputs": [],
   "source": [
    "data_df2['post_text_cleaned'] = data_df2['post_text'].apply(lambda x: clean_string(x, stopwords = True, stem='Lem'))\n"
   ]
  },
  {
   "cell_type": "code",
   "execution_count": 10,
   "id": "65158913",
   "metadata": {},
   "outputs": [
    {
     "data": {
      "text/plain": [
       "0         thanks follow! followed back :) wanna kick but...\n",
       "1                i've decided crazy goal running triathlon.\n",
       "2         umm, yeah, assisted pull-ups. everyone start t...\n",
       "3                  dam gurl lookin mad tone dat pp holla bb\n",
       "4                                         what's bear mode?\n",
       "                                ...                        \n",
       "318530    ok, lazy since joined. made promise sedentary ...\n",
       "318531    need verbal ass-kicking. laziness strong today...\n",
       "318532                                       thanks props!!\n",
       "318533    hi loolou! welcome fitocracy! :) ask... exerci...\n",
       "318534    welcome! thanks following! gladly following back!\n",
       "Name: post_text_cleaned, Length: 318535, dtype: object"
      ]
     },
     "execution_count": 10,
     "metadata": {},
     "output_type": "execute_result"
    }
   ],
   "source": [
    "data_df2['post_text_cleaned']"
   ]
  },
  {
   "cell_type": "code",
   "execution_count": 11,
   "id": "2ca74664",
   "metadata": {},
   "outputs": [],
   "source": [
    "data_df2['post_text_cleaned1'] = data_df2['post_text_cleaned'].str.split()"
   ]
  },
  {
   "cell_type": "code",
   "execution_count": 12,
   "id": "0e7da84d",
   "metadata": {},
   "outputs": [
    {
     "data": {
      "text/plain": [
       "0         [thanks, follow!, followed, back, :), wanna, k...\n",
       "1         [i've, decided, crazy, goal, running, triathlon.]\n",
       "2         [umm,, yeah,, assisted, pull-ups., everyone, s...\n",
       "3         [dam, gurl, lookin, mad, tone, dat, pp, holla,...\n",
       "4                                     [what's, bear, mode?]\n",
       "                                ...                        \n",
       "318530    [ok,, lazy, since, joined., made, promise, sed...\n",
       "318531    [need, verbal, ass-kicking., laziness, strong,...\n",
       "318532                                    [thanks, props!!]\n",
       "318533    [hi, loolou!, welcome, fitocracy!, :), ask...,...\n",
       "318534    [welcome!, thanks, following!, gladly, followi...\n",
       "Name: post_text_cleaned1, Length: 318535, dtype: object"
      ]
     },
     "execution_count": 12,
     "metadata": {},
     "output_type": "execute_result"
    }
   ],
   "source": [
    "data_df2['post_text_cleaned1']"
   ]
  },
  {
   "cell_type": "code",
   "execution_count": 13,
   "id": "e4735033",
   "metadata": {},
   "outputs": [
    {
     "data": {
      "text/plain": [
       "0         thanks follow! followed back :) wanna kick but...\n",
       "1                i've decided crazy goal running triathlon.\n",
       "2         umm, yeah, assisted pull-ups. everyone start t...\n",
       "3                  dam gurl lookin mad tone dat pp holla bb\n",
       "4                                         what's bear mode?\n",
       "                                ...                        \n",
       "318530    ok, lazy since joined. made promise sedentary ...\n",
       "318531    need verbal ass-kicking. laziness strong today...\n",
       "318532                                       thanks props!!\n",
       "318533    hi loolou! welcome fitocracy! :) ask... exerci...\n",
       "318534    welcome! thanks following! gladly following back!\n",
       "Name: post_text_cleaned, Length: 318535, dtype: object"
      ]
     },
     "execution_count": 13,
     "metadata": {},
     "output_type": "execute_result"
    }
   ],
   "source": [
    "data_df2['post_text_cleaned']"
   ]
  },
  {
   "cell_type": "code",
   "execution_count": 14,
   "id": "f4ec524f",
   "metadata": {},
   "outputs": [],
   "source": [
    "data_df2.to_csv(\"./preprocessed_data/fitness_posts_preprocssed_lem_stopwords_removal.csv\")"
   ]
  },
  {
   "cell_type": "code",
   "execution_count": 15,
   "id": "f18812f2",
   "metadata": {},
   "outputs": [
    {
     "name": "stdout",
     "output_type": "stream",
     "text": [
      "  op_gender                                  post_text_cleaned\n",
      "0         M  dam gurl lookin mad tone dat pp holla bb what'...\n",
      "1         W  thanks follow! followed back :) wanna kick but...\n"
     ]
    }
   ],
   "source": [
    "all_words1 = ''\n",
    "all_words = data_df2.groupby(['op_gender']).agg({'post_text_cleaned': ' '.join}).reset_index()\n",
    "print(all_words)\n"
   ]
  },
  {
   "cell_type": "code",
   "execution_count": 16,
   "id": "64264244",
   "metadata": {},
   "outputs": [
    {
     "data": {
      "text/plain": [
       "0    dam gurl lookin mad tone dat pp holla bb what'...\n",
       "Name: post_text_cleaned, dtype: object"
      ]
     },
     "execution_count": 16,
     "metadata": {},
     "output_type": "execute_result"
    }
   ],
   "source": [
    "\n",
    "\n",
    "\n",
    "all_words[all_words['op_gender']=='M']['post_text_cleaned']"
   ]
  },
  {
   "cell_type": "code",
   "execution_count": 17,
   "id": "9ad2c1c2",
   "metadata": {},
   "outputs": [],
   "source": [
    "#the NLTK FreqDist gives a count for how often each part of the text occurs\n",
    "fd_wct1_M = FreqDist(all_words[all_words['op_gender']=='M']['post_text_cleaned'][0].split())\n",
    "# fd_wct1_M"
   ]
  },
  {
   "cell_type": "code",
   "execution_count": 20,
   "id": "e7a1e324",
   "metadata": {},
   "outputs": [],
   "source": [
    "fd_wct1_F = FreqDist(all_words[all_words['op_gender']=='W']['post_text_cleaned'].values[0].split(\" \"))\n"
   ]
  },
  {
   "cell_type": "code",
   "execution_count": null,
   "id": "ddfd1a95",
   "metadata": {},
   "outputs": [],
   "source": []
  },
  {
   "cell_type": "code",
   "execution_count": 21,
   "id": "a627cc8b",
   "metadata": {},
   "outputs": [
    {
     "name": "stdout",
     "output_type": "stream",
     "text": [
      "[('thanks', 48539), ('joined', 27979), ('group!', 27647), ('-', 18817), ('follow', 14621), ('fitocracy', 14558), ('welcome', 14473), ('following', 14297), ('back', 13759), ('wtf', 12569), (':)', 12060), (\"i'm\", 11997), ('follow!', 10456), ('prop', 9187), ('get', 9125), ('good', 8406), ('like', 8187), ('back!', 7577), ('workout', 6272), ('new', 6119), ('follow,', 5645), ('back.', 5640), ('day', 5531), ('follow.', 5424), ('hey', 5231), ('time', 5105), ('keep', 4982), ('gym', 4982), ('great', 4903), ('going', 4901), ('see', 4716), ('work', 4460), ('got', 4454), ('one', 4262), ('look', 4076), (\"i've\", 3978), ('thank', 3944), ('know', 3800), ('nice', 3721), ('week', 3680)]\n"
     ]
    }
   ],
   "source": [
    "print(fd_wct1_M.most_common(40))\n"
   ]
  },
  {
   "cell_type": "code",
   "execution_count": 22,
   "id": "986128c2",
   "metadata": {},
   "outputs": [
    {
     "name": "stdout",
     "output_type": "stream",
     "text": [
      "[('thanks', 40781), ('joined', 29058), ('group!', 28618), (':)', 21761), ('', 17820), ('-', 15521), ('fitocracy', 15454), ('following', 13734), (\"i'm\", 13654), ('follow!', 13574), ('back', 13277), ('welcome', 11915), ('follow', 10914), ('wtf', 10331), ('get', 8081), ('weight', 7342), ('like', 6730), ('back!', 6728), ('prop', 6352), ('good', 5768), ('workout', 5464), ('day', 5267), ('love', 5183), ('new', 4850), ('thank', 4610), ('going', 4501), ('time', 4321), ('girl', 4292), (':d', 4288), (\"i've\", 4191), ('barbie', 4115), ('follow,', 4104), ('work', 4066), ('strong', 3977), ('gone', 3917), ('gym', 3881), ('really', 3791), ('one', 3630), ('got', 3560), ('know', 3538)]\n"
     ]
    }
   ],
   "source": [
    "print(fd_wct1_F.most_common(40))\n"
   ]
  },
  {
   "cell_type": "code",
   "execution_count": 23,
   "id": "19e2d0ca",
   "metadata": {},
   "outputs": [
    {
     "data": {
      "text/plain": [
       "FreqDist({'thanks': 48539, 'joined': 27979, 'group!': 27647, '-': 18817, 'follow': 14621, 'fitocracy': 14558, 'welcome': 14473, 'following': 14297, 'back': 13759, 'wtf': 12569, ...})"
      ]
     },
     "execution_count": 23,
     "metadata": {},
     "output_type": "execute_result"
    }
   ],
   "source": [
    "fd_wct1_M"
   ]
  },
  {
   "cell_type": "code",
   "execution_count": 24,
   "id": "429cfbde",
   "metadata": {},
   "outputs": [],
   "source": [
    "vectorizer = CountVectorizer()\n",
    "X = vectorizer.fit_transform(data_df2['post_text_cleaned'])\n",
    "features = vectorizer.get_feature_names_out()\n",
    "y = data_df2['op_gender']"
   ]
  },
  {
   "cell_type": "code",
   "execution_count": 25,
   "id": "1c71c252",
   "metadata": {},
   "outputs": [
    {
     "name": "stdout",
     "output_type": "stream",
     "text": [
      "['__' '___' '____' '_____' '______' '_______' '________' '___________'\n",
      " '_____________' '_________________' '_________________________'\n",
      " '__________________________________'\n",
      " '____________________________________'\n",
      " '_________________________________________________________________________keep'\n",
      " '_again_' '_any_' '_atlas_' '_awe_' '_bomb_' '_don' '_everywhere_'\n",
      " '_exactly_' '_excuse_' '_fabulous_' '_fantastic_' '_fluff_' '_great_'\n",
      " '_i_' '_idea_' '_is_']\n"
     ]
    }
   ],
   "source": [
    "print(features[:30])"
   ]
  },
  {
   "cell_type": "code",
   "execution_count": 26,
   "id": "7a5c3684",
   "metadata": {},
   "outputs": [
    {
     "data": {
      "text/plain": [
       "((318535, 59315), 318535, 59315)"
      ]
     },
     "execution_count": 26,
     "metadata": {},
     "output_type": "execute_result"
    }
   ],
   "source": [
    "X.shape, len(y), len(features)"
   ]
  },
  {
   "cell_type": "code",
   "execution_count": 27,
   "id": "b913b628",
   "metadata": {},
   "outputs": [],
   "source": [
    "from sklearn.model_selection import train_test_split\n",
    "X_train, X_test, y_train, y_test = train_test_split(X, y, test_size=0.33, random_state=42)"
   ]
  },
  {
   "cell_type": "code",
   "execution_count": 28,
   "id": "65a75897",
   "metadata": {},
   "outputs": [
    {
     "name": "stdout",
     "output_type": "stream",
     "text": [
      "['W' 'M']\n",
      "[[0.26712359 0.73287641]\n",
      " [0.58039469 0.41960531]]\n"
     ]
    }
   ],
   "source": [
    "clf = LogisticRegression(random_state=0).fit(X_train, y_train)\n",
    "print(clf.predict(X[:2, :]))\n",
    "print(clf.predict_proba(X[:2, :]))\n",
    "# >>> clf.score(X, y)"
   ]
  },
  {
   "cell_type": "code",
   "execution_count": 29,
   "id": "93e226a3",
   "metadata": {},
   "outputs": [
    {
     "data": {
      "text/plain": [
       "0    W\n",
       "1    W\n",
       "Name: op_gender, dtype: object"
      ]
     },
     "execution_count": 29,
     "metadata": {},
     "output_type": "execute_result"
    }
   ],
   "source": [
    "y[:2]"
   ]
  },
  {
   "cell_type": "code",
   "execution_count": 30,
   "id": "3fbb00e5",
   "metadata": {},
   "outputs": [
    {
     "name": "stdout",
     "output_type": "stream",
     "text": [
      "Best: 0.628986 using {'C': 0.1, 'penalty': 'l2'}\n",
      "0.622895 (0.001855) with: {'C': 100, 'penalty': 'l2'}\n",
      "0.622173 (0.001197) with: {'C': 10, 'penalty': 'l2'}\n",
      "0.626648 (0.002636) with: {'C': 1.0, 'penalty': 'l2'}\n",
      "0.628986 (0.002462) with: {'C': 0.1, 'penalty': 'l2'}\n",
      "0.619981 (0.001518) with: {'C': 0.01, 'penalty': 'l2'}\n"
     ]
    }
   ],
   "source": [
    "from sklearn.datasets import make_blobs\n",
    "from sklearn.model_selection import StratifiedKFold\n",
    "from sklearn.model_selection import GridSearchCV\n",
    "from sklearn.linear_model import LogisticRegression\n",
    "\n",
    "model = LogisticRegression()\n",
    "# solvers = ['newton-cg', 'lbfgs', 'liblinear']\n",
    "penalty = ['l2']\n",
    "c_values = [100, 10, 1.0, 0.1, 0.01]\n",
    "# define grid search\n",
    "# grid = dict(solver=solvers,penalty=penalty,C=c_values)\n",
    "grid = dict(penalty=penalty,C=c_values)\n",
    "cv = StratifiedKFold(n_splits=5,  shuffle = True, random_state=1)\n",
    "grid_search = GridSearchCV(estimator=model, param_grid=grid, n_jobs=-1, cv=cv, scoring='accuracy',error_score=0)\n",
    "grid_result = grid_search.fit(X_train, y_train)\n",
    "# summarize results\n",
    "print(\"Best: %f using %s\" % (grid_result.best_score_, grid_result.best_params_))\n",
    "means = grid_result.cv_results_['mean_test_score']\n",
    "stds = grid_result.cv_results_['std_test_score']\n",
    "params = grid_result.cv_results_['params']\n",
    "for mean, stdev, param in zip(means, stds, params):\n",
    "    print(\"%f (%f) with: %r\" % (mean, stdev, param))"
   ]
  },
  {
   "cell_type": "code",
   "execution_count": 31,
   "id": "4dbd8e44",
   "metadata": {},
   "outputs": [
    {
     "name": "stdout",
     "output_type": "stream",
     "text": [
      "test accuracy :  0.6291180303851899\n"
     ]
    }
   ],
   "source": [
    "test_pred = grid_result.predict(X_test)\n",
    "from sklearn.metrics import accuracy_score\n",
    "test_acc = accuracy_score(y_test, test_pred)\n",
    "print(\"test accuracy : \", test_acc)"
   ]
  },
  {
   "cell_type": "code",
   "execution_count": 32,
   "id": "e6dcfafd",
   "metadata": {},
   "outputs": [
    {
     "name": "stdout",
     "output_type": "stream",
     "text": [
      "overall accuracy :  0.6463496946960302\n"
     ]
    }
   ],
   "source": [
    "all_pred = grid_result.predict(X)\n",
    "from sklearn.metrics import accuracy_score\n",
    "all_acc = accuracy_score(y, all_pred)\n",
    "print(\"overall accuracy : \", all_acc)"
   ]
  },
  {
   "cell_type": "code",
   "execution_count": 33,
   "id": "e8587f12",
   "metadata": {},
   "outputs": [
    {
     "data": {
      "text/plain": [
       "{'C': 0.1, 'penalty': 'l2'}"
      ]
     },
     "execution_count": 33,
     "metadata": {},
     "output_type": "execute_result"
    }
   ],
   "source": [
    "grid_result.best_params_"
   ]
  },
  {
   "cell_type": "code",
   "execution_count": 34,
   "id": "faec87af",
   "metadata": {},
   "outputs": [
    {
     "data": {
      "text/html": [
       "<div>\n",
       "<style scoped>\n",
       "    .dataframe tbody tr th:only-of-type {\n",
       "        vertical-align: middle;\n",
       "    }\n",
       "\n",
       "    .dataframe tbody tr th {\n",
       "        vertical-align: top;\n",
       "    }\n",
       "\n",
       "    .dataframe thead th {\n",
       "        text-align: right;\n",
       "    }\n",
       "</style>\n",
       "<table border=\"1\" class=\"dataframe\">\n",
       "  <thead>\n",
       "    <tr style=\"text-align: right;\">\n",
       "      <th></th>\n",
       "      <th>importance</th>\n",
       "      <th>features</th>\n",
       "    </tr>\n",
       "  </thead>\n",
       "  <tbody>\n",
       "    <tr>\n",
       "      <th>0</th>\n",
       "      <td>0.540685</td>\n",
       "      <td>__</td>\n",
       "    </tr>\n",
       "    <tr>\n",
       "      <th>1</th>\n",
       "      <td>0.125821</td>\n",
       "      <td>___</td>\n",
       "    </tr>\n",
       "    <tr>\n",
       "      <th>2</th>\n",
       "      <td>0.032827</td>\n",
       "      <td>____</td>\n",
       "    </tr>\n",
       "    <tr>\n",
       "      <th>3</th>\n",
       "      <td>-0.056392</td>\n",
       "      <td>_____</td>\n",
       "    </tr>\n",
       "    <tr>\n",
       "      <th>4</th>\n",
       "      <td>-0.054158</td>\n",
       "      <td>______</td>\n",
       "    </tr>\n",
       "    <tr>\n",
       "      <th>...</th>\n",
       "      <td>...</td>\n",
       "      <td>...</td>\n",
       "    </tr>\n",
       "    <tr>\n",
       "      <th>59310</th>\n",
       "      <td>0.044675</td>\n",
       "      <td>zzzzzzzzzzzzzz</td>\n",
       "    </tr>\n",
       "    <tr>\n",
       "      <th>59311</th>\n",
       "      <td>-0.036337</td>\n",
       "      <td>zzzzzzzzzzzzzzz</td>\n",
       "    </tr>\n",
       "    <tr>\n",
       "      <th>59312</th>\n",
       "      <td>-0.025522</td>\n",
       "      <td>zzzzzzzzzzzzzzzzzzz</td>\n",
       "    </tr>\n",
       "    <tr>\n",
       "      <th>59313</th>\n",
       "      <td>0.000000</td>\n",
       "      <td>zzzzzzzzzzzzzzzzzzzzz</td>\n",
       "    </tr>\n",
       "    <tr>\n",
       "      <th>59314</th>\n",
       "      <td>0.036138</td>\n",
       "      <td>zzzzzzzzzzzzzzzzzzzzzz</td>\n",
       "    </tr>\n",
       "  </tbody>\n",
       "</table>\n",
       "<p>59315 rows × 2 columns</p>\n",
       "</div>"
      ],
      "text/plain": [
       "       importance                features\n",
       "0        0.540685                      __\n",
       "1        0.125821                     ___\n",
       "2        0.032827                    ____\n",
       "3       -0.056392                   _____\n",
       "4       -0.054158                  ______\n",
       "...           ...                     ...\n",
       "59310    0.044675          zzzzzzzzzzzzzz\n",
       "59311   -0.036337         zzzzzzzzzzzzzzz\n",
       "59312   -0.025522     zzzzzzzzzzzzzzzzzzz\n",
       "59313    0.000000   zzzzzzzzzzzzzzzzzzzzz\n",
       "59314    0.036138  zzzzzzzzzzzzzzzzzzzzzz\n",
       "\n",
       "[59315 rows x 2 columns]"
      ]
     },
     "execution_count": 34,
     "metadata": {},
     "output_type": "execute_result"
    }
   ],
   "source": [
    "# get importance\n",
    "importance = grid_result.best_estimator_.coef_[0]\n",
    "feature_importance = pd.DataFrame({\"importance\":importance, \"features\":features})\n",
    "feature_importance"
   ]
  },
  {
   "cell_type": "code",
   "execution_count": 35,
   "id": "f4b94606",
   "metadata": {},
   "outputs": [
    {
     "data": {
      "text/html": [
       "<div>\n",
       "<style scoped>\n",
       "    .dataframe tbody tr th:only-of-type {\n",
       "        vertical-align: middle;\n",
       "    }\n",
       "\n",
       "    .dataframe tbody tr th {\n",
       "        vertical-align: top;\n",
       "    }\n",
       "\n",
       "    .dataframe thead th {\n",
       "        text-align: right;\n",
       "    }\n",
       "</style>\n",
       "<table border=\"1\" class=\"dataframe\">\n",
       "  <thead>\n",
       "    <tr style=\"text-align: right;\">\n",
       "      <th></th>\n",
       "      <th>importance</th>\n",
       "      <th>features</th>\n",
       "    </tr>\n",
       "  </thead>\n",
       "  <tbody>\n",
       "    <tr>\n",
       "      <th>14688</th>\n",
       "      <td>0.000000</td>\n",
       "      <td>dreadmill</td>\n",
       "    </tr>\n",
       "    <tr>\n",
       "      <th>13426</th>\n",
       "      <td>0.000000</td>\n",
       "      <td>diabetis</td>\n",
       "    </tr>\n",
       "    <tr>\n",
       "      <th>13427</th>\n",
       "      <td>0.000000</td>\n",
       "      <td>diabled</td>\n",
       "    </tr>\n",
       "    <tr>\n",
       "      <th>45226</th>\n",
       "      <td>0.000000</td>\n",
       "      <td>schminjury</td>\n",
       "    </tr>\n",
       "    <tr>\n",
       "      <th>13430</th>\n",
       "      <td>0.000000</td>\n",
       "      <td>diabolicalkitty</td>\n",
       "    </tr>\n",
       "    <tr>\n",
       "      <th>...</th>\n",
       "      <td>...</td>\n",
       "      <td>...</td>\n",
       "    </tr>\n",
       "    <tr>\n",
       "      <th>6769</th>\n",
       "      <td>-1.674249</td>\n",
       "      <td>bro</td>\n",
       "    </tr>\n",
       "    <tr>\n",
       "      <th>30076</th>\n",
       "      <td>1.715621</td>\n",
       "      <td>lifter</td>\n",
       "    </tr>\n",
       "    <tr>\n",
       "      <th>32090</th>\n",
       "      <td>-1.906332</td>\n",
       "      <td>mate</td>\n",
       "    </tr>\n",
       "    <tr>\n",
       "      <th>1989</th>\n",
       "      <td>2.499534</td>\n",
       "      <td>angel</td>\n",
       "    </tr>\n",
       "    <tr>\n",
       "      <th>4078</th>\n",
       "      <td>3.908163</td>\n",
       "      <td>barbie</td>\n",
       "    </tr>\n",
       "  </tbody>\n",
       "</table>\n",
       "<p>59315 rows × 2 columns</p>\n",
       "</div>"
      ],
      "text/plain": [
       "       importance         features\n",
       "14688    0.000000        dreadmill\n",
       "13426    0.000000         diabetis\n",
       "13427    0.000000          diabled\n",
       "45226    0.000000       schminjury\n",
       "13430    0.000000  diabolicalkitty\n",
       "...           ...              ...\n",
       "6769    -1.674249              bro\n",
       "30076    1.715621           lifter\n",
       "32090   -1.906332             mate\n",
       "1989     2.499534            angel\n",
       "4078     3.908163           barbie\n",
       "\n",
       "[59315 rows x 2 columns]"
      ]
     },
     "execution_count": 35,
     "metadata": {},
     "output_type": "execute_result"
    }
   ],
   "source": [
    "feature_importance.sort_values(['importance'],  key=abs, inplace=True)\n",
    "feature_importance\n"
   ]
  },
  {
   "cell_type": "code",
   "execution_count": 36,
   "id": "346db448",
   "metadata": {},
   "outputs": [
    {
     "data": {
      "image/png": "[encoded data removed]",
      "text/plain": [
       "<Figure size 1440x720 with 1 Axes>"
      ]
     },
     "metadata": {
      "needs_background": "light"
     },
     "output_type": "display_data"
    }
   ],
   "source": [
    "# plot feature importance\n",
    "plt.figure(figsize=(20, 10))\n",
    "plt.bar(feature_importance['features'][-30:], feature_importance['importance'][-30:], width = 0.4)\n",
    "plt.xticks(rotation=45)\n",
    "plt.show()"
   ]
  },
  {
   "cell_type": "code",
   "execution_count": 37,
   "id": "8d989c21",
   "metadata": {},
   "outputs": [],
   "source": [
    "# visualize most freuquent words"
   ]
  },
  {
   "cell_type": "code",
   "execution_count": 38,
   "id": "47c25776",
   "metadata": {},
   "outputs": [],
   "source": [
    "vectorizer = TfidfVectorizer()\n",
    "X = vectorizer.fit_transform(data_df2['post_text_cleaned'])\n",
    "features = vectorizer.get_feature_names_out()\n",
    "y = data_df2['op_gender']"
   ]
  },
  {
   "cell_type": "code",
   "execution_count": 39,
   "id": "cc8566d5",
   "metadata": {},
   "outputs": [
    {
     "name": "stdout",
     "output_type": "stream",
     "text": [
      "['__' '___' '____' '_____' '______' '_______' '________' '___________'\n",
      " '_____________' '_________________' '_________________________'\n",
      " '__________________________________'\n",
      " '____________________________________'\n",
      " '_________________________________________________________________________keep'\n",
      " '_again_' '_any_' '_atlas_' '_awe_' '_bomb_' '_don' '_everywhere_'\n",
      " '_exactly_' '_excuse_' '_fabulous_' '_fantastic_' '_fluff_' '_great_'\n",
      " '_i_' '_idea_' '_is_']\n"
     ]
    }
   ],
   "source": [
    "print(features[:30])"
   ]
  },
  {
   "cell_type": "code",
   "execution_count": 40,
   "id": "e6f8ad9e",
   "metadata": {},
   "outputs": [
    {
     "data": {
      "text/plain": [
       "((318535, 59315), 318535, 59315)"
      ]
     },
     "execution_count": 40,
     "metadata": {},
     "output_type": "execute_result"
    }
   ],
   "source": [
    "X.shape, len(y), len(features)"
   ]
  },
  {
   "cell_type": "code",
   "execution_count": 41,
   "id": "4814d1d4",
   "metadata": {},
   "outputs": [],
   "source": [
    "from sklearn.model_selection import train_test_split\n",
    "X_train, X_test, y_train, y_test = train_test_split(X, y, test_size=0.33, random_state=42)"
   ]
  },
  {
   "cell_type": "code",
   "execution_count": 42,
   "id": "325c6590",
   "metadata": {},
   "outputs": [
    {
     "name": "stdout",
     "output_type": "stream",
     "text": [
      "['W' 'M']\n",
      "[[0.29242348 0.70757652]\n",
      " [0.51693134 0.48306866]]\n"
     ]
    }
   ],
   "source": [
    "clf = LogisticRegression(random_state=0).fit(X_train, y_train)\n",
    "print(clf.predict(X[:2, :]))\n",
    "print(clf.predict_proba(X[:2, :]))\n",
    "# >>> clf.score(X, y)"
   ]
  },
  {
   "cell_type": "code",
   "execution_count": 43,
   "id": "5f4e8f72",
   "metadata": {},
   "outputs": [
    {
     "data": {
      "text/plain": [
       "0    W\n",
       "1    W\n",
       "Name: op_gender, dtype: object"
      ]
     },
     "execution_count": 43,
     "metadata": {},
     "output_type": "execute_result"
    }
   ],
   "source": [
    "y[:2]"
   ]
  },
  {
   "cell_type": "code",
   "execution_count": 44,
   "id": "10b9e8ce",
   "metadata": {},
   "outputs": [
    {
     "name": "stdout",
     "output_type": "stream",
     "text": [
      "Best: 0.634342 using {'C': 1.0, 'penalty': 'l2'}\n",
      "0.626882 (0.000472) with: {'C': 100, 'penalty': 'l2'}\n",
      "0.627651 (0.001087) with: {'C': 10, 'penalty': 'l2'}\n",
      "0.634342 (0.001778) with: {'C': 1.0, 'penalty': 'l2'}\n",
      "0.627988 (0.001753) with: {'C': 0.1, 'penalty': 'l2'}\n",
      "0.600807 (0.001618) with: {'C': 0.01, 'penalty': 'l2'}\n"
     ]
    }
   ],
   "source": [
    "from sklearn.datasets import make_blobs\n",
    "from sklearn.model_selection import StratifiedKFold\n",
    "from sklearn.model_selection import GridSearchCV\n",
    "from sklearn.linear_model import LogisticRegression\n",
    "\n",
    "model = LogisticRegression()\n",
    "# solvers = ['newton-cg', 'lbfgs', 'liblinear']\n",
    "penalty = ['l2']\n",
    "c_values = [100, 10, 1.0, 0.1, 0.01]\n",
    "# define grid search\n",
    "# grid = dict(solver=solvers,penalty=penalty,C=c_values)\n",
    "grid = dict(penalty=penalty,C=c_values)\n",
    "cv = StratifiedKFold(n_splits=5,  shuffle = True, random_state=1)\n",
    "grid_search = GridSearchCV(estimator=model, param_grid=grid, n_jobs=-1, cv=cv, scoring='accuracy',error_score=0)\n",
    "grid_result = grid_search.fit(X_train, y_train)\n",
    "# summarize results\n",
    "print(\"Best: %f using %s\" % (grid_result.best_score_, grid_result.best_params_))\n",
    "means = grid_result.cv_results_['mean_test_score']\n",
    "stds = grid_result.cv_results_['std_test_score']\n",
    "params = grid_result.cv_results_['params']\n",
    "for mean, stdev, param in zip(means, stds, params):\n",
    "    print(\"%f (%f) with: %r\" % (mean, stdev, param))"
   ]
  },
  {
   "cell_type": "code",
   "execution_count": 45,
   "id": "5e3a4fdf",
   "metadata": {},
   "outputs": [
    {
     "name": "stdout",
     "output_type": "stream",
     "text": [
      "test accuracy :  0.6343978614305964\n"
     ]
    }
   ],
   "source": [
    "test_pred = grid_result.predict(X_test)\n",
    "from sklearn.metrics import accuracy_score\n",
    "test_acc = accuracy_score(y_test, test_pred)\n",
    "print(\"test accuracy : \", test_acc)"
   ]
  },
  {
   "cell_type": "code",
   "execution_count": 46,
   "id": "25db475f",
   "metadata": {},
   "outputs": [
    {
     "name": "stdout",
     "output_type": "stream",
     "text": [
      "overall accuracy :  0.6587156827350212\n"
     ]
    }
   ],
   "source": [
    "all_pred = grid_result.predict(X)\n",
    "from sklearn.metrics import accuracy_score\n",
    "all_acc = accuracy_score(y, all_pred)\n",
    "print(\"overall accuracy : \", all_acc)"
   ]
  },
  {
   "cell_type": "code",
   "execution_count": 47,
   "id": "aa24cda1",
   "metadata": {},
   "outputs": [
    {
     "data": {
      "text/plain": [
       "{'C': 1.0, 'penalty': 'l2'}"
      ]
     },
     "execution_count": 47,
     "metadata": {},
     "output_type": "execute_result"
    }
   ],
   "source": [
    "grid_result.best_params_"
   ]
  },
  {
   "cell_type": "code",
   "execution_count": 48,
   "id": "f22253a4",
   "metadata": {},
   "outputs": [
    {
     "data": {
      "text/html": [
       "<div>\n",
       "<style scoped>\n",
       "    .dataframe tbody tr th:only-of-type {\n",
       "        vertical-align: middle;\n",
       "    }\n",
       "\n",
       "    .dataframe tbody tr th {\n",
       "        vertical-align: top;\n",
       "    }\n",
       "\n",
       "    .dataframe thead th {\n",
       "        text-align: right;\n",
       "    }\n",
       "</style>\n",
       "<table border=\"1\" class=\"dataframe\">\n",
       "  <thead>\n",
       "    <tr style=\"text-align: right;\">\n",
       "      <th></th>\n",
       "      <th>importance</th>\n",
       "      <th>features</th>\n",
       "    </tr>\n",
       "  </thead>\n",
       "  <tbody>\n",
       "    <tr>\n",
       "      <th>0</th>\n",
       "      <td>2.340326</td>\n",
       "      <td>__</td>\n",
       "    </tr>\n",
       "    <tr>\n",
       "      <th>1</th>\n",
       "      <td>0.769659</td>\n",
       "      <td>___</td>\n",
       "    </tr>\n",
       "    <tr>\n",
       "      <th>2</th>\n",
       "      <td>0.094181</td>\n",
       "      <td>____</td>\n",
       "    </tr>\n",
       "    <tr>\n",
       "      <th>3</th>\n",
       "      <td>0.231952</td>\n",
       "      <td>_____</td>\n",
       "    </tr>\n",
       "    <tr>\n",
       "      <th>4</th>\n",
       "      <td>-0.248190</td>\n",
       "      <td>______</td>\n",
       "    </tr>\n",
       "    <tr>\n",
       "      <th>...</th>\n",
       "      <td>...</td>\n",
       "      <td>...</td>\n",
       "    </tr>\n",
       "    <tr>\n",
       "      <th>59310</th>\n",
       "      <td>0.117992</td>\n",
       "      <td>zzzzzzzzzzzzzz</td>\n",
       "    </tr>\n",
       "    <tr>\n",
       "      <th>59311</th>\n",
       "      <td>-0.221998</td>\n",
       "      <td>zzzzzzzzzzzzzzz</td>\n",
       "    </tr>\n",
       "    <tr>\n",
       "      <th>59312</th>\n",
       "      <td>-0.082427</td>\n",
       "      <td>zzzzzzzzzzzzzzzzzzz</td>\n",
       "    </tr>\n",
       "    <tr>\n",
       "      <th>59313</th>\n",
       "      <td>0.000000</td>\n",
       "      <td>zzzzzzzzzzzzzzzzzzzzz</td>\n",
       "    </tr>\n",
       "    <tr>\n",
       "      <th>59314</th>\n",
       "      <td>0.146557</td>\n",
       "      <td>zzzzzzzzzzzzzzzzzzzzzz</td>\n",
       "    </tr>\n",
       "  </tbody>\n",
       "</table>\n",
       "<p>59315 rows × 2 columns</p>\n",
       "</div>"
      ],
      "text/plain": [
       "       importance                features\n",
       "0        2.340326                      __\n",
       "1        0.769659                     ___\n",
       "2        0.094181                    ____\n",
       "3        0.231952                   _____\n",
       "4       -0.248190                  ______\n",
       "...           ...                     ...\n",
       "59310    0.117992          zzzzzzzzzzzzzz\n",
       "59311   -0.221998         zzzzzzzzzzzzzzz\n",
       "59312   -0.082427     zzzzzzzzzzzzzzzzzzz\n",
       "59313    0.000000   zzzzzzzzzzzzzzzzzzzzz\n",
       "59314    0.146557  zzzzzzzzzzzzzzzzzzzzzz\n",
       "\n",
       "[59315 rows x 2 columns]"
      ]
     },
     "execution_count": 48,
     "metadata": {},
     "output_type": "execute_result"
    }
   ],
   "source": [
    "# get importance\n",
    "importance = grid_result.best_estimator_.coef_[0]\n",
    "feature_importance = pd.DataFrame({\"importance\":importance, \"features\":features})\n",
    "feature_importance"
   ]
  },
  {
   "cell_type": "code",
   "execution_count": 49,
   "id": "d9b5dac4",
   "metadata": {},
   "outputs": [
    {
     "data": {
      "text/html": [
       "<div>\n",
       "<style scoped>\n",
       "    .dataframe tbody tr th:only-of-type {\n",
       "        vertical-align: middle;\n",
       "    }\n",
       "\n",
       "    .dataframe tbody tr th {\n",
       "        vertical-align: top;\n",
       "    }\n",
       "\n",
       "    .dataframe thead th {\n",
       "        text-align: right;\n",
       "    }\n",
       "</style>\n",
       "<table border=\"1\" class=\"dataframe\">\n",
       "  <thead>\n",
       "    <tr style=\"text-align: right;\">\n",
       "      <th></th>\n",
       "      <th>importance</th>\n",
       "      <th>features</th>\n",
       "    </tr>\n",
       "  </thead>\n",
       "  <tbody>\n",
       "    <tr>\n",
       "      <th>56237</th>\n",
       "      <td>0.000000</td>\n",
       "      <td>wallking</td>\n",
       "    </tr>\n",
       "    <tr>\n",
       "      <th>30511</th>\n",
       "      <td>0.000000</td>\n",
       "      <td>lobotomy</td>\n",
       "    </tr>\n",
       "    <tr>\n",
       "      <th>52300</th>\n",
       "      <td>0.000000</td>\n",
       "      <td>thsi</td>\n",
       "    </tr>\n",
       "    <tr>\n",
       "      <th>55714</th>\n",
       "      <td>0.000000</td>\n",
       "      <td>vimeo</td>\n",
       "    </tr>\n",
       "    <tr>\n",
       "      <th>41341</th>\n",
       "      <td>0.000000</td>\n",
       "      <td>purr</td>\n",
       "    </tr>\n",
       "    <tr>\n",
       "      <th>...</th>\n",
       "      <td>...</td>\n",
       "      <td>...</td>\n",
       "    </tr>\n",
       "    <tr>\n",
       "      <th>24843</th>\n",
       "      <td>4.110160</td>\n",
       "      <td>husband</td>\n",
       "    </tr>\n",
       "    <tr>\n",
       "      <th>6397</th>\n",
       "      <td>4.242021</td>\n",
       "      <td>boyfriend</td>\n",
       "    </tr>\n",
       "    <tr>\n",
       "      <th>1989</th>\n",
       "      <td>4.411812</td>\n",
       "      <td>angel</td>\n",
       "    </tr>\n",
       "    <tr>\n",
       "      <th>57324</th>\n",
       "      <td>-4.471930</td>\n",
       "      <td>wife</td>\n",
       "    </tr>\n",
       "    <tr>\n",
       "      <th>4078</th>\n",
       "      <td>6.425714</td>\n",
       "      <td>barbie</td>\n",
       "    </tr>\n",
       "  </tbody>\n",
       "</table>\n",
       "<p>59315 rows × 2 columns</p>\n",
       "</div>"
      ],
      "text/plain": [
       "       importance   features\n",
       "56237    0.000000   wallking\n",
       "30511    0.000000   lobotomy\n",
       "52300    0.000000       thsi\n",
       "55714    0.000000      vimeo\n",
       "41341    0.000000       purr\n",
       "...           ...        ...\n",
       "24843    4.110160    husband\n",
       "6397     4.242021  boyfriend\n",
       "1989     4.411812      angel\n",
       "57324   -4.471930       wife\n",
       "4078     6.425714     barbie\n",
       "\n",
       "[59315 rows x 2 columns]"
      ]
     },
     "execution_count": 49,
     "metadata": {},
     "output_type": "execute_result"
    }
   ],
   "source": [
    "feature_importance.sort_values(['importance'],  key=abs, inplace=True)\n",
    "feature_importance\n"
   ]
  },
  {
   "cell_type": "code",
   "execution_count": 51,
   "id": "85725b40",
   "metadata": {},
   "outputs": [
    {
     "data": {
      "image/png": "[encoded data removed]",
      "text/plain": [
       "<Figure size 1440x720 with 1 Axes>"
      ]
     },
     "metadata": {
      "needs_background": "light"
     },
     "output_type": "display_data"
    }
   ],
   "source": [
    "# plot feature importance\n",
    "plt.figure(figsize=(20, 10))\n",
    "plt.bar(feature_importance['features'][-30:], feature_importance['importance'][-30:], width = 0.4)\n",
    "plt.xticks(rotation=45)\n",
    "plt.show()"
   ]
  },
  {
   "cell_type": "code",
   "execution_count": 52,
   "id": "4035befc",
   "metadata": {},
   "outputs": [],
   "source": [
    "# visualize most freuquent words "
   ]
  },
  {
   "cell_type": "code",
   "execution_count": 53,
   "id": "9523534b",
   "metadata": {},
   "outputs": [
    {
     "data": {
      "text/html": [
       "<div>\n",
       "<style scoped>\n",
       "    .dataframe tbody tr th:only-of-type {\n",
       "        vertical-align: middle;\n",
       "    }\n",
       "\n",
       "    .dataframe tbody tr th {\n",
       "        vertical-align: top;\n",
       "    }\n",
       "\n",
       "    .dataframe thead th {\n",
       "        text-align: right;\n",
       "    }\n",
       "</style>\n",
       "<table border=\"1\" class=\"dataframe\">\n",
       "  <thead>\n",
       "    <tr style=\"text-align: right;\">\n",
       "      <th></th>\n",
       "      <th>word</th>\n",
       "      <th>n</th>\n",
       "      <th>total_words</th>\n",
       "      <th>gender</th>\n",
       "    </tr>\n",
       "  </thead>\n",
       "  <tbody>\n",
       "    <tr>\n",
       "      <th>0</th>\n",
       "      <td>dam</td>\n",
       "      <td>16</td>\n",
       "      <td>1409586</td>\n",
       "      <td>M</td>\n",
       "    </tr>\n",
       "    <tr>\n",
       "      <th>1</th>\n",
       "      <td>gurl</td>\n",
       "      <td>11</td>\n",
       "      <td>1409586</td>\n",
       "      <td>M</td>\n",
       "    </tr>\n",
       "    <tr>\n",
       "      <th>2</th>\n",
       "      <td>lookin</td>\n",
       "      <td>165</td>\n",
       "      <td>1409586</td>\n",
       "      <td>M</td>\n",
       "    </tr>\n",
       "    <tr>\n",
       "      <th>3</th>\n",
       "      <td>mad</td>\n",
       "      <td>180</td>\n",
       "      <td>1409586</td>\n",
       "      <td>M</td>\n",
       "    </tr>\n",
       "    <tr>\n",
       "      <th>4</th>\n",
       "      <td>tone</td>\n",
       "      <td>33</td>\n",
       "      <td>1409586</td>\n",
       "      <td>M</td>\n",
       "    </tr>\n",
       "    <tr>\n",
       "      <th>...</th>\n",
       "      <td>...</td>\n",
       "      <td>...</td>\n",
       "      <td>...</td>\n",
       "      <td>...</td>\n",
       "    </tr>\n",
       "    <tr>\n",
       "      <th>109828</th>\n",
       "      <td>hesitating</td>\n",
       "      <td>1</td>\n",
       "      <td>1409586</td>\n",
       "      <td>M</td>\n",
       "    </tr>\n",
       "    <tr>\n",
       "      <th>109829</th>\n",
       "      <td>heel)</td>\n",
       "      <td>1</td>\n",
       "      <td>1409586</td>\n",
       "      <td>M</td>\n",
       "    </tr>\n",
       "    <tr>\n",
       "      <th>109830</th>\n",
       "      <td>worker.</td>\n",
       "      <td>1</td>\n",
       "      <td>1409586</td>\n",
       "      <td>M</td>\n",
       "    </tr>\n",
       "    <tr>\n",
       "      <th>109831</th>\n",
       "      <td>ass-kicking.</td>\n",
       "      <td>1</td>\n",
       "      <td>1409586</td>\n",
       "      <td>M</td>\n",
       "    </tr>\n",
       "    <tr>\n",
       "      <th>109832</th>\n",
       "      <td>gymn</td>\n",
       "      <td>1</td>\n",
       "      <td>1409586</td>\n",
       "      <td>M</td>\n",
       "    </tr>\n",
       "  </tbody>\n",
       "</table>\n",
       "<p>109833 rows × 4 columns</p>\n",
       "</div>"
      ],
      "text/plain": [
       "                word    n  total_words gender\n",
       "0                dam   16      1409586      M\n",
       "1               gurl   11      1409586      M\n",
       "2             lookin  165      1409586      M\n",
       "3                mad  180      1409586      M\n",
       "4               tone   33      1409586      M\n",
       "...              ...  ...          ...    ...\n",
       "109828    hesitating    1      1409586      M\n",
       "109829         heel)    1      1409586      M\n",
       "109830       worker.    1      1409586      M\n",
       "109831  ass-kicking.    1      1409586      M\n",
       "109832          gymn    1      1409586      M\n",
       "\n",
       "[109833 rows x 4 columns]"
      ]
     },
     "execution_count": 53,
     "metadata": {},
     "output_type": "execute_result"
    }
   ],
   "source": [
    "df_M = pd.DataFrame(fd_wct1_M.items(), columns=['word', 'n'])\n",
    "cnt = 0 \n",
    "total_words_M = sum(fd_wct1_M.values())\n",
    "df_M['total_words'] = total_words_M\n",
    "df_M['gender'] ='M'\n",
    "df_M"
   ]
  },
  {
   "cell_type": "code",
   "execution_count": 54,
   "id": "7ccd5112",
   "metadata": {},
   "outputs": [
    {
     "data": {
      "text/html": [
       "<div>\n",
       "<style scoped>\n",
       "    .dataframe tbody tr th:only-of-type {\n",
       "        vertical-align: middle;\n",
       "    }\n",
       "\n",
       "    .dataframe tbody tr th {\n",
       "        vertical-align: top;\n",
       "    }\n",
       "\n",
       "    .dataframe thead th {\n",
       "        text-align: right;\n",
       "    }\n",
       "</style>\n",
       "<table border=\"1\" class=\"dataframe\">\n",
       "  <thead>\n",
       "    <tr style=\"text-align: right;\">\n",
       "      <th></th>\n",
       "      <th>word</th>\n",
       "      <th>n</th>\n",
       "      <th>total_words</th>\n",
       "      <th>gender</th>\n",
       "    </tr>\n",
       "  </thead>\n",
       "  <tbody>\n",
       "    <tr>\n",
       "      <th>0</th>\n",
       "      <td>thanks</td>\n",
       "      <td>40781</td>\n",
       "      <td>1279990</td>\n",
       "      <td>W</td>\n",
       "    </tr>\n",
       "    <tr>\n",
       "      <th>1</th>\n",
       "      <td>follow!</td>\n",
       "      <td>13574</td>\n",
       "      <td>1279990</td>\n",
       "      <td>W</td>\n",
       "    </tr>\n",
       "    <tr>\n",
       "      <th>2</th>\n",
       "      <td>followed</td>\n",
       "      <td>893</td>\n",
       "      <td>1279990</td>\n",
       "      <td>W</td>\n",
       "    </tr>\n",
       "    <tr>\n",
       "      <th>3</th>\n",
       "      <td>back</td>\n",
       "      <td>13277</td>\n",
       "      <td>1279990</td>\n",
       "      <td>W</td>\n",
       "    </tr>\n",
       "    <tr>\n",
       "      <th>4</th>\n",
       "      <td>:)</td>\n",
       "      <td>21761</td>\n",
       "      <td>1279990</td>\n",
       "      <td>W</td>\n",
       "    </tr>\n",
       "    <tr>\n",
       "      <th>...</th>\n",
       "      <td>...</td>\n",
       "      <td>...</td>\n",
       "      <td>...</td>\n",
       "      <td>...</td>\n",
       "    </tr>\n",
       "    <tr>\n",
       "      <th>93934</th>\n",
       "      <td>\"leg\"</td>\n",
       "      <td>1</td>\n",
       "      <td>1279990</td>\n",
       "      <td>W</td>\n",
       "    </tr>\n",
       "    <tr>\n",
       "      <th>93935</th>\n",
       "      <td>\"chest\"</td>\n",
       "      <td>1</td>\n",
       "      <td>1279990</td>\n",
       "      <td>W</td>\n",
       "    </tr>\n",
       "    <tr>\n",
       "      <th>93936</th>\n",
       "      <td>too@blonde_ninja</td>\n",
       "      <td>1</td>\n",
       "      <td>1279990</td>\n",
       "      <td>W</td>\n",
       "    </tr>\n",
       "    <tr>\n",
       "      <th>93937</th>\n",
       "      <td>@irvaler</td>\n",
       "      <td>1</td>\n",
       "      <td>1279990</td>\n",
       "      <td>W</td>\n",
       "    </tr>\n",
       "    <tr>\n",
       "      <th>93938</th>\n",
       "      <td>@bolderbird</td>\n",
       "      <td>1</td>\n",
       "      <td>1279990</td>\n",
       "      <td>W</td>\n",
       "    </tr>\n",
       "  </tbody>\n",
       "</table>\n",
       "<p>93939 rows × 4 columns</p>\n",
       "</div>"
      ],
      "text/plain": [
       "                   word      n  total_words gender\n",
       "0                thanks  40781      1279990      W\n",
       "1               follow!  13574      1279990      W\n",
       "2              followed    893      1279990      W\n",
       "3                  back  13277      1279990      W\n",
       "4                    :)  21761      1279990      W\n",
       "...                 ...    ...          ...    ...\n",
       "93934             \"leg\"      1      1279990      W\n",
       "93935           \"chest\"      1      1279990      W\n",
       "93936  too@blonde_ninja      1      1279990      W\n",
       "93937          @irvaler      1      1279990      W\n",
       "93938       @bolderbird      1      1279990      W\n",
       "\n",
       "[93939 rows x 4 columns]"
      ]
     },
     "execution_count": 54,
     "metadata": {},
     "output_type": "execute_result"
    }
   ],
   "source": [
    "df_F = pd.DataFrame(fd_wct1_F.items(), columns=['word', 'n'])\n",
    "cnt = 0 \n",
    "total_words_F = sum(fd_wct1_F.values())\n",
    "df_F['total_words'] = total_words_F\n",
    "df_F['gender'] ='W'\n",
    "df_F"
   ]
  },
  {
   "cell_type": "code",
   "execution_count": 55,
   "id": "8c0d3c38",
   "metadata": {},
   "outputs": [
    {
     "data": {
      "text/html": [
       "<div>\n",
       "<style scoped>\n",
       "    .dataframe tbody tr th:only-of-type {\n",
       "        vertical-align: middle;\n",
       "    }\n",
       "\n",
       "    .dataframe tbody tr th {\n",
       "        vertical-align: top;\n",
       "    }\n",
       "\n",
       "    .dataframe thead th {\n",
       "        text-align: right;\n",
       "    }\n",
       "</style>\n",
       "<table border=\"1\" class=\"dataframe\">\n",
       "  <thead>\n",
       "    <tr style=\"text-align: right;\">\n",
       "      <th></th>\n",
       "      <th>word</th>\n",
       "      <th>n</th>\n",
       "      <th>total_words</th>\n",
       "      <th>gender</th>\n",
       "    </tr>\n",
       "  </thead>\n",
       "  <tbody>\n",
       "    <tr>\n",
       "      <th>0</th>\n",
       "      <td>dam</td>\n",
       "      <td>16</td>\n",
       "      <td>1409586</td>\n",
       "      <td>M</td>\n",
       "    </tr>\n",
       "    <tr>\n",
       "      <th>1</th>\n",
       "      <td>gurl</td>\n",
       "      <td>11</td>\n",
       "      <td>1409586</td>\n",
       "      <td>M</td>\n",
       "    </tr>\n",
       "    <tr>\n",
       "      <th>2</th>\n",
       "      <td>lookin</td>\n",
       "      <td>165</td>\n",
       "      <td>1409586</td>\n",
       "      <td>M</td>\n",
       "    </tr>\n",
       "    <tr>\n",
       "      <th>3</th>\n",
       "      <td>mad</td>\n",
       "      <td>180</td>\n",
       "      <td>1409586</td>\n",
       "      <td>M</td>\n",
       "    </tr>\n",
       "    <tr>\n",
       "      <th>4</th>\n",
       "      <td>tone</td>\n",
       "      <td>33</td>\n",
       "      <td>1409586</td>\n",
       "      <td>M</td>\n",
       "    </tr>\n",
       "    <tr>\n",
       "      <th>...</th>\n",
       "      <td>...</td>\n",
       "      <td>...</td>\n",
       "      <td>...</td>\n",
       "      <td>...</td>\n",
       "    </tr>\n",
       "    <tr>\n",
       "      <th>93934</th>\n",
       "      <td>\"leg\"</td>\n",
       "      <td>1</td>\n",
       "      <td>1279990</td>\n",
       "      <td>W</td>\n",
       "    </tr>\n",
       "    <tr>\n",
       "      <th>93935</th>\n",
       "      <td>\"chest\"</td>\n",
       "      <td>1</td>\n",
       "      <td>1279990</td>\n",
       "      <td>W</td>\n",
       "    </tr>\n",
       "    <tr>\n",
       "      <th>93936</th>\n",
       "      <td>too@blonde_ninja</td>\n",
       "      <td>1</td>\n",
       "      <td>1279990</td>\n",
       "      <td>W</td>\n",
       "    </tr>\n",
       "    <tr>\n",
       "      <th>93937</th>\n",
       "      <td>@irvaler</td>\n",
       "      <td>1</td>\n",
       "      <td>1279990</td>\n",
       "      <td>W</td>\n",
       "    </tr>\n",
       "    <tr>\n",
       "      <th>93938</th>\n",
       "      <td>@bolderbird</td>\n",
       "      <td>1</td>\n",
       "      <td>1279990</td>\n",
       "      <td>W</td>\n",
       "    </tr>\n",
       "  </tbody>\n",
       "</table>\n",
       "<p>203772 rows × 4 columns</p>\n",
       "</div>"
      ],
      "text/plain": [
       "                   word    n  total_words gender\n",
       "0                   dam   16      1409586      M\n",
       "1                  gurl   11      1409586      M\n",
       "2                lookin  165      1409586      M\n",
       "3                   mad  180      1409586      M\n",
       "4                  tone   33      1409586      M\n",
       "...                 ...  ...          ...    ...\n",
       "93934             \"leg\"    1      1279990      W\n",
       "93935           \"chest\"    1      1279990      W\n",
       "93936  too@blonde_ninja    1      1279990      W\n",
       "93937          @irvaler    1      1279990      W\n",
       "93938       @bolderbird    1      1279990      W\n",
       "\n",
       "[203772 rows x 4 columns]"
      ]
     },
     "execution_count": 55,
     "metadata": {},
     "output_type": "execute_result"
    }
   ],
   "source": [
    "df_all_for_R = pd.concat([df_M, df_F])\n",
    "df_all_for_R"
   ]
  },
  {
   "cell_type": "code",
   "execution_count": 56,
   "id": "2eb9f041",
   "metadata": {},
   "outputs": [],
   "source": [
    "df_all_for_R.to_csv(\"./preprocessed_data/fitness_posts_preprocressed_for_R.csv\")"
   ]
  },
  {
   "cell_type": "code",
   "execution_count": null,
   "id": "3d7d32a3",
   "metadata": {},
   "outputs": [],
   "source": [
    "# after running R codes for weighted log odds"
   ]
  },
  {
   "cell_type": "code",
   "execution_count": 57,
   "id": "6359ef29",
   "metadata": {},
   "outputs": [],
   "source": [
    "df_all_for_R.to_csv(\"./preprocessed_data/fitness_congress_posts_preprocressed_for_R.csv\")"
   ]
  },
  {
   "cell_type": "code",
   "execution_count": 60,
   "id": "b3baafc4",
   "metadata": {},
   "outputs": [],
   "source": [
    "weighted_log_odds_df = pd.read_csv(\"./preprocessed_data/fitness_post_weighted_log_odds.csv\")\n",
    "weighted_log_odds_df.sort_values(['log_odds_weighted'], inplace=True)"
   ]
  },
  {
   "cell_type": "code",
   "execution_count": 61,
   "id": "ea54863c",
   "metadata": {},
   "outputs": [
    {
     "data": {
      "text/html": [
       "<div>\n",
       "<style scoped>\n",
       "    .dataframe tbody tr th:only-of-type {\n",
       "        vertical-align: middle;\n",
       "    }\n",
       "\n",
       "    .dataframe tbody tr th {\n",
       "        vertical-align: top;\n",
       "    }\n",
       "\n",
       "    .dataframe thead th {\n",
       "        text-align: right;\n",
       "    }\n",
       "</style>\n",
       "<table border=\"1\" class=\"dataframe\">\n",
       "  <thead>\n",
       "    <tr style=\"text-align: right;\">\n",
       "      <th></th>\n",
       "      <th>Unnamed: 0</th>\n",
       "      <th>X</th>\n",
       "      <th>word</th>\n",
       "      <th>n</th>\n",
       "      <th>total_words</th>\n",
       "      <th>gender</th>\n",
       "      <th>log_odds_weighted</th>\n",
       "    </tr>\n",
       "  </thead>\n",
       "  <tbody>\n",
       "    <tr>\n",
       "      <th>45455</th>\n",
       "      <td>45456</td>\n",
       "      <td>45455</td>\n",
       "      <td>barbie</td>\n",
       "      <td>24</td>\n",
       "      <td>1409586</td>\n",
       "      <td>M</td>\n",
       "      <td>-23.283424</td>\n",
       "    </tr>\n",
       "    <tr>\n",
       "      <th>895</th>\n",
       "      <td>896</td>\n",
       "      <td>895</td>\n",
       "      <td>:)</td>\n",
       "      <td>12060</td>\n",
       "      <td>1409586</td>\n",
       "      <td>M</td>\n",
       "      <td>-21.099837</td>\n",
       "    </tr>\n",
       "    <tr>\n",
       "      <th>1960</th>\n",
       "      <td>1961</td>\n",
       "      <td>1960</td>\n",
       "      <td>girl</td>\n",
       "      <td>404</td>\n",
       "      <td>1409586</td>\n",
       "      <td>M</td>\n",
       "      <td>-20.818907</td>\n",
       "    </tr>\n",
       "    <tr>\n",
       "      <th>931</th>\n",
       "      <td>932</td>\n",
       "      <td>931</td>\n",
       "      <td>gone</td>\n",
       "      <td>346</td>\n",
       "      <td>1409586</td>\n",
       "      <td>M</td>\n",
       "      <td>-20.062166</td>\n",
       "    </tr>\n",
       "    <tr>\n",
       "      <th>1647</th>\n",
       "      <td>1648</td>\n",
       "      <td>1647</td>\n",
       "      <td>strong</td>\n",
       "      <td>497</td>\n",
       "      <td>1409586</td>\n",
       "      <td>M</td>\n",
       "      <td>-19.114303</td>\n",
       "    </tr>\n",
       "    <tr>\n",
       "      <th>...</th>\n",
       "      <td>...</td>\n",
       "      <td>...</td>\n",
       "      <td>...</td>\n",
       "      <td>...</td>\n",
       "      <td>...</td>\n",
       "      <td>...</td>\n",
       "      <td>...</td>\n",
       "    </tr>\n",
       "    <tr>\n",
       "      <th>111011</th>\n",
       "      <td>111012</td>\n",
       "      <td>1178</td>\n",
       "      <td>gone</td>\n",
       "      <td>3917</td>\n",
       "      <td>1279990</td>\n",
       "      <td>W</td>\n",
       "      <td>18.632991</td>\n",
       "    </tr>\n",
       "    <tr>\n",
       "      <th>110511</th>\n",
       "      <td>110512</td>\n",
       "      <td>678</td>\n",
       "      <td>girl</td>\n",
       "      <td>4292</td>\n",
       "      <td>1279990</td>\n",
       "      <td>W</td>\n",
       "      <td>19.356366</td>\n",
       "    </tr>\n",
       "    <tr>\n",
       "      <th>109837</th>\n",
       "      <td>109838</td>\n",
       "      <td>4</td>\n",
       "      <td>:)</td>\n",
       "      <td>21761</td>\n",
       "      <td>1279990</td>\n",
       "      <td>W</td>\n",
       "      <td>20.818623</td>\n",
       "    </tr>\n",
       "    <tr>\n",
       "      <th>111331</th>\n",
       "      <td>111332</td>\n",
       "      <td>1498</td>\n",
       "      <td>barbie</td>\n",
       "      <td>4115</td>\n",
       "      <td>1279990</td>\n",
       "      <td>W</td>\n",
       "      <td>21.292668</td>\n",
       "    </tr>\n",
       "    <tr>\n",
       "      <th>109880</th>\n",
       "      <td>109881</td>\n",
       "      <td>47</td>\n",
       "      <td>NaN</td>\n",
       "      <td>17820</td>\n",
       "      <td>1279990</td>\n",
       "      <td>W</td>\n",
       "      <td>95.433529</td>\n",
       "    </tr>\n",
       "  </tbody>\n",
       "</table>\n",
       "<p>203772 rows × 7 columns</p>\n",
       "</div>"
      ],
      "text/plain": [
       "        Unnamed: 0      X    word      n  total_words gender  \\\n",
       "45455        45456  45455  barbie     24      1409586      M   \n",
       "895            896    895      :)  12060      1409586      M   \n",
       "1960          1961   1960    girl    404      1409586      M   \n",
       "931            932    931    gone    346      1409586      M   \n",
       "1647          1648   1647  strong    497      1409586      M   \n",
       "...            ...    ...     ...    ...          ...    ...   \n",
       "111011      111012   1178    gone   3917      1279990      W   \n",
       "110511      110512    678    girl   4292      1279990      W   \n",
       "109837      109838      4      :)  21761      1279990      W   \n",
       "111331      111332   1498  barbie   4115      1279990      W   \n",
       "109880      109881     47     NaN  17820      1279990      W   \n",
       "\n",
       "        log_odds_weighted  \n",
       "45455          -23.283424  \n",
       "895            -21.099837  \n",
       "1960           -20.818907  \n",
       "931            -20.062166  \n",
       "1647           -19.114303  \n",
       "...                   ...  \n",
       "111011          18.632991  \n",
       "110511          19.356366  \n",
       "109837          20.818623  \n",
       "111331          21.292668  \n",
       "109880          95.433529  \n",
       "\n",
       "[203772 rows x 7 columns]"
      ]
     },
     "execution_count": 61,
     "metadata": {},
     "output_type": "execute_result"
    }
   ],
   "source": [
    "weighted_log_odds_df"
   ]
  },
  {
   "cell_type": "code",
   "execution_count": 62,
   "id": "372d56fb",
   "metadata": {},
   "outputs": [
    {
     "data": {
      "text/html": [
       "<div>\n",
       "<style scoped>\n",
       "    .dataframe tbody tr th:only-of-type {\n",
       "        vertical-align: middle;\n",
       "    }\n",
       "\n",
       "    .dataframe tbody tr th {\n",
       "        vertical-align: top;\n",
       "    }\n",
       "\n",
       "    .dataframe thead th {\n",
       "        text-align: right;\n",
       "    }\n",
       "</style>\n",
       "<table border=\"1\" class=\"dataframe\">\n",
       "  <thead>\n",
       "    <tr style=\"text-align: right;\">\n",
       "      <th></th>\n",
       "      <th>Unnamed: 0</th>\n",
       "      <th>X</th>\n",
       "      <th>word</th>\n",
       "      <th>n</th>\n",
       "      <th>total_words</th>\n",
       "      <th>gender</th>\n",
       "      <th>log_odds_weighted</th>\n",
       "    </tr>\n",
       "  </thead>\n",
       "  <tbody>\n",
       "    <tr>\n",
       "      <th>45455</th>\n",
       "      <td>45456</td>\n",
       "      <td>45455</td>\n",
       "      <td>barbie</td>\n",
       "      <td>24</td>\n",
       "      <td>1409586</td>\n",
       "      <td>M</td>\n",
       "      <td>-23.283424</td>\n",
       "    </tr>\n",
       "    <tr>\n",
       "      <th>895</th>\n",
       "      <td>896</td>\n",
       "      <td>895</td>\n",
       "      <td>:)</td>\n",
       "      <td>12060</td>\n",
       "      <td>1409586</td>\n",
       "      <td>M</td>\n",
       "      <td>-21.099837</td>\n",
       "    </tr>\n",
       "    <tr>\n",
       "      <th>1960</th>\n",
       "      <td>1961</td>\n",
       "      <td>1960</td>\n",
       "      <td>girl</td>\n",
       "      <td>404</td>\n",
       "      <td>1409586</td>\n",
       "      <td>M</td>\n",
       "      <td>-20.818907</td>\n",
       "    </tr>\n",
       "    <tr>\n",
       "      <th>931</th>\n",
       "      <td>932</td>\n",
       "      <td>931</td>\n",
       "      <td>gone</td>\n",
       "      <td>346</td>\n",
       "      <td>1409586</td>\n",
       "      <td>M</td>\n",
       "      <td>-20.062166</td>\n",
       "    </tr>\n",
       "    <tr>\n",
       "      <th>1647</th>\n",
       "      <td>1648</td>\n",
       "      <td>1647</td>\n",
       "      <td>strong</td>\n",
       "      <td>497</td>\n",
       "      <td>1409586</td>\n",
       "      <td>M</td>\n",
       "      <td>-19.114303</td>\n",
       "    </tr>\n",
       "    <tr>\n",
       "      <th>...</th>\n",
       "      <td>...</td>\n",
       "      <td>...</td>\n",
       "      <td>...</td>\n",
       "      <td>...</td>\n",
       "      <td>...</td>\n",
       "      <td>...</td>\n",
       "      <td>...</td>\n",
       "    </tr>\n",
       "    <tr>\n",
       "      <th>110515</th>\n",
       "      <td>110516</td>\n",
       "      <td>682</td>\n",
       "      <td>strong</td>\n",
       "      <td>3977</td>\n",
       "      <td>1279990</td>\n",
       "      <td>W</td>\n",
       "      <td>17.864426</td>\n",
       "    </tr>\n",
       "    <tr>\n",
       "      <th>111011</th>\n",
       "      <td>111012</td>\n",
       "      <td>1178</td>\n",
       "      <td>gone</td>\n",
       "      <td>3917</td>\n",
       "      <td>1279990</td>\n",
       "      <td>W</td>\n",
       "      <td>18.632991</td>\n",
       "    </tr>\n",
       "    <tr>\n",
       "      <th>110511</th>\n",
       "      <td>110512</td>\n",
       "      <td>678</td>\n",
       "      <td>girl</td>\n",
       "      <td>4292</td>\n",
       "      <td>1279990</td>\n",
       "      <td>W</td>\n",
       "      <td>19.356366</td>\n",
       "    </tr>\n",
       "    <tr>\n",
       "      <th>109837</th>\n",
       "      <td>109838</td>\n",
       "      <td>4</td>\n",
       "      <td>:)</td>\n",
       "      <td>21761</td>\n",
       "      <td>1279990</td>\n",
       "      <td>W</td>\n",
       "      <td>20.818623</td>\n",
       "    </tr>\n",
       "    <tr>\n",
       "      <th>111331</th>\n",
       "      <td>111332</td>\n",
       "      <td>1498</td>\n",
       "      <td>barbie</td>\n",
       "      <td>4115</td>\n",
       "      <td>1279990</td>\n",
       "      <td>W</td>\n",
       "      <td>21.292668</td>\n",
       "    </tr>\n",
       "  </tbody>\n",
       "</table>\n",
       "<p>203767 rows × 7 columns</p>\n",
       "</div>"
      ],
      "text/plain": [
       "        Unnamed: 0      X    word      n  total_words gender  \\\n",
       "45455        45456  45455  barbie     24      1409586      M   \n",
       "895            896    895      :)  12060      1409586      M   \n",
       "1960          1961   1960    girl    404      1409586      M   \n",
       "931            932    931    gone    346      1409586      M   \n",
       "1647          1648   1647  strong    497      1409586      M   \n",
       "...            ...    ...     ...    ...          ...    ...   \n",
       "110515      110516    682  strong   3977      1279990      W   \n",
       "111011      111012   1178    gone   3917      1279990      W   \n",
       "110511      110512    678    girl   4292      1279990      W   \n",
       "109837      109838      4      :)  21761      1279990      W   \n",
       "111331      111332   1498  barbie   4115      1279990      W   \n",
       "\n",
       "        log_odds_weighted  \n",
       "45455          -23.283424  \n",
       "895            -21.099837  \n",
       "1960           -20.818907  \n",
       "931            -20.062166  \n",
       "1647           -19.114303  \n",
       "...                   ...  \n",
       "110515          17.864426  \n",
       "111011          18.632991  \n",
       "110511          19.356366  \n",
       "109837          20.818623  \n",
       "111331          21.292668  \n",
       "\n",
       "[203767 rows x 7 columns]"
      ]
     },
     "execution_count": 62,
     "metadata": {},
     "output_type": "execute_result"
    }
   ],
   "source": [
    "weighted_log_odds_df = weighted_log_odds_df.dropna()\n",
    "weighted_log_odds_df"
   ]
  },
  {
   "cell_type": "code",
   "execution_count": 63,
   "id": "50ff5ddf",
   "metadata": {},
   "outputs": [
    {
     "data": {
      "image/png": "[encoded data removed]",
      "text/plain": [
       "<Figure size 1440x720 with 1 Axes>"
      ]
     },
     "metadata": {
      "needs_background": "light"
     },
     "output_type": "display_data"
    }
   ],
   "source": [
    "filtered_df = weighted_log_odds_df[weighted_log_odds_df['gender']=='M']\n",
    "plt.figure(figsize=(20, 10))\n",
    "plt.bar(filtered_df['word'][-40:], filtered_df['log_odds_weighted'][-40:], width=0.4)\n",
    "plt.title(\"significant words male\")\n",
    "plt.xticks(rotation=45)\n",
    "plt.show()"
   ]
  },
  {
   "cell_type": "code",
   "execution_count": 64,
   "id": "ca67c421",
   "metadata": {},
   "outputs": [
    {
     "data": {
      "image/png": "[encoded data removed]",
      "text/plain": [
       "<Figure size 1440x720 with 1 Axes>"
      ]
     },
     "metadata": {
      "needs_background": "light"
     },
     "output_type": "display_data"
    }
   ],
   "source": [
    "filtered_df = weighted_log_odds_df[weighted_log_odds_df['gender']=='W']\n",
    "plt.figure(figsize=(20, 10))\n",
    "plt.bar(filtered_df['word'][-40:], filtered_df['log_odds_weighted'][-40:], width=0.4)\n",
    "plt.title(\"significant words female\")\n",
    "plt.xticks(rotation=45)\n",
    "plt.show()"
   ]
  },
  {
   "cell_type": "code",
   "execution_count": null,
   "id": "7772ec47",
   "metadata": {},
   "outputs": [],
   "source": []
  }
 ],
 "metadata": {
  "kernelspec": {
   "display_name": "Python 3 (ipykernel)",
   "language": "python",
   "name": "python3"
  },
  "language_info": {
   "codemirror_mode": {
    "name": "ipython",
    "version": 3
   },
   "file_extension": ".py",
   "mimetype": "text/x-python",
   "name": "python",
   "nbconvert_exporter": "python",
   "pygments_lexer": "ipython3",
   "version": "3.10.2"
  }
 },
 "nbformat": 4,
 "nbformat_minor": 5
}
