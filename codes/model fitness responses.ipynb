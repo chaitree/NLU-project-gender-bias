{
 "cells": [
  {
   "cell_type": "code",
   "execution_count": 1,
   "id": "dc0230fb",
   "metadata": {},
   "outputs": [],
   "source": [
    "import pandas as pd\n",
    "import re\n",
    "import string\n",
    "# from bs4 import BeautifulSoup\n",
    "import nltk\n",
    "from nltk.stem import PorterStemmer\n",
    "from nltk.stem.wordnet import WordNetLemmatizer\n",
    "import spacy\n",
    "from nltk.probability import FreqDist\n",
    "from sklearn.linear_model import LogisticRegression\n",
    "from sklearn.feature_extraction.text import CountVectorizer, TfidfVectorizer\n",
    "import matplotlib.pyplot as plt\n",
    "import warnings\n",
    "warnings.filterwarnings('ignore')"
   ]
  },
  {
   "cell_type": "code",
   "execution_count": 2,
   "id": "a9e43744",
   "metadata": {},
   "outputs": [],
   "source": [
    "# !pip install spacy\n",
    "# !python -m spacy download en_core_web_sm\n",
    "# nltk.download('stopwords')\n",
    "# nltk.download('wordnet')\n",
    "# nltk.download('omw-1.4')"
   ]
  },
  {
   "cell_type": "code",
   "execution_count": 4,
   "id": "f5fad2e9",
   "metadata": {},
   "outputs": [],
   "source": [
    "data_df = pd.read_csv(\"../rtgender/fitocracy_responses.csv\")"
   ]
  },
  {
   "cell_type": "code",
   "execution_count": 5,
   "id": "943b1ea2",
   "metadata": {},
   "outputs": [
    {
     "data": {
      "text/html": [
       "<div>\n",
       "<style scoped>\n",
       "    .dataframe tbody tr th:only-of-type {\n",
       "        vertical-align: middle;\n",
       "    }\n",
       "\n",
       "    .dataframe tbody tr th {\n",
       "        vertical-align: top;\n",
       "    }\n",
       "\n",
       "    .dataframe thead th {\n",
       "        text-align: right;\n",
       "    }\n",
       "</style>\n",
       "<table border=\"1\" class=\"dataframe\">\n",
       "  <thead>\n",
       "    <tr style=\"text-align: right;\">\n",
       "      <th></th>\n",
       "      <th>op_id</th>\n",
       "      <th>op_gender</th>\n",
       "      <th>post_id</th>\n",
       "      <th>responder_id</th>\n",
       "      <th>response_text</th>\n",
       "      <th>responder_gender</th>\n",
       "    </tr>\n",
       "  </thead>\n",
       "  <tbody>\n",
       "    <tr>\n",
       "      <th>0</th>\n",
       "      <td>102</td>\n",
       "      <td>W</td>\n",
       "      <td>0</td>\n",
       "      <td>1196122</td>\n",
       "      <td>One day at a time! =]</td>\n",
       "      <td>M</td>\n",
       "    </tr>\n",
       "    <tr>\n",
       "      <th>1</th>\n",
       "      <td>104</td>\n",
       "      <td>W</td>\n",
       "      <td>1</td>\n",
       "      <td>5867</td>\n",
       "      <td>Crazy is synonymous with awesome in this case.</td>\n",
       "      <td>W</td>\n",
       "    </tr>\n",
       "    <tr>\n",
       "      <th>2</th>\n",
       "      <td>104</td>\n",
       "      <td>W</td>\n",
       "      <td>2</td>\n",
       "      <td>1635</td>\n",
       "      <td>You can enter assisted pullups. Select pullups...</td>\n",
       "      <td>M</td>\n",
       "    </tr>\n",
       "    <tr>\n",
       "      <th>3</th>\n",
       "      <td>117</td>\n",
       "      <td>M</td>\n",
       "      <td>3</td>\n",
       "      <td>8520</td>\n",
       "      <td>Mirin 3% bodyfat? Yeah, you are.</td>\n",
       "      <td>W</td>\n",
       "    </tr>\n",
       "    <tr>\n",
       "      <th>4</th>\n",
       "      <td>117</td>\n",
       "      <td>M</td>\n",
       "      <td>4</td>\n",
       "      <td>29126</td>\n",
       "      <td>Hey! I just started a new job, so things are s...</td>\n",
       "      <td>M</td>\n",
       "    </tr>\n",
       "  </tbody>\n",
       "</table>\n",
       "</div>"
      ],
      "text/plain": [
       "   op_id op_gender  post_id  responder_id  \\\n",
       "0    102         W        0       1196122   \n",
       "1    104         W        1          5867   \n",
       "2    104         W        2          1635   \n",
       "3    117         M        3          8520   \n",
       "4    117         M        4         29126   \n",
       "\n",
       "                                       response_text responder_gender  \n",
       "0                              One day at a time! =]                M  \n",
       "1     Crazy is synonymous with awesome in this case.                W  \n",
       "2  You can enter assisted pullups. Select pullups...                M  \n",
       "3                   Mirin 3% bodyfat? Yeah, you are.                W  \n",
       "4  Hey! I just started a new job, so things are s...                M  "
      ]
     },
     "execution_count": 5,
     "metadata": {},
     "output_type": "execute_result"
    }
   ],
   "source": [
    "data_df.head()"
   ]
  },
  {
   "cell_type": "code",
   "execution_count": 6,
   "id": "e9d0b308",
   "metadata": {},
   "outputs": [],
   "source": [
    "data_df1 = data_df.copy()"
   ]
  },
  {
   "cell_type": "code",
   "execution_count": 7,
   "id": "0c01a690",
   "metadata": {},
   "outputs": [],
   "source": [
    "# Load spacy\n",
    "nlp = spacy.load('en_core_web_sm')\n",
    "\n",
    "def clean_string(text, stopwords = False, stem=\"None\"):\n",
    "\n",
    "    final_string = \"\"\n",
    "\n",
    "    # Make lower\n",
    "    text = text.lower()\n",
    "\n",
    "#     # Remove line breaks\n",
    "#     text = re.sub(r'\\n', '', text)\n",
    "\n",
    "#     # Remove puncuation\n",
    "#     translator = str.maketrans('', '', string.punctuation)\n",
    "#     text = text.translate(translator)\n",
    "\n",
    "    text = re.sub(r'http\\S+', '', text)\n",
    "    text = re.sub(r'\\S+www\\S+', '', text)\n",
    "    \n",
    "    \n",
    "    # Remove stop words\n",
    "    text = text.split()\n",
    "    text_filtered = text\n",
    "    if stopwords == True:\n",
    "        useless_words = nltk.corpus.stopwords.words(\"english\")\n",
    "#         useless_words = useless_words + ['hi', 'im']\n",
    "\n",
    "        text_filtered = [word for word in text if not word in useless_words]\n",
    "\n",
    "        # Remove numbers\n",
    "        text_filtered = [re.sub(r'\\w*\\d\\w*', '', w) for w in text_filtered]\n",
    "#     else:\n",
    "#         text_filtered = text\n",
    "    # Stem or Lemmatize\n",
    "    if stem == 'Stem':\n",
    "        stemmer = PorterStemmer() \n",
    "        text_stemmed = [stemmer.stem(y) for y in text_filtered]\n",
    "    elif stem == 'Lem':\n",
    "        lem = WordNetLemmatizer()\n",
    "        text_stemmed = [lem.lemmatize(y) for y in text_filtered]\n",
    "    elif stem == 'Spacy':\n",
    "        text_filtered = nlp(' '.join(text_filtered))\n",
    "        text_stemmed = [y.lemma_ for y in text_filtered]\n",
    "    else:\n",
    "        text_stemmed = text_filtered\n",
    "\n",
    "    final_string = ' '.join(text_stemmed)\n",
    "\n",
    "    return final_string"
   ]
  },
  {
   "cell_type": "code",
   "execution_count": 8,
   "id": "7fa5406d",
   "metadata": {},
   "outputs": [],
   "source": [
    "data_df2 = data_df.copy()"
   ]
  },
  {
   "cell_type": "code",
   "execution_count": 9,
   "id": "fde04174",
   "metadata": {},
   "outputs": [],
   "source": [
    "data_df2['response_text'] = data_df2['response_text'].astype(str)"
   ]
  },
  {
   "cell_type": "code",
   "execution_count": 10,
   "id": "a38cd82e",
   "metadata": {},
   "outputs": [],
   "source": [
    "data_df2['response_text_cleaned'] = data_df2['response_text'].apply(lambda x: clean_string(x, stopwords = True, stem='Lem'))\n"
   ]
  },
  {
   "cell_type": "code",
   "execution_count": 11,
   "id": "65158913",
   "metadata": {},
   "outputs": [
    {
     "data": {
      "text/plain": [
       "0                                          one day time! =]\n",
       "1                            crazy synonymous awesome case.\n",
       "2         enter assisted pullups. select pullups normall...\n",
       "3                               mirin % bodyfat? yeah, are.\n",
       "4         hey! started new job, thing sorta hectic. let ...\n",
       "                                ...                        \n",
       "318530                               let's go!!!get done!!!\n",
       "318531    stackhouse!! two options: want want most. choose.\n",
       "318532                             welcome. keep hard work!\n",
       "318533     calendar us dollar store missing monday tuesday.\n",
       "318534                                      wait minute....\n",
       "Name: response_text_cleaned, Length: 318535, dtype: object"
      ]
     },
     "execution_count": 11,
     "metadata": {},
     "output_type": "execute_result"
    }
   ],
   "source": [
    "data_df2['response_text_cleaned']"
   ]
  },
  {
   "cell_type": "code",
   "execution_count": 12,
   "id": "2ca74664",
   "metadata": {},
   "outputs": [],
   "source": [
    "data_df2['response_text_cleaned1'] = data_df2['response_text_cleaned'].str.split()"
   ]
  },
  {
   "cell_type": "code",
   "execution_count": 13,
   "id": "0e7da84d",
   "metadata": {},
   "outputs": [
    {
     "data": {
      "text/plain": [
       "0                                     [one, day, time!, =]]\n",
       "1                       [crazy, synonymous, awesome, case.]\n",
       "2         [enter, assisted, pullups., select, pullups, n...\n",
       "3                         [mirin, %, bodyfat?, yeah,, are.]\n",
       "4         [hey!, started, new, job,, thing, sorta, hecti...\n",
       "                                ...                        \n",
       "318530                           [let's, go!!!get, done!!!]\n",
       "318531    [stackhouse!!, two, options:, want, want, most...\n",
       "318532                        [welcome., keep, hard, work!]\n",
       "318533    [calendar, us, dollar, store, missing, monday,...\n",
       "318534                                   [wait, minute....]\n",
       "Name: response_text_cleaned1, Length: 318535, dtype: object"
      ]
     },
     "execution_count": 13,
     "metadata": {},
     "output_type": "execute_result"
    }
   ],
   "source": [
    "data_df2['response_text_cleaned1']"
   ]
  },
  {
   "cell_type": "code",
   "execution_count": 14,
   "id": "e4735033",
   "metadata": {},
   "outputs": [
    {
     "data": {
      "text/plain": [
       "0                                          one day time! =]\n",
       "1                            crazy synonymous awesome case.\n",
       "2         enter assisted pullups. select pullups normall...\n",
       "3                               mirin % bodyfat? yeah, are.\n",
       "4         hey! started new job, thing sorta hectic. let ...\n",
       "                                ...                        \n",
       "318530                               let's go!!!get done!!!\n",
       "318531    stackhouse!! two options: want want most. choose.\n",
       "318532                             welcome. keep hard work!\n",
       "318533     calendar us dollar store missing monday tuesday.\n",
       "318534                                      wait minute....\n",
       "Name: response_text_cleaned, Length: 318535, dtype: object"
      ]
     },
     "execution_count": 14,
     "metadata": {},
     "output_type": "execute_result"
    }
   ],
   "source": [
    "data_df2['response_text_cleaned']"
   ]
  },
  {
   "cell_type": "code",
   "execution_count": 15,
   "id": "65a315e7",
   "metadata": {},
   "outputs": [],
   "source": [
    "data_df2.to_csv(\"./preprocessed_data/fitness_response_preprocssed_Lem_stopwords_removal1.csv\")"
   ]
  },
  {
   "cell_type": "code",
   "execution_count": 16,
   "id": "f18812f2",
   "metadata": {},
   "outputs": [
    {
     "name": "stdout",
     "output_type": "stream",
     "text": [
      "  op_gender responder_gender  \\\n",
      "0         M                M   \n",
      "1         M                W   \n",
      "2         W                M   \n",
      "3         W                W   \n",
      "\n",
      "                               response_text_cleaned  \n",
      "0  hey! started new job, thing sorta hectic. let ...  \n",
      "1  mirin % bodyfat? yeah, are. bad. .o doubt: who...  \n",
      "2  one day time! =] enter assisted pullups. selec...  \n",
      "3  crazy synonymous awesome case. wait wwwaaatt! ...  \n"
     ]
    }
   ],
   "source": [
    "all_words1 = ''\n",
    "# for i, row in data_df1.iterrows():\n",
    "#     all_words = all_words + row['response_text_cleaned']\n",
    "# data_df2['common'] = 1\n",
    "# all_words = data_df2.groupby(['op_gender'])['response_text_cleaned'].transform(lambda x : ' '.join(x)).reset_index()\n",
    "all_words = data_df2.groupby(['op_gender', 'responder_gender']).agg({'response_text_cleaned': ' '.join}).reset_index()\n",
    "# all_words = data_df1['response_text_cleaned1'].astype(str).apply(''.join)\n",
    "print(all_words)\n",
    "# data_df1['response_text_cleaned'].apply(lambda x: clean_string(x, stopwords = False, stem='Stem'))\n"
   ]
  },
  {
   "cell_type": "code",
   "execution_count": 17,
   "id": "460c57e1",
   "metadata": {},
   "outputs": [
    {
     "data": {
      "text/plain": [
       "0    hey! started new job, thing sorta hectic. let ...\n",
       "1    mirin % bodyfat? yeah, are. bad. .o doubt: who...\n",
       "Name: response_text_cleaned, dtype: object"
      ]
     },
     "execution_count": 17,
     "metadata": {},
     "output_type": "execute_result"
    }
   ],
   "source": [
    "all_words[all_words['op_gender']=='M']['response_text_cleaned']"
   ]
  },
  {
   "cell_type": "code",
   "execution_count": 18,
   "id": "9ad2c1c2",
   "metadata": {},
   "outputs": [],
   "source": [
    "#the NLTK FreqDist gives a count for how often each part of the text occurs\n",
    "fd_wct1_op_M_res_M = FreqDist(all_words[((all_words['op_gender']=='M') & (all_words['responder_gender']=='M'))]['response_text_cleaned'].values[0].split())\n",
    "# fd_wct1_M"
   ]
  },
  {
   "cell_type": "code",
   "execution_count": 19,
   "id": "de39431b",
   "metadata": {},
   "outputs": [],
   "source": [
    "#the NLTK FreqDist gives a count for how often each part of the text occurs\n",
    "fd_wct1_op_M_res_F = FreqDist(all_words[((all_words['op_gender']=='M') & (all_words['responder_gender']=='W'))]['response_text_cleaned'].values[0].split())\n",
    "# fd_wct1_M"
   ]
  },
  {
   "cell_type": "code",
   "execution_count": 20,
   "id": "5003476c",
   "metadata": {},
   "outputs": [],
   "source": [
    "#the NLTK FreqDist gives a count for how often each part of the text occurs\n",
    "fd_wct1_op_F_res_M = FreqDist(all_words[((all_words['op_gender']=='W') & (all_words['responder_gender']=='M'))]['response_text_cleaned'].values[0].split())\n",
    "# fd_wct1_M"
   ]
  },
  {
   "cell_type": "code",
   "execution_count": 21,
   "id": "6e4b0946",
   "metadata": {},
   "outputs": [],
   "source": [
    "#the NLTK FreqDist gives a count for how often each part of the text occurs\n",
    "fd_wct1_op_F_res_F = FreqDist(all_words[((all_words['op_gender']=='W') & (all_words['responder_gender']=='W'))]['response_text_cleaned'].values[0].split())\n",
    "# fd_wct1_M"
   ]
  },
  {
   "cell_type": "code",
   "execution_count": 22,
   "id": "ddfd1a95",
   "metadata": {},
   "outputs": [],
   "source": [
    "## http://mindseye.sharonhoward.org/posts/my-new-favourite-thing-weighted-log-odds-ratios/\n",
    "## https://bookdown.org/Maxine/tidy-text-mining/weighted-log-odds-ratio.html"
   ]
  },
  {
   "cell_type": "code",
   "execution_count": 23,
   "id": "a627cc8b",
   "metadata": {},
   "outputs": [
    {
     "name": "stdout",
     "output_type": "stream",
     "text": [
      "[('thanks', 8786), (\"i'm\", 5898), ('like', 5465), ('get', 5115), (':)', 5042), ('good', 4719), ('back', 3870), ('thank', 3372), (\"i've\", 3329), ('see', 3279), ('keep', 3103), ('-', 2842), ('following', 2647), ('follow', 2473), ('thanks!', 2435), ('work', 2352), ('one', 2317), ('better', 2305), ('time', 2276), ('start', 2244), ('welcome', 2171), ('people', 2168), ('got', 2163), ('best', 2149), ('go', 2071), ('fitocracy', 2008), ('going', 1958), ('workout', 1934), ('probably', 1921), ('day', 1905), ('know', 1827), ('think', 1762), ('great', 1755), ('really', 1701), ('man!', 1666), ('it.', 1661), (\"i'll\", 1633), ('much', 1623), (':d', 1607), ('need', 1570)]\n"
     ]
    }
   ],
   "source": [
    "print(fd_wct1_op_M_res_M.most_common(40))\n"
   ]
  },
  {
   "cell_type": "code",
   "execution_count": 24,
   "id": "9762f119",
   "metadata": {},
   "outputs": [
    {
     "name": "stdout",
     "output_type": "stream",
     "text": [
      "[('fitocracy', 38920), ('help', 38785), ('-', 35765), ('great', 23148), ('keep', 23042), (';)', 23024), ('welcome!', 22815), ('workout', 22699), ('need', 22531), ('question', 22096), ('place', 21900), ('track', 21526), ('finding', 21326), ('supportive', 21274), ('training,', 21259), ('consistent,', 21238), ('community.', 21136), ('welcome', 19145), (':)', 17830), ('way', 17783), ('getting', 17710), ('know', 17703), ('started', 17491), ('find', 17450), ('profile', 17332), ('exercise', 17273), ('ask', 17225), ('web', 17139), ('iphone', 17134), ('glad', 17041), ('message', 17037), ('name,', 16943), ('around:', 16816), ('guides:', 16814), ('group:', 16612), ('etc--leave', 16605), ('ya', 16575), ('.', 13613), ('tap', 12941), ('thanks', 9165)]\n"
     ]
    }
   ],
   "source": [
    "print(fd_wct1_op_M_res_F.most_common(40))\n"
   ]
  },
  {
   "cell_type": "code",
   "execution_count": 25,
   "id": "e44e7daf",
   "metadata": {},
   "outputs": [
    {
     "name": "stdout",
     "output_type": "stream",
     "text": [
      "[('help', 38092), ('fitocracy', 37599), ('-', 33774), ('question', 23781), ('need', 23273), ('keep', 22948), ('great', 22916), ('workout', 22646), ('place', 22197), ('welcome!', 22128), (';)', 21891), ('track', 21835), ('finding', 21609), ('supportive', 21559), ('training,', 21559), ('consistent,', 21531), ('community.', 21205), ('.', 19832), ('tap', 19370), ('welcome', 17090), ('started', 16585), ('iphone', 16188), ('web', 16178), ('know', 16039), ('way', 15862), ('find', 15688), ('exercise', 15624), ('ask', 15590), ('getting', 15495), ('profile', 15359), ('message', 15143), ('name,', 15088), ('glad', 15038), ('ya', 15015), ('guides:', 14746), ('around:', 14745), ('group:', 14512), ('etc--leave', 14507), (':)', 10297), ('start', 7492)]\n"
     ]
    }
   ],
   "source": [
    "print(fd_wct1_op_F_res_F.most_common(40))\n"
   ]
  },
  {
   "cell_type": "code",
   "execution_count": 26,
   "id": "44d3fe1c",
   "metadata": {},
   "outputs": [
    {
     "name": "stdout",
     "output_type": "stream",
     "text": [
      "[(':)', 10281), ('thanks', 8805), ('thank', 6156), ('like', 5142), ('good', 4971), (\"i'm\", 4407), ('get', 4077), ('back', 3859), ('following', 3697), ('follow', 3661), ('keep', 3382), ('see', 3224), ('welcome', 3033), ('thanks!', 2868), (\"i've\", 2849), ('great', 2521), ('better', 2490), (':d', 2364), ('best', 2362), ('-', 2349), ('back!', 2329), ('people', 2324), ('you!', 2274), (';)', 2167), ('start', 2151), ('work', 2009), ('welcome!', 1961), ('one', 1931), ('fitocracy', 1924), ('probably', 1833), ('go', 1816), (':-)', 1777), ('hope', 1774), ('time', 1746), ('well', 1725), ('workout', 1714), ('place', 1655), ('question', 1629), ('much', 1621), ('post', 1595)]\n"
     ]
    }
   ],
   "source": [
    "print(fd_wct1_op_F_res_M.most_common(40))\n"
   ]
  },
  {
   "cell_type": "code",
   "execution_count": null,
   "id": "9906bb47",
   "metadata": {},
   "outputs": [],
   "source": []
  },
  {
   "cell_type": "code",
   "execution_count": 27,
   "id": "429cfbde",
   "metadata": {},
   "outputs": [],
   "source": [
    "vectorizer = CountVectorizer()\n",
    "X = vectorizer.fit_transform(data_df2['response_text_cleaned'])\n",
    "features = vectorizer.get_feature_names_out()\n",
    "y = data_df2['op_gender']"
   ]
  },
  {
   "cell_type": "code",
   "execution_count": 28,
   "id": "1c71c252",
   "metadata": {},
   "outputs": [
    {
     "name": "stdout",
     "output_type": "stream",
     "text": [
      "['__' '___' '____' '_____' '______' '_______' '________' '__________'\n",
      " '______________' '__________________' '________________________' '__it'\n",
      " '_and_' '_c' '_corona' '_definitely_' '_do_' '_everyday' '_have_' '_hot_'\n",
      " '_i_' '_insane_' '_is_' '_know_' '_maz_' '_me_' '_not_' '_out_'\n",
      " '_paula_p_' '_something_']\n"
     ]
    }
   ],
   "source": [
    "print(features[:30])"
   ]
  },
  {
   "cell_type": "code",
   "execution_count": 29,
   "id": "7a5c3684",
   "metadata": {},
   "outputs": [
    {
     "data": {
      "text/plain": [
       "((318535, 53501), 318535, 53501)"
      ]
     },
     "execution_count": 29,
     "metadata": {},
     "output_type": "execute_result"
    }
   ],
   "source": [
    "X.shape, len(y), len(features)"
   ]
  },
  {
   "cell_type": "code",
   "execution_count": 30,
   "id": "b913b628",
   "metadata": {},
   "outputs": [],
   "source": [
    "from sklearn.model_selection import train_test_split\n",
    "X_train, X_test, y_train, y_test = train_test_split(X, y, test_size=0.33, random_state=42)"
   ]
  },
  {
   "cell_type": "code",
   "execution_count": 31,
   "id": "65a75897",
   "metadata": {},
   "outputs": [
    {
     "name": "stdout",
     "output_type": "stream",
     "text": [
      "['M' 'M']\n",
      "[[0.56997423 0.43002577]\n",
      " [0.5093679  0.4906321 ]]\n"
     ]
    }
   ],
   "source": [
    "clf = LogisticRegression(random_state=0).fit(X_train, y_train)\n",
    "print(clf.predict(X[:2, :]))\n",
    "print(clf.predict_proba(X[:2, :]))\n",
    "# >>> clf.score(X, y)"
   ]
  },
  {
   "cell_type": "code",
   "execution_count": 32,
   "id": "93e226a3",
   "metadata": {},
   "outputs": [
    {
     "data": {
      "text/plain": [
       "0    W\n",
       "1    W\n",
       "Name: op_gender, dtype: object"
      ]
     },
     "execution_count": 32,
     "metadata": {},
     "output_type": "execute_result"
    }
   ],
   "source": [
    "y[:2]"
   ]
  },
  {
   "cell_type": "code",
   "execution_count": 33,
   "id": "3fbb00e5",
   "metadata": {},
   "outputs": [
    {
     "name": "stdout",
     "output_type": "stream",
     "text": [
      "Best: 0.586984 using {'C': 0.1, 'penalty': 'l2'}\n",
      "0.579979 (0.001838) with: {'C': 100, 'penalty': 'l2'}\n",
      "0.581090 (0.001319) with: {'C': 10, 'penalty': 'l2'}\n",
      "0.582842 (0.001449) with: {'C': 1.0, 'penalty': 'l2'}\n",
      "0.586984 (0.001034) with: {'C': 0.1, 'penalty': 'l2'}\n",
      "0.583765 (0.002708) with: {'C': 0.01, 'penalty': 'l2'}\n"
     ]
    }
   ],
   "source": [
    "from sklearn.datasets import make_blobs\n",
    "from sklearn.model_selection import StratifiedKFold\n",
    "from sklearn.model_selection import GridSearchCV\n",
    "from sklearn.linear_model import LogisticRegression\n",
    "\n",
    "model = LogisticRegression()\n",
    "# solvers = ['newton-cg', 'lbfgs', 'liblinear']\n",
    "penalty = ['l2']\n",
    "c_values = [100, 10, 1.0, 0.1, 0.01]\n",
    "# define grid search\n",
    "# grid = dict(solver=solvers,penalty=penalty,C=c_values)\n",
    "grid = dict(penalty=penalty,C=c_values)\n",
    "cv = StratifiedKFold(n_splits=5,  shuffle = True, random_state=1)\n",
    "grid_search = GridSearchCV(estimator=model, param_grid=grid, n_jobs=-1, cv=cv, scoring='accuracy',error_score=0)\n",
    "grid_result = grid_search.fit(X_train, y_train)\n",
    "# summarize results\n",
    "print(\"Best: %f using %s\" % (grid_result.best_score_, grid_result.best_params_))\n",
    "means = grid_result.cv_results_['mean_test_score']\n",
    "stds = grid_result.cv_results_['std_test_score']\n",
    "params = grid_result.cv_results_['params']\n",
    "for mean, stdev, param in zip(means, stds, params):\n",
    "    print(\"%f (%f) with: %r\" % (mean, stdev, param))"
   ]
  },
  {
   "cell_type": "code",
   "execution_count": 34,
   "id": "4dbd8e44",
   "metadata": {},
   "outputs": [
    {
     "name": "stdout",
     "output_type": "stream",
     "text": [
      "test accuracy :  0.5898570164673649\n"
     ]
    }
   ],
   "source": [
    "test_pred = grid_result.predict(X_test)\n",
    "from sklearn.metrics import accuracy_score\n",
    "test_acc = accuracy_score(y_test, test_pred)\n",
    "print(\"test accuracy : \", test_acc)"
   ]
  },
  {
   "cell_type": "code",
   "execution_count": 35,
   "id": "e6dcfafd",
   "metadata": {},
   "outputs": [
    {
     "name": "stdout",
     "output_type": "stream",
     "text": [
      "overall accuracy :  0.6080148178379142\n"
     ]
    }
   ],
   "source": [
    "all_pred = grid_result.predict(X)\n",
    "from sklearn.metrics import accuracy_score\n",
    "all_acc = accuracy_score(y, all_pred)\n",
    "print(\"overall accuracy : \", all_acc)"
   ]
  },
  {
   "cell_type": "code",
   "execution_count": 36,
   "id": "e8587f12",
   "metadata": {},
   "outputs": [
    {
     "data": {
      "text/plain": [
       "{'C': 0.1, 'penalty': 'l2'}"
      ]
     },
     "execution_count": 36,
     "metadata": {},
     "output_type": "execute_result"
    }
   ],
   "source": [
    "grid_result.best_params_"
   ]
  },
  {
   "cell_type": "code",
   "execution_count": 37,
   "id": "faec87af",
   "metadata": {},
   "outputs": [
    {
     "data": {
      "text/html": [
       "<div>\n",
       "<style scoped>\n",
       "    .dataframe tbody tr th:only-of-type {\n",
       "        vertical-align: middle;\n",
       "    }\n",
       "\n",
       "    .dataframe tbody tr th {\n",
       "        vertical-align: top;\n",
       "    }\n",
       "\n",
       "    .dataframe thead th {\n",
       "        text-align: right;\n",
       "    }\n",
       "</style>\n",
       "<table border=\"1\" class=\"dataframe\">\n",
       "  <thead>\n",
       "    <tr style=\"text-align: right;\">\n",
       "      <th></th>\n",
       "      <th>importance</th>\n",
       "      <th>features</th>\n",
       "    </tr>\n",
       "  </thead>\n",
       "  <tbody>\n",
       "    <tr>\n",
       "      <th>0</th>\n",
       "      <td>0.253588</td>\n",
       "      <td>__</td>\n",
       "    </tr>\n",
       "    <tr>\n",
       "      <th>1</th>\n",
       "      <td>-0.144298</td>\n",
       "      <td>___</td>\n",
       "    </tr>\n",
       "    <tr>\n",
       "      <th>2</th>\n",
       "      <td>-0.075635</td>\n",
       "      <td>____</td>\n",
       "    </tr>\n",
       "    <tr>\n",
       "      <th>3</th>\n",
       "      <td>-0.040028</td>\n",
       "      <td>_____</td>\n",
       "    </tr>\n",
       "    <tr>\n",
       "      <th>4</th>\n",
       "      <td>0.004971</td>\n",
       "      <td>______</td>\n",
       "    </tr>\n",
       "    <tr>\n",
       "      <th>...</th>\n",
       "      <td>...</td>\n",
       "      <td>...</td>\n",
       "    </tr>\n",
       "    <tr>\n",
       "      <th>53496</th>\n",
       "      <td>-0.027581</td>\n",
       "      <td>zzz</td>\n",
       "    </tr>\n",
       "    <tr>\n",
       "      <th>53497</th>\n",
       "      <td>0.000000</td>\n",
       "      <td>zzzzz</td>\n",
       "    </tr>\n",
       "    <tr>\n",
       "      <th>53498</th>\n",
       "      <td>-0.030127</td>\n",
       "      <td>zzzzzz</td>\n",
       "    </tr>\n",
       "    <tr>\n",
       "      <th>53499</th>\n",
       "      <td>0.047834</td>\n",
       "      <td>zzzzzzzz</td>\n",
       "    </tr>\n",
       "    <tr>\n",
       "      <th>53500</th>\n",
       "      <td>-0.060454</td>\n",
       "      <td>zzzzzzzzzzz</td>\n",
       "    </tr>\n",
       "  </tbody>\n",
       "</table>\n",
       "<p>53501 rows × 2 columns</p>\n",
       "</div>"
      ],
      "text/plain": [
       "       importance     features\n",
       "0        0.253588           __\n",
       "1       -0.144298          ___\n",
       "2       -0.075635         ____\n",
       "3       -0.040028        _____\n",
       "4        0.004971       ______\n",
       "...           ...          ...\n",
       "53496   -0.027581          zzz\n",
       "53497    0.000000        zzzzz\n",
       "53498   -0.030127       zzzzzz\n",
       "53499    0.047834     zzzzzzzz\n",
       "53500   -0.060454  zzzzzzzzzzz\n",
       "\n",
       "[53501 rows x 2 columns]"
      ]
     },
     "execution_count": 37,
     "metadata": {},
     "output_type": "execute_result"
    }
   ],
   "source": [
    "# get importance\n",
    "importance = grid_result.best_estimator_.coef_[0]\n",
    "feature_importance = pd.DataFrame({\"importance\":importance, \"features\":features})\n",
    "feature_importance"
   ]
  },
  {
   "cell_type": "code",
   "execution_count": 38,
   "id": "f4b94606",
   "metadata": {},
   "outputs": [
    {
     "data": {
      "text/html": [
       "<div>\n",
       "<style scoped>\n",
       "    .dataframe tbody tr th:only-of-type {\n",
       "        vertical-align: middle;\n",
       "    }\n",
       "\n",
       "    .dataframe tbody tr th {\n",
       "        vertical-align: top;\n",
       "    }\n",
       "\n",
       "    .dataframe thead th {\n",
       "        text-align: right;\n",
       "    }\n",
       "</style>\n",
       "<table border=\"1\" class=\"dataframe\">\n",
       "  <thead>\n",
       "    <tr style=\"text-align: right;\">\n",
       "      <th></th>\n",
       "      <th>importance</th>\n",
       "      <th>features</th>\n",
       "    </tr>\n",
       "  </thead>\n",
       "  <tbody>\n",
       "    <tr>\n",
       "      <th>26750</th>\n",
       "      <td>0.000000</td>\n",
       "      <td>leonie</td>\n",
       "    </tr>\n",
       "    <tr>\n",
       "      <th>20274</th>\n",
       "      <td>0.000000</td>\n",
       "      <td>haka</td>\n",
       "    </tr>\n",
       "    <tr>\n",
       "      <th>20275</th>\n",
       "      <td>0.000000</td>\n",
       "      <td>hakkif</td>\n",
       "    </tr>\n",
       "    <tr>\n",
       "      <th>20277</th>\n",
       "      <td>0.000000</td>\n",
       "      <td>hakubatrail</td>\n",
       "    </tr>\n",
       "    <tr>\n",
       "      <th>20278</th>\n",
       "      <td>0.000000</td>\n",
       "      <td>hakuna</td>\n",
       "    </tr>\n",
       "    <tr>\n",
       "      <th>...</th>\n",
       "      <td>...</td>\n",
       "      <td>...</td>\n",
       "    </tr>\n",
       "    <tr>\n",
       "      <th>13450</th>\n",
       "      <td>-1.872825</td>\n",
       "      <td>dude</td>\n",
       "    </tr>\n",
       "    <tr>\n",
       "      <th>6006</th>\n",
       "      <td>-1.897597</td>\n",
       "      <td>bro</td>\n",
       "    </tr>\n",
       "    <tr>\n",
       "      <th>28871</th>\n",
       "      <td>-2.254325</td>\n",
       "      <td>mate</td>\n",
       "    </tr>\n",
       "    <tr>\n",
       "      <th>28442</th>\n",
       "      <td>-2.486243</td>\n",
       "      <td>man</td>\n",
       "    </tr>\n",
       "    <tr>\n",
       "      <th>42271</th>\n",
       "      <td>-3.170708</td>\n",
       "      <td>sir</td>\n",
       "    </tr>\n",
       "  </tbody>\n",
       "</table>\n",
       "<p>53501 rows × 2 columns</p>\n",
       "</div>"
      ],
      "text/plain": [
       "       importance     features\n",
       "26750    0.000000       leonie\n",
       "20274    0.000000         haka\n",
       "20275    0.000000       hakkif\n",
       "20277    0.000000  hakubatrail\n",
       "20278    0.000000       hakuna\n",
       "...           ...          ...\n",
       "13450   -1.872825         dude\n",
       "6006    -1.897597          bro\n",
       "28871   -2.254325         mate\n",
       "28442   -2.486243          man\n",
       "42271   -3.170708          sir\n",
       "\n",
       "[53501 rows x 2 columns]"
      ]
     },
     "execution_count": 38,
     "metadata": {},
     "output_type": "execute_result"
    }
   ],
   "source": [
    "feature_importance.sort_values(['importance'],  key=abs, inplace=True)\n",
    "feature_importance\n"
   ]
  },
  {
   "cell_type": "code",
   "execution_count": 39,
   "id": "346db448",
   "metadata": {},
   "outputs": [
    {
     "data": {
      "image/png": "[encoded data removed]",
      "text/plain": [
       "<Figure size 1440x720 with 1 Axes>"
      ]
     },
     "metadata": {
      "needs_background": "light"
     },
     "output_type": "display_data"
    }
   ],
   "source": [
    "# plot feature importance\n",
    "plt.figure(figsize=(20, 10))\n",
    "plt.bar(feature_importance['features'][-30:], feature_importance['importance'][-30:], width = 0.4)\n",
    "plt.xticks(rotation=45)\n",
    "plt.show()"
   ]
  },
  {
   "cell_type": "code",
   "execution_count": 40,
   "id": "8d989c21",
   "metadata": {},
   "outputs": [],
   "source": [
    "# visualize most freuquent words"
   ]
  },
  {
   "cell_type": "code",
   "execution_count": 41,
   "id": "47c25776",
   "metadata": {},
   "outputs": [],
   "source": [
    "vectorizer = TfidfVectorizer()\n",
    "X = vectorizer.fit_transform(data_df2['response_text_cleaned'])\n",
    "features = vectorizer.get_feature_names_out()\n",
    "y = data_df2['op_gender']"
   ]
  },
  {
   "cell_type": "code",
   "execution_count": 42,
   "id": "cc8566d5",
   "metadata": {},
   "outputs": [
    {
     "name": "stdout",
     "output_type": "stream",
     "text": [
      "['__' '___' '____' '_____' '______' '_______' '________' '__________'\n",
      " '______________' '__________________' '________________________' '__it'\n",
      " '_and_' '_c' '_corona' '_definitely_' '_do_' '_everyday' '_have_' '_hot_'\n",
      " '_i_' '_insane_' '_is_' '_know_' '_maz_' '_me_' '_not_' '_out_'\n",
      " '_paula_p_' '_something_']\n"
     ]
    }
   ],
   "source": [
    "print(features[:30])"
   ]
  },
  {
   "cell_type": "code",
   "execution_count": 43,
   "id": "e6f8ad9e",
   "metadata": {},
   "outputs": [
    {
     "data": {
      "text/plain": [
       "((318535, 53501), 318535, 53501)"
      ]
     },
     "execution_count": 43,
     "metadata": {},
     "output_type": "execute_result"
    }
   ],
   "source": [
    "X.shape, len(y), len(features)"
   ]
  },
  {
   "cell_type": "code",
   "execution_count": 44,
   "id": "4814d1d4",
   "metadata": {},
   "outputs": [],
   "source": [
    "from sklearn.model_selection import train_test_split\n",
    "X_train, X_test, y_train, y_test = train_test_split(X, y, test_size=0.33, random_state=42)"
   ]
  },
  {
   "cell_type": "code",
   "execution_count": 45,
   "id": "325c6590",
   "metadata": {},
   "outputs": [
    {
     "name": "stdout",
     "output_type": "stream",
     "text": [
      "['M' 'W']\n",
      "[[0.60622325 0.39377675]\n",
      " [0.45785162 0.54214838]]\n"
     ]
    }
   ],
   "source": [
    "clf = LogisticRegression(random_state=0).fit(X_train, y_train)\n",
    "print(clf.predict(X[:2, :]))\n",
    "print(clf.predict_proba(X[:2, :]))\n",
    "# >>> clf.score(X, y)"
   ]
  },
  {
   "cell_type": "code",
   "execution_count": 46,
   "id": "5f4e8f72",
   "metadata": {},
   "outputs": [
    {
     "data": {
      "text/plain": [
       "0    W\n",
       "1    W\n",
       "Name: op_gender, dtype: object"
      ]
     },
     "execution_count": 46,
     "metadata": {},
     "output_type": "execute_result"
    }
   ],
   "source": [
    "y[:2]"
   ]
  },
  {
   "cell_type": "code",
   "execution_count": 47,
   "id": "10b9e8ce",
   "metadata": {},
   "outputs": [
    {
     "name": "stdout",
     "output_type": "stream",
     "text": [
      "Best: 0.588530 using {'C': 1.0, 'penalty': 'l2'}\n",
      "0.581160 (0.002255) with: {'C': 100, 'penalty': 'l2'}\n",
      "0.582036 (0.001315) with: {'C': 10, 'penalty': 'l2'}\n",
      "0.588530 (0.000711) with: {'C': 1.0, 'penalty': 'l2'}\n",
      "0.588427 (0.000678) with: {'C': 0.1, 'penalty': 'l2'}\n",
      "0.572492 (0.001168) with: {'C': 0.01, 'penalty': 'l2'}\n"
     ]
    }
   ],
   "source": [
    "from sklearn.datasets import make_blobs\n",
    "from sklearn.model_selection import StratifiedKFold\n",
    "from sklearn.model_selection import GridSearchCV\n",
    "from sklearn.linear_model import LogisticRegression\n",
    "\n",
    "model = LogisticRegression()\n",
    "# solvers = ['newton-cg', 'lbfgs', 'liblinear']\n",
    "penalty = ['l2']\n",
    "c_values = [100, 10, 1.0, 0.1, 0.01]\n",
    "# define grid search\n",
    "# grid = dict(solver=solvers,penalty=penalty,C=c_values)\n",
    "grid = dict(penalty=penalty,C=c_values)\n",
    "cv = StratifiedKFold(n_splits=5,  shuffle = True, random_state=1)\n",
    "grid_search = GridSearchCV(estimator=model, param_grid=grid, n_jobs=-1, cv=cv, scoring='accuracy',error_score=0)\n",
    "grid_result = grid_search.fit(X_train, y_train)\n",
    "# summarize results\n",
    "print(\"Best: %f using %s\" % (grid_result.best_score_, grid_result.best_params_))\n",
    "means = grid_result.cv_results_['mean_test_score']\n",
    "stds = grid_result.cv_results_['std_test_score']\n",
    "params = grid_result.cv_results_['params']\n",
    "for mean, stdev, param in zip(means, stds, params):\n",
    "    print(\"%f (%f) with: %r\" % (mean, stdev, param))"
   ]
  },
  {
   "cell_type": "code",
   "execution_count": 48,
   "id": "5e3a4fdf",
   "metadata": {},
   "outputs": [
    {
     "name": "stdout",
     "output_type": "stream",
     "text": [
      "test accuracy :  0.5923685036673421\n"
     ]
    }
   ],
   "source": [
    "test_pred = grid_result.predict(X_test)\n",
    "from sklearn.metrics import accuracy_score\n",
    "test_acc = accuracy_score(y_test, test_pred)\n",
    "print(\"test accuracy : \", test_acc)"
   ]
  },
  {
   "cell_type": "code",
   "execution_count": 49,
   "id": "25db475f",
   "metadata": {},
   "outputs": [
    {
     "name": "stdout",
     "output_type": "stream",
     "text": [
      "overall accuracy :  0.6254917042083288\n"
     ]
    }
   ],
   "source": [
    "all_pred = grid_result.predict(X)\n",
    "from sklearn.metrics import accuracy_score\n",
    "all_acc = accuracy_score(y, all_pred)\n",
    "print(\"overall accuracy : \", all_acc)"
   ]
  },
  {
   "cell_type": "code",
   "execution_count": 50,
   "id": "aa24cda1",
   "metadata": {},
   "outputs": [
    {
     "data": {
      "text/plain": [
       "{'C': 1.0, 'penalty': 'l2'}"
      ]
     },
     "execution_count": 50,
     "metadata": {},
     "output_type": "execute_result"
    }
   ],
   "source": [
    "grid_result.best_params_"
   ]
  },
  {
   "cell_type": "code",
   "execution_count": 51,
   "id": "f22253a4",
   "metadata": {},
   "outputs": [
    {
     "data": {
      "text/html": [
       "<div>\n",
       "<style scoped>\n",
       "    .dataframe tbody tr th:only-of-type {\n",
       "        vertical-align: middle;\n",
       "    }\n",
       "\n",
       "    .dataframe tbody tr th {\n",
       "        vertical-align: top;\n",
       "    }\n",
       "\n",
       "    .dataframe thead th {\n",
       "        text-align: right;\n",
       "    }\n",
       "</style>\n",
       "<table border=\"1\" class=\"dataframe\">\n",
       "  <thead>\n",
       "    <tr style=\"text-align: right;\">\n",
       "      <th></th>\n",
       "      <th>importance</th>\n",
       "      <th>features</th>\n",
       "    </tr>\n",
       "  </thead>\n",
       "  <tbody>\n",
       "    <tr>\n",
       "      <th>0</th>\n",
       "      <td>0.693150</td>\n",
       "      <td>__</td>\n",
       "    </tr>\n",
       "    <tr>\n",
       "      <th>1</th>\n",
       "      <td>-0.627487</td>\n",
       "      <td>___</td>\n",
       "    </tr>\n",
       "    <tr>\n",
       "      <th>2</th>\n",
       "      <td>-0.567188</td>\n",
       "      <td>____</td>\n",
       "    </tr>\n",
       "    <tr>\n",
       "      <th>3</th>\n",
       "      <td>-0.363360</td>\n",
       "      <td>_____</td>\n",
       "    </tr>\n",
       "    <tr>\n",
       "      <th>4</th>\n",
       "      <td>0.277432</td>\n",
       "      <td>______</td>\n",
       "    </tr>\n",
       "    <tr>\n",
       "      <th>...</th>\n",
       "      <td>...</td>\n",
       "      <td>...</td>\n",
       "    </tr>\n",
       "    <tr>\n",
       "      <th>53496</th>\n",
       "      <td>-0.201713</td>\n",
       "      <td>zzz</td>\n",
       "    </tr>\n",
       "    <tr>\n",
       "      <th>53497</th>\n",
       "      <td>0.000000</td>\n",
       "      <td>zzzzz</td>\n",
       "    </tr>\n",
       "    <tr>\n",
       "      <th>53498</th>\n",
       "      <td>-0.166357</td>\n",
       "      <td>zzzzzz</td>\n",
       "    </tr>\n",
       "    <tr>\n",
       "      <th>53499</th>\n",
       "      <td>0.147873</td>\n",
       "      <td>zzzzzzzz</td>\n",
       "    </tr>\n",
       "    <tr>\n",
       "      <th>53500</th>\n",
       "      <td>-0.443843</td>\n",
       "      <td>zzzzzzzzzzz</td>\n",
       "    </tr>\n",
       "  </tbody>\n",
       "</table>\n",
       "<p>53501 rows × 2 columns</p>\n",
       "</div>"
      ],
      "text/plain": [
       "       importance     features\n",
       "0        0.693150           __\n",
       "1       -0.627487          ___\n",
       "2       -0.567188         ____\n",
       "3       -0.363360        _____\n",
       "4        0.277432       ______\n",
       "...           ...          ...\n",
       "53496   -0.201713          zzz\n",
       "53497    0.000000        zzzzz\n",
       "53498   -0.166357       zzzzzz\n",
       "53499    0.147873     zzzzzzzz\n",
       "53500   -0.443843  zzzzzzzzzzz\n",
       "\n",
       "[53501 rows x 2 columns]"
      ]
     },
     "execution_count": 51,
     "metadata": {},
     "output_type": "execute_result"
    }
   ],
   "source": [
    "# get importance\n",
    "importance = grid_result.best_estimator_.coef_[0]\n",
    "feature_importance = pd.DataFrame({\"importance\":importance, \"features\":features})\n",
    "feature_importance"
   ]
  },
  {
   "cell_type": "code",
   "execution_count": 52,
   "id": "d9b5dac4",
   "metadata": {},
   "outputs": [
    {
     "data": {
      "text/html": [
       "<div>\n",
       "<style scoped>\n",
       "    .dataframe tbody tr th:only-of-type {\n",
       "        vertical-align: middle;\n",
       "    }\n",
       "\n",
       "    .dataframe tbody tr th {\n",
       "        vertical-align: top;\n",
       "    }\n",
       "\n",
       "    .dataframe thead th {\n",
       "        text-align: right;\n",
       "    }\n",
       "</style>\n",
       "<table border=\"1\" class=\"dataframe\">\n",
       "  <thead>\n",
       "    <tr style=\"text-align: right;\">\n",
       "      <th></th>\n",
       "      <th>importance</th>\n",
       "      <th>features</th>\n",
       "    </tr>\n",
       "  </thead>\n",
       "  <tbody>\n",
       "    <tr>\n",
       "      <th>26750</th>\n",
       "      <td>0.000000</td>\n",
       "      <td>leonie</td>\n",
       "    </tr>\n",
       "    <tr>\n",
       "      <th>21680</th>\n",
       "      <td>0.000000</td>\n",
       "      <td>hollerrrr</td>\n",
       "    </tr>\n",
       "    <tr>\n",
       "      <th>21683</th>\n",
       "      <td>0.000000</td>\n",
       "      <td>hollidays</td>\n",
       "    </tr>\n",
       "    <tr>\n",
       "      <th>21684</th>\n",
       "      <td>0.000000</td>\n",
       "      <td>holllaaa</td>\n",
       "    </tr>\n",
       "    <tr>\n",
       "      <th>21685</th>\n",
       "      <td>0.000000</td>\n",
       "      <td>hollllllaaaa</td>\n",
       "    </tr>\n",
       "    <tr>\n",
       "      <th>...</th>\n",
       "      <td>...</td>\n",
       "      <td>...</td>\n",
       "    </tr>\n",
       "    <tr>\n",
       "      <th>6006</th>\n",
       "      <td>-4.630404</td>\n",
       "      <td>bro</td>\n",
       "    </tr>\n",
       "    <tr>\n",
       "      <th>28871</th>\n",
       "      <td>-4.795596</td>\n",
       "      <td>mate</td>\n",
       "    </tr>\n",
       "    <tr>\n",
       "      <th>13450</th>\n",
       "      <td>-4.810933</td>\n",
       "      <td>dude</td>\n",
       "    </tr>\n",
       "    <tr>\n",
       "      <th>42271</th>\n",
       "      <td>-6.767743</td>\n",
       "      <td>sir</td>\n",
       "    </tr>\n",
       "    <tr>\n",
       "      <th>28442</th>\n",
       "      <td>-7.844141</td>\n",
       "      <td>man</td>\n",
       "    </tr>\n",
       "  </tbody>\n",
       "</table>\n",
       "<p>53501 rows × 2 columns</p>\n",
       "</div>"
      ],
      "text/plain": [
       "       importance      features\n",
       "26750    0.000000        leonie\n",
       "21680    0.000000     hollerrrr\n",
       "21683    0.000000     hollidays\n",
       "21684    0.000000      holllaaa\n",
       "21685    0.000000  hollllllaaaa\n",
       "...           ...           ...\n",
       "6006    -4.630404           bro\n",
       "28871   -4.795596          mate\n",
       "13450   -4.810933          dude\n",
       "42271   -6.767743           sir\n",
       "28442   -7.844141           man\n",
       "\n",
       "[53501 rows x 2 columns]"
      ]
     },
     "execution_count": 52,
     "metadata": {},
     "output_type": "execute_result"
    }
   ],
   "source": [
    "feature_importance.sort_values(['importance'],  key=abs, inplace=True)\n",
    "feature_importance\n"
   ]
  },
  {
   "cell_type": "code",
   "execution_count": 53,
   "id": "85725b40",
   "metadata": {},
   "outputs": [
    {
     "data": {
      "image/png": "[encoded data removed]",
      "text/plain": [
       "<Figure size 1440x720 with 1 Axes>"
      ]
     },
     "metadata": {
      "needs_background": "light"
     },
     "output_type": "display_data"
    }
   ],
   "source": [
    "# plot feature importance\n",
    "plt.figure(figsize=(20, 10))\n",
    "plt.bar(feature_importance['features'][-30:], feature_importance['importance'][-30:], width = 0.4)\n",
    "plt.xticks(rotation=45)\n",
    "plt.show()"
   ]
  },
  {
   "cell_type": "code",
   "execution_count": 54,
   "id": "4035befc",
   "metadata": {},
   "outputs": [],
   "source": [
    "# visualize most freuquent words"
   ]
  },
  {
   "cell_type": "code",
   "execution_count": 55,
   "id": "a1f51c15",
   "metadata": {},
   "outputs": [
    {
     "data": {
      "text/html": [
       "<div>\n",
       "<style scoped>\n",
       "    .dataframe tbody tr th:only-of-type {\n",
       "        vertical-align: middle;\n",
       "    }\n",
       "\n",
       "    .dataframe tbody tr th {\n",
       "        vertical-align: top;\n",
       "    }\n",
       "\n",
       "    .dataframe thead th {\n",
       "        text-align: right;\n",
       "    }\n",
       "</style>\n",
       "<table border=\"1\" class=\"dataframe\">\n",
       "  <thead>\n",
       "    <tr style=\"text-align: right;\">\n",
       "      <th></th>\n",
       "      <th>op_gender</th>\n",
       "      <th>responder_gender</th>\n",
       "      <th>response_text_cleaned</th>\n",
       "    </tr>\n",
       "  </thead>\n",
       "  <tbody>\n",
       "    <tr>\n",
       "      <th>0</th>\n",
       "      <td>M</td>\n",
       "      <td>M</td>\n",
       "      <td>hey! started new job, thing sorta hectic. let ...</td>\n",
       "    </tr>\n",
       "    <tr>\n",
       "      <th>1</th>\n",
       "      <td>M</td>\n",
       "      <td>W</td>\n",
       "      <td>mirin % bodyfat? yeah, are. bad. .o doubt: who...</td>\n",
       "    </tr>\n",
       "    <tr>\n",
       "      <th>2</th>\n",
       "      <td>W</td>\n",
       "      <td>M</td>\n",
       "      <td>one day time! =] enter assisted pullups. selec...</td>\n",
       "    </tr>\n",
       "    <tr>\n",
       "      <th>3</th>\n",
       "      <td>W</td>\n",
       "      <td>W</td>\n",
       "      <td>crazy synonymous awesome case. wait wwwaaatt! ...</td>\n",
       "    </tr>\n",
       "  </tbody>\n",
       "</table>\n",
       "</div>"
      ],
      "text/plain": [
       "  op_gender responder_gender  \\\n",
       "0         M                M   \n",
       "1         M                W   \n",
       "2         W                M   \n",
       "3         W                W   \n",
       "\n",
       "                               response_text_cleaned  \n",
       "0  hey! started new job, thing sorta hectic. let ...  \n",
       "1  mirin % bodyfat? yeah, are. bad. .o doubt: who...  \n",
       "2  one day time! =] enter assisted pullups. selec...  \n",
       "3  crazy synonymous awesome case. wait wwwaaatt! ...  "
      ]
     },
     "execution_count": 55,
     "metadata": {},
     "output_type": "execute_result"
    }
   ],
   "source": [
    "all_words"
   ]
  },
  {
   "cell_type": "code",
   "execution_count": 56,
   "id": "9f1549a0",
   "metadata": {},
   "outputs": [
    {
     "data": {
      "text/html": [
       "<div>\n",
       "<style scoped>\n",
       "    .dataframe tbody tr th:only-of-type {\n",
       "        vertical-align: middle;\n",
       "    }\n",
       "\n",
       "    .dataframe tbody tr th {\n",
       "        vertical-align: top;\n",
       "    }\n",
       "\n",
       "    .dataframe thead th {\n",
       "        text-align: right;\n",
       "    }\n",
       "</style>\n",
       "<table border=\"1\" class=\"dataframe\">\n",
       "  <thead>\n",
       "    <tr style=\"text-align: right;\">\n",
       "      <th></th>\n",
       "      <th>word</th>\n",
       "      <th>n</th>\n",
       "      <th>total_words</th>\n",
       "      <th>gender</th>\n",
       "    </tr>\n",
       "  </thead>\n",
       "  <tbody>\n",
       "    <tr>\n",
       "      <th>0</th>\n",
       "      <td>hey!</td>\n",
       "      <td>96</td>\n",
       "      <td>607497</td>\n",
       "      <td>op_M_res_M</td>\n",
       "    </tr>\n",
       "    <tr>\n",
       "      <th>1</th>\n",
       "      <td>started</td>\n",
       "      <td>1007</td>\n",
       "      <td>607497</td>\n",
       "      <td>op_M_res_M</td>\n",
       "    </tr>\n",
       "    <tr>\n",
       "      <th>2</th>\n",
       "      <td>new</td>\n",
       "      <td>1023</td>\n",
       "      <td>607497</td>\n",
       "      <td>op_M_res_M</td>\n",
       "    </tr>\n",
       "    <tr>\n",
       "      <th>3</th>\n",
       "      <td>job,</td>\n",
       "      <td>35</td>\n",
       "      <td>607497</td>\n",
       "      <td>op_M_res_M</td>\n",
       "    </tr>\n",
       "    <tr>\n",
       "      <th>4</th>\n",
       "      <td>thing</td>\n",
       "      <td>1420</td>\n",
       "      <td>607497</td>\n",
       "      <td>op_M_res_M</td>\n",
       "    </tr>\n",
       "    <tr>\n",
       "      <th>...</th>\n",
       "      <td>...</td>\n",
       "      <td>...</td>\n",
       "      <td>...</td>\n",
       "      <td>...</td>\n",
       "    </tr>\n",
       "    <tr>\n",
       "      <th>63134</th>\n",
       "      <td>feed...in</td>\n",
       "      <td>1</td>\n",
       "      <td>607497</td>\n",
       "      <td>op_M_res_M</td>\n",
       "    </tr>\n",
       "    <tr>\n",
       "      <th>63135</th>\n",
       "      <td>feed...lol</td>\n",
       "      <td>1</td>\n",
       "      <td>607497</td>\n",
       "      <td>op_M_res_M</td>\n",
       "    </tr>\n",
       "    <tr>\n",
       "      <th>63136</th>\n",
       "      <td>beastliness</td>\n",
       "      <td>1</td>\n",
       "      <td>607497</td>\n",
       "      <td>op_M_res_M</td>\n",
       "    </tr>\n",
       "    <tr>\n",
       "      <th>63137</th>\n",
       "      <td>militaries,</td>\n",
       "      <td>1</td>\n",
       "      <td>607497</td>\n",
       "      <td>op_M_res_M</td>\n",
       "    </tr>\n",
       "    <tr>\n",
       "      <th>63138</th>\n",
       "      <td>go!!!get</td>\n",
       "      <td>1</td>\n",
       "      <td>607497</td>\n",
       "      <td>op_M_res_M</td>\n",
       "    </tr>\n",
       "  </tbody>\n",
       "</table>\n",
       "<p>63139 rows × 4 columns</p>\n",
       "</div>"
      ],
      "text/plain": [
       "              word     n  total_words      gender\n",
       "0             hey!    96       607497  op_M_res_M\n",
       "1          started  1007       607497  op_M_res_M\n",
       "2              new  1023       607497  op_M_res_M\n",
       "3             job,    35       607497  op_M_res_M\n",
       "4            thing  1420       607497  op_M_res_M\n",
       "...            ...   ...          ...         ...\n",
       "63134    feed...in     1       607497  op_M_res_M\n",
       "63135   feed...lol     1       607497  op_M_res_M\n",
       "63136  beastliness     1       607497  op_M_res_M\n",
       "63137  militaries,     1       607497  op_M_res_M\n",
       "63138     go!!!get     1       607497  op_M_res_M\n",
       "\n",
       "[63139 rows x 4 columns]"
      ]
     },
     "execution_count": 56,
     "metadata": {},
     "output_type": "execute_result"
    }
   ],
   "source": [
    "df_op_M_res_M = pd.DataFrame(fd_wct1_op_M_res_M.items(), columns=['word', 'n'])\n",
    "cnt = 0 \n",
    "total_words_M_M = sum(fd_wct1_op_M_res_M.values())\n",
    "\n",
    "df_op_M_res_M['total_words'] = total_words_M_M\n",
    "df_op_M_res_M['gender'] ='op_M_res_M'\n",
    "df_op_M_res_M\n"
   ]
  },
  {
   "cell_type": "code",
   "execution_count": 57,
   "id": "793361e9",
   "metadata": {},
   "outputs": [
    {
     "data": {
      "text/html": [
       "<div>\n",
       "<style scoped>\n",
       "    .dataframe tbody tr th:only-of-type {\n",
       "        vertical-align: middle;\n",
       "    }\n",
       "\n",
       "    .dataframe tbody tr th {\n",
       "        vertical-align: top;\n",
       "    }\n",
       "\n",
       "    .dataframe thead th {\n",
       "        text-align: right;\n",
       "    }\n",
       "</style>\n",
       "<table border=\"1\" class=\"dataframe\">\n",
       "  <thead>\n",
       "    <tr style=\"text-align: right;\">\n",
       "      <th></th>\n",
       "      <th>word</th>\n",
       "      <th>n</th>\n",
       "      <th>total_words</th>\n",
       "      <th>gender</th>\n",
       "    </tr>\n",
       "  </thead>\n",
       "  <tbody>\n",
       "    <tr>\n",
       "      <th>0</th>\n",
       "      <td>mirin</td>\n",
       "      <td>32</td>\n",
       "      <td>1341162</td>\n",
       "      <td>op_M_res_F</td>\n",
       "    </tr>\n",
       "    <tr>\n",
       "      <th>1</th>\n",
       "      <td>%</td>\n",
       "      <td>92</td>\n",
       "      <td>1341162</td>\n",
       "      <td>op_M_res_F</td>\n",
       "    </tr>\n",
       "    <tr>\n",
       "      <th>2</th>\n",
       "      <td>bodyfat?</td>\n",
       "      <td>2</td>\n",
       "      <td>1341162</td>\n",
       "      <td>op_M_res_F</td>\n",
       "    </tr>\n",
       "    <tr>\n",
       "      <th>3</th>\n",
       "      <td>yeah,</td>\n",
       "      <td>368</td>\n",
       "      <td>1341162</td>\n",
       "      <td>op_M_res_F</td>\n",
       "    </tr>\n",
       "    <tr>\n",
       "      <th>4</th>\n",
       "      <td>are.</td>\n",
       "      <td>33</td>\n",
       "      <td>1341162</td>\n",
       "      <td>op_M_res_F</td>\n",
       "    </tr>\n",
       "    <tr>\n",
       "      <th>...</th>\n",
       "      <td>...</td>\n",
       "      <td>...</td>\n",
       "      <td>...</td>\n",
       "      <td>...</td>\n",
       "    </tr>\n",
       "    <tr>\n",
       "      <th>54957</th>\n",
       "      <td>reference!</td>\n",
       "      <td>1</td>\n",
       "      <td>1341162</td>\n",
       "      <td>op_M_res_F</td>\n",
       "    </tr>\n",
       "    <tr>\n",
       "      <th>54958</th>\n",
       "      <td>goddess...</td>\n",
       "      <td>1</td>\n",
       "      <td>1341162</td>\n",
       "      <td>op_M_res_F</td>\n",
       "    </tr>\n",
       "    <tr>\n",
       "      <th>54959</th>\n",
       "      <td>stackhouse!!</td>\n",
       "      <td>1</td>\n",
       "      <td>1341162</td>\n",
       "      <td>op_M_res_F</td>\n",
       "    </tr>\n",
       "    <tr>\n",
       "      <th>54960</th>\n",
       "      <td>options:</td>\n",
       "      <td>1</td>\n",
       "      <td>1341162</td>\n",
       "      <td>op_M_res_F</td>\n",
       "    </tr>\n",
       "    <tr>\n",
       "      <th>54961</th>\n",
       "      <td>choose.</td>\n",
       "      <td>1</td>\n",
       "      <td>1341162</td>\n",
       "      <td>op_M_res_F</td>\n",
       "    </tr>\n",
       "  </tbody>\n",
       "</table>\n",
       "<p>54962 rows × 4 columns</p>\n",
       "</div>"
      ],
      "text/plain": [
       "               word    n  total_words      gender\n",
       "0             mirin   32      1341162  op_M_res_F\n",
       "1                 %   92      1341162  op_M_res_F\n",
       "2          bodyfat?    2      1341162  op_M_res_F\n",
       "3             yeah,  368      1341162  op_M_res_F\n",
       "4              are.   33      1341162  op_M_res_F\n",
       "...             ...  ...          ...         ...\n",
       "54957    reference!    1      1341162  op_M_res_F\n",
       "54958    goddess...    1      1341162  op_M_res_F\n",
       "54959  stackhouse!!    1      1341162  op_M_res_F\n",
       "54960      options:    1      1341162  op_M_res_F\n",
       "54961       choose.    1      1341162  op_M_res_F\n",
       "\n",
       "[54962 rows x 4 columns]"
      ]
     },
     "execution_count": 57,
     "metadata": {},
     "output_type": "execute_result"
    }
   ],
   "source": [
    "df_op_M_res_F = pd.DataFrame(fd_wct1_op_M_res_F.items(), columns=['word', 'n'])\n",
    "cnt = 0 \n",
    "total_words_M_F = sum(fd_wct1_op_M_res_F.values())\n",
    "\n",
    "df_op_M_res_F['total_words'] = total_words_M_F\n",
    "df_op_M_res_F['gender'] ='op_M_res_F'\n",
    "df_op_M_res_F"
   ]
  },
  {
   "cell_type": "code",
   "execution_count": 58,
   "id": "013d7fa8",
   "metadata": {},
   "outputs": [
    {
     "data": {
      "text/html": [
       "<div>\n",
       "<style scoped>\n",
       "    .dataframe tbody tr th:only-of-type {\n",
       "        vertical-align: middle;\n",
       "    }\n",
       "\n",
       "    .dataframe tbody tr th {\n",
       "        vertical-align: top;\n",
       "    }\n",
       "\n",
       "    .dataframe thead th {\n",
       "        text-align: right;\n",
       "    }\n",
       "</style>\n",
       "<table border=\"1\" class=\"dataframe\">\n",
       "  <thead>\n",
       "    <tr style=\"text-align: right;\">\n",
       "      <th></th>\n",
       "      <th>word</th>\n",
       "      <th>n</th>\n",
       "      <th>total_words</th>\n",
       "      <th>gender</th>\n",
       "    </tr>\n",
       "  </thead>\n",
       "  <tbody>\n",
       "    <tr>\n",
       "      <th>0</th>\n",
       "      <td>crazy</td>\n",
       "      <td>145</td>\n",
       "      <td>1258041</td>\n",
       "      <td>op_F_res_F</td>\n",
       "    </tr>\n",
       "    <tr>\n",
       "      <th>1</th>\n",
       "      <td>synonymous</td>\n",
       "      <td>1</td>\n",
       "      <td>1258041</td>\n",
       "      <td>op_F_res_F</td>\n",
       "    </tr>\n",
       "    <tr>\n",
       "      <th>2</th>\n",
       "      <td>awesome</td>\n",
       "      <td>748</td>\n",
       "      <td>1258041</td>\n",
       "      <td>op_F_res_F</td>\n",
       "    </tr>\n",
       "    <tr>\n",
       "      <th>3</th>\n",
       "      <td>case.</td>\n",
       "      <td>3</td>\n",
       "      <td>1258041</td>\n",
       "      <td>op_F_res_F</td>\n",
       "    </tr>\n",
       "    <tr>\n",
       "      <th>4</th>\n",
       "      <td>wait</td>\n",
       "      <td>251</td>\n",
       "      <td>1258041</td>\n",
       "      <td>op_F_res_F</td>\n",
       "    </tr>\n",
       "    <tr>\n",
       "      <th>...</th>\n",
       "      <td>...</td>\n",
       "      <td>...</td>\n",
       "      <td>...</td>\n",
       "      <td>...</td>\n",
       "    </tr>\n",
       "    <tr>\n",
       "      <th>43431</th>\n",
       "      <td>@robinls!</td>\n",
       "      <td>1</td>\n",
       "      <td>1258041</td>\n",
       "      <td>op_F_res_F</td>\n",
       "    </tr>\n",
       "    <tr>\n",
       "      <th>43432</th>\n",
       "      <td>age...</td>\n",
       "      <td>1</td>\n",
       "      <td>1258041</td>\n",
       "      <td>op_F_res_F</td>\n",
       "    </tr>\n",
       "    <tr>\n",
       "      <th>43433</th>\n",
       "      <td>bang,</td>\n",
       "      <td>1</td>\n",
       "      <td>1258041</td>\n",
       "      <td>op_F_res_F</td>\n",
       "    </tr>\n",
       "    <tr>\n",
       "      <th>43434</th>\n",
       "      <td>xxxxxxxxxx</td>\n",
       "      <td>1</td>\n",
       "      <td>1258041</td>\n",
       "      <td>op_F_res_F</td>\n",
       "    </tr>\n",
       "    <tr>\n",
       "      <th>43435</th>\n",
       "      <td>hiiiiii!</td>\n",
       "      <td>1</td>\n",
       "      <td>1258041</td>\n",
       "      <td>op_F_res_F</td>\n",
       "    </tr>\n",
       "  </tbody>\n",
       "</table>\n",
       "<p>43436 rows × 4 columns</p>\n",
       "</div>"
      ],
      "text/plain": [
       "             word    n  total_words      gender\n",
       "0           crazy  145      1258041  op_F_res_F\n",
       "1      synonymous    1      1258041  op_F_res_F\n",
       "2         awesome  748      1258041  op_F_res_F\n",
       "3           case.    3      1258041  op_F_res_F\n",
       "4            wait  251      1258041  op_F_res_F\n",
       "...           ...  ...          ...         ...\n",
       "43431   @robinls!    1      1258041  op_F_res_F\n",
       "43432      age...    1      1258041  op_F_res_F\n",
       "43433       bang,    1      1258041  op_F_res_F\n",
       "43434  xxxxxxxxxx    1      1258041  op_F_res_F\n",
       "43435    hiiiiii!    1      1258041  op_F_res_F\n",
       "\n",
       "[43436 rows x 4 columns]"
      ]
     },
     "execution_count": 58,
     "metadata": {},
     "output_type": "execute_result"
    }
   ],
   "source": [
    "df_op_F_res_F = pd.DataFrame(fd_wct1_op_F_res_F.items(), columns=['word', 'n'])\n",
    "cnt = 0 \n",
    "total_words_F_F = sum(fd_wct1_op_F_res_F.values())\n",
    "\n",
    "df_op_F_res_F['total_words'] = total_words_F_F\n",
    "df_op_F_res_F['gender'] ='op_F_res_F'\n",
    "df_op_F_res_F"
   ]
  },
  {
   "cell_type": "code",
   "execution_count": 59,
   "id": "d46c442e",
   "metadata": {},
   "outputs": [
    {
     "data": {
      "text/html": [
       "<div>\n",
       "<style scoped>\n",
       "    .dataframe tbody tr th:only-of-type {\n",
       "        vertical-align: middle;\n",
       "    }\n",
       "\n",
       "    .dataframe tbody tr th {\n",
       "        vertical-align: top;\n",
       "    }\n",
       "\n",
       "    .dataframe thead th {\n",
       "        text-align: right;\n",
       "    }\n",
       "</style>\n",
       "<table border=\"1\" class=\"dataframe\">\n",
       "  <thead>\n",
       "    <tr style=\"text-align: right;\">\n",
       "      <th></th>\n",
       "      <th>word</th>\n",
       "      <th>n</th>\n",
       "      <th>total_words</th>\n",
       "      <th>gender</th>\n",
       "    </tr>\n",
       "  </thead>\n",
       "  <tbody>\n",
       "    <tr>\n",
       "      <th>0</th>\n",
       "      <td>one</td>\n",
       "      <td>1931</td>\n",
       "      <td>544419</td>\n",
       "      <td>op_F_res_M</td>\n",
       "    </tr>\n",
       "    <tr>\n",
       "      <th>1</th>\n",
       "      <td>day</td>\n",
       "      <td>1479</td>\n",
       "      <td>544419</td>\n",
       "      <td>op_F_res_M</td>\n",
       "    </tr>\n",
       "    <tr>\n",
       "      <th>2</th>\n",
       "      <td>time!</td>\n",
       "      <td>253</td>\n",
       "      <td>544419</td>\n",
       "      <td>op_F_res_M</td>\n",
       "    </tr>\n",
       "    <tr>\n",
       "      <th>3</th>\n",
       "      <td>=]</td>\n",
       "      <td>171</td>\n",
       "      <td>544419</td>\n",
       "      <td>op_F_res_M</td>\n",
       "    </tr>\n",
       "    <tr>\n",
       "      <th>4</th>\n",
       "      <td>enter</td>\n",
       "      <td>86</td>\n",
       "      <td>544419</td>\n",
       "      <td>op_F_res_M</td>\n",
       "    </tr>\n",
       "    <tr>\n",
       "      <th>...</th>\n",
       "      <td>...</td>\n",
       "      <td>...</td>\n",
       "      <td>...</td>\n",
       "      <td>...</td>\n",
       "    </tr>\n",
       "    <tr>\n",
       "      <th>55097</th>\n",
       "      <td>think.--brian</td>\n",
       "      <td>1</td>\n",
       "      <td>544419</td>\n",
       "      <td>op_F_res_M</td>\n",
       "    </tr>\n",
       "    <tr>\n",
       "      <th>55098</th>\n",
       "      <td>swinging.</td>\n",
       "      <td>1</td>\n",
       "      <td>544419</td>\n",
       "      <td>op_F_res_M</td>\n",
       "    </tr>\n",
       "    <tr>\n",
       "      <th>55099</th>\n",
       "      <td>/sarcasticdouchemodeoff</td>\n",
       "      <td>1</td>\n",
       "      <td>544419</td>\n",
       "      <td>op_F_res_M</td>\n",
       "    </tr>\n",
       "    <tr>\n",
       "      <th>55100</th>\n",
       "      <td>kev!</td>\n",
       "      <td>1</td>\n",
       "      <td>544419</td>\n",
       "      <td>op_F_res_M</td>\n",
       "    </tr>\n",
       "    <tr>\n",
       "      <th>55101</th>\n",
       "      <td>minute....</td>\n",
       "      <td>1</td>\n",
       "      <td>544419</td>\n",
       "      <td>op_F_res_M</td>\n",
       "    </tr>\n",
       "  </tbody>\n",
       "</table>\n",
       "<p>55102 rows × 4 columns</p>\n",
       "</div>"
      ],
      "text/plain": [
       "                          word     n  total_words      gender\n",
       "0                          one  1931       544419  op_F_res_M\n",
       "1                          day  1479       544419  op_F_res_M\n",
       "2                        time!   253       544419  op_F_res_M\n",
       "3                           =]   171       544419  op_F_res_M\n",
       "4                        enter    86       544419  op_F_res_M\n",
       "...                        ...   ...          ...         ...\n",
       "55097            think.--brian     1       544419  op_F_res_M\n",
       "55098                swinging.     1       544419  op_F_res_M\n",
       "55099  /sarcasticdouchemodeoff     1       544419  op_F_res_M\n",
       "55100                     kev!     1       544419  op_F_res_M\n",
       "55101               minute....     1       544419  op_F_res_M\n",
       "\n",
       "[55102 rows x 4 columns]"
      ]
     },
     "execution_count": 59,
     "metadata": {},
     "output_type": "execute_result"
    }
   ],
   "source": [
    "df_op_F_res_M = pd.DataFrame(fd_wct1_op_F_res_M.items(), columns=['word', 'n'])\n",
    "cnt = 0 \n",
    "total_words_F_M = sum(fd_wct1_op_F_res_M.values())\n",
    "\n",
    "df_op_F_res_M['total_words'] = total_words_F_M\n",
    "df_op_F_res_M['gender'] ='op_F_res_M'\n",
    "df_op_F_res_M"
   ]
  },
  {
   "cell_type": "code",
   "execution_count": 60,
   "id": "8fff9099",
   "metadata": {},
   "outputs": [
    {
     "data": {
      "text/html": [
       "<div>\n",
       "<style scoped>\n",
       "    .dataframe tbody tr th:only-of-type {\n",
       "        vertical-align: middle;\n",
       "    }\n",
       "\n",
       "    .dataframe tbody tr th {\n",
       "        vertical-align: top;\n",
       "    }\n",
       "\n",
       "    .dataframe thead th {\n",
       "        text-align: right;\n",
       "    }\n",
       "</style>\n",
       "<table border=\"1\" class=\"dataframe\">\n",
       "  <thead>\n",
       "    <tr style=\"text-align: right;\">\n",
       "      <th></th>\n",
       "      <th>word</th>\n",
       "      <th>n</th>\n",
       "      <th>total_words</th>\n",
       "      <th>gender</th>\n",
       "    </tr>\n",
       "  </thead>\n",
       "  <tbody>\n",
       "    <tr>\n",
       "      <th>0</th>\n",
       "      <td>hey!</td>\n",
       "      <td>96</td>\n",
       "      <td>607497</td>\n",
       "      <td>op_M_res_M</td>\n",
       "    </tr>\n",
       "    <tr>\n",
       "      <th>1</th>\n",
       "      <td>started</td>\n",
       "      <td>1007</td>\n",
       "      <td>607497</td>\n",
       "      <td>op_M_res_M</td>\n",
       "    </tr>\n",
       "    <tr>\n",
       "      <th>2</th>\n",
       "      <td>new</td>\n",
       "      <td>1023</td>\n",
       "      <td>607497</td>\n",
       "      <td>op_M_res_M</td>\n",
       "    </tr>\n",
       "    <tr>\n",
       "      <th>3</th>\n",
       "      <td>job,</td>\n",
       "      <td>35</td>\n",
       "      <td>607497</td>\n",
       "      <td>op_M_res_M</td>\n",
       "    </tr>\n",
       "    <tr>\n",
       "      <th>4</th>\n",
       "      <td>thing</td>\n",
       "      <td>1420</td>\n",
       "      <td>607497</td>\n",
       "      <td>op_M_res_M</td>\n",
       "    </tr>\n",
       "    <tr>\n",
       "      <th>...</th>\n",
       "      <td>...</td>\n",
       "      <td>...</td>\n",
       "      <td>...</td>\n",
       "      <td>...</td>\n",
       "    </tr>\n",
       "    <tr>\n",
       "      <th>43431</th>\n",
       "      <td>@robinls!</td>\n",
       "      <td>1</td>\n",
       "      <td>1258041</td>\n",
       "      <td>op_F_res_F</td>\n",
       "    </tr>\n",
       "    <tr>\n",
       "      <th>43432</th>\n",
       "      <td>age...</td>\n",
       "      <td>1</td>\n",
       "      <td>1258041</td>\n",
       "      <td>op_F_res_F</td>\n",
       "    </tr>\n",
       "    <tr>\n",
       "      <th>43433</th>\n",
       "      <td>bang,</td>\n",
       "      <td>1</td>\n",
       "      <td>1258041</td>\n",
       "      <td>op_F_res_F</td>\n",
       "    </tr>\n",
       "    <tr>\n",
       "      <th>43434</th>\n",
       "      <td>xxxxxxxxxx</td>\n",
       "      <td>1</td>\n",
       "      <td>1258041</td>\n",
       "      <td>op_F_res_F</td>\n",
       "    </tr>\n",
       "    <tr>\n",
       "      <th>43435</th>\n",
       "      <td>hiiiiii!</td>\n",
       "      <td>1</td>\n",
       "      <td>1258041</td>\n",
       "      <td>op_F_res_F</td>\n",
       "    </tr>\n",
       "  </tbody>\n",
       "</table>\n",
       "<p>216639 rows × 4 columns</p>\n",
       "</div>"
      ],
      "text/plain": [
       "             word     n  total_words      gender\n",
       "0            hey!    96       607497  op_M_res_M\n",
       "1         started  1007       607497  op_M_res_M\n",
       "2             new  1023       607497  op_M_res_M\n",
       "3            job,    35       607497  op_M_res_M\n",
       "4           thing  1420       607497  op_M_res_M\n",
       "...           ...   ...          ...         ...\n",
       "43431   @robinls!     1      1258041  op_F_res_F\n",
       "43432      age...     1      1258041  op_F_res_F\n",
       "43433       bang,     1      1258041  op_F_res_F\n",
       "43434  xxxxxxxxxx     1      1258041  op_F_res_F\n",
       "43435    hiiiiii!     1      1258041  op_F_res_F\n",
       "\n",
       "[216639 rows x 4 columns]"
      ]
     },
     "execution_count": 60,
     "metadata": {},
     "output_type": "execute_result"
    }
   ],
   "source": [
    "df_all_for_R = pd.concat([df_op_M_res_M, df_op_M_res_F, df_op_F_res_M, df_op_F_res_F])\n",
    "df_all_for_R"
   ]
  },
  {
   "cell_type": "code",
   "execution_count": 61,
   "id": "b786ac4d",
   "metadata": {},
   "outputs": [],
   "source": [
    "df_all_for_R.to_csv(\"./preprocessed_data/fitness_responses_preprocressed_for_R_Lemma1.csv\")"
   ]
  },
  {
   "cell_type": "code",
   "execution_count": 62,
   "id": "a6c4fd88",
   "metadata": {},
   "outputs": [
    {
     "data": {
      "text/plain": [
       "array(['op_M_res_M', 'op_M_res_F', 'op_F_res_M', 'op_F_res_F'],\n",
       "      dtype=object)"
      ]
     },
     "execution_count": 62,
     "metadata": {},
     "output_type": "execute_result"
    }
   ],
   "source": [
    "df_all_for_R.gender.unique()"
   ]
  },
  {
   "cell_type": "code",
   "execution_count": null,
   "id": "597cbceb",
   "metadata": {},
   "outputs": [],
   "source": [
    "# after runing R code"
   ]
  },
  {
   "cell_type": "code",
   "execution_count": 63,
   "id": "7a6543cf",
   "metadata": {},
   "outputs": [],
   "source": [
    "weighted_log_odds_df = pd.read_csv(\"./preprocessed_data/fitness_responses_weighted_log_odds_Lemma1.csv\")\n",
    "weighted_log_odds_df.sort_values(['log_odds_weighted'], inplace=True)"
   ]
  },
  {
   "cell_type": "code",
   "execution_count": 64,
   "id": "b7114ec1",
   "metadata": {},
   "outputs": [
    {
     "data": {
      "text/html": [
       "<div>\n",
       "<style scoped>\n",
       "    .dataframe tbody tr th:only-of-type {\n",
       "        vertical-align: middle;\n",
       "    }\n",
       "\n",
       "    .dataframe tbody tr th {\n",
       "        vertical-align: top;\n",
       "    }\n",
       "\n",
       "    .dataframe thead th {\n",
       "        text-align: right;\n",
       "    }\n",
       "</style>\n",
       "<table border=\"1\" class=\"dataframe\">\n",
       "  <thead>\n",
       "    <tr style=\"text-align: right;\">\n",
       "      <th></th>\n",
       "      <th>Unnamed: 0</th>\n",
       "      <th>X</th>\n",
       "      <th>word</th>\n",
       "      <th>n</th>\n",
       "      <th>total_words</th>\n",
       "      <th>gender</th>\n",
       "      <th>log_odds_weighted</th>\n",
       "    </tr>\n",
       "  </thead>\n",
       "  <tbody>\n",
       "    <tr>\n",
       "      <th>300</th>\n",
       "      <td>301</td>\n",
       "      <td>300</td>\n",
       "      <td>help</td>\n",
       "      <td>789</td>\n",
       "      <td>607497</td>\n",
       "      <td>op_M_res_M</td>\n",
       "      <td>-34.806676</td>\n",
       "    </tr>\n",
       "    <tr>\n",
       "      <th>1141</th>\n",
       "      <td>1142</td>\n",
       "      <td>1141</td>\n",
       "      <td>fitocracy</td>\n",
       "      <td>2008</td>\n",
       "      <td>607497</td>\n",
       "      <td>op_M_res_M</td>\n",
       "      <td>-31.562553</td>\n",
       "    </tr>\n",
       "    <tr>\n",
       "      <th>118979</th>\n",
       "      <td>118980</td>\n",
       "      <td>878</td>\n",
       "      <td>help</td>\n",
       "      <td>826</td>\n",
       "      <td>544419</td>\n",
       "      <td>op_F_res_M</td>\n",
       "      <td>-28.713744</td>\n",
       "    </tr>\n",
       "    <tr>\n",
       "      <th>256</th>\n",
       "      <td>257</td>\n",
       "      <td>256</td>\n",
       "      <td>-</td>\n",
       "      <td>2842</td>\n",
       "      <td>607497</td>\n",
       "      <td>op_M_res_M</td>\n",
       "      <td>-27.261184</td>\n",
       "    </tr>\n",
       "    <tr>\n",
       "      <th>25085</th>\n",
       "      <td>25086</td>\n",
       "      <td>25085</td>\n",
       "      <td>consistent,</td>\n",
       "      <td>6</td>\n",
       "      <td>607497</td>\n",
       "      <td>op_M_res_M</td>\n",
       "      <td>-27.235585</td>\n",
       "    </tr>\n",
       "    <tr>\n",
       "      <th>...</th>\n",
       "      <td>...</td>\n",
       "      <td>...</td>\n",
       "      <td>...</td>\n",
       "      <td>...</td>\n",
       "      <td>...</td>\n",
       "      <td>...</td>\n",
       "      <td>...</td>\n",
       "    </tr>\n",
       "    <tr>\n",
       "      <th>198725</th>\n",
       "      <td>198726</td>\n",
       "      <td>25522</td>\n",
       "      <td>\"start</td>\n",
       "      <td>6034</td>\n",
       "      <td>1258041</td>\n",
       "      <td>op_F_res_F</td>\n",
       "      <td>70.384965</td>\n",
       "    </tr>\n",
       "    <tr>\n",
       "      <th>198726</th>\n",
       "      <td>198727</td>\n",
       "      <td>25523</td>\n",
       "      <td>etc--drop</td>\n",
       "      <td>6454</td>\n",
       "      <td>1258041</td>\n",
       "      <td>op_F_res_F</td>\n",
       "      <td>72.738021</td>\n",
       "    </tr>\n",
       "    <tr>\n",
       "      <th>198723</th>\n",
       "      <td>198724</td>\n",
       "      <td>25520</td>\n",
       "      <td>exercise...even</td>\n",
       "      <td>6454</td>\n",
       "      <td>1258041</td>\n",
       "      <td>op_F_res_F</td>\n",
       "      <td>72.738021</td>\n",
       "    </tr>\n",
       "    <tr>\n",
       "      <th>200011</th>\n",
       "      <td>200012</td>\n",
       "      <td>26808</td>\n",
       "      <td>etc--leave</td>\n",
       "      <td>14507</td>\n",
       "      <td>1258041</td>\n",
       "      <td>op_F_res_F</td>\n",
       "      <td>105.358938</td>\n",
       "    </tr>\n",
       "    <tr>\n",
       "      <th>77798</th>\n",
       "      <td>77799</td>\n",
       "      <td>14659</td>\n",
       "      <td>etc--leave</td>\n",
       "      <td>16605</td>\n",
       "      <td>1341162</td>\n",
       "      <td>op_M_res_F</td>\n",
       "      <td>111.012136</td>\n",
       "    </tr>\n",
       "  </tbody>\n",
       "</table>\n",
       "<p>216638 rows × 7 columns</p>\n",
       "</div>"
      ],
      "text/plain": [
       "        Unnamed: 0      X             word      n  total_words      gender  \\\n",
       "300            301    300             help    789       607497  op_M_res_M   \n",
       "1141          1142   1141        fitocracy   2008       607497  op_M_res_M   \n",
       "118979      118980    878             help    826       544419  op_F_res_M   \n",
       "256            257    256                -   2842       607497  op_M_res_M   \n",
       "25085        25086  25085      consistent,      6       607497  op_M_res_M   \n",
       "...            ...    ...              ...    ...          ...         ...   \n",
       "198725      198726  25522           \"start   6034      1258041  op_F_res_F   \n",
       "198726      198727  25523        etc--drop   6454      1258041  op_F_res_F   \n",
       "198723      198724  25520  exercise...even   6454      1258041  op_F_res_F   \n",
       "200011      200012  26808       etc--leave  14507      1258041  op_F_res_F   \n",
       "77798        77799  14659       etc--leave  16605      1341162  op_M_res_F   \n",
       "\n",
       "        log_odds_weighted  \n",
       "300            -34.806676  \n",
       "1141           -31.562553  \n",
       "118979         -28.713744  \n",
       "256            -27.261184  \n",
       "25085          -27.235585  \n",
       "...                   ...  \n",
       "198725          70.384965  \n",
       "198726          72.738021  \n",
       "198723          72.738021  \n",
       "200011         105.358938  \n",
       "77798          111.012136  \n",
       "\n",
       "[216638 rows x 7 columns]"
      ]
     },
     "execution_count": 64,
     "metadata": {},
     "output_type": "execute_result"
    }
   ],
   "source": [
    "weighted_log_odds_df = weighted_log_odds_df.dropna()\n",
    "weighted_log_odds_df"
   ]
  },
  {
   "cell_type": "code",
   "execution_count": 65,
   "id": "8b5f9942",
   "metadata": {},
   "outputs": [
    {
     "data": {
      "text/plain": [
       "array(['op_M_res_M', 'op_F_res_M', 'op_F_res_F', 'op_M_res_F'],\n",
       "      dtype=object)"
      ]
     },
     "execution_count": 65,
     "metadata": {},
     "output_type": "execute_result"
    }
   ],
   "source": [
    "weighted_log_odds_df.gender.unique()"
   ]
  },
  {
   "cell_type": "code",
   "execution_count": 66,
   "id": "5ec49fc2",
   "metadata": {},
   "outputs": [
    {
     "data": {
      "image/png": "[encoded data removed]",
      "text/plain": [
       "<Figure size 1440x720 with 1 Axes>"
      ]
     },
     "metadata": {
      "needs_background": "light"
     },
     "output_type": "display_data"
    }
   ],
   "source": [
    "filtered_df = weighted_log_odds_df[weighted_log_odds_df['gender']=='op_M_res_M']\n",
    "plt.figure(figsize=(20, 10))\n",
    "plt.bar(filtered_df['word'][-40:], filtered_df['log_odds_weighted'][-40:], width=0.4)\n",
    "plt.title(\"significant words writer male responder male\")\n",
    "plt.xticks(rotation=45)\n",
    "plt.show()"
   ]
  },
  {
   "cell_type": "code",
   "execution_count": 67,
   "id": "34382507",
   "metadata": {},
   "outputs": [
    {
     "data": {
      "image/png": "[encoded data removed]",
      "text/plain": [
       "<Figure size 1440x720 with 1 Axes>"
      ]
     },
     "metadata": {
      "needs_background": "light"
     },
     "output_type": "display_data"
    }
   ],
   "source": [
    "filtered_df = weighted_log_odds_df[weighted_log_odds_df['gender']=='op_M_res_F']\n",
    "plt.figure(figsize=(20, 10))\n",
    "plt.bar(filtered_df['word'][-40:], filtered_df['log_odds_weighted'][-40:], width=0.4)\n",
    "plt.title(\"significant words writer male responder female\")\n",
    "plt.xticks(rotation=45)\n",
    "plt.show()"
   ]
  },
  {
   "cell_type": "code",
   "execution_count": 68,
   "id": "8f22718e",
   "metadata": {},
   "outputs": [
    {
     "data": {
      "image/png": "[encoded data removed]",
      "text/plain": [
       "<Figure size 1440x720 with 1 Axes>"
      ]
     },
     "metadata": {
      "needs_background": "light"
     },
     "output_type": "display_data"
    }
   ],
   "source": [
    "filtered_df = weighted_log_odds_df[weighted_log_odds_df['gender']=='op_F_res_F']\n",
    "plt.figure(figsize=(20, 10))\n",
    "plt.bar(filtered_df['word'][-40:], filtered_df['log_odds_weighted'][-40:], width=0.4)\n",
    "plt.title(\"significant words writer female responder female\")\n",
    "plt.xticks(rotation=45)\n",
    "plt.show()"
   ]
  },
  {
   "cell_type": "code",
   "execution_count": 69,
   "id": "124c31c9",
   "metadata": {},
   "outputs": [
    {
     "data": {
      "image/png": "[encoded data removed]",
      "text/plain": [
       "<Figure size 1440x720 with 1 Axes>"
      ]
     },
     "metadata": {
      "needs_background": "light"
     },
     "output_type": "display_data"
    }
   ],
   "source": [
    "filtered_df = weighted_log_odds_df[weighted_log_odds_df['gender']=='op_F_res_M']\n",
    "plt.figure(figsize=(20, 10))\n",
    "plt.bar(filtered_df['word'][-40:], filtered_df['log_odds_weighted'][-40:], width=0.4)\n",
    "plt.title(\"significant words writer female responder male\")\n",
    "plt.xticks(rotation=45)\n",
    "plt.show()"
   ]
  },
  {
   "cell_type": "code",
   "execution_count": null,
   "id": "9d83bb1b",
   "metadata": {},
   "outputs": [],
   "source": []
  },
  {
   "cell_type": "code",
   "execution_count": null,
   "id": "801f7077",
   "metadata": {},
   "outputs": [],
   "source": []
  }
 ],
 "metadata": {
  "kernelspec": {
   "display_name": "Python 3 (ipykernel)",
   "language": "python",
   "name": "python3"
  },
  "language_info": {
   "codemirror_mode": {
    "name": "ipython",
    "version": 3
   },
   "file_extension": ".py",
   "mimetype": "text/x-python",
   "name": "python",
   "nbconvert_exporter": "python",
   "pygments_lexer": "ipython3",
   "version": "3.10.2"
  }
 },
 "nbformat": 4,
 "nbformat_minor": 5
}
