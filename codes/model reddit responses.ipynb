{
 "cells": [
  {
   "cell_type": "code",
   "execution_count": 1,
   "id": "dc0230fb",
   "metadata": {},
   "outputs": [],
   "source": [
    "import pandas as pd\n",
    "import re\n",
    "import string\n",
    "# from bs4 import BeautifulSoup\n",
    "import nltk\n",
    "from nltk.stem import PorterStemmer\n",
    "from nltk.stem.wordnet import WordNetLemmatizer\n",
    "import spacy\n",
    "from nltk.probability import FreqDist\n",
    "from sklearn.linear_model import LogisticRegression\n",
    "from sklearn.feature_extraction.text import CountVectorizer, TfidfVectorizer\n",
    "import matplotlib.pyplot as plt\n",
    "import warnings\n",
    "warnings.filterwarnings('ignore')"
   ]
  },
  {
   "cell_type": "code",
   "execution_count": 2,
   "id": "a9e43744",
   "metadata": {},
   "outputs": [],
   "source": [
    "# !pip install spacy\n",
    "# !python -m spacy download en_core_web_sm\n",
    "# nltk.download('stopwords')\n",
    "# nltk.download('wordnet')\n",
    "# nltk.download('omw-1.4')"
   ]
  },
  {
   "cell_type": "code",
   "execution_count": 3,
   "id": "f5fad2e9",
   "metadata": {},
   "outputs": [],
   "source": [
    "data_df = pd.read_csv(\"../rtgender/reddit_responses.csv\")"
   ]
  },
  {
   "cell_type": "code",
   "execution_count": 4,
   "id": "943b1ea2",
   "metadata": {},
   "outputs": [
    {
     "data": {
      "text/html": [
       "<div>\n",
       "<style scoped>\n",
       "    .dataframe tbody tr th:only-of-type {\n",
       "        vertical-align: middle;\n",
       "    }\n",
       "\n",
       "    .dataframe tbody tr th {\n",
       "        vertical-align: top;\n",
       "    }\n",
       "\n",
       "    .dataframe thead th {\n",
       "        text-align: right;\n",
       "    }\n",
       "</style>\n",
       "<table border=\"1\" class=\"dataframe\">\n",
       "  <thead>\n",
       "    <tr style=\"text-align: right;\">\n",
       "      <th></th>\n",
       "      <th>op_id</th>\n",
       "      <th>op_gender</th>\n",
       "      <th>post_id</th>\n",
       "      <th>responder_id</th>\n",
       "      <th>response_text</th>\n",
       "      <th>subreddit</th>\n",
       "      <th>responder_gender</th>\n",
       "      <th>responder_gender_visible</th>\n",
       "    </tr>\n",
       "  </thead>\n",
       "  <tbody>\n",
       "    <tr>\n",
       "      <th>0</th>\n",
       "      <td>Kastoli</td>\n",
       "      <td>M</td>\n",
       "      <td>0</td>\n",
       "      <td>Thunda_Storm</td>\n",
       "      <td>or low level. I mean hes wearing black armour ...</td>\n",
       "      <td>2007scape</td>\n",
       "      <td>NaN</td>\n",
       "      <td>unknown_gender</td>\n",
       "    </tr>\n",
       "    <tr>\n",
       "      <th>1</th>\n",
       "      <td>Kastoli</td>\n",
       "      <td>M</td>\n",
       "      <td>1</td>\n",
       "      <td>Thunda_Storm</td>\n",
       "      <td>So... Low level</td>\n",
       "      <td>2007scape</td>\n",
       "      <td>NaN</td>\n",
       "      <td>unknown_gender</td>\n",
       "    </tr>\n",
       "    <tr>\n",
       "      <th>2</th>\n",
       "      <td>DCBizzle</td>\n",
       "      <td>M</td>\n",
       "      <td>2</td>\n",
       "      <td>minixmatt</td>\n",
       "      <td>&lt;link&gt;  TONK, TONK</td>\n",
       "      <td>2007scape</td>\n",
       "      <td>NaN</td>\n",
       "      <td>unknown_gender</td>\n",
       "    </tr>\n",
       "    <tr>\n",
       "      <th>3</th>\n",
       "      <td>ordona</td>\n",
       "      <td>M</td>\n",
       "      <td>3</td>\n",
       "      <td>Namiweso</td>\n",
       "      <td>Thanks I forgot about that place! :)</td>\n",
       "      <td>2007scape</td>\n",
       "      <td>NaN</td>\n",
       "      <td>unknown_gender</td>\n",
       "    </tr>\n",
       "    <tr>\n",
       "      <th>4</th>\n",
       "      <td>SlayerMaster</td>\n",
       "      <td>M</td>\n",
       "      <td>4</td>\n",
       "      <td>Quantization</td>\n",
       "      <td>Or hes just trolling.</td>\n",
       "      <td>2007scape</td>\n",
       "      <td>NaN</td>\n",
       "      <td>unknown_gender</td>\n",
       "    </tr>\n",
       "  </tbody>\n",
       "</table>\n",
       "</div>"
      ],
      "text/plain": [
       "          op_id op_gender  post_id  responder_id  \\\n",
       "0       Kastoli         M        0  Thunda_Storm   \n",
       "1       Kastoli         M        1  Thunda_Storm   \n",
       "2      DCBizzle         M        2     minixmatt   \n",
       "3        ordona         M        3      Namiweso   \n",
       "4  SlayerMaster         M        4  Quantization   \n",
       "\n",
       "                                       response_text  subreddit  \\\n",
       "0  or low level. I mean hes wearing black armour ...  2007scape   \n",
       "1                                    So... Low level  2007scape   \n",
       "2                                 <link>  TONK, TONK  2007scape   \n",
       "3               Thanks I forgot about that place! :)  2007scape   \n",
       "4                              Or hes just trolling.  2007scape   \n",
       "\n",
       "  responder_gender responder_gender_visible  \n",
       "0              NaN           unknown_gender  \n",
       "1              NaN           unknown_gender  \n",
       "2              NaN           unknown_gender  \n",
       "3              NaN           unknown_gender  \n",
       "4              NaN           unknown_gender  "
      ]
     },
     "execution_count": 4,
     "metadata": {},
     "output_type": "execute_result"
    }
   ],
   "source": [
    "data_df.head()"
   ]
  },
  {
   "cell_type": "code",
   "execution_count": 5,
   "id": "e9d0b308",
   "metadata": {},
   "outputs": [],
   "source": [
    "data_df1 = data_df.copy()"
   ]
  },
  {
   "cell_type": "code",
   "execution_count": 6,
   "id": "0c01a690",
   "metadata": {},
   "outputs": [],
   "source": [
    "# Load spacy\n",
    "nlp = spacy.load('en_core_web_sm')\n",
    "\n",
    "def clean_string(text, stopwords = False, stem=\"None\"):\n",
    "\n",
    "    final_string = \"\"\n",
    "\n",
    "    # Make lower\n",
    "    text = text.lower()\n",
    "\n",
    "#     # Remove line breaks\n",
    "#     text = re.sub(r'\\n', '', text)\n",
    "\n",
    "#     # Remove puncuation\n",
    "#     translator = str.maketrans('', '', string.punctuation)\n",
    "#     text = text.translate(translator)\n",
    "\n",
    "    text = re.sub(r'http\\S+', '', text)\n",
    "    text = re.sub(r'\\S+www\\S+', '', text)\n",
    "    \n",
    "    \n",
    "    # Remove stop words\n",
    "    text = text.split()\n",
    "    text_filtered = text\n",
    "    if stopwords == True:\n",
    "        useless_words = nltk.corpus.stopwords.words(\"english\")\n",
    "#         useless_words = useless_words + ['hi', 'im']\n",
    "\n",
    "        text_filtered = [word for word in text if not word in useless_words]\n",
    "\n",
    "        # Remove numbers\n",
    "        text_filtered = [re.sub(r'\\w*\\d\\w*', '', w) for w in text_filtered]\n",
    "#     else:\n",
    "#         text_filtered = text\n",
    "    # Stem or Lemmatize\n",
    "    if stem == 'Stem':\n",
    "        stemmer = PorterStemmer() \n",
    "        text_stemmed = [stemmer.stem(y) for y in text_filtered]\n",
    "    elif stem == 'Lem':\n",
    "        lem = WordNetLemmatizer()\n",
    "        text_stemmed = [lem.lemmatize(y) for y in text_filtered]\n",
    "    elif stem == 'Spacy':\n",
    "        text_filtered = nlp(' '.join(text_filtered))\n",
    "        text_stemmed = [y.lemma_ for y in text_filtered]\n",
    "    else:\n",
    "        text_stemmed = text_filtered\n",
    "\n",
    "    final_string = ' '.join(text_stemmed)\n",
    "\n",
    "    return final_string"
   ]
  },
  {
   "cell_type": "code",
   "execution_count": 7,
   "id": "7fa5406d",
   "metadata": {},
   "outputs": [],
   "source": [
    "data_df2 = data_df.copy()"
   ]
  },
  {
   "cell_type": "code",
   "execution_count": 8,
   "id": "fde04174",
   "metadata": {},
   "outputs": [],
   "source": [
    "data_df2['response_text'] = data_df2['response_text'].astype(str)"
   ]
  },
  {
   "cell_type": "code",
   "execution_count": 9,
   "id": "a38cd82e",
   "metadata": {},
   "outputs": [
    {
     "data": {
      "application/vnd.jupyter.widget-view+json": {
       "model_id": "9f3ff44217a14517ba1d7d5783aec718",
       "version_major": 2,
       "version_minor": 0
      },
      "text/plain": [
       "Pandas Apply:   0%|          | 0/1453512 [00:00<?, ?it/s]"
      ]
     },
     "metadata": {},
     "output_type": "display_data"
    }
   ],
   "source": [
    "import swifter\n",
    "data_df2['response_text_cleaned'] = data_df2['response_text'].swifter.apply(lambda x: clean_string(x, stopwords = True, stem='Lem'))\n"
   ]
  },
  {
   "cell_type": "code",
   "execution_count": 10,
   "id": "65158913",
   "metadata": {},
   "outputs": [
    {
     "data": {
      "text/plain": [
       "0            low level. mean he wearing black armour sooo...\n",
       "1                                            so... low level\n",
       "2                                          <link> tonk, tonk\n",
       "3                                    thanks forgot place! :)\n",
       "4                                               he trolling.\n",
       "                                 ...                        \n",
       "1453507    find best tacticals getting around open map qu...\n",
       "1453508                                                 why?\n",
       "1453509       wish would make sport game pc too. fifa get :/\n",
       "1453510                               thats true. good point\n",
       "1453511    im fully aware this. almost every lego game pl...\n",
       "Name: response_text_cleaned, Length: 1453512, dtype: object"
      ]
     },
     "execution_count": 10,
     "metadata": {},
     "output_type": "execute_result"
    }
   ],
   "source": [
    "data_df2['response_text_cleaned']"
   ]
  },
  {
   "cell_type": "code",
   "execution_count": 11,
   "id": "2ca74664",
   "metadata": {},
   "outputs": [],
   "source": [
    "data_df2['response_text_cleaned1'] = data_df2['response_text_cleaned'].str.split()"
   ]
  },
  {
   "cell_type": "code",
   "execution_count": 12,
   "id": "0e7da84d",
   "metadata": {},
   "outputs": [
    {
     "data": {
      "text/plain": [
       "0          [low, level., mean, he, wearing, black, armour...\n",
       "1                                        [so..., low, level]\n",
       "2                                      [<link>, tonk,, tonk]\n",
       "3                               [thanks, forgot, place!, :)]\n",
       "4                                            [he, trolling.]\n",
       "                                 ...                        \n",
       "1453507    [find, best, tacticals, getting, around, open,...\n",
       "1453508                                               [why?]\n",
       "1453509    [wish, would, make, sport, game, pc, too., fif...\n",
       "1453510                          [thats, true., good, point]\n",
       "1453511    [im, fully, aware, this., almost, every, lego,...\n",
       "Name: response_text_cleaned1, Length: 1453512, dtype: object"
      ]
     },
     "execution_count": 12,
     "metadata": {},
     "output_type": "execute_result"
    }
   ],
   "source": [
    "data_df2['response_text_cleaned1']"
   ]
  },
  {
   "cell_type": "code",
   "execution_count": 13,
   "id": "e4735033",
   "metadata": {},
   "outputs": [
    {
     "data": {
      "text/plain": [
       "0            low level. mean he wearing black armour sooo...\n",
       "1                                            so... low level\n",
       "2                                          <link> tonk, tonk\n",
       "3                                    thanks forgot place! :)\n",
       "4                                               he trolling.\n",
       "                                 ...                        \n",
       "1453507    find best tacticals getting around open map qu...\n",
       "1453508                                                 why?\n",
       "1453509       wish would make sport game pc too. fifa get :/\n",
       "1453510                               thats true. good point\n",
       "1453511    im fully aware this. almost every lego game pl...\n",
       "Name: response_text_cleaned, Length: 1453512, dtype: object"
      ]
     },
     "execution_count": 13,
     "metadata": {},
     "output_type": "execute_result"
    }
   ],
   "source": [
    "data_df2['response_text_cleaned']"
   ]
  },
  {
   "cell_type": "code",
   "execution_count": 14,
   "id": "65a315e7",
   "metadata": {},
   "outputs": [],
   "source": [
    "data_df2.to_csv(\"./preprocessed_data/reddit_response_preprocssed_Lem_stopwords_removal1.csv\")"
   ]
  },
  {
   "cell_type": "code",
   "execution_count": 15,
   "id": "f18812f2",
   "metadata": {},
   "outputs": [
    {
     "name": "stdout",
     "output_type": "stream",
     "text": [
      "  op_gender responder_gender  \\\n",
      "0         M                M   \n",
      "1         M                W   \n",
      "2         W                M   \n",
      "3         W                W   \n",
      "\n",
      "                               response_text_cleaned  \n",
      "0  dont know youre downvoted, work well. annoying...  \n",
      "1  ill admit im mostly annoyed discussion another...  \n",
      "2  never liked term gamer. wtf mean? ive never he...  \n",
      "3  awww yeah, biology ftw! graduated last semeste...  \n"
     ]
    }
   ],
   "source": [
    "all_words1 = ''\n",
    "# for i, row in data_df1.iterrows():\n",
    "#     all_words = all_words + row['response_text_cleaned']\n",
    "# data_df2['common'] = 1\n",
    "# all_words = data_df2.groupby(['op_gender'])['response_text_cleaned'].transform(lambda x : ' '.join(x)).reset_index()\n",
    "all_words = data_df2.groupby(['op_gender', 'responder_gender']).agg({'response_text_cleaned': ' '.join}).reset_index()\n",
    "# all_words = data_df1['response_text_cleaned1'].astype(str).apply(''.join)\n",
    "print(all_words)\n",
    "# data_df1['response_text_cleaned'].apply(lambda x: clean_string(x, stopwords = False, stem='Stem'))\n"
   ]
  },
  {
   "cell_type": "code",
   "execution_count": 16,
   "id": "460c57e1",
   "metadata": {},
   "outputs": [
    {
     "data": {
      "text/plain": [
       "0    dont know youre downvoted, work well. annoying...\n",
       "1    ill admit im mostly annoyed discussion another...\n",
       "Name: response_text_cleaned, dtype: object"
      ]
     },
     "execution_count": 16,
     "metadata": {},
     "output_type": "execute_result"
    }
   ],
   "source": [
    "all_words[all_words['op_gender']=='M']['response_text_cleaned']"
   ]
  },
  {
   "cell_type": "code",
   "execution_count": 17,
   "id": "9ad2c1c2",
   "metadata": {},
   "outputs": [],
   "source": [
    "#the NLTK FreqDist gives a count for how often each part of the text occurs\n",
    "fd_wct1_op_M_res_M = FreqDist(all_words[((all_words['op_gender']=='M') & (all_words['responder_gender']=='M'))]['response_text_cleaned'].values[0].split())\n",
    "# fd_wct1_M"
   ]
  },
  {
   "cell_type": "code",
   "execution_count": 18,
   "id": "de39431b",
   "metadata": {},
   "outputs": [],
   "source": [
    "#the NLTK FreqDist gives a count for how often each part of the text occurs\n",
    "fd_wct1_op_M_res_F = FreqDist(all_words[((all_words['op_gender']=='M') & (all_words['responder_gender']=='W'))]['response_text_cleaned'].values[0].split())\n",
    "# fd_wct1_M"
   ]
  },
  {
   "cell_type": "code",
   "execution_count": 19,
   "id": "5003476c",
   "metadata": {},
   "outputs": [],
   "source": [
    "#the NLTK FreqDist gives a count for how often each part of the text occurs\n",
    "fd_wct1_op_F_res_M = FreqDist(all_words[((all_words['op_gender']=='W') & (all_words['responder_gender']=='M'))]['response_text_cleaned'].values[0].split())\n",
    "# fd_wct1_M"
   ]
  },
  {
   "cell_type": "code",
   "execution_count": 20,
   "id": "6e4b0946",
   "metadata": {},
   "outputs": [],
   "source": [
    "#the NLTK FreqDist gives a count for how often each part of the text occurs\n",
    "fd_wct1_op_F_res_F = FreqDist(all_words[((all_words['op_gender']=='W') & (all_words['responder_gender']=='W'))]['response_text_cleaned'].values[0].split())\n",
    "# fd_wct1_M"
   ]
  },
  {
   "cell_type": "code",
   "execution_count": 21,
   "id": "ddfd1a95",
   "metadata": {},
   "outputs": [],
   "source": [
    "## http://mindseye.sharonhoward.org/posts/my-new-favourite-thing-weighted-log-odds-ratios/\n",
    "## https://bookdown.org/Maxine/tidy-text-mining/weighted-log-odds-ratio.html"
   ]
  },
  {
   "cell_type": "code",
   "execution_count": 22,
   "id": "a627cc8b",
   "metadata": {},
   "outputs": [
    {
     "name": "stdout",
     "output_type": "stream",
     "text": [
      "[('like', 12843), ('dont', 11783), ('im', 11434), ('get', 9400), ('people', 9127), ('would', 8193), ('think', 7916), ('one', 7641), ('thats', 6630), ('make', 6064), ('youre', 5909), ('know', 5659), ('woman', 5658), ('really', 5417), ('want', 5191), ('thing', 5022), ('even', 4810), ('good', 4633), ('time', 4620), ('it.', 4501), ('much', 4257), ('go', 4193), ('say', 3989), ('ive', 3832), ('>', 3775), ('going', 3660), ('doesnt', 3608), ('see', 3585), ('guy', 3529), ('way', 3527), ('still', 3502), ('never', 3466), ('someone', 3446), ('could', 3382), ('also', 3366), ('something', 3344), ('lot', 3235), ('need', 3108), ('cant', 3078), ('pretty', 2983)]\n"
     ]
    }
   ],
   "source": [
    "print(fd_wct1_op_M_res_M.most_common(40))\n"
   ]
  },
  {
   "cell_type": "code",
   "execution_count": 23,
   "id": "9762f119",
   "metadata": {},
   "outputs": [
    {
     "name": "stdout",
     "output_type": "stream",
     "text": [
      "[('im', 5113), ('like', 5053), ('dont', 4737), ('think', 3463), ('people', 3411), ('would', 3263), ('get', 3132), ('woman', 3040), ('one', 2503), ('know', 2471), ('thats', 2413), ('want', 2356), ('really', 2352), ('make', 2302), ('guy', 2045), ('youre', 1971), ('thing', 1822), ('even', 1757), ('someone', 1723), ('men', 1668), ('ive', 1624), ('time', 1586), ('feel', 1584), ('say', 1556), ('good', 1493), ('it.', 1483), ('doesnt', 1477), ('go', 1469), ('lot', 1431), ('see', 1417), ('never', 1408), ('way', 1350), ('still', 1345), ('much', 1324), ('also', 1316), ('something', 1243), ('going', 1226), ('-', 1174), ('could', 1153), ('didnt', 1106)]\n"
     ]
    }
   ],
   "source": [
    "print(fd_wct1_op_M_res_F.most_common(40))\n"
   ]
  },
  {
   "cell_type": "code",
   "execution_count": 24,
   "id": "e44e7daf",
   "metadata": {},
   "outputs": [
    {
     "name": "stdout",
     "output_type": "stream",
     "text": [
      "[('like', 1702), ('im', 1480), ('dont', 1397), ('people', 1148), ('get', 1100), ('would', 1031), ('think', 1018), ('one', 858), ('make', 792), ('really', 775), ('know', 757), ('want', 752), ('thats', 742), ('thing', 647), ('even', 638), ('youre', 607), ('time', 602), ('ive', 576), ('it.', 530), ('feel', 525), ('go', 524), ('someone', 489), ('woman', 485), ('much', 480), ('lot', 480), ('good', 478), ('guy', 478), ('never', 477), ('say', 475), ('still', 467), ('didnt', 466), ('doesnt', 458), ('going', 456), ('could', 445), ('also', 444), ('see', 442), ('need', 434), ('way', 430), ('year', 424), ('something', 415)]\n"
     ]
    }
   ],
   "source": [
    "print(fd_wct1_op_F_res_F.most_common(40))\n"
   ]
  },
  {
   "cell_type": "code",
   "execution_count": 25,
   "id": "44d3fe1c",
   "metadata": {},
   "outputs": [
    {
     "name": "stdout",
     "output_type": "stream",
     "text": [
      "[('like', 4776), ('dont', 4160), ('im', 4009), ('woman', 3095), ('people', 3083), ('would', 2920), ('get', 2918), ('think', 2849), ('one', 2481), ('thats', 2365), ('youre', 2295), ('make', 2119), ('want', 2077), ('know', 2027), ('really', 1909), ('thing', 1845), ('guy', 1805), ('men', 1652), ('even', 1564), ('it.', 1543), ('good', 1517), ('time', 1503), ('go', 1464), ('say', 1463), ('someone', 1459), ('doesnt', 1434), ('much', 1376), ('ive', 1365), ('see', 1356), ('something', 1319), ('feel', 1257), ('>', 1252), ('way', 1234), ('going', 1224), ('never', 1209), ('lot', 1186), ('could', 1169), ('still', 1119), ('girl', 1113), ('also', 1113)]\n"
     ]
    }
   ],
   "source": [
    "print(fd_wct1_op_F_res_M.most_common(40))\n"
   ]
  },
  {
   "cell_type": "code",
   "execution_count": null,
   "id": "9906bb47",
   "metadata": {},
   "outputs": [],
   "source": []
  },
  {
   "cell_type": "code",
   "execution_count": 26,
   "id": "429cfbde",
   "metadata": {},
   "outputs": [],
   "source": [
    "vectorizer = CountVectorizer()\n",
    "X = vectorizer.fit_transform(data_df2['response_text_cleaned'])\n",
    "features = vectorizer.get_feature_names_out()\n",
    "y = data_df2['op_gender']"
   ]
  },
  {
   "cell_type": "code",
   "execution_count": 27,
   "id": "1c71c252",
   "metadata": {},
   "outputs": [
    {
     "name": "stdout",
     "output_type": "stream",
     "text": [
      "['__' '___' '____' '_____' '______' '_______' '________' '_________'\n",
      " '__________' '___________' '____________' '_____________'\n",
      " '______________' '_______________' '_________________'\n",
      " '__________________' '___________________' '____________________'\n",
      " '_____________________' '_______________________'\n",
      " '________________________' '__________________________'\n",
      " '____________________________' '_____________________________'\n",
      " '______________________________' '__________________________________'\n",
      " '___________________________________'\n",
      " '______________________________________'\n",
      " '________________________________________'\n",
      " '_____________________________________________']\n"
     ]
    }
   ],
   "source": [
    "print(features[:30])"
   ]
  },
  {
   "cell_type": "code",
   "execution_count": 28,
   "id": "7a5c3684",
   "metadata": {},
   "outputs": [
    {
     "data": {
      "text/plain": [
       "((1453512, 248202), 1453512, 248202)"
      ]
     },
     "execution_count": 28,
     "metadata": {},
     "output_type": "execute_result"
    }
   ],
   "source": [
    "X.shape, len(y), len(features)"
   ]
  },
  {
   "cell_type": "code",
   "execution_count": 29,
   "id": "b913b628",
   "metadata": {},
   "outputs": [],
   "source": [
    "from sklearn.model_selection import train_test_split\n",
    "X_train, X_test, y_train, y_test = train_test_split(X, y, test_size=0.33, random_state=42)"
   ]
  },
  {
   "cell_type": "code",
   "execution_count": 30,
   "id": "65a75897",
   "metadata": {},
   "outputs": [
    {
     "name": "stdout",
     "output_type": "stream",
     "text": [
      "['M' 'M']\n",
      "[[0.83250705 0.16749295]\n",
      " [0.81350666 0.18649334]]\n"
     ]
    }
   ],
   "source": [
    "clf = LogisticRegression(random_state=0).fit(X_train, y_train)\n",
    "print(clf.predict(X[:2, :]))\n",
    "print(clf.predict_proba(X[:2, :]))\n",
    "# >>> clf.score(X, y)"
   ]
  },
  {
   "cell_type": "code",
   "execution_count": 31,
   "id": "93e226a3",
   "metadata": {},
   "outputs": [
    {
     "data": {
      "text/plain": [
       "0    M\n",
       "1    M\n",
       "Name: op_gender, dtype: object"
      ]
     },
     "execution_count": 31,
     "metadata": {},
     "output_type": "execute_result"
    }
   ],
   "source": [
    "y[:2]"
   ]
  },
  {
   "cell_type": "code",
   "execution_count": 32,
   "id": "3fbb00e5",
   "metadata": {},
   "outputs": [
    {
     "name": "stdout",
     "output_type": "stream",
     "text": [
      "Best: 0.790349 using {'C': 0.01, 'penalty': 'l2'}\n",
      "0.784274 (0.001022) with: {'C': 100, 'penalty': 'l2'}\n",
      "0.784605 (0.000430) with: {'C': 10, 'penalty': 'l2'}\n",
      "0.786564 (0.000397) with: {'C': 1.0, 'penalty': 'l2'}\n",
      "0.789663 (0.000254) with: {'C': 0.1, 'penalty': 'l2'}\n",
      "0.790349 (0.000129) with: {'C': 0.01, 'penalty': 'l2'}\n"
     ]
    }
   ],
   "source": [
    "from sklearn.datasets import make_blobs\n",
    "from sklearn.model_selection import StratifiedKFold\n",
    "from sklearn.model_selection import GridSearchCV\n",
    "from sklearn.linear_model import LogisticRegression\n",
    "\n",
    "model = LogisticRegression()\n",
    "# solvers = ['newton-cg', 'lbfgs', 'liblinear']\n",
    "penalty = ['l2']\n",
    "c_values = [100, 10, 1.0, 0.1, 0.01]\n",
    "# define grid search\n",
    "# grid = dict(solver=solvers,penalty=penalty,C=c_values)\n",
    "grid = dict(penalty=penalty,C=c_values)\n",
    "cv = StratifiedKFold(n_splits=5,  shuffle = True, random_state=1)\n",
    "grid_search = GridSearchCV(estimator=model, param_grid=grid, n_jobs=-1, cv=cv, scoring='accuracy',error_score=0)\n",
    "grid_result = grid_search.fit(X_train, y_train)\n",
    "# summarize results\n",
    "print(\"Best: %f using %s\" % (grid_result.best_score_, grid_result.best_params_))\n",
    "means = grid_result.cv_results_['mean_test_score']\n",
    "stds = grid_result.cv_results_['std_test_score']\n",
    "params = grid_result.cv_results_['params']\n",
    "for mean, stdev, param in zip(means, stds, params):\n",
    "    print(\"%f (%f) with: %r\" % (mean, stdev, param))"
   ]
  },
  {
   "cell_type": "code",
   "execution_count": 33,
   "id": "4dbd8e44",
   "metadata": {},
   "outputs": [
    {
     "name": "stdout",
     "output_type": "stream",
     "text": [
      "test accuracy :  0.7899466079026976\n"
     ]
    }
   ],
   "source": [
    "test_pred = grid_result.predict(X_test)\n",
    "from sklearn.metrics import accuracy_score\n",
    "test_acc = accuracy_score(y_test, test_pred)\n",
    "print(\"test accuracy : \", test_acc)"
   ]
  },
  {
   "cell_type": "code",
   "execution_count": 34,
   "id": "e6dcfafd",
   "metadata": {},
   "outputs": [
    {
     "name": "stdout",
     "output_type": "stream",
     "text": [
      "overall accuracy :  0.7911059557815828\n"
     ]
    }
   ],
   "source": [
    "all_pred = grid_result.predict(X)\n",
    "from sklearn.metrics import accuracy_score\n",
    "all_acc = accuracy_score(y, all_pred)\n",
    "print(\"overall accuracy : \", all_acc)"
   ]
  },
  {
   "cell_type": "code",
   "execution_count": 35,
   "id": "e8587f12",
   "metadata": {},
   "outputs": [
    {
     "data": {
      "text/plain": [
       "{'C': 0.01, 'penalty': 'l2'}"
      ]
     },
     "execution_count": 35,
     "metadata": {},
     "output_type": "execute_result"
    }
   ],
   "source": [
    "grid_result.best_params_"
   ]
  },
  {
   "cell_type": "code",
   "execution_count": 36,
   "id": "faec87af",
   "metadata": {},
   "outputs": [
    {
     "data": {
      "text/html": [
       "<div>\n",
       "<style scoped>\n",
       "    .dataframe tbody tr th:only-of-type {\n",
       "        vertical-align: middle;\n",
       "    }\n",
       "\n",
       "    .dataframe tbody tr th {\n",
       "        vertical-align: top;\n",
       "    }\n",
       "\n",
       "    .dataframe thead th {\n",
       "        text-align: right;\n",
       "    }\n",
       "</style>\n",
       "<table border=\"1\" class=\"dataframe\">\n",
       "  <thead>\n",
       "    <tr style=\"text-align: right;\">\n",
       "      <th></th>\n",
       "      <th>importance</th>\n",
       "      <th>features</th>\n",
       "    </tr>\n",
       "  </thead>\n",
       "  <tbody>\n",
       "    <tr>\n",
       "      <th>0</th>\n",
       "      <td>-0.046352</td>\n",
       "      <td>__</td>\n",
       "    </tr>\n",
       "    <tr>\n",
       "      <th>1</th>\n",
       "      <td>0.051278</td>\n",
       "      <td>___</td>\n",
       "    </tr>\n",
       "    <tr>\n",
       "      <th>2</th>\n",
       "      <td>0.087678</td>\n",
       "      <td>____</td>\n",
       "    </tr>\n",
       "    <tr>\n",
       "      <th>3</th>\n",
       "      <td>-0.092975</td>\n",
       "      <td>_____</td>\n",
       "    </tr>\n",
       "    <tr>\n",
       "      <th>4</th>\n",
       "      <td>-0.025628</td>\n",
       "      <td>______</td>\n",
       "    </tr>\n",
       "    <tr>\n",
       "      <th>...</th>\n",
       "      <td>...</td>\n",
       "      <td>...</td>\n",
       "    </tr>\n",
       "    <tr>\n",
       "      <th>248197</th>\n",
       "      <td>-0.002085</td>\n",
       "      <td>ﾉﾞ</td>\n",
       "    </tr>\n",
       "    <tr>\n",
       "      <th>248198</th>\n",
       "      <td>-0.004170</td>\n",
       "      <td>ﾉﾞヾ</td>\n",
       "    </tr>\n",
       "    <tr>\n",
       "      <th>248199</th>\n",
       "      <td>-0.006254</td>\n",
       "      <td>ﾟдﾟ</td>\n",
       "    </tr>\n",
       "    <tr>\n",
       "      <th>248200</th>\n",
       "      <td>-0.009733</td>\n",
       "      <td>ﾟヮﾟ</td>\n",
       "    </tr>\n",
       "    <tr>\n",
       "      <th>248201</th>\n",
       "      <td>-0.004905</td>\n",
       "      <td>ﾟﾟ</td>\n",
       "    </tr>\n",
       "  </tbody>\n",
       "</table>\n",
       "<p>248202 rows × 2 columns</p>\n",
       "</div>"
      ],
      "text/plain": [
       "        importance features\n",
       "0        -0.046352       __\n",
       "1         0.051278      ___\n",
       "2         0.087678     ____\n",
       "3        -0.092975    _____\n",
       "4        -0.025628   ______\n",
       "...            ...      ...\n",
       "248197   -0.002085       ﾉﾞ\n",
       "248198   -0.004170      ﾉﾞヾ\n",
       "248199   -0.006254      ﾟдﾟ\n",
       "248200   -0.009733      ﾟヮﾟ\n",
       "248201   -0.004905       ﾟﾟ\n",
       "\n",
       "[248202 rows x 2 columns]"
      ]
     },
     "execution_count": 36,
     "metadata": {},
     "output_type": "execute_result"
    }
   ],
   "source": [
    "# get importance\n",
    "importance = grid_result.best_estimator_.coef_[0]\n",
    "feature_importance = pd.DataFrame({\"importance\":importance, \"features\":features})\n",
    "feature_importance"
   ]
  },
  {
   "cell_type": "code",
   "execution_count": 37,
   "id": "f4b94606",
   "metadata": {},
   "outputs": [
    {
     "data": {
      "text/html": [
       "<div>\n",
       "<style scoped>\n",
       "    .dataframe tbody tr th:only-of-type {\n",
       "        vertical-align: middle;\n",
       "    }\n",
       "\n",
       "    .dataframe tbody tr th {\n",
       "        vertical-align: top;\n",
       "    }\n",
       "\n",
       "    .dataframe thead th {\n",
       "        text-align: right;\n",
       "    }\n",
       "</style>\n",
       "<table border=\"1\" class=\"dataframe\">\n",
       "  <thead>\n",
       "    <tr style=\"text-align: right;\">\n",
       "      <th></th>\n",
       "      <th>importance</th>\n",
       "      <th>features</th>\n",
       "    </tr>\n",
       "  </thead>\n",
       "  <tbody>\n",
       "    <tr>\n",
       "      <th>208040</th>\n",
       "      <td>0.000000</td>\n",
       "      <td>summering</td>\n",
       "    </tr>\n",
       "    <tr>\n",
       "      <th>135128</th>\n",
       "      <td>0.000000</td>\n",
       "      <td>mersenne</td>\n",
       "    </tr>\n",
       "    <tr>\n",
       "      <th>220707</th>\n",
       "      <td>0.000000</td>\n",
       "      <td>trepination</td>\n",
       "    </tr>\n",
       "    <tr>\n",
       "      <th>135122</th>\n",
       "      <td>0.000000</td>\n",
       "      <td>merryl</td>\n",
       "    </tr>\n",
       "    <tr>\n",
       "      <th>220704</th>\n",
       "      <td>0.000000</td>\n",
       "      <td>trepanation</td>\n",
       "    </tr>\n",
       "    <tr>\n",
       "      <th>...</th>\n",
       "      <td>...</td>\n",
       "      <td>...</td>\n",
       "    </tr>\n",
       "    <tr>\n",
       "      <th>212659</th>\n",
       "      <td>-0.471029</td>\n",
       "      <td>team</td>\n",
       "    </tr>\n",
       "    <tr>\n",
       "      <th>122256</th>\n",
       "      <td>-0.507450</td>\n",
       "      <td>lebron</td>\n",
       "    </tr>\n",
       "    <tr>\n",
       "      <th>27461</th>\n",
       "      <td>0.516415</td>\n",
       "      <td>bra</td>\n",
       "    </tr>\n",
       "    <tr>\n",
       "      <th>211546</th>\n",
       "      <td>0.520648</td>\n",
       "      <td>tampon</td>\n",
       "    </tr>\n",
       "    <tr>\n",
       "      <th>165959</th>\n",
       "      <td>-0.525287</td>\n",
       "      <td>pong</td>\n",
       "    </tr>\n",
       "  </tbody>\n",
       "</table>\n",
       "<p>248202 rows × 2 columns</p>\n",
       "</div>"
      ],
      "text/plain": [
       "        importance     features\n",
       "208040    0.000000    summering\n",
       "135128    0.000000     mersenne\n",
       "220707    0.000000  trepination\n",
       "135122    0.000000       merryl\n",
       "220704    0.000000  trepanation\n",
       "...            ...          ...\n",
       "212659   -0.471029         team\n",
       "122256   -0.507450       lebron\n",
       "27461     0.516415          bra\n",
       "211546    0.520648       tampon\n",
       "165959   -0.525287         pong\n",
       "\n",
       "[248202 rows x 2 columns]"
      ]
     },
     "execution_count": 37,
     "metadata": {},
     "output_type": "execute_result"
    }
   ],
   "source": [
    "feature_importance.sort_values(['importance'],  key=abs, inplace=True)\n",
    "feature_importance\n"
   ]
  },
  {
   "cell_type": "code",
   "execution_count": 38,
   "id": "346db448",
   "metadata": {},
   "outputs": [
    {
     "data": {
      "image/png": "[encoded data removed]",
      "text/plain": [
       "<Figure size 1440x720 with 1 Axes>"
      ]
     },
     "metadata": {
      "needs_background": "light"
     },
     "output_type": "display_data"
    }
   ],
   "source": [
    "# plot feature importance\n",
    "plt.figure(figsize=(20, 10))\n",
    "plt.bar(feature_importance['features'][-30:], feature_importance['importance'][-30:], width = 0.4)\n",
    "plt.xticks(rotation=45)\n",
    "plt.show()"
   ]
  },
  {
   "cell_type": "code",
   "execution_count": 39,
   "id": "8d989c21",
   "metadata": {},
   "outputs": [],
   "source": [
    "# visualize most freuquent words"
   ]
  },
  {
   "cell_type": "code",
   "execution_count": 40,
   "id": "47c25776",
   "metadata": {},
   "outputs": [],
   "source": [
    "vectorizer = TfidfVectorizer()\n",
    "X = vectorizer.fit_transform(data_df2['response_text_cleaned'])\n",
    "features = vectorizer.get_feature_names_out()\n",
    "y = data_df2['op_gender']"
   ]
  },
  {
   "cell_type": "code",
   "execution_count": 41,
   "id": "cc8566d5",
   "metadata": {},
   "outputs": [
    {
     "name": "stdout",
     "output_type": "stream",
     "text": [
      "['__' '___' '____' '_____' '______' '_______' '________' '_________'\n",
      " '__________' '___________' '____________' '_____________'\n",
      " '______________' '_______________' '_________________'\n",
      " '__________________' '___________________' '____________________'\n",
      " '_____________________' '_______________________'\n",
      " '________________________' '__________________________'\n",
      " '____________________________' '_____________________________'\n",
      " '______________________________' '__________________________________'\n",
      " '___________________________________'\n",
      " '______________________________________'\n",
      " '________________________________________'\n",
      " '_____________________________________________']\n"
     ]
    }
   ],
   "source": [
    "print(features[:30])"
   ]
  },
  {
   "cell_type": "code",
   "execution_count": 42,
   "id": "e6f8ad9e",
   "metadata": {},
   "outputs": [
    {
     "data": {
      "text/plain": [
       "((1453512, 248202), 1453512, 248202)"
      ]
     },
     "execution_count": 42,
     "metadata": {},
     "output_type": "execute_result"
    }
   ],
   "source": [
    "X.shape, len(y), len(features)"
   ]
  },
  {
   "cell_type": "code",
   "execution_count": 43,
   "id": "4814d1d4",
   "metadata": {},
   "outputs": [],
   "source": [
    "from sklearn.model_selection import train_test_split\n",
    "X_train, X_test, y_train, y_test = train_test_split(X, y, test_size=0.33, random_state=42)"
   ]
  },
  {
   "cell_type": "code",
   "execution_count": 44,
   "id": "325c6590",
   "metadata": {},
   "outputs": [
    {
     "name": "stdout",
     "output_type": "stream",
     "text": [
      "['M' 'M']\n",
      "[[0.85918148 0.14081852]\n",
      " [0.88075632 0.11924368]]\n"
     ]
    }
   ],
   "source": [
    "clf = LogisticRegression(random_state=0).fit(X_train, y_train)\n",
    "print(clf.predict(X[:2, :]))\n",
    "print(clf.predict_proba(X[:2, :]))\n",
    "# >>> clf.score(X, y)"
   ]
  },
  {
   "cell_type": "code",
   "execution_count": 45,
   "id": "5f4e8f72",
   "metadata": {},
   "outputs": [
    {
     "data": {
      "text/plain": [
       "0    M\n",
       "1    M\n",
       "Name: op_gender, dtype: object"
      ]
     },
     "execution_count": 45,
     "metadata": {},
     "output_type": "execute_result"
    }
   ],
   "source": [
    "y[:2]"
   ]
  },
  {
   "cell_type": "code",
   "execution_count": 46,
   "id": "10b9e8ce",
   "metadata": {},
   "outputs": [
    {
     "name": "stdout",
     "output_type": "stream",
     "text": [
      "Best: 0.790585 using {'C': 0.1, 'penalty': 'l2'}\n",
      "0.785759 (0.002436) with: {'C': 100, 'penalty': 'l2'}\n",
      "0.786723 (0.001354) with: {'C': 10, 'penalty': 'l2'}\n",
      "0.790334 (0.000267) with: {'C': 1.0, 'penalty': 'l2'}\n",
      "0.790585 (0.000186) with: {'C': 0.1, 'penalty': 'l2'}\n",
      "0.790340 (0.000014) with: {'C': 0.01, 'penalty': 'l2'}\n"
     ]
    }
   ],
   "source": [
    "from sklearn.datasets import make_blobs\n",
    "from sklearn.model_selection import StratifiedKFold\n",
    "from sklearn.model_selection import GridSearchCV\n",
    "from sklearn.linear_model import LogisticRegression\n",
    "\n",
    "model = LogisticRegression()\n",
    "# solvers = ['newton-cg', 'lbfgs', 'liblinear']\n",
    "penalty = ['l2']\n",
    "c_values = [100, 10, 1.0, 0.1, 0.01]\n",
    "# define grid search\n",
    "# grid = dict(solver=solvers,penalty=penalty,C=c_values)\n",
    "grid = dict(penalty=penalty,C=c_values)\n",
    "cv = StratifiedKFold(n_splits=5,  shuffle = True, random_state=1)\n",
    "grid_search = GridSearchCV(estimator=model, param_grid=grid, n_jobs=-1, cv=cv, scoring='accuracy',error_score=0)\n",
    "grid_result = grid_search.fit(X_train, y_train)\n",
    "# summarize results\n",
    "print(\"Best: %f using %s\" % (grid_result.best_score_, grid_result.best_params_))\n",
    "means = grid_result.cv_results_['mean_test_score']\n",
    "stds = grid_result.cv_results_['std_test_score']\n",
    "params = grid_result.cv_results_['params']\n",
    "for mean, stdev, param in zip(means, stds, params):\n",
    "    print(\"%f (%f) with: %r\" % (mean, stdev, param))"
   ]
  },
  {
   "cell_type": "code",
   "execution_count": 47,
   "id": "5e3a4fdf",
   "metadata": {},
   "outputs": [
    {
     "name": "stdout",
     "output_type": "stream",
     "text": [
      "test accuracy :  0.790163428602403\n"
     ]
    }
   ],
   "source": [
    "test_pred = grid_result.predict(X_test)\n",
    "from sklearn.metrics import accuracy_score\n",
    "test_acc = accuracy_score(y_test, test_pred)\n",
    "print(\"test accuracy : \", test_acc)"
   ]
  },
  {
   "cell_type": "code",
   "execution_count": 48,
   "id": "25db475f",
   "metadata": {},
   "outputs": [
    {
     "name": "stdout",
     "output_type": "stream",
     "text": [
      "overall accuracy :  0.7907722812057967\n"
     ]
    }
   ],
   "source": [
    "all_pred = grid_result.predict(X)\n",
    "from sklearn.metrics import accuracy_score\n",
    "all_acc = accuracy_score(y, all_pred)\n",
    "print(\"overall accuracy : \", all_acc)"
   ]
  },
  {
   "cell_type": "code",
   "execution_count": 49,
   "id": "aa24cda1",
   "metadata": {},
   "outputs": [
    {
     "data": {
      "text/plain": [
       "{'C': 0.1, 'penalty': 'l2'}"
      ]
     },
     "execution_count": 49,
     "metadata": {},
     "output_type": "execute_result"
    }
   ],
   "source": [
    "grid_result.best_params_"
   ]
  },
  {
   "cell_type": "code",
   "execution_count": 50,
   "id": "f22253a4",
   "metadata": {},
   "outputs": [
    {
     "data": {
      "text/html": [
       "<div>\n",
       "<style scoped>\n",
       "    .dataframe tbody tr th:only-of-type {\n",
       "        vertical-align: middle;\n",
       "    }\n",
       "\n",
       "    .dataframe tbody tr th {\n",
       "        vertical-align: top;\n",
       "    }\n",
       "\n",
       "    .dataframe thead th {\n",
       "        text-align: right;\n",
       "    }\n",
       "</style>\n",
       "<table border=\"1\" class=\"dataframe\">\n",
       "  <thead>\n",
       "    <tr style=\"text-align: right;\">\n",
       "      <th></th>\n",
       "      <th>importance</th>\n",
       "      <th>features</th>\n",
       "    </tr>\n",
       "  </thead>\n",
       "  <tbody>\n",
       "    <tr>\n",
       "      <th>0</th>\n",
       "      <td>-0.117727</td>\n",
       "      <td>__</td>\n",
       "    </tr>\n",
       "    <tr>\n",
       "      <th>1</th>\n",
       "      <td>0.229516</td>\n",
       "      <td>___</td>\n",
       "    </tr>\n",
       "    <tr>\n",
       "      <th>2</th>\n",
       "      <td>0.202058</td>\n",
       "      <td>____</td>\n",
       "    </tr>\n",
       "    <tr>\n",
       "      <th>3</th>\n",
       "      <td>-0.197179</td>\n",
       "      <td>_____</td>\n",
       "    </tr>\n",
       "    <tr>\n",
       "      <th>4</th>\n",
       "      <td>-0.066742</td>\n",
       "      <td>______</td>\n",
       "    </tr>\n",
       "    <tr>\n",
       "      <th>...</th>\n",
       "      <td>...</td>\n",
       "      <td>...</td>\n",
       "    </tr>\n",
       "    <tr>\n",
       "      <th>248197</th>\n",
       "      <td>-0.002399</td>\n",
       "      <td>ﾉﾞ</td>\n",
       "    </tr>\n",
       "    <tr>\n",
       "      <th>248198</th>\n",
       "      <td>-0.004798</td>\n",
       "      <td>ﾉﾞヾ</td>\n",
       "    </tr>\n",
       "    <tr>\n",
       "      <th>248199</th>\n",
       "      <td>-0.006995</td>\n",
       "      <td>ﾟдﾟ</td>\n",
       "    </tr>\n",
       "    <tr>\n",
       "      <th>248200</th>\n",
       "      <td>-0.060053</td>\n",
       "      <td>ﾟヮﾟ</td>\n",
       "    </tr>\n",
       "    <tr>\n",
       "      <th>248201</th>\n",
       "      <td>-0.015491</td>\n",
       "      <td>ﾟﾟ</td>\n",
       "    </tr>\n",
       "  </tbody>\n",
       "</table>\n",
       "<p>248202 rows × 2 columns</p>\n",
       "</div>"
      ],
      "text/plain": [
       "        importance features\n",
       "0        -0.117727       __\n",
       "1         0.229516      ___\n",
       "2         0.202058     ____\n",
       "3        -0.197179    _____\n",
       "4        -0.066742   ______\n",
       "...            ...      ...\n",
       "248197   -0.002399       ﾉﾞ\n",
       "248198   -0.004798      ﾉﾞヾ\n",
       "248199   -0.006995      ﾟдﾟ\n",
       "248200   -0.060053      ﾟヮﾟ\n",
       "248201   -0.015491       ﾟﾟ\n",
       "\n",
       "[248202 rows x 2 columns]"
      ]
     },
     "execution_count": 50,
     "metadata": {},
     "output_type": "execute_result"
    }
   ],
   "source": [
    "# get importance\n",
    "importance = grid_result.best_estimator_.coef_[0]\n",
    "feature_importance = pd.DataFrame({\"importance\":importance, \"features\":features})\n",
    "feature_importance"
   ]
  },
  {
   "cell_type": "code",
   "execution_count": 51,
   "id": "d9b5dac4",
   "metadata": {},
   "outputs": [
    {
     "data": {
      "text/html": [
       "<div>\n",
       "<style scoped>\n",
       "    .dataframe tbody tr th:only-of-type {\n",
       "        vertical-align: middle;\n",
       "    }\n",
       "\n",
       "    .dataframe tbody tr th {\n",
       "        vertical-align: top;\n",
       "    }\n",
       "\n",
       "    .dataframe thead th {\n",
       "        text-align: right;\n",
       "    }\n",
       "</style>\n",
       "<table border=\"1\" class=\"dataframe\">\n",
       "  <thead>\n",
       "    <tr style=\"text-align: right;\">\n",
       "      <th></th>\n",
       "      <th>importance</th>\n",
       "      <th>features</th>\n",
       "    </tr>\n",
       "  </thead>\n",
       "  <tbody>\n",
       "    <tr>\n",
       "      <th>59450</th>\n",
       "      <td>0.000000</td>\n",
       "      <td>dothan</td>\n",
       "    </tr>\n",
       "    <tr>\n",
       "      <th>227184</th>\n",
       "      <td>0.000000</td>\n",
       "      <td>unproffessional</td>\n",
       "    </tr>\n",
       "    <tr>\n",
       "      <th>207721</th>\n",
       "      <td>0.000000</td>\n",
       "      <td>sufficent</td>\n",
       "    </tr>\n",
       "    <tr>\n",
       "      <th>106296</th>\n",
       "      <td>0.000000</td>\n",
       "      <td>inhavited</td>\n",
       "    </tr>\n",
       "    <tr>\n",
       "      <th>207723</th>\n",
       "      <td>0.000000</td>\n",
       "      <td>sufficience</td>\n",
       "    </tr>\n",
       "    <tr>\n",
       "      <th>...</th>\n",
       "      <td>...</td>\n",
       "      <td>...</td>\n",
       "    </tr>\n",
       "    <tr>\n",
       "      <th>82466</th>\n",
       "      <td>-1.891595</td>\n",
       "      <td>game</td>\n",
       "    </tr>\n",
       "    <tr>\n",
       "      <th>27461</th>\n",
       "      <td>1.935630</td>\n",
       "      <td>bra</td>\n",
       "    </tr>\n",
       "    <tr>\n",
       "      <th>101194</th>\n",
       "      <td>2.144076</td>\n",
       "      <td>husband</td>\n",
       "    </tr>\n",
       "    <tr>\n",
       "      <th>164271</th>\n",
       "      <td>-2.546406</td>\n",
       "      <td>player</td>\n",
       "    </tr>\n",
       "    <tr>\n",
       "      <th>212659</th>\n",
       "      <td>-2.788827</td>\n",
       "      <td>team</td>\n",
       "    </tr>\n",
       "  </tbody>\n",
       "</table>\n",
       "<p>248202 rows × 2 columns</p>\n",
       "</div>"
      ],
      "text/plain": [
       "        importance         features\n",
       "59450     0.000000           dothan\n",
       "227184    0.000000  unproffessional\n",
       "207721    0.000000        sufficent\n",
       "106296    0.000000        inhavited\n",
       "207723    0.000000      sufficience\n",
       "...            ...              ...\n",
       "82466    -1.891595             game\n",
       "27461     1.935630              bra\n",
       "101194    2.144076          husband\n",
       "164271   -2.546406           player\n",
       "212659   -2.788827             team\n",
       "\n",
       "[248202 rows x 2 columns]"
      ]
     },
     "execution_count": 51,
     "metadata": {},
     "output_type": "execute_result"
    }
   ],
   "source": [
    "feature_importance.sort_values(['importance'],  key=abs, inplace=True)\n",
    "feature_importance\n"
   ]
  },
  {
   "cell_type": "code",
   "execution_count": 52,
   "id": "85725b40",
   "metadata": {},
   "outputs": [
    {
     "data": {
      "image/png": "[encoded data removed]",
      "text/plain": [
       "<Figure size 1440x720 with 1 Axes>"
      ]
     },
     "metadata": {
      "needs_background": "light"
     },
     "output_type": "display_data"
    }
   ],
   "source": [
    "# plot feature importance\n",
    "plt.figure(figsize=(20, 10))\n",
    "plt.bar(feature_importance['features'][-30:], feature_importance['importance'][-30:], width = 0.4)\n",
    "plt.xticks(rotation=45)\n",
    "plt.show()"
   ]
  },
  {
   "cell_type": "code",
   "execution_count": 53,
   "id": "4035befc",
   "metadata": {},
   "outputs": [],
   "source": [
    "# visualize most freuquent words"
   ]
  },
  {
   "cell_type": "code",
   "execution_count": 54,
   "id": "a1f51c15",
   "metadata": {},
   "outputs": [
    {
     "data": {
      "text/html": [
       "<div>\n",
       "<style scoped>\n",
       "    .dataframe tbody tr th:only-of-type {\n",
       "        vertical-align: middle;\n",
       "    }\n",
       "\n",
       "    .dataframe tbody tr th {\n",
       "        vertical-align: top;\n",
       "    }\n",
       "\n",
       "    .dataframe thead th {\n",
       "        text-align: right;\n",
       "    }\n",
       "</style>\n",
       "<table border=\"1\" class=\"dataframe\">\n",
       "  <thead>\n",
       "    <tr style=\"text-align: right;\">\n",
       "      <th></th>\n",
       "      <th>op_gender</th>\n",
       "      <th>responder_gender</th>\n",
       "      <th>response_text_cleaned</th>\n",
       "    </tr>\n",
       "  </thead>\n",
       "  <tbody>\n",
       "    <tr>\n",
       "      <th>0</th>\n",
       "      <td>M</td>\n",
       "      <td>M</td>\n",
       "      <td>dont know youre downvoted, work well. annoying...</td>\n",
       "    </tr>\n",
       "    <tr>\n",
       "      <th>1</th>\n",
       "      <td>M</td>\n",
       "      <td>W</td>\n",
       "      <td>ill admit im mostly annoyed discussion another...</td>\n",
       "    </tr>\n",
       "    <tr>\n",
       "      <th>2</th>\n",
       "      <td>W</td>\n",
       "      <td>M</td>\n",
       "      <td>never liked term gamer. wtf mean? ive never he...</td>\n",
       "    </tr>\n",
       "    <tr>\n",
       "      <th>3</th>\n",
       "      <td>W</td>\n",
       "      <td>W</td>\n",
       "      <td>awww yeah, biology ftw! graduated last semeste...</td>\n",
       "    </tr>\n",
       "  </tbody>\n",
       "</table>\n",
       "</div>"
      ],
      "text/plain": [
       "  op_gender responder_gender  \\\n",
       "0         M                M   \n",
       "1         M                W   \n",
       "2         W                M   \n",
       "3         W                W   \n",
       "\n",
       "                               response_text_cleaned  \n",
       "0  dont know youre downvoted, work well. annoying...  \n",
       "1  ill admit im mostly annoyed discussion another...  \n",
       "2  never liked term gamer. wtf mean? ive never he...  \n",
       "3  awww yeah, biology ftw! graduated last semeste...  "
      ]
     },
     "execution_count": 54,
     "metadata": {},
     "output_type": "execute_result"
    }
   ],
   "source": [
    "all_words"
   ]
  },
  {
   "cell_type": "code",
   "execution_count": 55,
   "id": "9f1549a0",
   "metadata": {},
   "outputs": [
    {
     "data": {
      "text/html": [
       "<div>\n",
       "<style scoped>\n",
       "    .dataframe tbody tr th:only-of-type {\n",
       "        vertical-align: middle;\n",
       "    }\n",
       "\n",
       "    .dataframe tbody tr th {\n",
       "        vertical-align: top;\n",
       "    }\n",
       "\n",
       "    .dataframe thead th {\n",
       "        text-align: right;\n",
       "    }\n",
       "</style>\n",
       "<table border=\"1\" class=\"dataframe\">\n",
       "  <thead>\n",
       "    <tr style=\"text-align: right;\">\n",
       "      <th></th>\n",
       "      <th>word</th>\n",
       "      <th>n</th>\n",
       "      <th>total_words</th>\n",
       "      <th>gender</th>\n",
       "    </tr>\n",
       "  </thead>\n",
       "  <tbody>\n",
       "    <tr>\n",
       "      <th>0</th>\n",
       "      <td>dont</td>\n",
       "      <td>11783</td>\n",
       "      <td>1368402</td>\n",
       "      <td>op_M_res_M</td>\n",
       "    </tr>\n",
       "    <tr>\n",
       "      <th>1</th>\n",
       "      <td>know</td>\n",
       "      <td>5659</td>\n",
       "      <td>1368402</td>\n",
       "      <td>op_M_res_M</td>\n",
       "    </tr>\n",
       "    <tr>\n",
       "      <th>2</th>\n",
       "      <td>youre</td>\n",
       "      <td>5909</td>\n",
       "      <td>1368402</td>\n",
       "      <td>op_M_res_M</td>\n",
       "    </tr>\n",
       "    <tr>\n",
       "      <th>3</th>\n",
       "      <td>downvoted,</td>\n",
       "      <td>12</td>\n",
       "      <td>1368402</td>\n",
       "      <td>op_M_res_M</td>\n",
       "    </tr>\n",
       "    <tr>\n",
       "      <th>4</th>\n",
       "      <td>work</td>\n",
       "      <td>2622</td>\n",
       "      <td>1368402</td>\n",
       "      <td>op_M_res_M</td>\n",
       "    </tr>\n",
       "    <tr>\n",
       "      <th>...</th>\n",
       "      <td>...</td>\n",
       "      <td>...</td>\n",
       "      <td>...</td>\n",
       "      <td>...</td>\n",
       "    </tr>\n",
       "    <tr>\n",
       "      <th>106314</th>\n",
       "      <td>mp,</td>\n",
       "      <td>1</td>\n",
       "      <td>1368402</td>\n",
       "      <td>op_M_res_M</td>\n",
       "    </tr>\n",
       "    <tr>\n",
       "      <th>106315</th>\n",
       "      <td>halo.</td>\n",
       "      <td>1</td>\n",
       "      <td>1368402</td>\n",
       "      <td>op_M_res_M</td>\n",
       "    </tr>\n",
       "    <tr>\n",
       "      <th>106316</th>\n",
       "      <td>rebuy</td>\n",
       "      <td>2</td>\n",
       "      <td>1368402</td>\n",
       "      <td>op_M_res_M</td>\n",
       "    </tr>\n",
       "    <tr>\n",
       "      <th>106317</th>\n",
       "      <td>dlc...</td>\n",
       "      <td>1</td>\n",
       "      <td>1368402</td>\n",
       "      <td>op_M_res_M</td>\n",
       "    </tr>\n",
       "    <tr>\n",
       "      <th>106318</th>\n",
       "      <td>re-buying</td>\n",
       "      <td>1</td>\n",
       "      <td>1368402</td>\n",
       "      <td>op_M_res_M</td>\n",
       "    </tr>\n",
       "  </tbody>\n",
       "</table>\n",
       "<p>106319 rows × 4 columns</p>\n",
       "</div>"
      ],
      "text/plain": [
       "              word      n  total_words      gender\n",
       "0             dont  11783      1368402  op_M_res_M\n",
       "1             know   5659      1368402  op_M_res_M\n",
       "2            youre   5909      1368402  op_M_res_M\n",
       "3       downvoted,     12      1368402  op_M_res_M\n",
       "4             work   2622      1368402  op_M_res_M\n",
       "...            ...    ...          ...         ...\n",
       "106314         mp,      1      1368402  op_M_res_M\n",
       "106315       halo.      1      1368402  op_M_res_M\n",
       "106316       rebuy      2      1368402  op_M_res_M\n",
       "106317      dlc...      1      1368402  op_M_res_M\n",
       "106318   re-buying      1      1368402  op_M_res_M\n",
       "\n",
       "[106319 rows x 4 columns]"
      ]
     },
     "execution_count": 55,
     "metadata": {},
     "output_type": "execute_result"
    }
   ],
   "source": [
    "df_op_M_res_M = pd.DataFrame(fd_wct1_op_M_res_M.items(), columns=['word', 'n'])\n",
    "cnt = 0 \n",
    "total_words_M_M = sum(fd_wct1_op_M_res_M.values())\n",
    "\n",
    "df_op_M_res_M['total_words'] = total_words_M_M\n",
    "df_op_M_res_M['gender'] ='op_M_res_M'\n",
    "df_op_M_res_M\n"
   ]
  },
  {
   "cell_type": "code",
   "execution_count": 56,
   "id": "793361e9",
   "metadata": {},
   "outputs": [
    {
     "data": {
      "text/html": [
       "<div>\n",
       "<style scoped>\n",
       "    .dataframe tbody tr th:only-of-type {\n",
       "        vertical-align: middle;\n",
       "    }\n",
       "\n",
       "    .dataframe tbody tr th {\n",
       "        vertical-align: top;\n",
       "    }\n",
       "\n",
       "    .dataframe thead th {\n",
       "        text-align: right;\n",
       "    }\n",
       "</style>\n",
       "<table border=\"1\" class=\"dataframe\">\n",
       "  <thead>\n",
       "    <tr style=\"text-align: right;\">\n",
       "      <th></th>\n",
       "      <th>word</th>\n",
       "      <th>n</th>\n",
       "      <th>total_words</th>\n",
       "      <th>gender</th>\n",
       "    </tr>\n",
       "  </thead>\n",
       "  <tbody>\n",
       "    <tr>\n",
       "      <th>0</th>\n",
       "      <td>ill</td>\n",
       "      <td>543</td>\n",
       "      <td>477726</td>\n",
       "      <td>op_M_res_F</td>\n",
       "    </tr>\n",
       "    <tr>\n",
       "      <th>1</th>\n",
       "      <td>admit</td>\n",
       "      <td>65</td>\n",
       "      <td>477726</td>\n",
       "      <td>op_M_res_F</td>\n",
       "    </tr>\n",
       "    <tr>\n",
       "      <th>2</th>\n",
       "      <td>im</td>\n",
       "      <td>5113</td>\n",
       "      <td>477726</td>\n",
       "      <td>op_M_res_F</td>\n",
       "    </tr>\n",
       "    <tr>\n",
       "      <th>3</th>\n",
       "      <td>mostly</td>\n",
       "      <td>160</td>\n",
       "      <td>477726</td>\n",
       "      <td>op_M_res_F</td>\n",
       "    </tr>\n",
       "    <tr>\n",
       "      <th>4</th>\n",
       "      <td>annoyed</td>\n",
       "      <td>23</td>\n",
       "      <td>477726</td>\n",
       "      <td>op_M_res_F</td>\n",
       "    </tr>\n",
       "    <tr>\n",
       "      <th>...</th>\n",
       "      <td>...</td>\n",
       "      <td>...</td>\n",
       "      <td>...</td>\n",
       "      <td>...</td>\n",
       "    </tr>\n",
       "    <tr>\n",
       "      <th>51097</th>\n",
       "      <td>layer.</td>\n",
       "      <td>1</td>\n",
       "      <td>477726</td>\n",
       "      <td>op_M_res_F</td>\n",
       "    </tr>\n",
       "    <tr>\n",
       "      <th>51098</th>\n",
       "      <td>glue</td>\n",
       "      <td>1</td>\n",
       "      <td>477726</td>\n",
       "      <td>op_M_res_F</td>\n",
       "    </tr>\n",
       "    <tr>\n",
       "      <th>51099</th>\n",
       "      <td>armenia</td>\n",
       "      <td>1</td>\n",
       "      <td>477726</td>\n",
       "      <td>op_M_res_F</td>\n",
       "    </tr>\n",
       "    <tr>\n",
       "      <th>51100</th>\n",
       "      <td>levant</td>\n",
       "      <td>1</td>\n",
       "      <td>477726</td>\n",
       "      <td>op_M_res_F</td>\n",
       "    </tr>\n",
       "    <tr>\n",
       "      <th>51101</th>\n",
       "      <td>chaos...</td>\n",
       "      <td>1</td>\n",
       "      <td>477726</td>\n",
       "      <td>op_M_res_F</td>\n",
       "    </tr>\n",
       "  </tbody>\n",
       "</table>\n",
       "<p>51102 rows × 4 columns</p>\n",
       "</div>"
      ],
      "text/plain": [
       "           word     n  total_words      gender\n",
       "0           ill   543       477726  op_M_res_F\n",
       "1         admit    65       477726  op_M_res_F\n",
       "2            im  5113       477726  op_M_res_F\n",
       "3        mostly   160       477726  op_M_res_F\n",
       "4       annoyed    23       477726  op_M_res_F\n",
       "...         ...   ...          ...         ...\n",
       "51097    layer.     1       477726  op_M_res_F\n",
       "51098      glue     1       477726  op_M_res_F\n",
       "51099   armenia     1       477726  op_M_res_F\n",
       "51100    levant     1       477726  op_M_res_F\n",
       "51101  chaos...     1       477726  op_M_res_F\n",
       "\n",
       "[51102 rows x 4 columns]"
      ]
     },
     "execution_count": 56,
     "metadata": {},
     "output_type": "execute_result"
    }
   ],
   "source": [
    "df_op_M_res_F = pd.DataFrame(fd_wct1_op_M_res_F.items(), columns=['word', 'n'])\n",
    "cnt = 0 \n",
    "total_words_M_F = sum(fd_wct1_op_M_res_F.values())\n",
    "\n",
    "df_op_M_res_F['total_words'] = total_words_M_F\n",
    "df_op_M_res_F['gender'] ='op_M_res_F'\n",
    "df_op_M_res_F"
   ]
  },
  {
   "cell_type": "code",
   "execution_count": 57,
   "id": "013d7fa8",
   "metadata": {},
   "outputs": [
    {
     "data": {
      "text/html": [
       "<div>\n",
       "<style scoped>\n",
       "    .dataframe tbody tr th:only-of-type {\n",
       "        vertical-align: middle;\n",
       "    }\n",
       "\n",
       "    .dataframe tbody tr th {\n",
       "        vertical-align: top;\n",
       "    }\n",
       "\n",
       "    .dataframe thead th {\n",
       "        text-align: right;\n",
       "    }\n",
       "</style>\n",
       "<table border=\"1\" class=\"dataframe\">\n",
       "  <thead>\n",
       "    <tr style=\"text-align: right;\">\n",
       "      <th></th>\n",
       "      <th>word</th>\n",
       "      <th>n</th>\n",
       "      <th>total_words</th>\n",
       "      <th>gender</th>\n",
       "    </tr>\n",
       "  </thead>\n",
       "  <tbody>\n",
       "    <tr>\n",
       "      <th>0</th>\n",
       "      <td>awww</td>\n",
       "      <td>4</td>\n",
       "      <td>160530</td>\n",
       "      <td>op_F_res_F</td>\n",
       "    </tr>\n",
       "    <tr>\n",
       "      <th>1</th>\n",
       "      <td>yeah,</td>\n",
       "      <td>216</td>\n",
       "      <td>160530</td>\n",
       "      <td>op_F_res_F</td>\n",
       "    </tr>\n",
       "    <tr>\n",
       "      <th>2</th>\n",
       "      <td>biology</td>\n",
       "      <td>2</td>\n",
       "      <td>160530</td>\n",
       "      <td>op_F_res_F</td>\n",
       "    </tr>\n",
       "    <tr>\n",
       "      <th>3</th>\n",
       "      <td>ftw!</td>\n",
       "      <td>1</td>\n",
       "      <td>160530</td>\n",
       "      <td>op_F_res_F</td>\n",
       "    </tr>\n",
       "    <tr>\n",
       "      <th>4</th>\n",
       "      <td>graduated</td>\n",
       "      <td>7</td>\n",
       "      <td>160530</td>\n",
       "      <td>op_F_res_F</td>\n",
       "    </tr>\n",
       "    <tr>\n",
       "      <th>...</th>\n",
       "      <td>...</td>\n",
       "      <td>...</td>\n",
       "      <td>...</td>\n",
       "      <td>...</td>\n",
       "    </tr>\n",
       "    <tr>\n",
       "      <th>25986</th>\n",
       "      <td>cubicle</td>\n",
       "      <td>1</td>\n",
       "      <td>160530</td>\n",
       "      <td>op_F_res_F</td>\n",
       "    </tr>\n",
       "    <tr>\n",
       "      <th>25987</th>\n",
       "      <td>aromas.</td>\n",
       "      <td>1</td>\n",
       "      <td>160530</td>\n",
       "      <td>op_F_res_F</td>\n",
       "    </tr>\n",
       "    <tr>\n",
       "      <th>25988</th>\n",
       "      <td>por</td>\n",
       "      <td>1</td>\n",
       "      <td>160530</td>\n",
       "      <td>op_F_res_F</td>\n",
       "    </tr>\n",
       "    <tr>\n",
       "      <th>25989</th>\n",
       "      <td>dos?</td>\n",
       "      <td>1</td>\n",
       "      <td>160530</td>\n",
       "      <td>op_F_res_F</td>\n",
       "    </tr>\n",
       "    <tr>\n",
       "      <th>25990</th>\n",
       "      <td>bill-collectors</td>\n",
       "      <td>1</td>\n",
       "      <td>160530</td>\n",
       "      <td>op_F_res_F</td>\n",
       "    </tr>\n",
       "  </tbody>\n",
       "</table>\n",
       "<p>25991 rows × 4 columns</p>\n",
       "</div>"
      ],
      "text/plain": [
       "                  word    n  total_words      gender\n",
       "0                 awww    4       160530  op_F_res_F\n",
       "1                yeah,  216       160530  op_F_res_F\n",
       "2              biology    2       160530  op_F_res_F\n",
       "3                 ftw!    1       160530  op_F_res_F\n",
       "4            graduated    7       160530  op_F_res_F\n",
       "...                ...  ...          ...         ...\n",
       "25986          cubicle    1       160530  op_F_res_F\n",
       "25987          aromas.    1       160530  op_F_res_F\n",
       "25988              por    1       160530  op_F_res_F\n",
       "25989             dos?    1       160530  op_F_res_F\n",
       "25990  bill-collectors    1       160530  op_F_res_F\n",
       "\n",
       "[25991 rows x 4 columns]"
      ]
     },
     "execution_count": 57,
     "metadata": {},
     "output_type": "execute_result"
    }
   ],
   "source": [
    "df_op_F_res_F = pd.DataFrame(fd_wct1_op_F_res_F.items(), columns=['word', 'n'])\n",
    "cnt = 0 \n",
    "total_words_F_F = sum(fd_wct1_op_F_res_F.values())\n",
    "\n",
    "df_op_F_res_F['total_words'] = total_words_F_F\n",
    "df_op_F_res_F['gender'] ='op_F_res_F'\n",
    "df_op_F_res_F"
   ]
  },
  {
   "cell_type": "code",
   "execution_count": 58,
   "id": "d46c442e",
   "metadata": {},
   "outputs": [
    {
     "data": {
      "text/html": [
       "<div>\n",
       "<style scoped>\n",
       "    .dataframe tbody tr th:only-of-type {\n",
       "        vertical-align: middle;\n",
       "    }\n",
       "\n",
       "    .dataframe tbody tr th {\n",
       "        vertical-align: top;\n",
       "    }\n",
       "\n",
       "    .dataframe thead th {\n",
       "        text-align: right;\n",
       "    }\n",
       "</style>\n",
       "<table border=\"1\" class=\"dataframe\">\n",
       "  <thead>\n",
       "    <tr style=\"text-align: right;\">\n",
       "      <th></th>\n",
       "      <th>word</th>\n",
       "      <th>n</th>\n",
       "      <th>total_words</th>\n",
       "      <th>gender</th>\n",
       "    </tr>\n",
       "  </thead>\n",
       "  <tbody>\n",
       "    <tr>\n",
       "      <th>0</th>\n",
       "      <td>never</td>\n",
       "      <td>1209</td>\n",
       "      <td>453036</td>\n",
       "      <td>op_F_res_M</td>\n",
       "    </tr>\n",
       "    <tr>\n",
       "      <th>1</th>\n",
       "      <td>liked</td>\n",
       "      <td>68</td>\n",
       "      <td>453036</td>\n",
       "      <td>op_F_res_M</td>\n",
       "    </tr>\n",
       "    <tr>\n",
       "      <th>2</th>\n",
       "      <td>term</td>\n",
       "      <td>234</td>\n",
       "      <td>453036</td>\n",
       "      <td>op_F_res_M</td>\n",
       "    </tr>\n",
       "    <tr>\n",
       "      <th>3</th>\n",
       "      <td>gamer.</td>\n",
       "      <td>2</td>\n",
       "      <td>453036</td>\n",
       "      <td>op_F_res_M</td>\n",
       "    </tr>\n",
       "    <tr>\n",
       "      <th>4</th>\n",
       "      <td>wtf</td>\n",
       "      <td>18</td>\n",
       "      <td>453036</td>\n",
       "      <td>op_F_res_M</td>\n",
       "    </tr>\n",
       "    <tr>\n",
       "      <th>...</th>\n",
       "      <td>...</td>\n",
       "      <td>...</td>\n",
       "      <td>...</td>\n",
       "      <td>...</td>\n",
       "    </tr>\n",
       "    <tr>\n",
       "      <th>49864</th>\n",
       "      <td>stabbed.</td>\n",
       "      <td>1</td>\n",
       "      <td>453036</td>\n",
       "      <td>op_F_res_M</td>\n",
       "    </tr>\n",
       "    <tr>\n",
       "      <th>49865</th>\n",
       "      <td>solange!</td>\n",
       "      <td>1</td>\n",
       "      <td>453036</td>\n",
       "      <td>op_F_res_M</td>\n",
       "    </tr>\n",
       "    <tr>\n",
       "      <th>49866</th>\n",
       "      <td>polishing</td>\n",
       "      <td>1</td>\n",
       "      <td>453036</td>\n",
       "      <td>op_F_res_M</td>\n",
       "    </tr>\n",
       "    <tr>\n",
       "      <th>49867</th>\n",
       "      <td>turd?</td>\n",
       "      <td>1</td>\n",
       "      <td>453036</td>\n",
       "      <td>op_F_res_M</td>\n",
       "    </tr>\n",
       "    <tr>\n",
       "      <th>49868</th>\n",
       "      <td>levant?</td>\n",
       "      <td>1</td>\n",
       "      <td>453036</td>\n",
       "      <td>op_F_res_M</td>\n",
       "    </tr>\n",
       "  </tbody>\n",
       "</table>\n",
       "<p>49869 rows × 4 columns</p>\n",
       "</div>"
      ],
      "text/plain": [
       "            word     n  total_words      gender\n",
       "0          never  1209       453036  op_F_res_M\n",
       "1          liked    68       453036  op_F_res_M\n",
       "2           term   234       453036  op_F_res_M\n",
       "3         gamer.     2       453036  op_F_res_M\n",
       "4            wtf    18       453036  op_F_res_M\n",
       "...          ...   ...          ...         ...\n",
       "49864   stabbed.     1       453036  op_F_res_M\n",
       "49865   solange!     1       453036  op_F_res_M\n",
       "49866  polishing     1       453036  op_F_res_M\n",
       "49867      turd?     1       453036  op_F_res_M\n",
       "49868    levant?     1       453036  op_F_res_M\n",
       "\n",
       "[49869 rows x 4 columns]"
      ]
     },
     "execution_count": 58,
     "metadata": {},
     "output_type": "execute_result"
    }
   ],
   "source": [
    "df_op_F_res_M = pd.DataFrame(fd_wct1_op_F_res_M.items(), columns=['word', 'n'])\n",
    "cnt = 0 \n",
    "total_words_F_M = sum(fd_wct1_op_F_res_M.values())\n",
    "\n",
    "df_op_F_res_M['total_words'] = total_words_F_M\n",
    "df_op_F_res_M['gender'] ='op_F_res_M'\n",
    "df_op_F_res_M"
   ]
  },
  {
   "cell_type": "code",
   "execution_count": 59,
   "id": "8fff9099",
   "metadata": {},
   "outputs": [
    {
     "data": {
      "text/html": [
       "<div>\n",
       "<style scoped>\n",
       "    .dataframe tbody tr th:only-of-type {\n",
       "        vertical-align: middle;\n",
       "    }\n",
       "\n",
       "    .dataframe tbody tr th {\n",
       "        vertical-align: top;\n",
       "    }\n",
       "\n",
       "    .dataframe thead th {\n",
       "        text-align: right;\n",
       "    }\n",
       "</style>\n",
       "<table border=\"1\" class=\"dataframe\">\n",
       "  <thead>\n",
       "    <tr style=\"text-align: right;\">\n",
       "      <th></th>\n",
       "      <th>word</th>\n",
       "      <th>n</th>\n",
       "      <th>total_words</th>\n",
       "      <th>gender</th>\n",
       "    </tr>\n",
       "  </thead>\n",
       "  <tbody>\n",
       "    <tr>\n",
       "      <th>0</th>\n",
       "      <td>dont</td>\n",
       "      <td>11783</td>\n",
       "      <td>1368402</td>\n",
       "      <td>op_M_res_M</td>\n",
       "    </tr>\n",
       "    <tr>\n",
       "      <th>1</th>\n",
       "      <td>know</td>\n",
       "      <td>5659</td>\n",
       "      <td>1368402</td>\n",
       "      <td>op_M_res_M</td>\n",
       "    </tr>\n",
       "    <tr>\n",
       "      <th>2</th>\n",
       "      <td>youre</td>\n",
       "      <td>5909</td>\n",
       "      <td>1368402</td>\n",
       "      <td>op_M_res_M</td>\n",
       "    </tr>\n",
       "    <tr>\n",
       "      <th>3</th>\n",
       "      <td>downvoted,</td>\n",
       "      <td>12</td>\n",
       "      <td>1368402</td>\n",
       "      <td>op_M_res_M</td>\n",
       "    </tr>\n",
       "    <tr>\n",
       "      <th>4</th>\n",
       "      <td>work</td>\n",
       "      <td>2622</td>\n",
       "      <td>1368402</td>\n",
       "      <td>op_M_res_M</td>\n",
       "    </tr>\n",
       "    <tr>\n",
       "      <th>...</th>\n",
       "      <td>...</td>\n",
       "      <td>...</td>\n",
       "      <td>...</td>\n",
       "      <td>...</td>\n",
       "    </tr>\n",
       "    <tr>\n",
       "      <th>25986</th>\n",
       "      <td>cubicle</td>\n",
       "      <td>1</td>\n",
       "      <td>160530</td>\n",
       "      <td>op_F_res_F</td>\n",
       "    </tr>\n",
       "    <tr>\n",
       "      <th>25987</th>\n",
       "      <td>aromas.</td>\n",
       "      <td>1</td>\n",
       "      <td>160530</td>\n",
       "      <td>op_F_res_F</td>\n",
       "    </tr>\n",
       "    <tr>\n",
       "      <th>25988</th>\n",
       "      <td>por</td>\n",
       "      <td>1</td>\n",
       "      <td>160530</td>\n",
       "      <td>op_F_res_F</td>\n",
       "    </tr>\n",
       "    <tr>\n",
       "      <th>25989</th>\n",
       "      <td>dos?</td>\n",
       "      <td>1</td>\n",
       "      <td>160530</td>\n",
       "      <td>op_F_res_F</td>\n",
       "    </tr>\n",
       "    <tr>\n",
       "      <th>25990</th>\n",
       "      <td>bill-collectors</td>\n",
       "      <td>1</td>\n",
       "      <td>160530</td>\n",
       "      <td>op_F_res_F</td>\n",
       "    </tr>\n",
       "  </tbody>\n",
       "</table>\n",
       "<p>233281 rows × 4 columns</p>\n",
       "</div>"
      ],
      "text/plain": [
       "                  word      n  total_words      gender\n",
       "0                 dont  11783      1368402  op_M_res_M\n",
       "1                 know   5659      1368402  op_M_res_M\n",
       "2                youre   5909      1368402  op_M_res_M\n",
       "3           downvoted,     12      1368402  op_M_res_M\n",
       "4                 work   2622      1368402  op_M_res_M\n",
       "...                ...    ...          ...         ...\n",
       "25986          cubicle      1       160530  op_F_res_F\n",
       "25987          aromas.      1       160530  op_F_res_F\n",
       "25988              por      1       160530  op_F_res_F\n",
       "25989             dos?      1       160530  op_F_res_F\n",
       "25990  bill-collectors      1       160530  op_F_res_F\n",
       "\n",
       "[233281 rows x 4 columns]"
      ]
     },
     "execution_count": 59,
     "metadata": {},
     "output_type": "execute_result"
    }
   ],
   "source": [
    "df_all_for_R = pd.concat([df_op_M_res_M, df_op_M_res_F, df_op_F_res_M, df_op_F_res_F])\n",
    "df_all_for_R"
   ]
  },
  {
   "cell_type": "code",
   "execution_count": 60,
   "id": "b786ac4d",
   "metadata": {},
   "outputs": [],
   "source": [
    "df_all_for_R.to_csv(\"./preprocessed_data/reddit_responses_preprocressed_for_R_Lemma1.csv\")"
   ]
  },
  {
   "cell_type": "code",
   "execution_count": 61,
   "id": "a6c4fd88",
   "metadata": {},
   "outputs": [
    {
     "data": {
      "text/plain": [
       "array(['op_M_res_M', 'op_M_res_F', 'op_F_res_M', 'op_F_res_F'],\n",
       "      dtype=object)"
      ]
     },
     "execution_count": 61,
     "metadata": {},
     "output_type": "execute_result"
    }
   ],
   "source": [
    "df_all_for_R.gender.unique()"
   ]
  },
  {
   "cell_type": "code",
   "execution_count": 62,
   "id": "597cbceb",
   "metadata": {},
   "outputs": [],
   "source": [
    "# after runing R code"
   ]
  },
  {
   "cell_type": "code",
   "execution_count": 63,
   "id": "7a6543cf",
   "metadata": {},
   "outputs": [],
   "source": [
    "weighted_log_odds_df = pd.read_csv(\"./preprocessed_data/reddit_responses_weighted_log_odds.csv\")\n",
    "weighted_log_odds_df.sort_values(['log_odds_weighted'], inplace=True)"
   ]
  },
  {
   "cell_type": "code",
   "execution_count": 64,
   "id": "b7114ec1",
   "metadata": {},
   "outputs": [
    {
     "data": {
      "text/html": [
       "<div>\n",
       "<style scoped>\n",
       "    .dataframe tbody tr th:only-of-type {\n",
       "        vertical-align: middle;\n",
       "    }\n",
       "\n",
       "    .dataframe tbody tr th {\n",
       "        vertical-align: top;\n",
       "    }\n",
       "\n",
       "    .dataframe thead th {\n",
       "        text-align: right;\n",
       "    }\n",
       "</style>\n",
       "<table border=\"1\" class=\"dataframe\">\n",
       "  <thead>\n",
       "    <tr style=\"text-align: right;\">\n",
       "      <th></th>\n",
       "      <th>Unnamed: 0</th>\n",
       "      <th>X</th>\n",
       "      <th>word</th>\n",
       "      <th>n</th>\n",
       "      <th>total_words</th>\n",
       "      <th>gender</th>\n",
       "      <th>log_odds_weighted</th>\n",
       "    </tr>\n",
       "  </thead>\n",
       "  <tbody>\n",
       "    <tr>\n",
       "      <th>454</th>\n",
       "      <td>455</td>\n",
       "      <td>454</td>\n",
       "      <td>woman</td>\n",
       "      <td>5658</td>\n",
       "      <td>1368402</td>\n",
       "      <td>op_M_res_M</td>\n",
       "      <td>-12.454227</td>\n",
       "    </tr>\n",
       "    <tr>\n",
       "      <th>159</th>\n",
       "      <td>160</td>\n",
       "      <td>159</td>\n",
       "      <td>im</td>\n",
       "      <td>11434</td>\n",
       "      <td>1368402</td>\n",
       "      <td>op_M_res_M</td>\n",
       "      <td>-10.706269</td>\n",
       "    </tr>\n",
       "    <tr>\n",
       "      <th>45</th>\n",
       "      <td>46</td>\n",
       "      <td>45</td>\n",
       "      <td>guy</td>\n",
       "      <td>3529</td>\n",
       "      <td>1368402</td>\n",
       "      <td>op_M_res_M</td>\n",
       "      <td>-10.669857</td>\n",
       "    </tr>\n",
       "    <tr>\n",
       "      <th>407</th>\n",
       "      <td>408</td>\n",
       "      <td>407</td>\n",
       "      <td>like</td>\n",
       "      <td>12843</td>\n",
       "      <td>1368402</td>\n",
       "      <td>op_M_res_M</td>\n",
       "      <td>-10.393987</td>\n",
       "    </tr>\n",
       "    <tr>\n",
       "      <th>4404</th>\n",
       "      <td>4405</td>\n",
       "      <td>4404</td>\n",
       "      <td>:)</td>\n",
       "      <td>585</td>\n",
       "      <td>1368402</td>\n",
       "      <td>op_M_res_M</td>\n",
       "      <td>-9.971704</td>\n",
       "    </tr>\n",
       "    <tr>\n",
       "      <th>...</th>\n",
       "      <td>...</td>\n",
       "      <td>...</td>\n",
       "      <td>...</td>\n",
       "      <td>...</td>\n",
       "      <td>...</td>\n",
       "      <td>...</td>\n",
       "      <td>...</td>\n",
       "    </tr>\n",
       "    <tr>\n",
       "      <th>207350</th>\n",
       "      <td>207351</td>\n",
       "      <td>60</td>\n",
       "      <td>get</td>\n",
       "      <td>1100</td>\n",
       "      <td>160530</td>\n",
       "      <td>op_F_res_F</td>\n",
       "      <td>7.711154</td>\n",
       "    </tr>\n",
       "    <tr>\n",
       "      <th>207347</th>\n",
       "      <td>207348</td>\n",
       "      <td>57</td>\n",
       "      <td>people</td>\n",
       "      <td>1148</td>\n",
       "      <td>160530</td>\n",
       "      <td>op_F_res_F</td>\n",
       "      <td>7.997506</td>\n",
       "    </tr>\n",
       "    <tr>\n",
       "      <th>207362</th>\n",
       "      <td>207363</td>\n",
       "      <td>72</td>\n",
       "      <td>dont</td>\n",
       "      <td>1397</td>\n",
       "      <td>160530</td>\n",
       "      <td>op_F_res_F</td>\n",
       "      <td>8.496580</td>\n",
       "    </tr>\n",
       "    <tr>\n",
       "      <th>207298</th>\n",
       "      <td>207299</td>\n",
       "      <td>8</td>\n",
       "      <td>im</td>\n",
       "      <td>1480</td>\n",
       "      <td>160530</td>\n",
       "      <td>op_F_res_F</td>\n",
       "      <td>9.014093</td>\n",
       "    </tr>\n",
       "    <tr>\n",
       "      <th>207322</th>\n",
       "      <td>207323</td>\n",
       "      <td>32</td>\n",
       "      <td>like</td>\n",
       "      <td>1702</td>\n",
       "      <td>160530</td>\n",
       "      <td>op_F_res_F</td>\n",
       "      <td>9.869698</td>\n",
       "    </tr>\n",
       "  </tbody>\n",
       "</table>\n",
       "<p>233276 rows × 7 columns</p>\n",
       "</div>"
      ],
      "text/plain": [
       "        Unnamed: 0     X    word      n  total_words      gender  \\\n",
       "454            455   454   woman   5658      1368402  op_M_res_M   \n",
       "159            160   159      im  11434      1368402  op_M_res_M   \n",
       "45              46    45     guy   3529      1368402  op_M_res_M   \n",
       "407            408   407    like  12843      1368402  op_M_res_M   \n",
       "4404          4405  4404      :)    585      1368402  op_M_res_M   \n",
       "...            ...   ...     ...    ...          ...         ...   \n",
       "207350      207351    60     get   1100       160530  op_F_res_F   \n",
       "207347      207348    57  people   1148       160530  op_F_res_F   \n",
       "207362      207363    72    dont   1397       160530  op_F_res_F   \n",
       "207298      207299     8      im   1480       160530  op_F_res_F   \n",
       "207322      207323    32    like   1702       160530  op_F_res_F   \n",
       "\n",
       "        log_odds_weighted  \n",
       "454            -12.454227  \n",
       "159            -10.706269  \n",
       "45             -10.669857  \n",
       "407            -10.393987  \n",
       "4404            -9.971704  \n",
       "...                   ...  \n",
       "207350           7.711154  \n",
       "207347           7.997506  \n",
       "207362           8.496580  \n",
       "207298           9.014093  \n",
       "207322           9.869698  \n",
       "\n",
       "[233276 rows x 7 columns]"
      ]
     },
     "execution_count": 64,
     "metadata": {},
     "output_type": "execute_result"
    }
   ],
   "source": [
    "weighted_log_odds_df = weighted_log_odds_df.dropna()\n",
    "weighted_log_odds_df"
   ]
  },
  {
   "cell_type": "code",
   "execution_count": 65,
   "id": "8b5f9942",
   "metadata": {},
   "outputs": [
    {
     "data": {
      "text/plain": [
       "array(['op_M_res_M', 'op_M_res_F', 'op_F_res_M', 'op_F_res_F'],\n",
       "      dtype=object)"
      ]
     },
     "execution_count": 65,
     "metadata": {},
     "output_type": "execute_result"
    }
   ],
   "source": [
    "weighted_log_odds_df.gender.unique()"
   ]
  },
  {
   "cell_type": "code",
   "execution_count": 66,
   "id": "5ec49fc2",
   "metadata": {},
   "outputs": [
    {
     "data": {
      "image/png": "[encoded data removed]",
      "text/plain": [
       "<Figure size 1440x720 with 1 Axes>"
      ]
     },
     "metadata": {
      "needs_background": "light"
     },
     "output_type": "display_data"
    }
   ],
   "source": [
    "filtered_df = weighted_log_odds_df[weighted_log_odds_df['gender']=='op_M_res_M']\n",
    "plt.figure(figsize=(20, 10))\n",
    "plt.bar(filtered_df['word'][-40:], filtered_df['log_odds_weighted'][-40:], width=0.4)\n",
    "plt.title(\"significant words writer male responder male\")\n",
    "plt.xticks(rotation=45)\n",
    "plt.show()"
   ]
  },
  {
   "cell_type": "code",
   "execution_count": 67,
   "id": "34382507",
   "metadata": {},
   "outputs": [
    {
     "data": {
      "image/png": "[encoded data removed]",
      "text/plain": [
       "<Figure size 1440x720 with 1 Axes>"
      ]
     },
     "metadata": {
      "needs_background": "light"
     },
     "output_type": "display_data"
    }
   ],
   "source": [
    "filtered_df = weighted_log_odds_df[weighted_log_odds_df['gender']=='op_M_res_F']\n",
    "plt.figure(figsize=(20, 10))\n",
    "plt.bar(filtered_df['word'][-40:], filtered_df['log_odds_weighted'][-40:], width=0.4)\n",
    "plt.title(\"significant words writer male responder female\")\n",
    "plt.xticks(rotation=45)\n",
    "plt.show()"
   ]
  },
  {
   "cell_type": "code",
   "execution_count": 68,
   "id": "8f22718e",
   "metadata": {},
   "outputs": [
    {
     "data": {
      "image/png": "[encoded data removed]",
      "text/plain": [
       "<Figure size 1440x720 with 1 Axes>"
      ]
     },
     "metadata": {
      "needs_background": "light"
     },
     "output_type": "display_data"
    }
   ],
   "source": [
    "filtered_df = weighted_log_odds_df[weighted_log_odds_df['gender']=='op_F_res_F']\n",
    "plt.figure(figsize=(20, 10))\n",
    "plt.bar(filtered_df['word'][-40:], filtered_df['log_odds_weighted'][-40:], width=0.4)\n",
    "plt.title(\"significant words writer female responder female\")\n",
    "plt.xticks(rotation=45)\n",
    "plt.show()"
   ]
  },
  {
   "cell_type": "code",
   "execution_count": 69,
   "id": "124c31c9",
   "metadata": {},
   "outputs": [
    {
     "data": {
      "image/png": "[encoded data removed]",
      "text/plain": [
       "<Figure size 1440x720 with 1 Axes>"
      ]
     },
     "metadata": {
      "needs_background": "light"
     },
     "output_type": "display_data"
    }
   ],
   "source": [
    "filtered_df = weighted_log_odds_df[weighted_log_odds_df['gender']=='op_F_res_M']\n",
    "plt.figure(figsize=(20, 10))\n",
    "plt.bar(filtered_df['word'][-40:], filtered_df['log_odds_weighted'][-40:], width=0.4)\n",
    "plt.title(\"significant words writer female responder male\")\n",
    "plt.xticks(rotation=45)\n",
    "plt.show()"
   ]
  },
  {
   "cell_type": "code",
   "execution_count": null,
   "id": "9d83bb1b",
   "metadata": {},
   "outputs": [],
   "source": []
  },
  {
   "cell_type": "code",
   "execution_count": null,
   "id": "801f7077",
   "metadata": {},
   "outputs": [],
   "source": []
  }
 ],
 "metadata": {
  "kernelspec": {
   "display_name": "Python 3 (ipykernel)",
   "language": "python",
   "name": "python3"
  },
  "language_info": {
   "codemirror_mode": {
    "name": "ipython",
    "version": 3
   },
   "file_extension": ".py",
   "mimetype": "text/x-python",
   "name": "python",
   "nbconvert_exporter": "python",
   "pygments_lexer": "ipython3",
   "version": "3.10.2"
  }
 },
 "nbformat": 4,
 "nbformat_minor": 5
}
