{
 "cells": [
  {
   "cell_type": "code",
   "execution_count": 1,
   "id": "dc0230fb",
   "metadata": {},
   "outputs": [],
   "source": [
    "import pandas as pd\n",
    "import re\n",
    "import string\n",
    "# from bs4 import BeautifulSoup\n",
    "import nltk\n",
    "from nltk.stem import PorterStemmer\n",
    "from nltk.stem.wordnet import WordNetLemmatizer\n",
    "import spacy\n",
    "from nltk.probability import FreqDist\n",
    "from sklearn.linear_model import LogisticRegression\n",
    "from sklearn.feature_extraction.text import CountVectorizer, TfidfVectorizer\n",
    "import matplotlib.pyplot as plt\n",
    "import warnings\n",
    "warnings.filterwarnings('ignore')"
   ]
  },
  {
   "cell_type": "code",
   "execution_count": 2,
   "id": "a9e43744",
   "metadata": {},
   "outputs": [],
   "source": [
    "# !pip install spacy\n",
    "# !python -m spacy download en_core_web_sm\n",
    "# nltk.download('stopwords')\n",
    "# nltk.download('wordnet')\n",
    "# nltk.download('omw-1.4')"
   ]
  },
  {
   "cell_type": "code",
   "execution_count": 3,
   "id": "f5fad2e9",
   "metadata": {},
   "outputs": [],
   "source": [
    "data_df = pd.read_csv(\"../rtgender/facebook_wiki_posts.csv\")"
   ]
  },
  {
   "cell_type": "code",
   "execution_count": 4,
   "id": "943b1ea2",
   "metadata": {},
   "outputs": [
    {
     "data": {
      "text/html": [
       "<div>\n",
       "<style scoped>\n",
       "    .dataframe tbody tr th:only-of-type {\n",
       "        vertical-align: middle;\n",
       "    }\n",
       "\n",
       "    .dataframe tbody tr th {\n",
       "        vertical-align: top;\n",
       "    }\n",
       "\n",
       "    .dataframe thead th {\n",
       "        text-align: right;\n",
       "    }\n",
       "</style>\n",
       "<table border=\"1\" class=\"dataframe\">\n",
       "  <thead>\n",
       "    <tr style=\"text-align: right;\">\n",
       "      <th></th>\n",
       "      <th>op_id</th>\n",
       "      <th>op_gender</th>\n",
       "      <th>post_id</th>\n",
       "      <th>post_text</th>\n",
       "      <th>post_type</th>\n",
       "    </tr>\n",
       "  </thead>\n",
       "  <tbody>\n",
       "    <tr>\n",
       "      <th>0</th>\n",
       "      <td>11679984</td>\n",
       "      <td>M</td>\n",
       "      <td>0</td>\n",
       "      <td>Tornado watch in effect tonight. Be safe. Plea...</td>\n",
       "      <td>photo</td>\n",
       "    </tr>\n",
       "    <tr>\n",
       "      <th>1</th>\n",
       "      <td>11679984</td>\n",
       "      <td>M</td>\n",
       "      <td>1</td>\n",
       "      <td>NaN</td>\n",
       "      <td>photo</td>\n",
       "    </tr>\n",
       "    <tr>\n",
       "      <th>2</th>\n",
       "      <td>11679984</td>\n",
       "      <td>M</td>\n",
       "      <td>2</td>\n",
       "      <td>Temps warming up for the holiday weekend! I wi...</td>\n",
       "      <td>photo</td>\n",
       "    </tr>\n",
       "    <tr>\n",
       "      <th>3</th>\n",
       "      <td>11679984</td>\n",
       "      <td>M</td>\n",
       "      <td>3</td>\n",
       "      <td>Showers heading this way ..</td>\n",
       "      <td>photo</td>\n",
       "    </tr>\n",
       "    <tr>\n",
       "      <th>4</th>\n",
       "      <td>11679984</td>\n",
       "      <td>M</td>\n",
       "      <td>4</td>\n",
       "      <td>Storm potential update...feel free to share th...</td>\n",
       "      <td>photo</td>\n",
       "    </tr>\n",
       "  </tbody>\n",
       "</table>\n",
       "</div>"
      ],
      "text/plain": [
       "      op_id op_gender  post_id  \\\n",
       "0  11679984         M        0   \n",
       "1  11679984         M        1   \n",
       "2  11679984         M        2   \n",
       "3  11679984         M        3   \n",
       "4  11679984         M        4   \n",
       "\n",
       "                                           post_text post_type  \n",
       "0  Tornado watch in effect tonight. Be safe. Plea...     photo  \n",
       "1                                                NaN     photo  \n",
       "2  Temps warming up for the holiday weekend! I wi...     photo  \n",
       "3                        Showers heading this way ..     photo  \n",
       "4  Storm potential update...feel free to share th...     photo  "
      ]
     },
     "execution_count": 4,
     "metadata": {},
     "output_type": "execute_result"
    }
   ],
   "source": [
    "data_df.head()"
   ]
  },
  {
   "cell_type": "code",
   "execution_count": 5,
   "id": "e9d0b308",
   "metadata": {},
   "outputs": [],
   "source": [
    "data_df1 = data_df.copy()"
   ]
  },
  {
   "cell_type": "code",
   "execution_count": 6,
   "id": "0c01a690",
   "metadata": {},
   "outputs": [],
   "source": [
    "# Load spacy\n",
    "nlp = spacy.load('en_core_web_sm')\n",
    "\n",
    "def clean_string(text, stopwords = False, stem=\"None\"):\n",
    "\n",
    "    final_string = \"\"\n",
    "\n",
    "    # Make lower\n",
    "    text = text.lower()\n",
    "\n",
    "#     # Remove line breaks\n",
    "#     text = re.sub(r'\\n', '', text)\n",
    "\n",
    "#     # Remove puncuation\n",
    "#     translator = str.maketrans('', '', string.punctuation)\n",
    "#     text = text.translate(translator)\n",
    "\n",
    "    text = re.sub(r'http\\S+', '', text)\n",
    "    text = re.sub(r'\\S+www\\S+', '', text)\n",
    "    \n",
    "    text = re.sub(r'@\\S+', '', text)\n",
    "    text = re.sub(r'#\\S+', '', text)\n",
    "    text = re.sub(r'\\S+.com\\S+', '', text)\n",
    "    \n",
    "    \n",
    "    # Remove stop words\n",
    "    text = text.split()\n",
    "    text_filtered = text\n",
    "    if stopwords == True:\n",
    "        useless_words = nltk.corpus.stopwords.words(\"english\")\n",
    "#         useless_words = useless_words + ['hi', 'im']\n",
    "\n",
    "        text_filtered = [word for word in text if not word in useless_words]\n",
    "\n",
    "        # Remove numbers\n",
    "        text_filtered = [re.sub(r'\\w*\\d\\w*', '', w) for w in text_filtered]\n",
    "#     else:\n",
    "#         text_filtered = text\n",
    "    # Stem or Lemmatize\n",
    "    if stem == 'Stem':\n",
    "        stemmer = PorterStemmer() \n",
    "        text_stemmed = [stemmer.stem(y) for y in text_filtered]\n",
    "    elif stem == 'Lem':\n",
    "        lem = WordNetLemmatizer()\n",
    "        text_stemmed = [lem.lemmatize(y) for y in text_filtered]\n",
    "    elif stem == 'Spacy':\n",
    "        text_filtered = nlp(' '.join(text_filtered))\n",
    "        text_stemmed = [y.lemma_ for y in text_filtered]\n",
    "    else:\n",
    "        text_stemmed = text_filtered\n",
    "\n",
    "    final_string = ' '.join(text_stemmed)\n",
    "\n",
    "    return final_string"
   ]
  },
  {
   "cell_type": "code",
   "execution_count": 7,
   "id": "7fa5406d",
   "metadata": {},
   "outputs": [],
   "source": [
    "data_df2 = data_df.copy()\n"
   ]
  },
  {
   "cell_type": "code",
   "execution_count": 8,
   "id": "fde04174",
   "metadata": {},
   "outputs": [],
   "source": [
    "data_df2['post_text'] = data_df2['post_text'].astype(str)"
   ]
  },
  {
   "cell_type": "code",
   "execution_count": 9,
   "id": "a38cd82e",
   "metadata": {},
   "outputs": [],
   "source": [
    "data_df2['post_text_cleaned'] = data_df2['post_text'].apply(lambda x: clean_string(x, stopwords = True, stem='Lem'))\n"
   ]
  },
  {
   "cell_type": "code",
   "execution_count": 10,
   "id": "65158913",
   "metadata": {},
   "outputs": [
    {
     "data": {
      "text/plain": [
       "0         tornado watch effect tonight. safe. please fee...\n",
       "1                                                       nan\n",
       "2         temp warming holiday weekend! see next tuesday...\n",
       "3                                     shower heading way ..\n",
       "4         storm potential update...feel free share frien...\n",
       "                                ...                        \n",
       "149443                  photo: snapper medium / splash news\n",
       "149444                                                  nan\n",
       "149445                                                  nan\n",
       "149446                                                  nan\n",
       "149447                                                  nan\n",
       "Name: post_text_cleaned, Length: 149448, dtype: object"
      ]
     },
     "execution_count": 10,
     "metadata": {},
     "output_type": "execute_result"
    }
   ],
   "source": [
    "data_df2['post_text_cleaned']"
   ]
  },
  {
   "cell_type": "code",
   "execution_count": 11,
   "id": "2ca74664",
   "metadata": {},
   "outputs": [],
   "source": [
    "data_df2['post_text_cleaned1'] = data_df2['post_text_cleaned'].str.split()"
   ]
  },
  {
   "cell_type": "code",
   "execution_count": 12,
   "id": "0e7da84d",
   "metadata": {},
   "outputs": [
    {
     "data": {
      "text/plain": [
       "0         [tornado, watch, effect, tonight., safe., plea...\n",
       "1                                                     [nan]\n",
       "2         [temp, warming, holiday, weekend!, see, next, ...\n",
       "3                                [shower, heading, way, ..]\n",
       "4         [storm, potential, update...feel, free, share,...\n",
       "                                ...                        \n",
       "149443           [photo:, snapper, medium, /, splash, news]\n",
       "149444                                                [nan]\n",
       "149445                                                [nan]\n",
       "149446                                                [nan]\n",
       "149447                                                [nan]\n",
       "Name: post_text_cleaned1, Length: 149448, dtype: object"
      ]
     },
     "execution_count": 12,
     "metadata": {},
     "output_type": "execute_result"
    }
   ],
   "source": [
    "data_df2['post_text_cleaned1']"
   ]
  },
  {
   "cell_type": "code",
   "execution_count": 13,
   "id": "e4735033",
   "metadata": {},
   "outputs": [
    {
     "data": {
      "text/plain": [
       "0         tornado watch effect tonight. safe. please fee...\n",
       "1                                                       nan\n",
       "2         temp warming holiday weekend! see next tuesday...\n",
       "3                                     shower heading way ..\n",
       "4         storm potential update...feel free share frien...\n",
       "                                ...                        \n",
       "149443                  photo: snapper medium / splash news\n",
       "149444                                                  nan\n",
       "149445                                                  nan\n",
       "149446                                                  nan\n",
       "149447                                                  nan\n",
       "Name: post_text_cleaned, Length: 149448, dtype: object"
      ]
     },
     "execution_count": 13,
     "metadata": {},
     "output_type": "execute_result"
    }
   ],
   "source": [
    "data_df2['post_text_cleaned']"
   ]
  },
  {
   "cell_type": "code",
   "execution_count": 14,
   "id": "f4ec524f",
   "metadata": {},
   "outputs": [],
   "source": [
    "data_df2.to_csv(\"./preprocessed_data/facebook_wiki_posts_preprocssed_lem_stopwords_removal.csv\")"
   ]
  },
  {
   "cell_type": "code",
   "execution_count": 15,
   "id": "f18812f2",
   "metadata": {},
   "outputs": [
    {
     "name": "stdout",
     "output_type": "stream",
     "text": [
      "  op_gender                                  post_text_cleaned\n",
      "0         M  tornado watch effect tonight. safe. please fee...\n",
      "1         W  enjoyed great shooting day \"don't let count ou...\n"
     ]
    }
   ],
   "source": [
    "all_words1 = ''\n",
    "all_words = data_df2.groupby(['op_gender']).agg({'post_text_cleaned': ' '.join}).reset_index()\n",
    "print(all_words)\n"
   ]
  },
  {
   "cell_type": "code",
   "execution_count": 16,
   "id": "64264244",
   "metadata": {},
   "outputs": [
    {
     "data": {
      "text/plain": [
       "0    tornado watch effect tonight. safe. please fee...\n",
       "Name: post_text_cleaned, dtype: object"
      ]
     },
     "execution_count": 16,
     "metadata": {},
     "output_type": "execute_result"
    }
   ],
   "source": [
    "\n",
    "\n",
    "\n",
    "all_words[all_words['op_gender']=='M']['post_text_cleaned']"
   ]
  },
  {
   "cell_type": "code",
   "execution_count": 17,
   "id": "9ad2c1c2",
   "metadata": {},
   "outputs": [],
   "source": [
    "#the NLTK FreqDist gives a count for how often each part of the text occurs\n",
    "fd_wct1_M = FreqDist(all_words[all_words['op_gender']=='M']['post_text_cleaned'][0].split())\n",
    "# fd_wct1_M"
   ]
  },
  {
   "cell_type": "code",
   "execution_count": 18,
   "id": "e7a1e324",
   "metadata": {},
   "outputs": [],
   "source": [
    "fd_wct1_F = FreqDist(all_words[all_words['op_gender']=='W']['post_text_cleaned'].values[0].split(\" \"))\n"
   ]
  },
  {
   "cell_type": "code",
   "execution_count": null,
   "id": "ddfd1a95",
   "metadata": {},
   "outputs": [],
   "source": []
  },
  {
   "cell_type": "code",
   "execution_count": 19,
   "id": "a627cc8b",
   "metadata": {},
   "outputs": [
    {
     "name": "stdout",
     "output_type": "stream",
     "text": [
      "[('-', 6029), ('nan', 5351), ('new', 4063), ('michael', 3366), ('time', 3257), ('beckwith', 3107), ('bernard', 3074), ('&', 2855), ('see', 2801), ('like', 2763), ('.', 2688), ('day', 2647), ('u', 2632), ('one', 2559), ('get', 2505), ('great', 2487), (\"i'm\", 2455), ('live', 2066), (',', 2037), (':', 1947), ('show', 1924), ('good', 1919), ('make', 1834), ('love', 1765), ('today', 1747), ('join', 1713), ('know', 1678), ('go', 1668), ('right', 1639), ('tonight', 1622), ('last', 1570), ('want', 1523), ('back', 1496), ('agape', 1491), ('life', 1425), ('would', 1413), ('people', 1385), ('real', 1288), ('friend', 1279), ('watch', 1264)]\n"
     ]
    }
   ],
   "source": [
    "print(fd_wct1_M.most_common(40))\n"
   ]
  },
  {
   "cell_type": "code",
   "execution_count": 20,
   "id": "986128c2",
   "metadata": {},
   "outputs": [
    {
     "name": "stdout",
     "output_type": "stream",
     "text": [
      "[('', 31401), ('-', 12249), ('nan', 11081), ('&', 8312), ('new', 6962), ('.', 6856), ('x', 6708), ('de', 6493), (',', 6364), ('get', 5999), ('rest', 5338), ('la', 5272), (\"i'm\", 5119), ('love', 4930), ('day', 4576), ('one', 4443), ('see', 4325), ('u', 4069), ('like', 3972), ('great', 3922), ('en', 3857), ('last', 3709), ('time', 3591), ('check', 3303), ('make', 3287), ('back', 3279), ('good', 3251), ('know', 3238), ('happy', 3138), ('today', 3091), ('go', 3041), (':', 3005), ('thank', 2894), ('show', 2735), ('tonight', 2638), ('want', 2598), ('say', 2575), ('rt', 2574), (':)', 2551), ('god', 2541)]\n"
     ]
    }
   ],
   "source": [
    "print(fd_wct1_F.most_common(40))\n"
   ]
  },
  {
   "cell_type": "code",
   "execution_count": 21,
   "id": "19e2d0ca",
   "metadata": {},
   "outputs": [
    {
     "data": {
      "text/plain": [
       "FreqDist({'-': 6029, 'nan': 5351, 'new': 4063, 'michael': 3366, 'time': 3257, 'beckwith': 3107, 'bernard': 3074, '&': 2855, 'see': 2801, 'like': 2763, ...})"
      ]
     },
     "execution_count": 21,
     "metadata": {},
     "output_type": "execute_result"
    }
   ],
   "source": [
    "fd_wct1_M"
   ]
  },
  {
   "cell_type": "code",
   "execution_count": 22,
   "id": "429cfbde",
   "metadata": {},
   "outputs": [],
   "source": [
    "vectorizer = CountVectorizer()\n",
    "X = vectorizer.fit_transform(data_df2['post_text_cleaned'])\n",
    "features = vectorizer.get_feature_names_out()\n",
    "y = data_df2['op_gender']"
   ]
  },
  {
   "cell_type": "code",
   "execution_count": 23,
   "id": "1c71c252",
   "metadata": {},
   "outputs": [
    {
     "name": "stdout",
     "output_type": "stream",
     "text": [
      "['__' '___' '____' '_____' '______' '________' '_________' '__________'\n",
      " '___________' '______________' '_______________' '________________'\n",
      " '_________________' '_____________________' '__________________________'\n",
      " '______________________________'\n",
      " '________________________________________________________________________'\n",
      " '_______to' '___phobic' '_weird' 'aa' 'aaa' 'aaaaaaaaaaaaaat'\n",
      " 'aaaaaaaaaaahhhhhhhhhhhhhhhhhhhhhhhh' 'aaaaaaaaahh' 'aaaaaaaahh'\n",
      " 'aaaaaaaahhhh' 'aaaaaaaahhhhh' 'aaaaaaaahhhhhh' 'aaaaaaaand']\n"
     ]
    }
   ],
   "source": [
    "print(features[:30])"
   ]
  },
  {
   "cell_type": "code",
   "execution_count": 24,
   "id": "7a5c3684",
   "metadata": {},
   "outputs": [
    {
     "data": {
      "text/plain": [
       "((149448, 66643), 149448, 66643)"
      ]
     },
     "execution_count": 24,
     "metadata": {},
     "output_type": "execute_result"
    }
   ],
   "source": [
    "X.shape, len(y), len(features)"
   ]
  },
  {
   "cell_type": "code",
   "execution_count": 25,
   "id": "b913b628",
   "metadata": {},
   "outputs": [],
   "source": [
    "from sklearn.model_selection import train_test_split\n",
    "X_train, X_test, y_train, y_test = train_test_split(X, y, test_size=0.33, random_state=42)"
   ]
  },
  {
   "cell_type": "code",
   "execution_count": 26,
   "id": "65a75897",
   "metadata": {},
   "outputs": [
    {
     "name": "stdout",
     "output_type": "stream",
     "text": [
      "['M' 'W']\n",
      "[[0.71488213 0.28511787]\n",
      " [0.32052571 0.67947429]]\n"
     ]
    }
   ],
   "source": [
    "clf = LogisticRegression(random_state=0).fit(X_train, y_train)\n",
    "print(clf.predict(X[:2, :]))\n",
    "print(clf.predict_proba(X[:2, :]))\n",
    "# >>> clf.score(X, y)"
   ]
  },
  {
   "cell_type": "code",
   "execution_count": 27,
   "id": "93e226a3",
   "metadata": {},
   "outputs": [
    {
     "data": {
      "text/plain": [
       "0    M\n",
       "1    M\n",
       "Name: op_gender, dtype: object"
      ]
     },
     "execution_count": 27,
     "metadata": {},
     "output_type": "execute_result"
    }
   ],
   "source": [
    "y[:2]"
   ]
  },
  {
   "cell_type": "code",
   "execution_count": 28,
   "id": "3fbb00e5",
   "metadata": {},
   "outputs": [
    {
     "name": "stdout",
     "output_type": "stream",
     "text": [
      "Best: 0.814192 using {'C': 1.0, 'penalty': 'l2'}\n",
      "0.805533 (0.001544) with: {'C': 100, 'penalty': 'l2'}\n",
      "0.808519 (0.002126) with: {'C': 10, 'penalty': 'l2'}\n",
      "0.814192 (0.001252) with: {'C': 1.0, 'penalty': 'l2'}\n",
      "0.802657 (0.000870) with: {'C': 0.1, 'penalty': 'l2'}\n",
      "0.762229 (0.001184) with: {'C': 0.01, 'penalty': 'l2'}\n"
     ]
    }
   ],
   "source": [
    "from sklearn.datasets import make_blobs\n",
    "from sklearn.model_selection import StratifiedKFold\n",
    "from sklearn.model_selection import GridSearchCV\n",
    "from sklearn.linear_model import LogisticRegression\n",
    "\n",
    "model = LogisticRegression()\n",
    "# solvers = ['newton-cg', 'lbfgs', 'liblinear']\n",
    "penalty = ['l2']\n",
    "c_values = [100, 10, 1.0, 0.1, 0.01]\n",
    "# define grid search\n",
    "# grid = dict(solver=solvers,penalty=penalty,C=c_values)\n",
    "grid = dict(penalty=penalty,C=c_values)\n",
    "cv = StratifiedKFold(n_splits=5,  shuffle = True, random_state=1)\n",
    "grid_search = GridSearchCV(estimator=model, param_grid=grid, n_jobs=-1, cv=cv, scoring='accuracy',error_score=0)\n",
    "grid_result = grid_search.fit(X_train, y_train)\n",
    "# summarize results\n",
    "print(\"Best: %f using %s\" % (grid_result.best_score_, grid_result.best_params_))\n",
    "means = grid_result.cv_results_['mean_test_score']\n",
    "stds = grid_result.cv_results_['std_test_score']\n",
    "params = grid_result.cv_results_['params']\n",
    "for mean, stdev, param in zip(means, stds, params):\n",
    "    print(\"%f (%f) with: %r\" % (mean, stdev, param))"
   ]
  },
  {
   "cell_type": "code",
   "execution_count": 29,
   "id": "4dbd8e44",
   "metadata": {},
   "outputs": [
    {
     "name": "stdout",
     "output_type": "stream",
     "text": [
      "test accuracy :  0.8156859564459223\n"
     ]
    }
   ],
   "source": [
    "test_pred = grid_result.predict(X_test)\n",
    "from sklearn.metrics import accuracy_score\n",
    "test_acc = accuracy_score(y_test, test_pred)\n",
    "print(\"test accuracy : \", test_acc)"
   ]
  },
  {
   "cell_type": "code",
   "execution_count": 30,
   "id": "e6dcfafd",
   "metadata": {},
   "outputs": [
    {
     "name": "stdout",
     "output_type": "stream",
     "text": [
      "overall accuracy :  0.8530258016166158\n"
     ]
    }
   ],
   "source": [
    "all_pred = grid_result.predict(X)\n",
    "from sklearn.metrics import accuracy_score\n",
    "all_acc = accuracy_score(y, all_pred)\n",
    "print(\"overall accuracy : \", all_acc)"
   ]
  },
  {
   "cell_type": "code",
   "execution_count": 31,
   "id": "e8587f12",
   "metadata": {},
   "outputs": [
    {
     "data": {
      "text/plain": [
       "{'C': 1.0, 'penalty': 'l2'}"
      ]
     },
     "execution_count": 31,
     "metadata": {},
     "output_type": "execute_result"
    }
   ],
   "source": [
    "grid_result.best_params_"
   ]
  },
  {
   "cell_type": "code",
   "execution_count": 32,
   "id": "faec87af",
   "metadata": {},
   "outputs": [
    {
     "data": {
      "text/html": [
       "<div>\n",
       "<style scoped>\n",
       "    .dataframe tbody tr th:only-of-type {\n",
       "        vertical-align: middle;\n",
       "    }\n",
       "\n",
       "    .dataframe tbody tr th {\n",
       "        vertical-align: top;\n",
       "    }\n",
       "\n",
       "    .dataframe thead th {\n",
       "        text-align: right;\n",
       "    }\n",
       "</style>\n",
       "<table border=\"1\" class=\"dataframe\">\n",
       "  <thead>\n",
       "    <tr style=\"text-align: right;\">\n",
       "      <th></th>\n",
       "      <th>importance</th>\n",
       "      <th>features</th>\n",
       "    </tr>\n",
       "  </thead>\n",
       "  <tbody>\n",
       "    <tr>\n",
       "      <th>0</th>\n",
       "      <td>-0.101008</td>\n",
       "      <td>__</td>\n",
       "    </tr>\n",
       "    <tr>\n",
       "      <th>1</th>\n",
       "      <td>-0.349307</td>\n",
       "      <td>___</td>\n",
       "    </tr>\n",
       "    <tr>\n",
       "      <th>2</th>\n",
       "      <td>0.316264</td>\n",
       "      <td>____</td>\n",
       "    </tr>\n",
       "    <tr>\n",
       "      <th>3</th>\n",
       "      <td>0.000000</td>\n",
       "      <td>_____</td>\n",
       "    </tr>\n",
       "    <tr>\n",
       "      <th>4</th>\n",
       "      <td>0.488973</td>\n",
       "      <td>______</td>\n",
       "    </tr>\n",
       "    <tr>\n",
       "      <th>...</th>\n",
       "      <td>...</td>\n",
       "      <td>...</td>\n",
       "    </tr>\n",
       "    <tr>\n",
       "      <th>66638</th>\n",
       "      <td>0.002246</td>\n",
       "      <td>黄羨淩</td>\n",
       "    </tr>\n",
       "    <tr>\n",
       "      <th>66639</th>\n",
       "      <td>0.145149</td>\n",
       "      <td>黎小田</td>\n",
       "    </tr>\n",
       "    <tr>\n",
       "      <th>66640</th>\n",
       "      <td>0.165548</td>\n",
       "      <td>많이</td>\n",
       "    </tr>\n",
       "    <tr>\n",
       "      <th>66641</th>\n",
       "      <td>0.165548</td>\n",
       "      <td>받으세요</td>\n",
       "    </tr>\n",
       "    <tr>\n",
       "      <th>66642</th>\n",
       "      <td>0.165548</td>\n",
       "      <td>새해</td>\n",
       "    </tr>\n",
       "  </tbody>\n",
       "</table>\n",
       "<p>66643 rows × 2 columns</p>\n",
       "</div>"
      ],
      "text/plain": [
       "       importance features\n",
       "0       -0.101008       __\n",
       "1       -0.349307      ___\n",
       "2        0.316264     ____\n",
       "3        0.000000    _____\n",
       "4        0.488973   ______\n",
       "...           ...      ...\n",
       "66638    0.002246      黄羨淩\n",
       "66639    0.145149      黎小田\n",
       "66640    0.165548       많이\n",
       "66641    0.165548     받으세요\n",
       "66642    0.165548       새해\n",
       "\n",
       "[66643 rows x 2 columns]"
      ]
     },
     "execution_count": 32,
     "metadata": {},
     "output_type": "execute_result"
    }
   ],
   "source": [
    "# get importance\n",
    "importance = grid_result.best_estimator_.coef_[0]\n",
    "feature_importance = pd.DataFrame({\"importance\":importance, \"features\":features})\n",
    "feature_importance"
   ]
  },
  {
   "cell_type": "code",
   "execution_count": 33,
   "id": "f4b94606",
   "metadata": {},
   "outputs": [
    {
     "data": {
      "text/html": [
       "<div>\n",
       "<style scoped>\n",
       "    .dataframe tbody tr th:only-of-type {\n",
       "        vertical-align: middle;\n",
       "    }\n",
       "\n",
       "    .dataframe tbody tr th {\n",
       "        vertical-align: top;\n",
       "    }\n",
       "\n",
       "    .dataframe thead th {\n",
       "        text-align: right;\n",
       "    }\n",
       "</style>\n",
       "<table border=\"1\" class=\"dataframe\">\n",
       "  <thead>\n",
       "    <tr style=\"text-align: right;\">\n",
       "      <th></th>\n",
       "      <th>importance</th>\n",
       "      <th>features</th>\n",
       "    </tr>\n",
       "  </thead>\n",
       "  <tbody>\n",
       "    <tr>\n",
       "      <th>41021</th>\n",
       "      <td>0.000000</td>\n",
       "      <td>officiated</td>\n",
       "    </tr>\n",
       "    <tr>\n",
       "      <th>52031</th>\n",
       "      <td>0.000000</td>\n",
       "      <td>sculpted</td>\n",
       "    </tr>\n",
       "    <tr>\n",
       "      <th>23511</th>\n",
       "      <td>0.000000</td>\n",
       "      <td>gamexane</td>\n",
       "    </tr>\n",
       "    <tr>\n",
       "      <th>23509</th>\n",
       "      <td>0.000000</td>\n",
       "      <td>gameset</td>\n",
       "    </tr>\n",
       "    <tr>\n",
       "      <th>8227</th>\n",
       "      <td>0.000000</td>\n",
       "      <td>busboard</td>\n",
       "    </tr>\n",
       "    <tr>\n",
       "      <th>...</th>\n",
       "      <td>...</td>\n",
       "      <td>...</td>\n",
       "    </tr>\n",
       "    <tr>\n",
       "      <th>65804</th>\n",
       "      <td>3.918064</td>\n",
       "      <td>yhoo</td>\n",
       "    </tr>\n",
       "    <tr>\n",
       "      <th>5400</th>\n",
       "      <td>-3.969452</td>\n",
       "      <td>beckwith</td>\n",
       "    </tr>\n",
       "    <tr>\n",
       "      <th>64345</th>\n",
       "      <td>4.179811</td>\n",
       "      <td>wgn</td>\n",
       "    </tr>\n",
       "    <tr>\n",
       "      <th>63048</th>\n",
       "      <td>-4.322925</td>\n",
       "      <td>vincentmward</td>\n",
       "    </tr>\n",
       "    <tr>\n",
       "      <th>1137</th>\n",
       "      <td>-4.398497</td>\n",
       "      <td>agape</td>\n",
       "    </tr>\n",
       "  </tbody>\n",
       "</table>\n",
       "<p>66643 rows × 2 columns</p>\n",
       "</div>"
      ],
      "text/plain": [
       "       importance      features\n",
       "41021    0.000000    officiated\n",
       "52031    0.000000      sculpted\n",
       "23511    0.000000      gamexane\n",
       "23509    0.000000       gameset\n",
       "8227     0.000000      busboard\n",
       "...           ...           ...\n",
       "65804    3.918064          yhoo\n",
       "5400    -3.969452      beckwith\n",
       "64345    4.179811           wgn\n",
       "63048   -4.322925  vincentmward\n",
       "1137    -4.398497         agape\n",
       "\n",
       "[66643 rows x 2 columns]"
      ]
     },
     "execution_count": 33,
     "metadata": {},
     "output_type": "execute_result"
    }
   ],
   "source": [
    "feature_importance.sort_values(['importance'],  key=abs, inplace=True)\n",
    "feature_importance\n"
   ]
  },
  {
   "cell_type": "code",
   "execution_count": 34,
   "id": "346db448",
   "metadata": {},
   "outputs": [
    {
     "data": {
      "image/png": "[encoded data removed]",
      "text/plain": [
       "<Figure size 1440x720 with 1 Axes>"
      ]
     },
     "metadata": {
      "needs_background": "light"
     },
     "output_type": "display_data"
    }
   ],
   "source": [
    "# plot feature importance\n",
    "plt.figure(figsize=(20, 10))\n",
    "plt.bar(feature_importance['features'][-30:], feature_importance['importance'][-30:], width = 0.4)\n",
    "plt.xticks(rotation=45)\n",
    "plt.show()"
   ]
  },
  {
   "cell_type": "code",
   "execution_count": 35,
   "id": "8d989c21",
   "metadata": {},
   "outputs": [],
   "source": [
    "# visualize most freuquent words"
   ]
  },
  {
   "cell_type": "code",
   "execution_count": 36,
   "id": "47c25776",
   "metadata": {},
   "outputs": [],
   "source": [
    "vectorizer = TfidfVectorizer()\n",
    "X = vectorizer.fit_transform(data_df2['post_text_cleaned'])\n",
    "features = vectorizer.get_feature_names_out()\n",
    "y = data_df2['op_gender']"
   ]
  },
  {
   "cell_type": "code",
   "execution_count": 37,
   "id": "cc8566d5",
   "metadata": {},
   "outputs": [
    {
     "name": "stdout",
     "output_type": "stream",
     "text": [
      "['__' '___' '____' '_____' '______' '________' '_________' '__________'\n",
      " '___________' '______________' '_______________' '________________'\n",
      " '_________________' '_____________________' '__________________________'\n",
      " '______________________________'\n",
      " '________________________________________________________________________'\n",
      " '_______to' '___phobic' '_weird' 'aa' 'aaa' 'aaaaaaaaaaaaaat'\n",
      " 'aaaaaaaaaaahhhhhhhhhhhhhhhhhhhhhhhh' 'aaaaaaaaahh' 'aaaaaaaahh'\n",
      " 'aaaaaaaahhhh' 'aaaaaaaahhhhh' 'aaaaaaaahhhhhh' 'aaaaaaaand']\n"
     ]
    }
   ],
   "source": [
    "print(features[:30])"
   ]
  },
  {
   "cell_type": "code",
   "execution_count": 38,
   "id": "e6f8ad9e",
   "metadata": {},
   "outputs": [
    {
     "data": {
      "text/plain": [
       "((149448, 66643), 149448, 66643)"
      ]
     },
     "execution_count": 38,
     "metadata": {},
     "output_type": "execute_result"
    }
   ],
   "source": [
    "X.shape, len(y), len(features)"
   ]
  },
  {
   "cell_type": "code",
   "execution_count": 39,
   "id": "4814d1d4",
   "metadata": {},
   "outputs": [],
   "source": [
    "from sklearn.model_selection import train_test_split\n",
    "X_train, X_test, y_train, y_test = train_test_split(X, y, test_size=0.33, random_state=42)"
   ]
  },
  {
   "cell_type": "code",
   "execution_count": 40,
   "id": "325c6590",
   "metadata": {},
   "outputs": [
    {
     "name": "stdout",
     "output_type": "stream",
     "text": [
      "['M' 'W']\n",
      "[[0.72980957 0.27019043]\n",
      " [0.32212182 0.67787818]]\n"
     ]
    }
   ],
   "source": [
    "clf = LogisticRegression(random_state=0).fit(X_train, y_train)\n",
    "print(clf.predict(X[:2, :]))\n",
    "print(clf.predict_proba(X[:2, :]))\n",
    "# >>> clf.score(X, y)"
   ]
  },
  {
   "cell_type": "code",
   "execution_count": 41,
   "id": "5f4e8f72",
   "metadata": {},
   "outputs": [
    {
     "data": {
      "text/plain": [
       "0    M\n",
       "1    M\n",
       "Name: op_gender, dtype: object"
      ]
     },
     "execution_count": 41,
     "metadata": {},
     "output_type": "execute_result"
    }
   ],
   "source": [
    "y[:2]"
   ]
  },
  {
   "cell_type": "code",
   "execution_count": 42,
   "id": "10b9e8ce",
   "metadata": {},
   "outputs": [
    {
     "name": "stdout",
     "output_type": "stream",
     "text": [
      "Best: 0.814481 using {'C': 10, 'penalty': 'l2'}\n",
      "0.809228 (0.001614) with: {'C': 100, 'penalty': 'l2'}\n",
      "0.814481 (0.001737) with: {'C': 10, 'penalty': 'l2'}\n",
      "0.809687 (0.001524) with: {'C': 1.0, 'penalty': 'l2'}\n",
      "0.758005 (0.001856) with: {'C': 0.1, 'penalty': 'l2'}\n",
      "0.693169 (0.000774) with: {'C': 0.01, 'penalty': 'l2'}\n"
     ]
    }
   ],
   "source": [
    "from sklearn.datasets import make_blobs\n",
    "from sklearn.model_selection import StratifiedKFold\n",
    "from sklearn.model_selection import GridSearchCV\n",
    "from sklearn.linear_model import LogisticRegression\n",
    "\n",
    "model = LogisticRegression()\n",
    "# solvers = ['newton-cg', 'lbfgs', 'liblinear']\n",
    "penalty = ['l2']\n",
    "c_values = [100, 10, 1.0, 0.1, 0.01]\n",
    "# define grid search\n",
    "# grid = dict(solver=solvers,penalty=penalty,C=c_values)\n",
    "grid = dict(penalty=penalty,C=c_values)\n",
    "cv = StratifiedKFold(n_splits=5,  shuffle = True, random_state=1)\n",
    "grid_search = GridSearchCV(estimator=model, param_grid=grid, n_jobs=-1, cv=cv, scoring='accuracy',error_score=0)\n",
    "grid_result = grid_search.fit(X_train, y_train)\n",
    "# summarize results\n",
    "print(\"Best: %f using %s\" % (grid_result.best_score_, grid_result.best_params_))\n",
    "means = grid_result.cv_results_['mean_test_score']\n",
    "stds = grid_result.cv_results_['std_test_score']\n",
    "params = grid_result.cv_results_['params']\n",
    "for mean, stdev, param in zip(means, stds, params):\n",
    "    print(\"%f (%f) with: %r\" % (mean, stdev, param))"
   ]
  },
  {
   "cell_type": "code",
   "execution_count": 43,
   "id": "5e3a4fdf",
   "metadata": {},
   "outputs": [
    {
     "name": "stdout",
     "output_type": "stream",
     "text": [
      "test accuracy :  0.8182408045743947\n"
     ]
    }
   ],
   "source": [
    "test_pred = grid_result.predict(X_test)\n",
    "from sklearn.metrics import accuracy_score\n",
    "test_acc = accuracy_score(y_test, test_pred)\n",
    "print(\"test accuracy : \", test_acc)"
   ]
  },
  {
   "cell_type": "code",
   "execution_count": 44,
   "id": "25db475f",
   "metadata": {},
   "outputs": [
    {
     "name": "stdout",
     "output_type": "stream",
     "text": [
      "overall accuracy :  0.8517745302713987\n"
     ]
    }
   ],
   "source": [
    "all_pred = grid_result.predict(X)\n",
    "from sklearn.metrics import accuracy_score\n",
    "all_acc = accuracy_score(y, all_pred)\n",
    "print(\"overall accuracy : \", all_acc)"
   ]
  },
  {
   "cell_type": "code",
   "execution_count": 45,
   "id": "aa24cda1",
   "metadata": {},
   "outputs": [
    {
     "data": {
      "text/plain": [
       "{'C': 10, 'penalty': 'l2'}"
      ]
     },
     "execution_count": 45,
     "metadata": {},
     "output_type": "execute_result"
    }
   ],
   "source": [
    "grid_result.best_params_"
   ]
  },
  {
   "cell_type": "code",
   "execution_count": 46,
   "id": "f22253a4",
   "metadata": {},
   "outputs": [
    {
     "data": {
      "text/html": [
       "<div>\n",
       "<style scoped>\n",
       "    .dataframe tbody tr th:only-of-type {\n",
       "        vertical-align: middle;\n",
       "    }\n",
       "\n",
       "    .dataframe tbody tr th {\n",
       "        vertical-align: top;\n",
       "    }\n",
       "\n",
       "    .dataframe thead th {\n",
       "        text-align: right;\n",
       "    }\n",
       "</style>\n",
       "<table border=\"1\" class=\"dataframe\">\n",
       "  <thead>\n",
       "    <tr style=\"text-align: right;\">\n",
       "      <th></th>\n",
       "      <th>importance</th>\n",
       "      <th>features</th>\n",
       "    </tr>\n",
       "  </thead>\n",
       "  <tbody>\n",
       "    <tr>\n",
       "      <th>0</th>\n",
       "      <td>0.429063</td>\n",
       "      <td>__</td>\n",
       "    </tr>\n",
       "    <tr>\n",
       "      <th>1</th>\n",
       "      <td>-0.967096</td>\n",
       "      <td>___</td>\n",
       "    </tr>\n",
       "    <tr>\n",
       "      <th>2</th>\n",
       "      <td>0.835522</td>\n",
       "      <td>____</td>\n",
       "    </tr>\n",
       "    <tr>\n",
       "      <th>3</th>\n",
       "      <td>0.000000</td>\n",
       "      <td>_____</td>\n",
       "    </tr>\n",
       "    <tr>\n",
       "      <th>4</th>\n",
       "      <td>1.066087</td>\n",
       "      <td>______</td>\n",
       "    </tr>\n",
       "    <tr>\n",
       "      <th>...</th>\n",
       "      <td>...</td>\n",
       "      <td>...</td>\n",
       "    </tr>\n",
       "    <tr>\n",
       "      <th>66638</th>\n",
       "      <td>0.021055</td>\n",
       "      <td>黄羨淩</td>\n",
       "    </tr>\n",
       "    <tr>\n",
       "      <th>66639</th>\n",
       "      <td>0.848296</td>\n",
       "      <td>黎小田</td>\n",
       "    </tr>\n",
       "    <tr>\n",
       "      <th>66640</th>\n",
       "      <td>0.370884</td>\n",
       "      <td>많이</td>\n",
       "    </tr>\n",
       "    <tr>\n",
       "      <th>66641</th>\n",
       "      <td>0.370884</td>\n",
       "      <td>받으세요</td>\n",
       "    </tr>\n",
       "    <tr>\n",
       "      <th>66642</th>\n",
       "      <td>0.370884</td>\n",
       "      <td>새해</td>\n",
       "    </tr>\n",
       "  </tbody>\n",
       "</table>\n",
       "<p>66643 rows × 2 columns</p>\n",
       "</div>"
      ],
      "text/plain": [
       "       importance features\n",
       "0        0.429063       __\n",
       "1       -0.967096      ___\n",
       "2        0.835522     ____\n",
       "3        0.000000    _____\n",
       "4        1.066087   ______\n",
       "...           ...      ...\n",
       "66638    0.021055      黄羨淩\n",
       "66639    0.848296      黎小田\n",
       "66640    0.370884       많이\n",
       "66641    0.370884     받으세요\n",
       "66642    0.370884       새해\n",
       "\n",
       "[66643 rows x 2 columns]"
      ]
     },
     "execution_count": 46,
     "metadata": {},
     "output_type": "execute_result"
    }
   ],
   "source": [
    "# get importance\n",
    "importance = grid_result.best_estimator_.coef_[0]\n",
    "feature_importance = pd.DataFrame({\"importance\":importance, \"features\":features})\n",
    "feature_importance"
   ]
  },
  {
   "cell_type": "code",
   "execution_count": 47,
   "id": "d9b5dac4",
   "metadata": {},
   "outputs": [
    {
     "data": {
      "text/html": [
       "<div>\n",
       "<style scoped>\n",
       "    .dataframe tbody tr th:only-of-type {\n",
       "        vertical-align: middle;\n",
       "    }\n",
       "\n",
       "    .dataframe tbody tr th {\n",
       "        vertical-align: top;\n",
       "    }\n",
       "\n",
       "    .dataframe thead th {\n",
       "        text-align: right;\n",
       "    }\n",
       "</style>\n",
       "<table border=\"1\" class=\"dataframe\">\n",
       "  <thead>\n",
       "    <tr style=\"text-align: right;\">\n",
       "      <th></th>\n",
       "      <th>importance</th>\n",
       "      <th>features</th>\n",
       "    </tr>\n",
       "  </thead>\n",
       "  <tbody>\n",
       "    <tr>\n",
       "      <th>62035</th>\n",
       "      <td>0.000000</td>\n",
       "      <td>urrutia</td>\n",
       "    </tr>\n",
       "    <tr>\n",
       "      <th>27016</th>\n",
       "      <td>0.000000</td>\n",
       "      <td>hibernation</td>\n",
       "    </tr>\n",
       "    <tr>\n",
       "      <th>42439</th>\n",
       "      <td>0.000000</td>\n",
       "      <td>papeles</td>\n",
       "    </tr>\n",
       "    <tr>\n",
       "      <th>53246</th>\n",
       "      <td>0.000000</td>\n",
       "      <td>shohadaie</td>\n",
       "    </tr>\n",
       "    <tr>\n",
       "      <th>53250</th>\n",
       "      <td>0.000000</td>\n",
       "      <td>shondaland</td>\n",
       "    </tr>\n",
       "    <tr>\n",
       "      <th>...</th>\n",
       "      <td>...</td>\n",
       "      <td>...</td>\n",
       "    </tr>\n",
       "    <tr>\n",
       "      <th>5811</th>\n",
       "      <td>-19.912957</td>\n",
       "      <td>bernard</td>\n",
       "    </tr>\n",
       "    <tr>\n",
       "      <th>1137</th>\n",
       "      <td>-20.063372</td>\n",
       "      <td>agape</td>\n",
       "    </tr>\n",
       "    <tr>\n",
       "      <th>23959</th>\n",
       "      <td>-20.378283</td>\n",
       "      <td>geraldo</td>\n",
       "    </tr>\n",
       "    <tr>\n",
       "      <th>5400</th>\n",
       "      <td>-21.922513</td>\n",
       "      <td>beckwith</td>\n",
       "    </tr>\n",
       "    <tr>\n",
       "      <th>64345</th>\n",
       "      <td>22.740299</td>\n",
       "      <td>wgn</td>\n",
       "    </tr>\n",
       "  </tbody>\n",
       "</table>\n",
       "<p>66643 rows × 2 columns</p>\n",
       "</div>"
      ],
      "text/plain": [
       "       importance     features\n",
       "62035    0.000000      urrutia\n",
       "27016    0.000000  hibernation\n",
       "42439    0.000000      papeles\n",
       "53246    0.000000    shohadaie\n",
       "53250    0.000000   shondaland\n",
       "...           ...          ...\n",
       "5811   -19.912957      bernard\n",
       "1137   -20.063372        agape\n",
       "23959  -20.378283      geraldo\n",
       "5400   -21.922513     beckwith\n",
       "64345   22.740299          wgn\n",
       "\n",
       "[66643 rows x 2 columns]"
      ]
     },
     "execution_count": 47,
     "metadata": {},
     "output_type": "execute_result"
    }
   ],
   "source": [
    "feature_importance.sort_values(['importance'],  key=abs, inplace=True)\n",
    "feature_importance\n"
   ]
  },
  {
   "cell_type": "code",
   "execution_count": 48,
   "id": "85725b40",
   "metadata": {},
   "outputs": [
    {
     "data": {
      "image/png": "[encoded data removed]",
      "text/plain": [
       "<Figure size 1440x720 with 1 Axes>"
      ]
     },
     "metadata": {
      "needs_background": "light"
     },
     "output_type": "display_data"
    }
   ],
   "source": [
    "# plot feature importance\n",
    "plt.figure(figsize=(20, 10))\n",
    "plt.bar(feature_importance['features'][-30:], feature_importance['importance'][-30:], width = 0.4)\n",
    "plt.xticks(rotation=45)\n",
    "plt.show()"
   ]
  },
  {
   "cell_type": "code",
   "execution_count": 49,
   "id": "4035befc",
   "metadata": {},
   "outputs": [],
   "source": [
    "# visualize most freuquent words "
   ]
  },
  {
   "cell_type": "code",
   "execution_count": 50,
   "id": "9523534b",
   "metadata": {},
   "outputs": [
    {
     "data": {
      "text/html": [
       "<div>\n",
       "<style scoped>\n",
       "    .dataframe tbody tr th:only-of-type {\n",
       "        vertical-align: middle;\n",
       "    }\n",
       "\n",
       "    .dataframe tbody tr th {\n",
       "        vertical-align: top;\n",
       "    }\n",
       "\n",
       "    .dataframe thead th {\n",
       "        text-align: right;\n",
       "    }\n",
       "</style>\n",
       "<table border=\"1\" class=\"dataframe\">\n",
       "  <thead>\n",
       "    <tr style=\"text-align: right;\">\n",
       "      <th></th>\n",
       "      <th>word</th>\n",
       "      <th>n</th>\n",
       "      <th>total_words</th>\n",
       "      <th>gender</th>\n",
       "    </tr>\n",
       "  </thead>\n",
       "  <tbody>\n",
       "    <tr>\n",
       "      <th>0</th>\n",
       "      <td>tornado</td>\n",
       "      <td>64</td>\n",
       "      <td>724944</td>\n",
       "      <td>M</td>\n",
       "    </tr>\n",
       "    <tr>\n",
       "      <th>1</th>\n",
       "      <td>watch</td>\n",
       "      <td>1264</td>\n",
       "      <td>724944</td>\n",
       "      <td>M</td>\n",
       "    </tr>\n",
       "    <tr>\n",
       "      <th>2</th>\n",
       "      <td>effect</td>\n",
       "      <td>70</td>\n",
       "      <td>724944</td>\n",
       "      <td>M</td>\n",
       "    </tr>\n",
       "    <tr>\n",
       "      <th>3</th>\n",
       "      <td>tonight.</td>\n",
       "      <td>296</td>\n",
       "      <td>724944</td>\n",
       "      <td>M</td>\n",
       "    </tr>\n",
       "    <tr>\n",
       "      <th>4</th>\n",
       "      <td>safe.</td>\n",
       "      <td>38</td>\n",
       "      <td>724944</td>\n",
       "      <td>M</td>\n",
       "    </tr>\n",
       "    <tr>\n",
       "      <th>...</th>\n",
       "      <td>...</td>\n",
       "      <td>...</td>\n",
       "      <td>...</td>\n",
       "      <td>...</td>\n",
       "    </tr>\n",
       "    <tr>\n",
       "      <th>80875</th>\n",
       "      <td>chris\"</td>\n",
       "      <td>1</td>\n",
       "      <td>724944</td>\n",
       "      <td>M</td>\n",
       "    </tr>\n",
       "    <tr>\n",
       "      <th>80876</th>\n",
       "      <td>bullseye.</td>\n",
       "      <td>1</td>\n",
       "      <td>724944</td>\n",
       "      <td>M</td>\n",
       "    </tr>\n",
       "    <tr>\n",
       "      <th>80877</th>\n",
       "      <td>imchrisrock:</td>\n",
       "      <td>2</td>\n",
       "      <td>724944</td>\n",
       "      <td>M</td>\n",
       "    </tr>\n",
       "    <tr>\n",
       "      <th>80878</th>\n",
       "      <td>merch!</td>\n",
       "      <td>1</td>\n",
       "      <td>724944</td>\n",
       "      <td>M</td>\n",
       "    </tr>\n",
       "    <tr>\n",
       "      <th>80879</th>\n",
       "      <td>snapper</td>\n",
       "      <td>5</td>\n",
       "      <td>724944</td>\n",
       "      <td>M</td>\n",
       "    </tr>\n",
       "  </tbody>\n",
       "</table>\n",
       "<p>80880 rows × 4 columns</p>\n",
       "</div>"
      ],
      "text/plain": [
       "               word     n  total_words gender\n",
       "0           tornado    64       724944      M\n",
       "1             watch  1264       724944      M\n",
       "2            effect    70       724944      M\n",
       "3          tonight.   296       724944      M\n",
       "4             safe.    38       724944      M\n",
       "...             ...   ...          ...    ...\n",
       "80875        chris\"     1       724944      M\n",
       "80876     bullseye.     1       724944      M\n",
       "80877  imchrisrock:     2       724944      M\n",
       "80878        merch!     1       724944      M\n",
       "80879       snapper     5       724944      M\n",
       "\n",
       "[80880 rows x 4 columns]"
      ]
     },
     "execution_count": 50,
     "metadata": {},
     "output_type": "execute_result"
    }
   ],
   "source": [
    "df_M = pd.DataFrame(fd_wct1_M.items(), columns=['word', 'n'])\n",
    "cnt = 0 \n",
    "total_words_M = sum(fd_wct1_M.values())\n",
    "df_M['total_words'] = total_words_M\n",
    "df_M['gender'] ='M'\n",
    "df_M"
   ]
  },
  {
   "cell_type": "code",
   "execution_count": 51,
   "id": "7ccd5112",
   "metadata": {},
   "outputs": [
    {
     "data": {
      "text/html": [
       "<div>\n",
       "<style scoped>\n",
       "    .dataframe tbody tr th:only-of-type {\n",
       "        vertical-align: middle;\n",
       "    }\n",
       "\n",
       "    .dataframe tbody tr th {\n",
       "        vertical-align: top;\n",
       "    }\n",
       "\n",
       "    .dataframe thead th {\n",
       "        text-align: right;\n",
       "    }\n",
       "</style>\n",
       "<table border=\"1\" class=\"dataframe\">\n",
       "  <thead>\n",
       "    <tr style=\"text-align: right;\">\n",
       "      <th></th>\n",
       "      <th>word</th>\n",
       "      <th>n</th>\n",
       "      <th>total_words</th>\n",
       "      <th>gender</th>\n",
       "    </tr>\n",
       "  </thead>\n",
       "  <tbody>\n",
       "    <tr>\n",
       "      <th>0</th>\n",
       "      <td>enjoyed</td>\n",
       "      <td>165</td>\n",
       "      <td>1363127</td>\n",
       "      <td>W</td>\n",
       "    </tr>\n",
       "    <tr>\n",
       "      <th>1</th>\n",
       "      <td>great</td>\n",
       "      <td>3922</td>\n",
       "      <td>1363127</td>\n",
       "      <td>W</td>\n",
       "    </tr>\n",
       "    <tr>\n",
       "      <th>2</th>\n",
       "      <td>shooting</td>\n",
       "      <td>528</td>\n",
       "      <td>1363127</td>\n",
       "      <td>W</td>\n",
       "    </tr>\n",
       "    <tr>\n",
       "      <th>3</th>\n",
       "      <td>day</td>\n",
       "      <td>4576</td>\n",
       "      <td>1363127</td>\n",
       "      <td>W</td>\n",
       "    </tr>\n",
       "    <tr>\n",
       "      <th>4</th>\n",
       "      <td>\"don't</td>\n",
       "      <td>45</td>\n",
       "      <td>1363127</td>\n",
       "      <td>W</td>\n",
       "    </tr>\n",
       "    <tr>\n",
       "      <th>...</th>\n",
       "      <td>...</td>\n",
       "      <td>...</td>\n",
       "      <td>...</td>\n",
       "      <td>...</td>\n",
       "    </tr>\n",
       "    <tr>\n",
       "      <th>129923</th>\n",
       "      <td>moment.getting</td>\n",
       "      <td>1</td>\n",
       "      <td>1363127</td>\n",
       "      <td>W</td>\n",
       "    </tr>\n",
       "    <tr>\n",
       "      <th>129924</th>\n",
       "      <td>charleston.im</td>\n",
       "      <td>1</td>\n",
       "      <td>1363127</td>\n",
       "      <td>W</td>\n",
       "    </tr>\n",
       "    <tr>\n",
       "      <th>129925</th>\n",
       "      <td>announced..</td>\n",
       "      <td>1</td>\n",
       "      <td>1363127</td>\n",
       "      <td>W</td>\n",
       "    </tr>\n",
       "    <tr>\n",
       "      <th>129926</th>\n",
       "      <td>gleijm</td>\n",
       "      <td>1</td>\n",
       "      <td>1363127</td>\n",
       "      <td>W</td>\n",
       "    </tr>\n",
       "    <tr>\n",
       "      <th>129927</th>\n",
       "      <td>page.i</td>\n",
       "      <td>1</td>\n",
       "      <td>1363127</td>\n",
       "      <td>W</td>\n",
       "    </tr>\n",
       "  </tbody>\n",
       "</table>\n",
       "<p>129928 rows × 4 columns</p>\n",
       "</div>"
      ],
      "text/plain": [
       "                  word     n  total_words gender\n",
       "0              enjoyed   165      1363127      W\n",
       "1                great  3922      1363127      W\n",
       "2             shooting   528      1363127      W\n",
       "3                  day  4576      1363127      W\n",
       "4               \"don't    45      1363127      W\n",
       "...                ...   ...          ...    ...\n",
       "129923  moment.getting     1      1363127      W\n",
       "129924   charleston.im     1      1363127      W\n",
       "129925     announced..     1      1363127      W\n",
       "129926          gleijm     1      1363127      W\n",
       "129927          page.i     1      1363127      W\n",
       "\n",
       "[129928 rows x 4 columns]"
      ]
     },
     "execution_count": 51,
     "metadata": {},
     "output_type": "execute_result"
    }
   ],
   "source": [
    "df_F = pd.DataFrame(fd_wct1_F.items(), columns=['word', 'n'])\n",
    "cnt = 0 \n",
    "total_words_F = sum(fd_wct1_F.values())\n",
    "df_F['total_words'] = total_words_F\n",
    "df_F['gender'] ='W'\n",
    "df_F"
   ]
  },
  {
   "cell_type": "code",
   "execution_count": 52,
   "id": "8c0d3c38",
   "metadata": {},
   "outputs": [
    {
     "data": {
      "text/html": [
       "<div>\n",
       "<style scoped>\n",
       "    .dataframe tbody tr th:only-of-type {\n",
       "        vertical-align: middle;\n",
       "    }\n",
       "\n",
       "    .dataframe tbody tr th {\n",
       "        vertical-align: top;\n",
       "    }\n",
       "\n",
       "    .dataframe thead th {\n",
       "        text-align: right;\n",
       "    }\n",
       "</style>\n",
       "<table border=\"1\" class=\"dataframe\">\n",
       "  <thead>\n",
       "    <tr style=\"text-align: right;\">\n",
       "      <th></th>\n",
       "      <th>word</th>\n",
       "      <th>n</th>\n",
       "      <th>total_words</th>\n",
       "      <th>gender</th>\n",
       "    </tr>\n",
       "  </thead>\n",
       "  <tbody>\n",
       "    <tr>\n",
       "      <th>0</th>\n",
       "      <td>tornado</td>\n",
       "      <td>64</td>\n",
       "      <td>724944</td>\n",
       "      <td>M</td>\n",
       "    </tr>\n",
       "    <tr>\n",
       "      <th>1</th>\n",
       "      <td>watch</td>\n",
       "      <td>1264</td>\n",
       "      <td>724944</td>\n",
       "      <td>M</td>\n",
       "    </tr>\n",
       "    <tr>\n",
       "      <th>2</th>\n",
       "      <td>effect</td>\n",
       "      <td>70</td>\n",
       "      <td>724944</td>\n",
       "      <td>M</td>\n",
       "    </tr>\n",
       "    <tr>\n",
       "      <th>3</th>\n",
       "      <td>tonight.</td>\n",
       "      <td>296</td>\n",
       "      <td>724944</td>\n",
       "      <td>M</td>\n",
       "    </tr>\n",
       "    <tr>\n",
       "      <th>4</th>\n",
       "      <td>safe.</td>\n",
       "      <td>38</td>\n",
       "      <td>724944</td>\n",
       "      <td>M</td>\n",
       "    </tr>\n",
       "    <tr>\n",
       "      <th>...</th>\n",
       "      <td>...</td>\n",
       "      <td>...</td>\n",
       "      <td>...</td>\n",
       "      <td>...</td>\n",
       "    </tr>\n",
       "    <tr>\n",
       "      <th>129923</th>\n",
       "      <td>moment.getting</td>\n",
       "      <td>1</td>\n",
       "      <td>1363127</td>\n",
       "      <td>W</td>\n",
       "    </tr>\n",
       "    <tr>\n",
       "      <th>129924</th>\n",
       "      <td>charleston.im</td>\n",
       "      <td>1</td>\n",
       "      <td>1363127</td>\n",
       "      <td>W</td>\n",
       "    </tr>\n",
       "    <tr>\n",
       "      <th>129925</th>\n",
       "      <td>announced..</td>\n",
       "      <td>1</td>\n",
       "      <td>1363127</td>\n",
       "      <td>W</td>\n",
       "    </tr>\n",
       "    <tr>\n",
       "      <th>129926</th>\n",
       "      <td>gleijm</td>\n",
       "      <td>1</td>\n",
       "      <td>1363127</td>\n",
       "      <td>W</td>\n",
       "    </tr>\n",
       "    <tr>\n",
       "      <th>129927</th>\n",
       "      <td>page.i</td>\n",
       "      <td>1</td>\n",
       "      <td>1363127</td>\n",
       "      <td>W</td>\n",
       "    </tr>\n",
       "  </tbody>\n",
       "</table>\n",
       "<p>210808 rows × 4 columns</p>\n",
       "</div>"
      ],
      "text/plain": [
       "                  word     n  total_words gender\n",
       "0              tornado    64       724944      M\n",
       "1                watch  1264       724944      M\n",
       "2               effect    70       724944      M\n",
       "3             tonight.   296       724944      M\n",
       "4                safe.    38       724944      M\n",
       "...                ...   ...          ...    ...\n",
       "129923  moment.getting     1      1363127      W\n",
       "129924   charleston.im     1      1363127      W\n",
       "129925     announced..     1      1363127      W\n",
       "129926          gleijm     1      1363127      W\n",
       "129927          page.i     1      1363127      W\n",
       "\n",
       "[210808 rows x 4 columns]"
      ]
     },
     "execution_count": 52,
     "metadata": {},
     "output_type": "execute_result"
    }
   ],
   "source": [
    "df_all_for_R = pd.concat([df_M, df_F])\n",
    "df_all_for_R"
   ]
  },
  {
   "cell_type": "code",
   "execution_count": 53,
   "id": "2eb9f041",
   "metadata": {},
   "outputs": [],
   "source": [
    "df_all_for_R.to_csv(\"./preprocessed_data/facebook_wiki_posts_preprocressed_for_R.csv\")"
   ]
  },
  {
   "cell_type": "code",
   "execution_count": 54,
   "id": "3d7d32a3",
   "metadata": {},
   "outputs": [],
   "source": [
    "# after running R codes for weighted log odds"
   ]
  },
  {
   "cell_type": "code",
   "execution_count": 55,
   "id": "b3baafc4",
   "metadata": {},
   "outputs": [],
   "source": [
    "weighted_log_odds_df = pd.read_csv(\"./preprocessed_data/facebook_wiki_post_weighted_log_odds.csv\")\n",
    "weighted_log_odds_df.sort_values(['log_odds_weighted'], inplace=True)"
   ]
  },
  {
   "cell_type": "code",
   "execution_count": 56,
   "id": "ea54863c",
   "metadata": {},
   "outputs": [
    {
     "data": {
      "text/html": [
       "<div>\n",
       "<style scoped>\n",
       "    .dataframe tbody tr th:only-of-type {\n",
       "        vertical-align: middle;\n",
       "    }\n",
       "\n",
       "    .dataframe tbody tr th {\n",
       "        vertical-align: top;\n",
       "    }\n",
       "\n",
       "    .dataframe thead th {\n",
       "        text-align: right;\n",
       "    }\n",
       "</style>\n",
       "<table border=\"1\" class=\"dataframe\">\n",
       "  <thead>\n",
       "    <tr style=\"text-align: right;\">\n",
       "      <th></th>\n",
       "      <th>Unnamed: 0</th>\n",
       "      <th>X</th>\n",
       "      <th>word</th>\n",
       "      <th>n</th>\n",
       "      <th>total_words</th>\n",
       "      <th>gender</th>\n",
       "      <th>log_odds_weighted</th>\n",
       "    </tr>\n",
       "  </thead>\n",
       "  <tbody>\n",
       "    <tr>\n",
       "      <th>134943</th>\n",
       "      <td>134944</td>\n",
       "      <td>54063</td>\n",
       "      <td>bernard</td>\n",
       "      <td>6</td>\n",
       "      <td>1363127</td>\n",
       "      <td>W</td>\n",
       "      <td>-25.500846</td>\n",
       "    </tr>\n",
       "    <tr>\n",
       "      <th>82017</th>\n",
       "      <td>82018</td>\n",
       "      <td>1137</td>\n",
       "      <td>michael</td>\n",
       "      <td>392</td>\n",
       "      <td>1363127</td>\n",
       "      <td>W</td>\n",
       "      <td>-23.844820</td>\n",
       "    </tr>\n",
       "    <tr>\n",
       "      <th>5452</th>\n",
       "      <td>5453</td>\n",
       "      <td>5452</td>\n",
       "      <td>x</td>\n",
       "      <td>91</td>\n",
       "      <td>724944</td>\n",
       "      <td>M</td>\n",
       "      <td>-17.847154</td>\n",
       "    </tr>\n",
       "    <tr>\n",
       "      <th>121</th>\n",
       "      <td>122</td>\n",
       "      <td>121</td>\n",
       "      <td>de</td>\n",
       "      <td>127</td>\n",
       "      <td>724944</td>\n",
       "      <td>M</td>\n",
       "      <td>-17.240748</td>\n",
       "    </tr>\n",
       "    <tr>\n",
       "      <th>237</th>\n",
       "      <td>238</td>\n",
       "      <td>237</td>\n",
       "      <td>rest</td>\n",
       "      <td>185</td>\n",
       "      <td>724944</td>\n",
       "      <td>M</td>\n",
       "      <td>-14.911217</td>\n",
       "    </tr>\n",
       "    <tr>\n",
       "      <th>...</th>\n",
       "      <td>...</td>\n",
       "      <td>...</td>\n",
       "      <td>...</td>\n",
       "      <td>...</td>\n",
       "      <td>...</td>\n",
       "      <td>...</td>\n",
       "      <td>...</td>\n",
       "    </tr>\n",
       "    <tr>\n",
       "      <th>5102</th>\n",
       "      <td>5103</td>\n",
       "      <td>5102</td>\n",
       "      <td>michael</td>\n",
       "      <td>3366</td>\n",
       "      <td>724944</td>\n",
       "      <td>M</td>\n",
       "      <td>25.056316</td>\n",
       "    </tr>\n",
       "    <tr>\n",
       "      <th>17377</th>\n",
       "      <td>17378</td>\n",
       "      <td>17377</td>\n",
       "      <td>bernard</td>\n",
       "      <td>3074</td>\n",
       "      <td>724944</td>\n",
       "      <td>M</td>\n",
       "      <td>26.242522</td>\n",
       "    </tr>\n",
       "    <tr>\n",
       "      <th>31739</th>\n",
       "      <td>31740</td>\n",
       "      <td>31739</td>\n",
       "      <td>agape</td>\n",
       "      <td>1491</td>\n",
       "      <td>724944</td>\n",
       "      <td>M</td>\n",
       "      <td>32.359729</td>\n",
       "    </tr>\n",
       "    <tr>\n",
       "      <th>31746</th>\n",
       "      <td>31747</td>\n",
       "      <td>31746</td>\n",
       "      <td>beckwith</td>\n",
       "      <td>3107</td>\n",
       "      <td>724944</td>\n",
       "      <td>M</td>\n",
       "      <td>46.752688</td>\n",
       "    </tr>\n",
       "    <tr>\n",
       "      <th>81010</th>\n",
       "      <td>81011</td>\n",
       "      <td>130</td>\n",
       "      <td>NaN</td>\n",
       "      <td>31401</td>\n",
       "      <td>1363127</td>\n",
       "      <td>W</td>\n",
       "      <td>101.944385</td>\n",
       "    </tr>\n",
       "  </tbody>\n",
       "</table>\n",
       "<p>210808 rows × 7 columns</p>\n",
       "</div>"
      ],
      "text/plain": [
       "        Unnamed: 0      X      word      n  total_words gender  \\\n",
       "134943      134944  54063   bernard      6      1363127      W   \n",
       "82017        82018   1137   michael    392      1363127      W   \n",
       "5452          5453   5452         x     91       724944      M   \n",
       "121            122    121        de    127       724944      M   \n",
       "237            238    237      rest    185       724944      M   \n",
       "...            ...    ...       ...    ...          ...    ...   \n",
       "5102          5103   5102   michael   3366       724944      M   \n",
       "17377        17378  17377   bernard   3074       724944      M   \n",
       "31739        31740  31739     agape   1491       724944      M   \n",
       "31746        31747  31746  beckwith   3107       724944      M   \n",
       "81010        81011    130       NaN  31401      1363127      W   \n",
       "\n",
       "        log_odds_weighted  \n",
       "134943         -25.500846  \n",
       "82017          -23.844820  \n",
       "5452           -17.847154  \n",
       "121            -17.240748  \n",
       "237            -14.911217  \n",
       "...                   ...  \n",
       "5102            25.056316  \n",
       "17377           26.242522  \n",
       "31739           32.359729  \n",
       "31746           46.752688  \n",
       "81010          101.944385  \n",
       "\n",
       "[210808 rows x 7 columns]"
      ]
     },
     "execution_count": 56,
     "metadata": {},
     "output_type": "execute_result"
    }
   ],
   "source": [
    "weighted_log_odds_df"
   ]
  },
  {
   "cell_type": "code",
   "execution_count": 57,
   "id": "372d56fb",
   "metadata": {},
   "outputs": [
    {
     "data": {
      "text/html": [
       "<div>\n",
       "<style scoped>\n",
       "    .dataframe tbody tr th:only-of-type {\n",
       "        vertical-align: middle;\n",
       "    }\n",
       "\n",
       "    .dataframe tbody tr th {\n",
       "        vertical-align: top;\n",
       "    }\n",
       "\n",
       "    .dataframe thead th {\n",
       "        text-align: right;\n",
       "    }\n",
       "</style>\n",
       "<table border=\"1\" class=\"dataframe\">\n",
       "  <thead>\n",
       "    <tr style=\"text-align: right;\">\n",
       "      <th></th>\n",
       "      <th>Unnamed: 0</th>\n",
       "      <th>X</th>\n",
       "      <th>word</th>\n",
       "      <th>n</th>\n",
       "      <th>total_words</th>\n",
       "      <th>gender</th>\n",
       "      <th>log_odds_weighted</th>\n",
       "    </tr>\n",
       "  </thead>\n",
       "  <tbody>\n",
       "    <tr>\n",
       "      <th>134943</th>\n",
       "      <td>134944</td>\n",
       "      <td>54063</td>\n",
       "      <td>bernard</td>\n",
       "      <td>6</td>\n",
       "      <td>1363127</td>\n",
       "      <td>W</td>\n",
       "      <td>-25.500846</td>\n",
       "    </tr>\n",
       "    <tr>\n",
       "      <th>82017</th>\n",
       "      <td>82018</td>\n",
       "      <td>1137</td>\n",
       "      <td>michael</td>\n",
       "      <td>392</td>\n",
       "      <td>1363127</td>\n",
       "      <td>W</td>\n",
       "      <td>-23.844820</td>\n",
       "    </tr>\n",
       "    <tr>\n",
       "      <th>5452</th>\n",
       "      <td>5453</td>\n",
       "      <td>5452</td>\n",
       "      <td>x</td>\n",
       "      <td>91</td>\n",
       "      <td>724944</td>\n",
       "      <td>M</td>\n",
       "      <td>-17.847154</td>\n",
       "    </tr>\n",
       "    <tr>\n",
       "      <th>121</th>\n",
       "      <td>122</td>\n",
       "      <td>121</td>\n",
       "      <td>de</td>\n",
       "      <td>127</td>\n",
       "      <td>724944</td>\n",
       "      <td>M</td>\n",
       "      <td>-17.240748</td>\n",
       "    </tr>\n",
       "    <tr>\n",
       "      <th>237</th>\n",
       "      <td>238</td>\n",
       "      <td>237</td>\n",
       "      <td>rest</td>\n",
       "      <td>185</td>\n",
       "      <td>724944</td>\n",
       "      <td>M</td>\n",
       "      <td>-14.911217</td>\n",
       "    </tr>\n",
       "    <tr>\n",
       "      <th>...</th>\n",
       "      <td>...</td>\n",
       "      <td>...</td>\n",
       "      <td>...</td>\n",
       "      <td>...</td>\n",
       "      <td>...</td>\n",
       "      <td>...</td>\n",
       "      <td>...</td>\n",
       "    </tr>\n",
       "    <tr>\n",
       "      <th>81022</th>\n",
       "      <td>81023</td>\n",
       "      <td>142</td>\n",
       "      <td>billie</td>\n",
       "      <td>1046</td>\n",
       "      <td>1363127</td>\n",
       "      <td>W</td>\n",
       "      <td>18.350299</td>\n",
       "    </tr>\n",
       "    <tr>\n",
       "      <th>5102</th>\n",
       "      <td>5103</td>\n",
       "      <td>5102</td>\n",
       "      <td>michael</td>\n",
       "      <td>3366</td>\n",
       "      <td>724944</td>\n",
       "      <td>M</td>\n",
       "      <td>25.056316</td>\n",
       "    </tr>\n",
       "    <tr>\n",
       "      <th>17377</th>\n",
       "      <td>17378</td>\n",
       "      <td>17377</td>\n",
       "      <td>bernard</td>\n",
       "      <td>3074</td>\n",
       "      <td>724944</td>\n",
       "      <td>M</td>\n",
       "      <td>26.242522</td>\n",
       "    </tr>\n",
       "    <tr>\n",
       "      <th>31739</th>\n",
       "      <td>31740</td>\n",
       "      <td>31739</td>\n",
       "      <td>agape</td>\n",
       "      <td>1491</td>\n",
       "      <td>724944</td>\n",
       "      <td>M</td>\n",
       "      <td>32.359729</td>\n",
       "    </tr>\n",
       "    <tr>\n",
       "      <th>31746</th>\n",
       "      <td>31747</td>\n",
       "      <td>31746</td>\n",
       "      <td>beckwith</td>\n",
       "      <td>3107</td>\n",
       "      <td>724944</td>\n",
       "      <td>M</td>\n",
       "      <td>46.752688</td>\n",
       "    </tr>\n",
       "  </tbody>\n",
       "</table>\n",
       "<p>210805 rows × 7 columns</p>\n",
       "</div>"
      ],
      "text/plain": [
       "        Unnamed: 0      X      word     n  total_words gender  \\\n",
       "134943      134944  54063   bernard     6      1363127      W   \n",
       "82017        82018   1137   michael   392      1363127      W   \n",
       "5452          5453   5452         x    91       724944      M   \n",
       "121            122    121        de   127       724944      M   \n",
       "237            238    237      rest   185       724944      M   \n",
       "...            ...    ...       ...   ...          ...    ...   \n",
       "81022        81023    142    billie  1046      1363127      W   \n",
       "5102          5103   5102   michael  3366       724944      M   \n",
       "17377        17378  17377   bernard  3074       724944      M   \n",
       "31739        31740  31739     agape  1491       724944      M   \n",
       "31746        31747  31746  beckwith  3107       724944      M   \n",
       "\n",
       "        log_odds_weighted  \n",
       "134943         -25.500846  \n",
       "82017          -23.844820  \n",
       "5452           -17.847154  \n",
       "121            -17.240748  \n",
       "237            -14.911217  \n",
       "...                   ...  \n",
       "81022           18.350299  \n",
       "5102            25.056316  \n",
       "17377           26.242522  \n",
       "31739           32.359729  \n",
       "31746           46.752688  \n",
       "\n",
       "[210805 rows x 7 columns]"
      ]
     },
     "execution_count": 57,
     "metadata": {},
     "output_type": "execute_result"
    }
   ],
   "source": [
    "weighted_log_odds_df = weighted_log_odds_df.dropna()\n",
    "weighted_log_odds_df"
   ]
  },
  {
   "cell_type": "code",
   "execution_count": 58,
   "id": "50ff5ddf",
   "metadata": {},
   "outputs": [
    {
     "data": {
      "image/png": "[encoded data removed]",
      "text/plain": [
       "<Figure size 1440x720 with 1 Axes>"
      ]
     },
     "metadata": {
      "needs_background": "light"
     },
     "output_type": "display_data"
    }
   ],
   "source": [
    "filtered_df = weighted_log_odds_df[weighted_log_odds_df['gender']=='M']\n",
    "plt.figure(figsize=(20, 10))\n",
    "plt.bar(filtered_df['word'][-40:], filtered_df['log_odds_weighted'][-40:], width=0.4)\n",
    "plt.title(\"significant words male\")\n",
    "plt.xticks(rotation=45)\n",
    "plt.show()"
   ]
  },
  {
   "cell_type": "code",
   "execution_count": 59,
   "id": "ca67c421",
   "metadata": {},
   "outputs": [
    {
     "data": {
      "image/png": "[encoded data removed]",
      "text/plain": [
       "<Figure size 1440x720 with 1 Axes>"
      ]
     },
     "metadata": {
      "needs_background": "light"
     },
     "output_type": "display_data"
    }
   ],
   "source": [
    "filtered_df = weighted_log_odds_df[weighted_log_odds_df['gender']=='W']\n",
    "plt.figure(figsize=(20, 10))\n",
    "plt.bar(filtered_df['word'][-40:], filtered_df['log_odds_weighted'][-40:], width=0.4)\n",
    "plt.title(\"significant words female\")\n",
    "plt.xticks(rotation=45)\n",
    "plt.show()"
   ]
  },
  {
   "cell_type": "code",
   "execution_count": null,
   "id": "7772ec47",
   "metadata": {},
   "outputs": [],
   "source": []
  }
 ],
 "metadata": {
  "kernelspec": {
   "display_name": "Python 3 (ipykernel)",
   "language": "python",
   "name": "python3"
  },
  "language_info": {
   "codemirror_mode": {
    "name": "ipython",
    "version": 3
   },
   "file_extension": ".py",
   "mimetype": "text/x-python",
   "name": "python",
   "nbconvert_exporter": "python",
   "pygments_lexer": "ipython3",
   "version": "3.10.2"
  }
 },
 "nbformat": 4,
 "nbformat_minor": 5
}
